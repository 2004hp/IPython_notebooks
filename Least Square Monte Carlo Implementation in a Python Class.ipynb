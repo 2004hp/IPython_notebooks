{
 "cells": [
  {
   "cell_type": "markdown",
   "metadata": {},
   "source": [
    "# About this notebook...\n",
    "###Documention prepared by **Jesus Perez Colino**.Version 0.4, Released 01/04/2013, Beta\n",
    "\n",
    "\n",
    "- This work is licensed under a [Creative Commons Attribution-ShareAlike 3.0 Unported License](http://creativecommons.org/licenses/by-sa/3.0/deed.en_US). This work is offered for free, with the hope that it will be useful.\n",
    "\n",
    "\n",
    "- **Summary**: This notebook was made as a documentation to support a course that I gave in Germany 2013, about Scientific Python and Quantitative Finance. This is a Python implementation of the well-know **Least-Square Monte Carlo (LSMC) method** for the valuation of **American Options** as it appears in the **Longstaff-Schwartz (2001)** paper. \n",
    "\n",
    "\n",
    "- **Reference**: [Longstaff-Schwartz (2001): \"Valuing American Options by Simulation: A Simple Least-Squares Approach.\" Review of Financial Studies, Vol. 14, 113-147](https://www.google.de/url?sa=t&rct=j&q=&esrc=s&source=web&cd=1&cad=rja&uact=8&ved=0CCEQFjAAahUKEwiXtNSZm4rHAhXHOhQKHTjBD3k&url=https%3A%2F%2Fpeople.math.ethz.ch%2F~hjfurrer%2Fteaching%2FLongstaffSchwartzAmericanOptionsLeastSquareMonteCarlo.pdf&ei=7PO9VZeOBcf1ULiCv8gH&usg=AFQjCNFQr1r_Cf_pxylg_amU3TFOZVDc8w&sig2=ixZnX_wWQ48G66BMuQTPZA&bvm=bv.99261572,d.d24)\n",
    "\n",
    "\n",
    "- **Python & packages versions** to reproduce the results of this notebook: "
   ]
  },
  {
   "cell_type": "code",
   "execution_count": 1,
   "metadata": {
    "collapsed": false
   },
   "outputs": [
    {
     "name": "stdout",
     "output_type": "stream",
     "text": [
      "=====================================================================================\n",
      "Python version:     2.7.10 |Anaconda 2.3.0 (x86_64)| (default, May 28 2015, 17:04:42) \n",
      "[GCC 4.2.1 (Apple Inc. build 5577)]\n",
      "Numpy version:      1.9.2\n",
      "IPython version:    3.2.0\n",
      "=====================================================================================\n"
     ]
    }
   ],
   "source": [
    "import IPython\n",
    "import numpy as np\n",
    "from sys import version \n",
    "print '='*85\n",
    "print 'Python version:     ' + version\n",
    "print 'Numpy version:      ' + np.__version__\n",
    "print 'IPython version:    ' + IPython.__version__\n",
    "print '='*85"
   ]
  },
  {
   "cell_type": "markdown",
   "metadata": {},
   "source": [
    "#A Python Class for American Options pricing using LSMC - Longstaff-Schwartz (2001)"
   ]
  },
  {
   "cell_type": "code",
   "execution_count": 206,
   "metadata": {
    "collapsed": true
   },
   "outputs": [],
   "source": [
    "import numpy as np\n",
    "\n",
    "class AmericanOptionsLSMC(object):\n",
    "    \"\"\" Class for American options pricing using Longstaff-Schwartz (2001):\n",
    "    \"Valuing American Options by Simulation: A Simple Least-Squares Approach.\"\n",
    "    Review of Financial Studies, Vol. 14, 113-147.\n",
    "    S0 : float : initial stock/index level\n",
    "    strike : float : strike price\n",
    "    T : float : time to maturity (in year fractions)\n",
    "    M : int : grid or granularity for time (in number of total points)\n",
    "    r : float : constant risk-free short rate\n",
    "    div :    float : dividend yield\n",
    "    sigma :  float : volatility factor in diffusion term \n",
    "    \n",
    "    Unitest(doctest): \n",
    "    >>> AmericanPUT = AmericanOptionsLSMC('put', 36., 40., 1., 50, 0.06, 0.06, 0.2, 10000  )\n",
    "    >>> AmericanPUT.price\n",
    "    4.4731177017712209\n",
    "    \"\"\"\n",
    "\n",
    "    def __init__(self, option_type, S0, strike, T, M, r, div, sigma, simulations):\n",
    "        try:\n",
    "            self.option_type = option_type\n",
    "            assert isinstance(option_type, str)\n",
    "            self.S0 = float(S0)\n",
    "            self.strike = float(strike)\n",
    "            self.T = float(T)\n",
    "            self.M = int(M)\n",
    "            self.r = float(r)\n",
    "            self.div = float(div)\n",
    "            self.sigma = float(sigma)\n",
    "            self.simulations = int(simulations)\n",
    "        except ValueError:\n",
    "            print('Error passing Options parameters')\n",
    "\n",
    "        if option_type != 'call' and option_type != 'put':\n",
    "            raise ValueError(\"Error: option type not valid. Enter 'call' or 'put'\")\n",
    "        if S0 < 0 or strike < 0 or T <= 0 or r < 0 or div < 0 or sigma < 0:\n",
    "            raise ValueError('Error: Negative inputs not allowed')\n",
    "\n",
    "        self.time_unit = self.T / self.M\n",
    "        self.discount = np.exp(-self.r * self.time_unit)\n",
    "\n",
    "    @property\n",
    "    def MCprice_matrix(self, seed = 123):\n",
    "        \"\"\" Returns MC price matrix rows: time columns: price-path simulation \"\"\"\n",
    "        np.random.seed(seed)\n",
    "        MCprice_matrix = np.zeros((self.M + 1, self.simulations),dtype=np.float64)\n",
    "        MCprice_matrix[0,:] = self.S0\n",
    "        for t in xrange(1, self.M + 1):\n",
    "            ran = np.random.standard_normal( self.simulations / 2)\n",
    "            ran = np.concatenate((ran, -ran))\n",
    "            MCprice_matrix[t, :] = (MCprice_matrix[t - 1, :]\n",
    "                                  * np.exp((self.r - self.sigma ** 2 / 2) * self.time_unit\n",
    "                                  + self.sigma * ran * np.sqrt(self.time_unit)))\n",
    "        return MCprice_matrix\n",
    "\n",
    "    @property\n",
    "    def MCpayoff(self):\n",
    "        \"\"\"Returns the inner-value of American Option\"\"\"\n",
    "        if self.option_type == 'call':\n",
    "            payoff = np.maximum(self.MCprice_matrix - self.strike,\n",
    "                           np.zeros((self.M + 1, self.simulations),dtype=np.float64))\n",
    "        else:\n",
    "            payoff = np.maximum(self.strike - self.MCprice_matrix,\n",
    "                            np.zeros((self.M + 1, self.simulations),dtype=np.float64))\n",
    "        return payoff\n",
    "\n",
    "    @property\n",
    "    def value_vector(self):\n",
    "        value_matrix = np.zeros_like(self.MCpayoff)\n",
    "        value_matrix[-1, :] = self.MCpayoff[-1, :]\n",
    "        for t in range(self.M - 1, 0 , -1):\n",
    "            regression = np.polyfit(self.MCprice_matrix[t, :], value_matrix[t + 1, :] * self.discount, 5)\n",
    "            continuation_value = np.polyval(regression, self.MCprice_matrix[t, :])\n",
    "            value_matrix[t, :] = np.where(self.MCpayoff[t, :] > continuation_value,\n",
    "                                          self.MCpayoff[t, :],\n",
    "                                          value_matrix[t + 1, :] * self.discount)\n",
    "\n",
    "        return value_matrix[1,:] * self.discount\n",
    "\n",
    "\n",
    "    @property\n",
    "    def price(self): return np.sum(self.value_vector) / self.simulations"
   ]
  },
  {
   "cell_type": "code",
   "execution_count": 207,
   "metadata": {
    "collapsed": false
   },
   "outputs": [
    {
     "data": {
      "text/plain": [
       "TestResults(failed=0, attempted=2)"
      ]
     },
     "execution_count": 207,
     "metadata": {},
     "output_type": "execute_result"
    }
   ],
   "source": [
    "import doctest\n",
    "doctest.testmod()"
   ]
  },
  {
   "cell_type": "code",
   "execution_count": 208,
   "metadata": {
    "collapsed": false
   },
   "outputs": [
    {
     "data": {
      "text/plain": [
       "4.4731177017712209"
      ]
     },
     "execution_count": 208,
     "metadata": {},
     "output_type": "execute_result"
    }
   ],
   "source": [
    "AmericanPUT = AmericanOptionsLSMC('put', 36., 40., 1., 50, 0.06, 0.06, 0.2, 10000  )\n",
    "AmericanPUT.price"
   ]
  },
  {
   "cell_type": "code",
   "execution_count": 204,
   "metadata": {
    "collapsed": true
   },
   "outputs": [],
   "source": [
    "def prices():\n",
    "    for S0 in (36., 38., 40., 42., 44.):  # initial stock price values\n",
    "        for vol in (0.2, 0.4):  # volatility values\n",
    "            for T in (1.0, 2.0):  # times-to-maturity\n",
    "                AmericanPUT = AmericanOptionsLSMC('put', S0, 40., T, 50, 0.06, 0.06, vol, 1500)\n",
    "                print \"Initial price: %4.1f, Sigma: %4.2f, Expire: %2.1f --> Option Value %8.3f\" % (S0, vol, T, AmericanPUT.price)"
   ]
  },
  {
   "cell_type": "code",
   "execution_count": 205,
   "metadata": {
    "collapsed": false
   },
   "outputs": [
    {
     "name": "stdout",
     "output_type": "stream",
     "text": [
      "Initial price: 36.0, Sigma: 0.20, Expire: 1.0 --> Option Value    4.439\n",
      "Initial price: 36.0, Sigma: 0.20, Expire: 2.0 --> Option Value    4.779\n",
      "Initial price: 36.0, Sigma: 0.40, Expire: 1.0 --> Option Value    7.135\n",
      "Initial price: 36.0, Sigma: 0.40, Expire: 2.0 --> Option Value    8.459\n",
      "Initial price: 38.0, Sigma: 0.20, Expire: 1.0 --> Option Value    3.225\n",
      "Initial price: 38.0, Sigma: 0.20, Expire: 2.0 --> Option Value    3.726\n",
      "Initial price: 38.0, Sigma: 0.40, Expire: 1.0 --> Option Value    6.134\n",
      "Initial price: 38.0, Sigma: 0.40, Expire: 2.0 --> Option Value    7.666\n",
      "Initial price: 40.0, Sigma: 0.20, Expire: 1.0 --> Option Value    2.296\n",
      "Initial price: 40.0, Sigma: 0.20, Expire: 2.0 --> Option Value    2.808\n",
      "Initial price: 40.0, Sigma: 0.40, Expire: 1.0 --> Option Value    5.201\n",
      "Initial price: 40.0, Sigma: 0.40, Expire: 2.0 --> Option Value    6.815\n",
      "Initial price: 42.0, Sigma: 0.20, Expire: 1.0 --> Option Value    1.589\n",
      "Initial price: 42.0, Sigma: 0.20, Expire: 2.0 --> Option Value    2.145\n",
      "Initial price: 42.0, Sigma: 0.40, Expire: 1.0 --> Option Value    4.484\n",
      "Initial price: 42.0, Sigma: 0.40, Expire: 2.0 --> Option Value    6.123\n",
      "Initial price: 44.0, Sigma: 0.20, Expire: 1.0 --> Option Value    1.088\n",
      "Initial price: 44.0, Sigma: 0.20, Expire: 2.0 --> Option Value    1.646\n",
      "Initial price: 44.0, Sigma: 0.40, Expire: 1.0 --> Option Value    3.838\n",
      "Initial price: 44.0, Sigma: 0.40, Expire: 2.0 --> Option Value    5.438\n",
      "Duration in Seconds 11.967\n"
     ]
    }
   ],
   "source": [
    "from time import time\n",
    "t0 = time()\n",
    "optionValues = prices()  # calculate all values\n",
    "t1 = time(); d1 = t1 - t0\n",
    "print \"Duration in Seconds %6.3f\" % d1"
   ]
  },
  {
   "cell_type": "code",
   "execution_count": null,
   "metadata": {
    "collapsed": true
   },
   "outputs": [],
   "source": []
  }
 ],
 "metadata": {
  "kernelspec": {
   "display_name": "Python 2",
   "language": "python",
   "name": "python2"
  },
  "language_info": {
   "codemirror_mode": {
    "name": "ipython",
    "version": 2
   },
   "file_extension": ".py",
   "mimetype": "text/x-python",
   "name": "python",
   "nbconvert_exporter": "python",
   "pygments_lexer": "ipython2",
   "version": "2.7.10"
  }
 },
 "nbformat": 4,
 "nbformat_minor": 0
}
