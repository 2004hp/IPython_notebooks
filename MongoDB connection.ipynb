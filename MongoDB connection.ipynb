{
 "cells": [
  {
   "cell_type": "markdown",
   "metadata": {},
   "source": [
    "****\n",
    "# MongoDB connection using PyMongo\n",
    "****"
   ]
  },
  {
   "cell_type": "markdown",
   "metadata": {},
   "source": [
    "## About this notebook: \n",
    "Notebook prepared by **Jesus Perez Colino** Version 0.1, First Released: 01/12/2014, Alpha.  \n",
    "\n",
    "- This work is licensed under a [Creative Commons Attribution-ShareAlike 3.0 Unported License](http://creativecommons.org/licenses/by-sa/3.0/deed.en_US). This work is offered for free, with the hope that it will be useful.\n",
    "\n",
    "\n",
    "- **Summary**: This notebook contains a brief introduction to **MongoDB** and **PyMongo** with data scrapping examples, using **scrapy**.\n",
    "\n",
    "\n",
    "- **Python & packages versions** to reproduce the results of this notebook: "
   ]
  },
  {
   "cell_type": "code",
   "execution_count": 1,
   "metadata": {
    "collapsed": false
   },
   "outputs": [
    {
     "name": "stdout",
     "output_type": "stream",
     "text": [
      "---------------------- Reproducibility conditions for this notebook ----------------------\n",
      "Python version:       2.7.10 |Anaconda 2.3.0 (x86_64)| (default, Sep 15 2015, 14:29:08) \n",
      "[GCC 4.2.1 (Apple Inc. build 5577)]\n",
      "Pymongo version:      3.0.3\n",
      "Scrapy version:       0.20.2\n",
      "------------------------------------------------------------------------------------------\n"
     ]
    }
   ],
   "source": [
    "from datetime import datetime, timedelta\n",
    "import pymongo\n",
    "import scrapy\n",
    "from sys import version\n",
    "from pymongo import MongoClient\n",
    "print ' Reproducibility conditions for this notebook '.center(90,'-')\n",
    "print 'Python version:       ' + version\n",
    "print 'Pymongo version:      ' + pymongo.version\n",
    "print 'Scrapy version:       ' + scrapy.__version__\n",
    "print '-'*90"
   ]
  },
  {
   "cell_type": "markdown",
   "metadata": {},
   "source": [
    "# Basics about MongoDB with PyMongo"
   ]
  },
  {
   "cell_type": "markdown",
   "metadata": {},
   "source": [
    "First, open a connection with the MondoDB server:"
   ]
  },
  {
   "cell_type": "code",
   "execution_count": 2,
   "metadata": {
    "collapsed": false
   },
   "outputs": [
    {
     "name": "stdout",
     "output_type": "stream",
     "text": [
      "Connected to MongoDB in: MongoClient('localhost', 27017)\n"
     ]
    }
   ],
   "source": [
    "try: \n",
    "    client = MongoClient(\"localhost\", 27017)\n",
    "    print \"Connected to MongoDB as:\", client\n",
    "except pymongo.errors.ConnectionFailure, e:\n",
    "    print \"Could not connect to MongoDB: %s\" % e "
   ]
  },
  {
   "cell_type": "markdown",
   "metadata": {},
   "source": [
    "MongoDB is a document-oriented database. This is different from a relational database in two significant ways. Firstly, not all entries must adhere to the same schema. Secondly you can embed entries inside of one another. \n",
    "\n",
    "MongoDB creates **databases** and **collections** automatically if they don't exist already. A single instance of MongoDB *can support multiple independent databases*. \n",
    "\n",
    "When working with PyMongo you access databases using attribute style access:"
   ]
  },
  {
   "cell_type": "code",
   "execution_count": 3,
   "metadata": {
    "collapsed": false
   },
   "outputs": [
    {
     "name": "stdout",
     "output_type": "stream",
     "text": [
      "Database(MongoClient('localhost', 27017), u'test_database')\n"
     ]
    }
   ],
   "source": [
    "db = client.test_database\n",
    "print db"
   ]
  },
  {
   "cell_type": "markdown",
   "metadata": {},
   "source": [
    "A **collection** is a *group of documents* stored in MongoDB, and can be thought of as roughly the equivalent of a table in a relational database. "
   ]
  },
  {
   "cell_type": "code",
   "execution_count": 66,
   "metadata": {
    "collapsed": false
   },
   "outputs": [
    {
     "data": {
      "text/plain": [
       "[u'system.indexes']"
      ]
     },
     "execution_count": 66,
     "metadata": {},
     "output_type": "execute_result"
    }
   ],
   "source": [
    "# to prevent colision cases in db with previous db connetions: \n",
    "\n",
    "for name in db.collection_names():\n",
    "    if name != 'system.indexes':\n",
    "        db.drop_collection(name)\n",
    "\n",
    "db.collection_names()"
   ]
  },
  {
   "cell_type": "markdown",
   "metadata": {},
   "source": [
    "Getting a collection in PyMongo works the same as getting a database:"
   ]
  },
  {
   "cell_type": "code",
   "execution_count": 67,
   "metadata": {
    "collapsed": false
   },
   "outputs": [
    {
     "data": {
      "text/plain": [
       "<pymongo.results.InsertOneResult at 0x1065f12d0>"
      ]
     },
     "execution_count": 67,
     "metadata": {},
     "output_type": "execute_result"
    }
   ],
   "source": [
    "db.create_collection(\"test\")\n",
    "\n",
    "document = {\"x\": \"jpcolino\", \"tags\": [\"author\", \"developer\", \"tester\"]}\n",
    "\n",
    "db.test.insert_one(document)"
   ]
  },
  {
   "cell_type": "code",
   "execution_count": 68,
   "metadata": {
    "collapsed": false
   },
   "outputs": [
    {
     "name": "stdout",
     "output_type": "stream",
     "text": [
      "---------------------------------------------------------------------------\n",
      "Databases open in client:  [u'local', u'test_database']\n",
      "Collection names in db:    [u'system.indexes', u'test']\n",
      "---------------------------------------------------------------------------\n"
     ]
    }
   ],
   "source": [
    "print '-'*75\n",
    "print 'Databases open in client: ', client.database_names()\n",
    "print 'Collection names in db:   ', db.collection_names()\n",
    "print '-'*75"
   ]
  },
  {
   "cell_type": "markdown",
   "metadata": {},
   "source": [
    "MongoDB is sometimes referred to as a *“schemaless” database*, meaning that it does not enforce a particular structure on documents in a collection. It is perfectly legal (though of questionable utility) to store every object in your application in the same collection, regardless of its structure. In a well-designed application, however, it is more frequently the case that a collection will contain documents of identical, or closely related, structure. When all the documents in a collection are similarly, but not identically, structured, we call this a **polymorphic schema**."
   ]
  },
  {
   "cell_type": "code",
   "execution_count": null,
   "metadata": {
    "collapsed": true
   },
   "outputs": [],
   "source": [
    "result = db.test.insert_many([{\"x\": 1, \"tags\": [\"dog\", \"cat\"]},\n",
    "                              {\"x\": 2, \"tags\": [\"cat\"]},\n",
    "                              {\"x\": 2, \"tags\": [\"mouse\", \"cat\", \"dog\"]},\n",
    "                              {\"x\": 3, \"tags\": []},\n",
    "                              {\"y\": 4, \"tags\": []}])\n",
    "\n",
    "# Basic operations with a document: update with $rename\n",
    "\n",
    "db.test.update_one({\"y\": 4},{\"$rename\": {\"y\":\"x\"}})"
   ]
  },
  {
   "cell_type": "code",
   "execution_count": 73,
   "metadata": {
    "collapsed": false
   },
   "outputs": [
    {
     "name": "stdout",
     "output_type": "stream",
     "text": [
      "{u'x': u'jpcolino', u'_id': ObjectId('56260c91c47fab036c5273da'), u'tags': [u'author', u'developer', u'tester']}\n",
      "{u'x': 1, u'_id': ObjectId('56260c93c47fab036c5273db'), u'tags': [u'dog', u'cat']}\n",
      "{u'x': 2, u'_id': ObjectId('56260c93c47fab036c5273dc'), u'tags': [u'cat']}\n",
      "{u'x': 2, u'_id': ObjectId('56260c93c47fab036c5273dd'), u'tags': [u'mouse', u'cat', u'dog']}\n",
      "{u'x': 3, u'_id': ObjectId('56260c93c47fab036c5273de'), u'tags': []}\n",
      "{u'x': 4, u'_id': ObjectId('56260c93c47fab036c5273df'), u'tags': []}\n"
     ]
    }
   ],
   "source": [
    "for doc in db.test.find():\n",
    "    print doc"
   ]
  },
  {
   "cell_type": "code",
   "execution_count": 75,
   "metadata": {
    "collapsed": false
   },
   "outputs": [
    {
     "name": "stdout",
     "output_type": "stream",
     "text": [
      "{u'x': 1, u'_id': ObjectId('56260c93c47fab036c5273db'), u'tags': [u'dog', u'cat']}\n",
      "{u'x': 2, u'_id': ObjectId('56260c93c47fab036c5273dc'), u'tags': [u'cat']}\n",
      "{u'x': 2, u'_id': ObjectId('56260c93c47fab036c5273dd'), u'tags': [u'mouse', u'cat', u'dog']}\n",
      "{u'x': 3, u'_id': ObjectId('56260c93c47fab036c5273de'), u'tags': []}\n",
      "{u'x': 4, u'_id': ObjectId('56260c93c47fab036c5273df'), u'tags': []}\n"
     ]
    }
   ],
   "source": [
    "# Basic operations with a document: delete with delete_one\n",
    "\n",
    "db.test.delete_one({'x':'jpcolino'})\n",
    "\n",
    "for doc in db.test.find():\n",
    "    print doc"
   ]
  },
  {
   "cell_type": "code",
   "execution_count": 95,
   "metadata": {
    "collapsed": false
   },
   "outputs": [
    {
     "name": "stdout",
     "output_type": "stream",
     "text": [
      "Name of the Database: \n",
      "test\n",
      "---------------------------------------------------------------------------\n",
      "Full descriptions: \n",
      "Collection(Database(MongoClient('localhost', 27017), u'test_database'), u'test.acknowledged')\n",
      "---------------------------------------------------------------------------\n",
      "[ObjectId('56260c93c47fab036c5273db'), ObjectId('56260c93c47fab036c5273dc'), ObjectId('56260c93c47fab036c5273dd'), ObjectId('56260c93c47fab036c5273de'), ObjectId('56260c93c47fab036c5273df')]\n",
      "---------------------------------------------------------------------------\n",
      "{u'x': 1, u'_id': ObjectId('56260c93c47fab036c5273db'), u'tags': [u'dog', u'cat']}\n",
      "---------------------------------------------------------------------------\n",
      "{u'x': 2, u'_id': ObjectId('56260c93c47fab036c5273dc'), u'tags': [u'cat']}\n",
      "{u'x': 2, u'_id': ObjectId('56260c93c47fab036c5273dd'), u'tags': [u'mouse', u'cat', u'dog']}\n",
      "{u'x': 3, u'_id': ObjectId('56260c93c47fab036c5273de'), u'tags': []}\n",
      "{u'x': 4, u'_id': ObjectId('56260c93c47fab036c5273df'), u'tags': []}\n",
      "---------------------------------------------------------------------------\n",
      "Collection(Database(MongoClient('localhost', 27017), u'test_database'), u'test.x')\n",
      "---------------------------------------------------------------------------\n",
      "Collection(Database(MongoClient('localhost', 27017), u'test_database'), u'test.tags')\n",
      "---------------------------------------------------------------------------\n"
     ]
    }
   ],
   "source": [
    "# Basic information over the collection:\n",
    "\n",
    "print 'Name of the Database: \\n', db.test.name\n",
    "print '-'*75\n",
    "print 'Full descriptions: \\n', db.test.acknowledged\n",
    "print '-'*75\n",
    "print result.inserted_ids\n",
    "print '-'*75\n",
    "print db.test.find_one()\n",
    "print '-'*75\n",
    "for d in db.test.find()[1:]:\n",
    "    print d\n",
    "print '-'*75\n",
    "print db.test['x']\n",
    "print '-'*75\n",
    "print db.test['tags']\n",
    "print '-'*75"
   ]
  },
  {
   "cell_type": "markdown",
   "metadata": {},
   "source": [
    "Here, we have some **query operators**: "
   ]
  },
  {
   "cell_type": "code",
   "execution_count": 96,
   "metadata": {
    "collapsed": false
   },
   "outputs": [
    {
     "name": "stdout",
     "output_type": "stream",
     "text": [
      "Number of Documents:  5\n",
      "---------------------------------------------------------------------------\n",
      "Number of Documents with field 'x': Collection(Database(MongoClient('localhost', 27017), u'test_database'), u\"test.{'x': 2}\")\n",
      "---------------------------------------------------------------------------\n",
      "Number of Documents where x == 2:  2\n",
      "---------------------------------------------------------------------------\n",
      "Number of Documents with x >= 2:  4\n",
      "---------------------------------------------------------------------------\n"
     ]
    }
   ],
   "source": [
    "print 'Number of Documents: ', db.test.count()\n",
    "print '-'*75\n",
    "print \"Number of Documents with field 'x':\",db.test[{'x': 2}]\n",
    "print '-'*75\n",
    "print 'Number of Documents where x == 2: ', db.test.find({'x': 2}).count()\n",
    "print '-'*75\n",
    "print 'Number of Documents with x >= 2: ', db.test.find({'x':{'$gte': 2}}).count()\n",
    "print '-'*75\n",
    "# print 'Number of Documents with x >= 2: ', db.test[$not'x'].find().count()"
   ]
  },
  {
   "cell_type": "markdown",
   "metadata": {},
   "source": [
    "Queries can also use special query operators. These operators include **gt, gte, lt, lte, ne, nin, regex, exists, not, or**, and many more. \n",
    "\n",
    "Additionally we can use **regular expresions**: "
   ]
  },
  {
   "cell_type": "code",
   "execution_count": 97,
   "metadata": {
    "collapsed": false
   },
   "outputs": [
    {
     "name": "stdout",
     "output_type": "stream",
     "text": [
      "Number of Documents where you will find a \"cat\":  3\n"
     ]
    }
   ],
   "source": [
    "# Using Regex to find tags = cats\n",
    "\n",
    "import re\n",
    "regex = re.compile(r'cat')\n",
    "rstats = db.test.find({\"tags\":regex}).count()\n",
    "print 'Number of Documents where you will find a \"cat\": ', rstats"
   ]
  },
  {
   "cell_type": "code",
   "execution_count": 98,
   "metadata": {
    "collapsed": false
   },
   "outputs": [
    {
     "data": {
      "text/plain": [
       "'id_x'"
      ]
     },
     "execution_count": 98,
     "metadata": {},
     "output_type": "execute_result"
    }
   ],
   "source": [
    "from pymongo import DESCENDING\n",
    "db.test.drop_indexes()\n",
    "db.test.create_index([(\"x\", pymongo.DESCENDING)], name = \"id_x\")"
   ]
  },
  {
   "cell_type": "code",
   "execution_count": 99,
   "metadata": {
    "collapsed": false
   },
   "outputs": [
    {
     "name": "stdout",
     "output_type": "stream",
     "text": [
      "{u'id_x': {u'ns': u'test_database.test', u'key': [(u'x', -1)], u'v': 1}, u'_id_': {u'ns': u'test_database.test', u'key': [(u'_id', 1)], u'v': 1}}\n",
      "id_x\n",
      "_id_\n"
     ]
    }
   ],
   "source": [
    "print db.test.index_information() \n",
    "for doc in db.test.index_information() :\n",
    "    print doc"
   ]
  },
  {
   "cell_type": "code",
   "execution_count": null,
   "metadata": {
    "collapsed": true
   },
   "outputs": [],
   "source": []
  }
 ],
 "metadata": {
  "kernelspec": {
   "display_name": "Python 2",
   "language": "python",
   "name": "python2"
  },
  "language_info": {
   "codemirror_mode": {
    "name": "ipython",
    "version": 2
   },
   "file_extension": ".py",
   "mimetype": "text/x-python",
   "name": "python",
   "nbconvert_exporter": "python",
   "pygments_lexer": "ipython2",
   "version": "2.7.10"
  }
 },
 "nbformat": 4,
 "nbformat_minor": 0
}
