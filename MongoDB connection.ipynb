{
 "cells": [
  {
   "cell_type": "markdown",
   "metadata": {},
   "source": [
    "****\n",
    "# MongoDB connection using PyMongo\n",
    "****"
   ]
  },
  {
   "cell_type": "markdown",
   "metadata": {},
   "source": [
    "## About this notebook: \n",
    "Notebook prepared by **Jesus Perez Colino** Version 0.1, First Released: 01/12/2014, Alpha.  \n",
    "\n",
    "- This work is licensed under a [Creative Commons Attribution-ShareAlike 3.0 Unported License](http://creativecommons.org/licenses/by-sa/3.0/deed.en_US). This work is offered for free, with the hope that it will be useful.\n",
    "\n",
    "\n",
    "- **Summary**: This notebook contains a brief introduction to **MongoDB** and **PyMongo** with data scrapping examples, using **scrapy**.\n",
    "\n",
    "\n",
    "- **Python & packages versions** to reproduce the results of this notebook: "
   ]
  },
  {
   "cell_type": "code",
   "execution_count": 1,
   "metadata": {
    "collapsed": false
   },
   "outputs": [
    {
     "name": "stdout",
     "output_type": "stream",
     "text": [
      "---------------------- Reproducibility conditions for this notebook ----------------------\n",
      "Python version:       2.7.10 |Anaconda 2.3.0 (x86_64)| (default, Sep 15 2015, 14:29:08) \n",
      "[GCC 4.2.1 (Apple Inc. build 5577)]\n",
      "Pymongo version:      3.0.3\n",
      "Scrapy version:       0.20.2\n",
      "------------------------------------------------------------------------------------------\n"
     ]
    }
   ],
   "source": [
    "from datetime import datetime, timedelta\n",
    "import pymongo\n",
    "import scrapy\n",
    "from sys import version\n",
    "from pymongo import MongoClient\n",
    "print ' Reproducibility conditions for this notebook '.center(90,'-')\n",
    "print 'Python version:       ' + version\n",
    "print 'Pymongo version:      ' + pymongo.version\n",
    "print 'Scrapy version:       ' + scrapy.__version__\n",
    "print '-'*90"
   ]
  },
  {
   "cell_type": "markdown",
   "metadata": {},
   "source": [
    "# Basics about MongoDB with PyMongo"
   ]
  },
  {
   "cell_type": "markdown",
   "metadata": {},
   "source": [
    "First, open a connection with the MondoDB server:"
   ]
  },
  {
   "cell_type": "code",
   "execution_count": 42,
   "metadata": {
    "collapsed": false
   },
   "outputs": [
    {
     "name": "stdout",
     "output_type": "stream",
     "text": [
      "Connected to MongoD in: MongoClient('localhost', 27017)\n"
     ]
    }
   ],
   "source": [
    "try: \n",
    "    client = MongoClient(\"localhost\", 27017)\n",
    "    print \"Connected to MongoDB in:\", client\n",
    "except pymongo.errors.ConnectionFailure, e:\n",
    "    print \"Could not connect to MongoDB: %s\" % e "
   ]
  },
  {
   "cell_type": "markdown",
   "metadata": {},
   "source": [
    "Mongodb creates **databases** and **collections** automatically for you if they don't exist already. A single instance of MongoDB *can support multiple independent databases*. \n",
    "\n",
    "When working with PyMongo you access databases using attribute style access:"
   ]
  },
  {
   "cell_type": "code",
   "execution_count": 43,
   "metadata": {
    "collapsed": false
   },
   "outputs": [
    {
     "name": "stdout",
     "output_type": "stream",
     "text": [
      "Database(MongoClient('localhost', 27017), u'test_database')\n"
     ]
    }
   ],
   "source": [
    "db = client.test_database\n",
    "print db"
   ]
  },
  {
   "cell_type": "markdown",
   "metadata": {},
   "source": [
    "A **collection** is a *group of documents* stored in MongoDB, and can be thought of as roughly the equivalent of a table in a relational database. "
   ]
  },
  {
   "cell_type": "code",
   "execution_count": 114,
   "metadata": {
    "collapsed": false
   },
   "outputs": [
    {
     "data": {
      "text/plain": [
       "[u'system.indexes']"
      ]
     },
     "execution_count": 114,
     "metadata": {},
     "output_type": "execute_result"
    }
   ],
   "source": [
    "# to prevent colision cases in db with previous db connetions: \n",
    "for name in db.collection_names():\n",
    "    if name != 'system.indexes':\n",
    "        db.drop_collection(name)\n",
    "\n",
    "db.collection_names()"
   ]
  },
  {
   "cell_type": "markdown",
   "metadata": {},
   "source": [
    "Getting a collection in PyMongo works the same as getting a database:"
   ]
  },
  {
   "cell_type": "code",
   "execution_count": 115,
   "metadata": {
    "collapsed": false
   },
   "outputs": [
    {
     "data": {
      "text/plain": [
       "<pymongo.results.InsertOneResult at 0x10656bb40>"
      ]
     },
     "execution_count": 115,
     "metadata": {},
     "output_type": "execute_result"
    }
   ],
   "source": [
    "db.create_collection(\"test\")\n",
    "\n",
    "document = {\"x\": \"jpcolino\", \"tags\": [\"author\", \"developer\", \"tester\"]}\n",
    "\n",
    "db.test.insert_one(document)"
   ]
  },
  {
   "cell_type": "code",
   "execution_count": 116,
   "metadata": {
    "collapsed": false
   },
   "outputs": [
    {
     "name": "stdout",
     "output_type": "stream",
     "text": [
      "---------------------------------------------------------------------------\n",
      "Databases open in client:  [u'local', u'test_database']\n",
      "Collection names in db:    [u'system.indexes', u'test']\n",
      "---------------------------------------------------------------------------\n"
     ]
    }
   ],
   "source": [
    "print '-'*75\n",
    "print 'Databases open in client: ', client.database_names()\n",
    "print 'Collection names in db:   ', db.collection_names()\n",
    "print '-'*75"
   ]
  },
  {
   "cell_type": "code",
   "execution_count": 84,
   "metadata": {
    "collapsed": true
   },
   "outputs": [],
   "source": [
    "result = db.test.insert_many([{\"x\": 1, \"tags\": [\"dog\", \"cat\"]},\n",
    "                              {\"x\": 2, \"tags\": [\"cat\"]},\n",
    "                              {\"x\": 2, \"tags\": [\"mouse\", \"cat\", \"dog\"]},\n",
    "                              {\"x\": 3, \"tags\": []}])"
   ]
  },
  {
   "cell_type": "code",
   "execution_count": 113,
   "metadata": {
    "collapsed": false
   },
   "outputs": [
    {
     "name": "stdout",
     "output_type": "stream",
     "text": [
      "Name of the Database: \n",
      "test\n",
      "--------------------------------------------------\n",
      "Full descriptions: \n",
      "Collection(Database(MongoClient('localhost', 27017), u'test_database'), u'test.acknowledged')\n",
      "--------------------------------------------------\n",
      "[ObjectId('56250c44c47fab411aa37826'), ObjectId('56250c44c47fab411aa37827'), ObjectId('56250c44c47fab411aa37828'), ObjectId('56250c44c47fab411aa37829')]\n",
      "--------------------------------------------------\n",
      "{u'x': u'jpcolino', u'_id': ObjectId('56250c42c47fab411aa37825'), u'tags': [u'author', u'developer', u'tester']}\n",
      "--------------------------------------------------\n",
      "{u'x': 1, u'_id': ObjectId('56250c44c47fab411aa37826'), u'tags': [u'dog', u'cat']}\n",
      "{u'x': 2, u'_id': ObjectId('56250c44c47fab411aa37827'), u'tags': [u'cat']}\n",
      "{u'x': 2, u'_id': ObjectId('56250c44c47fab411aa37828'), u'tags': [u'mouse', u'cat', u'dog']}\n",
      "{u'x': 3, u'_id': ObjectId('56250c44c47fab411aa37829'), u'tags': []}\n",
      "--------------------------------------------------\n",
      "Collection(Database(MongoClient('localhost', 27017), u'test_database'), u'test.x')\n",
      "--------------------------------------------------\n",
      "Collection(Database(MongoClient('localhost', 27017), u'test_database'), u'test.tags')\n",
      "--------------------------------------------------\n"
     ]
    }
   ],
   "source": [
    "\n",
    "print 'Name of the Database: \\n', db.test.name\n",
    "print '-'*50\n",
    "print 'Full descriptions: \\n', db.test.acknowledged\n",
    "print '-'*50\n",
    "print result.inserted_ids\n",
    "print '-'*50\n",
    "print db.test.find_one()\n",
    "print '-'*50\n",
    "for d in db.test.find()[1:]:\n",
    "    print d\n",
    "print '-'*50\n",
    "print db.test['x']\n",
    "print '-'*50\n",
    "print db.test['tags']\n",
    "print '-'*50"
   ]
  },
  {
   "cell_type": "markdown",
   "metadata": {},
   "source": [
    "Here, we have some **query operators**: "
   ]
  },
  {
   "cell_type": "code",
   "execution_count": 103,
   "metadata": {
    "collapsed": false
   },
   "outputs": [
    {
     "name": "stdout",
     "output_type": "stream",
     "text": [
      "Number of Documents:  5\n",
      "--------------------------------------------------\n",
      "Number of Documents where x = 2:  2\n"
     ]
    }
   ],
   "source": [
    "print 'Number of Documents: ', db.test.count()\n",
    "print '-'*50\n",
    "print 'Number of Documents where x = 2: ', db.test.find({\"x\": 2}).count()"
   ]
  },
  {
   "cell_type": "markdown",
   "metadata": {},
   "source": [
    "Queries can also use special query operators. These operators include **gt, gte, lt, lte, ne, nin, regex, exists, not, or**, and many more. \n",
    "\n",
    "Additionally we can use **regular expresions**: "
   ]
  },
  {
   "cell_type": "code",
   "execution_count": 108,
   "metadata": {
    "collapsed": false
   },
   "outputs": [
    {
     "name": "stdout",
     "output_type": "stream",
     "text": [
      "3\n"
     ]
    }
   ],
   "source": [
    "# Using Regex to find tags = cats\n",
    "import re\n",
    "regex = re.compile(r'cat')\n",
    "rstats = db.test.find({\"tags\":regex}).count()\n",
    "print rstats"
   ]
  }
 ],
 "metadata": {
  "kernelspec": {
   "display_name": "Python 2",
   "language": "python",
   "name": "python2"
  },
  "language_info": {
   "codemirror_mode": {
    "name": "ipython",
    "version": 2
   },
   "file_extension": ".py",
   "mimetype": "text/x-python",
   "name": "python",
   "nbconvert_exporter": "python",
   "pygments_lexer": "ipython2",
   "version": "2.7.10"
  }
 },
 "nbformat": 4,
 "nbformat_minor": 0
}
