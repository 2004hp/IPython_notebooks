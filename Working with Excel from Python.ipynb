{
 "cells": [
  {
   "cell_type": "markdown",
   "metadata": {},
   "source": [
    "***\n",
    "# Working with Excel Spreadsheets from Python\n",
    "***"
   ]
  },
  {
   "cell_type": "markdown",
   "metadata": {},
   "source": [
    "### About this notebook: \n",
    "Notebook prepared by **Jesus Perez Colino** Version 0.1, First Released: 01/10/2014, Alpha.  \n",
    "\n",
    "- This work is licensed under a [Creative Commons Attribution-ShareAlike 3.0 Unported License](http://creativecommons.org/licenses/by-sa/3.0/deed.en_US). This work is offered for free, with the hope that it will be useful.\n",
    "\n",
    "\n",
    "- **Summary**: This notebook contains a brief introduction about how to work with **Excel Spreadsheets** from Python using **openpyxl** and **pandas**.\n",
    "\n",
    "\n",
    "- **Python & packages versions** to reproduce the results of this notebook: "
   ]
  },
  {
   "cell_type": "code",
   "execution_count": 199,
   "metadata": {
    "collapsed": false
   },
   "outputs": [
    {
     "name": "stdout",
     "output_type": "stream",
     "text": [
      "--------- Least-Squares MC for American Options: Conditions for Replication ---------\n",
      "Python version:     2.7.10 |Anaconda 2.4.0 (x86_64)| (default, Oct 19 2015, 18:31:17) \n",
      "[GCC 4.2.1 (Apple Inc. build 5577)]\n",
      "Numpy version:      1.10.1\n",
      "Pandas version:     0.17.0\n",
      "Openpyxl version:   2.2.6\n",
      "IPython version:    4.0.0\n",
      "-------------------------------------------------------------------------------------\n"
     ]
    }
   ],
   "source": [
    "import IPython\n",
    "import numpy as np\n",
    "import pandas as pd\n",
    "import openpyxl\n",
    "import warnings\n",
    "warnings.filterwarnings(\"ignore\")\n",
    "from sys import version \n",
    "print ' Least-Squares MC for American Options: Conditions for Replication '.center(85,\"-\")\n",
    "print 'Python version:     ' + version \n",
    "print 'Numpy version:      ' + np.__version__\n",
    "print 'Pandas version:     ' + pd.__version__\n",
    "print 'Openpyxl version:   ' + openpyxl.__version__\n",
    "print 'IPython version:    ' + IPython.__version__\n",
    "print '-'*85"
   ]
  },
  {
   "cell_type": "markdown",
   "metadata": {},
   "source": [
    "# Openpyxl"
   ]
  },
  {
   "cell_type": "code",
   "execution_count": 138,
   "metadata": {
    "collapsed": true
   },
   "outputs": [],
   "source": [
    "from openpyxl import Workbook\n",
    "from openpyxl.compat import range\n",
    "from openpyxl.cell import get_column_letter"
   ]
  },
  {
   "cell_type": "markdown",
   "metadata": {},
   "source": [
    "### 1. Write a workbook"
   ]
  },
  {
   "cell_type": "code",
   "execution_count": 161,
   "metadata": {
    "collapsed": true
   },
   "outputs": [],
   "source": [
    "wb = Workbook()"
   ]
  },
  {
   "cell_type": "code",
   "execution_count": 162,
   "metadata": {
    "collapsed": false
   },
   "outputs": [],
   "source": [
    "ws1 = wb.active\n",
    "ws1.title = 'range names'"
   ]
  },
  {
   "cell_type": "code",
   "execution_count": 163,
   "metadata": {
    "collapsed": false
   },
   "outputs": [],
   "source": [
    "for row in range(1,10):\n",
    "    ws1.append(range(100))"
   ]
  },
  {
   "cell_type": "code",
   "execution_count": 164,
   "metadata": {
    "collapsed": true
   },
   "outputs": [],
   "source": [
    "ws2 = wb.create_sheet(title=\"Pi\")\n",
    "ws3 = wb.create_sheet(title=\"Data\")"
   ]
  },
  {
   "cell_type": "code",
   "execution_count": 165,
   "metadata": {
    "collapsed": false,
    "scrolled": true
   },
   "outputs": [
    {
     "data": {
      "text/plain": [
       "['range names', 'Pi', 'Data']"
      ]
     },
     "execution_count": 165,
     "metadata": {},
     "output_type": "execute_result"
    }
   ],
   "source": [
    "wb.get_sheet_names()"
   ]
  },
  {
   "cell_type": "code",
   "execution_count": 166,
   "metadata": {
    "collapsed": true
   },
   "outputs": [],
   "source": [
    "from math import pi\n",
    "ws2['A1'] = pi"
   ]
  },
  {
   "cell_type": "code",
   "execution_count": 167,
   "metadata": {
    "collapsed": false
   },
   "outputs": [],
   "source": [
    "for row in range(1,20):\n",
    "    for col in range(1,27):\n",
    "        _ = ws3.cell(column=col, row=row, value=\"{0}\".format(get_column_letter(col)) )"
   ]
  },
  {
   "cell_type": "code",
   "execution_count": 168,
   "metadata": {
    "collapsed": false
   },
   "outputs": [
    {
     "name": "stdout",
     "output_type": "stream",
     "text": [
      "0\n",
      "3.14159265359\n",
      "A\n"
     ]
    }
   ],
   "source": [
    "print ws1['A1'].value\n",
    "print ws2['A1'].value\n",
    "print ws3['A1'].value"
   ]
  },
  {
   "cell_type": "code",
   "execution_count": 169,
   "metadata": {
    "collapsed": false
   },
   "outputs": [
    {
     "name": "stdout",
     "output_type": "stream",
     "text": [
      "<Cell Pi.A1>\n",
      "3.14159265359\n"
     ]
    }
   ],
   "source": [
    "print ws2.cell(row = 1, column = 1)\n",
    "print ws2.cell(row = 1, column = 1).value"
   ]
  },
  {
   "cell_type": "markdown",
   "metadata": {},
   "source": [
    "### 2. Save the workbook"
   ]
  },
  {
   "cell_type": "code",
   "execution_count": 170,
   "metadata": {
    "collapsed": false,
    "scrolled": true
   },
   "outputs": [],
   "source": [
    "wb.save(filename = 'my_book.xlsx')"
   ]
  },
  {
   "cell_type": "markdown",
   "metadata": {},
   "source": [
    "### 3. Read the workbook"
   ]
  },
  {
   "cell_type": "code",
   "execution_count": 171,
   "metadata": {
    "collapsed": true
   },
   "outputs": [],
   "source": [
    "from openpyxl import load_workbook"
   ]
  },
  {
   "cell_type": "code",
   "execution_count": 172,
   "metadata": {
    "collapsed": false
   },
   "outputs": [
    {
     "name": "stdout",
     "output_type": "stream",
     "text": [
      "['range names', 'Pi', 'Data']\n"
     ]
    }
   ],
   "source": [
    "wb_new = load_workbook(filename = 'my_book1.xlsx')\n",
    "print(wb_new.get_sheet_names())"
   ]
  },
  {
   "cell_type": "code",
   "execution_count": 173,
   "metadata": {
    "collapsed": false
   },
   "outputs": [
    {
     "name": "stdout",
     "output_type": "stream",
     "text": [
      "3.14159265359\n"
     ]
    }
   ],
   "source": [
    "Pi = wb_new['Pi']\n",
    "print Pi['A1'].value"
   ]
  },
  {
   "cell_type": "code",
   "execution_count": 174,
   "metadata": {
    "collapsed": false
   },
   "outputs": [
    {
     "name": "stdout",
     "output_type": "stream",
     "text": [
      "<generator object get_squared_range at 0x105cded20>\n"
     ]
    }
   ],
   "source": [
    "range_numbers = wb_new['range names']\n",
    "cell_range = range_numbers['A1':'C4']\n",
    "print cell_range"
   ]
  },
  {
   "cell_type": "code",
   "execution_count": 175,
   "metadata": {
    "collapsed": false
   },
   "outputs": [
    {
     "name": "stdout",
     "output_type": "stream",
     "text": [
      "<Cell range names.A1> :  0 :  General\n",
      "<Cell range names.B1> :  1 :  General\n",
      "<Cell range names.C1> :  2 :  General\n",
      "<Cell range names.A2> :  0 :  General\n",
      "<Cell range names.B2> :  1 :  General\n",
      "<Cell range names.C2> :  2 :  General\n",
      "<Cell range names.A3> :  0 :  General\n",
      "<Cell range names.B3> :  1 :  General\n",
      "<Cell range names.C3> :  2 :  General\n",
      "<Cell range names.A4> :  0 :  General\n",
      "<Cell range names.B4> :  1 :  General\n",
      "<Cell range names.C4> :  2 :  General\n"
     ]
    }
   ],
   "source": [
    "for row in cell_range:\n",
    "    for cell in row:\n",
    "        print cell,': ',(cell.value), ': ', (cell.number_format)"
   ]
  },
  {
   "cell_type": "markdown",
   "metadata": {},
   "source": [
    "# Pandas and xlswriter"
   ]
  },
  {
   "cell_type": "code",
   "execution_count": 192,
   "metadata": {
    "collapsed": true
   },
   "outputs": [],
   "source": [
    "import pandas as pd\n",
    "import numpy as np"
   ]
  },
  {
   "cell_type": "code",
   "execution_count": 193,
   "metadata": {
    "collapsed": false
   },
   "outputs": [
    {
     "name": "stdout",
     "output_type": "stream",
     "text": [
      "          a         b         c         d         e\n",
      "0  0.702547  0.102770  0.688438 -0.311914  2.173209\n",
      "1  1.089144  1.062393  0.469816  0.571697  0.355736\n",
      "2  1.989280  1.984315 -0.006233  0.445899  0.276290\n",
      "3 -0.451186  1.793404  0.602288  1.643766  0.664844\n",
      "4  0.664643 -0.307213  0.231577  1.807960 -1.597056\n",
      "5 -0.513525  0.963591 -1.248536 -0.046372  1.119049\n",
      "6  0.200745  0.339439  0.829714  3.490895  0.398784\n",
      "7  1.461343 -1.032221  2.062719 -0.161815  0.562729\n",
      "8 -0.166520 -1.251668  0.804215  0.526963  0.444356\n",
      "9  0.166400 -0.046415  0.721375  1.884876 -1.519949\n"
     ]
    }
   ],
   "source": [
    "df1 = pd.DataFrame(np.random.randn(10, 5),\n",
    "                   columns=['a', 'b', 'c', 'd', 'e'])\n",
    "print df1"
   ]
  },
  {
   "cell_type": "code",
   "execution_count": 194,
   "metadata": {
    "collapsed": false
   },
   "outputs": [],
   "source": [
    "writer = pd.ExcelWriter('my_book2.xlsx', engine='xlsxwriter')\n",
    "df1.to_excel(writer,'random numbers')\n",
    "writer.save()"
   ]
  },
  {
   "cell_type": "code",
   "execution_count": 195,
   "metadata": {
    "collapsed": false
   },
   "outputs": [
    {
     "name": "stdout",
     "output_type": "stream",
     "text": [
      "          a         b         c         d         e\n",
      "0  0.702547  0.102770  0.688438 -0.311914  2.173209\n",
      "1  1.089144  1.062393  0.469816  0.571697  0.355736\n",
      "2  1.989280  1.984315 -0.006233  0.445899  0.276290\n",
      "3 -0.451186  1.793404  0.602288  1.643766  0.664844\n",
      "4  0.664643 -0.307213  0.231577  1.807960 -1.597056\n",
      "5 -0.513525  0.963591 -1.248536 -0.046372  1.119049\n",
      "6  0.200745  0.339439  0.829714  3.490895  0.398784\n",
      "7  1.461343 -1.032221  2.062719 -0.161815  0.562729\n",
      "8 -0.166520 -1.251668  0.804215  0.526963  0.444356\n",
      "9  0.166400 -0.046415  0.721375  1.884876 -1.519949\n"
     ]
    }
   ],
   "source": [
    "dfread = pd.read_excel('my_book2.xlsx')\n",
    "print dfread"
   ]
  },
  {
   "cell_type": "code",
   "execution_count": null,
   "metadata": {
    "collapsed": true
   },
   "outputs": [],
   "source": []
  }
 ],
 "metadata": {
  "kernelspec": {
   "display_name": "Python 2",
   "language": "python",
   "name": "python2"
  },
  "language_info": {
   "codemirror_mode": {
    "name": "ipython",
    "version": 2
   },
   "file_extension": ".py",
   "mimetype": "text/x-python",
   "name": "python",
   "nbconvert_exporter": "python",
   "pygments_lexer": "ipython2",
   "version": "2.7.10"
  }
 },
 "nbformat": 4,
 "nbformat_minor": 0
}
