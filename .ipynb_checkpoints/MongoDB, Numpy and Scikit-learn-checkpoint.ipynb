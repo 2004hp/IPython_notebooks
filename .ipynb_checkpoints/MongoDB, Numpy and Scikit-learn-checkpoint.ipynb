{
 "cells": [
  {
   "cell_type": "markdown",
   "metadata": {},
   "source": [
    "****\n",
    "# MongoDB, Numpy and Scikit-learn\n",
    "****"
   ]
  },
  {
   "cell_type": "markdown",
   "metadata": {},
   "source": [
    "## About this notebook: \n",
    "Notebook prepared by **Jesus Perez Colino** Version 0.1, First Released: 01/12/2014, Alpha.  \n",
    "\n",
    "- This work is licensed under a [Creative Commons Attribution-ShareAlike 3.0 Unported License](http://creativecommons.org/licenses/by-sa/3.0/deed.en_US). This work is offered for free, with the hope that it will be useful.\n",
    "\n",
    "\n",
    "- **Summary**: This notebook contains a brief introduction to **MongoDB** and **PyMongo**, and the basic code to use MongoDB to store **Numpy** *input* (multidimensional arrays), and the *output* that came from a **Scikit-learn** ridge-regression model. \n",
    "\n",
    "\n",
    "- **Python & packages versions** to reproduce the results of this notebook: "
   ]
  },
  {
   "cell_type": "code",
   "execution_count": 1,
   "metadata": {
    "collapsed": false
   },
   "outputs": [
    {
     "name": "stdout",
     "output_type": "stream",
     "text": [
      "---------------------- Reproducibility conditions for this notebook ----------------------\n",
      "Python version:       2.7.10 |Anaconda 2.3.0 (x86_64)| (default, Sep 15 2015, 14:29:08) \n",
      "[GCC 4.2.1 (Apple Inc. build 5577)]\n",
      "Pymongo version:      3.0.3\n",
      "Scrapy version:       0.20.2\n",
      "------------------------------------------------------------------------------------------\n"
     ]
    }
   ],
   "source": [
    "from datetime import datetime, timedelta\n",
    "import pymongo\n",
    "from sys import version\n",
    "from pymongo import MongoClient\n",
    "print ' Reproducibility conditions for this notebook '.center(90,'-')\n",
    "print 'Python version:       ' + version\n",
    "print 'Pymongo version:      ' + pymongo.version\n",
    "print '-'*90"
   ]
  },
  {
   "cell_type": "markdown",
   "metadata": {},
   "source": [
    "## Basics about MongoDB with PyMongo"
   ]
  },
  {
   "cell_type": "markdown",
   "metadata": {},
   "source": [
    "MongoDB is a *document-oriented database*, not a relational one. This is different from a relational database in two significant ways. Firstly, not all entries must adhere to the same schema. Secondly you can embed entries inside of one another. The primary reason for moving away from the relational model is to make *scaling* out easier, but there are some other advantages as well. \n",
    "\n",
    "Basically, a *document-oriented database* replaces the concept of a *“row”* with a more flexible model, the *“document”*. By allowing embedded documents and arrays, the document- oriented approach makes it possible to represent complex hierarchical relationships with a single record. This fits naturally into the way developers in modern object-oriented languages think about their data. "
   ]
  },
  {
   "cell_type": "markdown",
   "metadata": {},
   "source": [
    "**Documents** in MongoDB are modeled after the `JSON` (JavaScript Object Notation) format, but are actually stored in `BSON` (Binary JSON). Briefly, what this means is that a MongoDB document is *a dictionary of key-value pairs*, where the value may be one of a number of types:\n",
    "\n",
    "- Primitive JSON types (e.g., number, string, Boolean)\n",
    "- Primitive BSON types (e.g., datetime, ObjectId, UUID, regex)\n",
    "- Arrays of values\n",
    "- Objects composed of key-value pairs\n",
    "- Null\n",
    "\n",
    "MongoDB creates **databases** and **collections** automatically if they don't exist already. A single instance of MongoDB *can support multiple independent databases*. \n"
   ]
  },
  {
   "cell_type": "markdown",
   "metadata": {},
   "source": [
    "Let's first, open a connection with the MondoDB server:"
   ]
  },
  {
   "cell_type": "code",
   "execution_count": 2,
   "metadata": {
    "collapsed": false
   },
   "outputs": [
    {
     "name": "stdout",
     "output_type": "stream",
     "text": [
      "Connected to MongoDB as: MongoClient('localhost', 27017)\n"
     ]
    }
   ],
   "source": [
    "try: \n",
    "    client = MongoClient(\"localhost\", 27017)\n",
    "    print \"Connected to MongoDB as:\", client\n",
    "except pymongo.errors.ConnectionFailure, e:\n",
    "    print \"Could not connect to MongoDB: %s\" % e "
   ]
  },
  {
   "cell_type": "markdown",
   "metadata": {},
   "source": [
    "\n",
    "When working with PyMongo you access databases using attribute style access:"
   ]
  },
  {
   "cell_type": "code",
   "execution_count": 3,
   "metadata": {
    "collapsed": false
   },
   "outputs": [
    {
     "name": "stdout",
     "output_type": "stream",
     "text": [
      "Database(MongoClient('localhost', 27017), u'test_database')\n"
     ]
    }
   ],
   "source": [
    "db = client.test_database\n",
    "print db"
   ]
  },
  {
   "cell_type": "markdown",
   "metadata": {},
   "source": [
    "A **collection** is a *group of documents* stored in MongoDB, and can be thought of as roughly the equivalent of a table in a relational database. "
   ]
  },
  {
   "cell_type": "code",
   "execution_count": 4,
   "metadata": {
    "collapsed": false
   },
   "outputs": [
    {
     "data": {
      "text/plain": [
       "[u'system.indexes']"
      ]
     },
     "execution_count": 4,
     "metadata": {},
     "output_type": "execute_result"
    }
   ],
   "source": [
    "# to prevent colision cases in db with previous db connetions: \n",
    "\n",
    "for name in db.collection_names():\n",
    "    if name != 'system.indexes':\n",
    "        db.drop_collection(name)\n",
    "\n",
    "db.collection_names()"
   ]
  },
  {
   "cell_type": "markdown",
   "metadata": {},
   "source": [
    "In terms of syntax, getting a collection in PyMongo works the same as getting a database:"
   ]
  },
  {
   "cell_type": "code",
   "execution_count": 5,
   "metadata": {
    "collapsed": false
   },
   "outputs": [
    {
     "data": {
      "text/plain": [
       "<pymongo.results.InsertOneResult at 0x106444e10>"
      ]
     },
     "execution_count": 5,
     "metadata": {},
     "output_type": "execute_result"
    }
   ],
   "source": [
    "db.create_collection(\"test\")\n",
    "\n",
    "document = {\"x\": \"jpcolino\", \"tags\": [\"author\", \"developer\", \"tester\"]}\n",
    "\n",
    "db.test.insert_one(document)"
   ]
  },
  {
   "cell_type": "code",
   "execution_count": 6,
   "metadata": {
    "collapsed": false
   },
   "outputs": [
    {
     "name": "stdout",
     "output_type": "stream",
     "text": [
      "---------------------------------------------------------------------------\n",
      "Databases open in client:  [u'local', u'test_database']\n",
      "Collection names in db:    [u'system.indexes', u'test']\n",
      "---------------------------------------------------------------------------\n"
     ]
    }
   ],
   "source": [
    "print '-'*75\n",
    "print 'Databases open in client: ', client.database_names()\n",
    "print 'Collection names in db:   ', db.collection_names()\n",
    "print '-'*75"
   ]
  },
  {
   "cell_type": "markdown",
   "metadata": {},
   "source": [
    "MongoDB is sometimes referred to as a *“schemaless” database*, meaning that it does not enforce a particular structure on documents in a collection. It means that it is perfectly possible to store every object in your application in the same collection, regardless of its structure. Or in other words, *collections have dynamic schemas*. This means that the documents within a single collection can have any number of different “shapes.” For example, the following five documents could be stored in a single collection:"
   ]
  },
  {
   "cell_type": "code",
   "execution_count": 7,
   "metadata": {
    "collapsed": false
   },
   "outputs": [],
   "source": [
    "result = db.test.insert_many([{\"x\": 1, \"tags\": [\"dog\", \"cat\"]},\n",
    "                              {\"x\": 2, \"tags\": [\"cat\"]},\n",
    "                              {\"x\": 2, \"tags\": [\"mouse\", \"cat\", \"dog\"]},\n",
    "                              {\"x\": 3, \"tags\": []},\n",
    "                              {\"y\": 4, \"tags\": 123456}])"
   ]
  },
  {
   "cell_type": "markdown",
   "metadata": {},
   "source": [
    "Note that the previous documents not only have different types for their values (string versus integer) but also have entirely different keys.\n",
    "\n",
    "Because any document can be put into any collection, the question often arises: “Why do we need separate collections at all?” It’s a good question—with no need for separate schemas for different kinds of documents, why should we use more than one collection? There are several good reasons:\n",
    "\n",
    "- Keeping different kinds of documents in the same collection can be a nightmare for developers and admins.\n",
    "- It is much faster to get a list of collections than to extract a list of the types in a collection. \n",
    "- Grouping documents of the same kind together in the same collection allows for data locality.\n",
    "- We begin to impose some structure on our documents when we create indexes. \n",
    "As you can see, there are sound reasons for creating a schema and for grouping related types of documents together, even though MongoDB does not enforce it.\n",
    "\n",
    "Therefore, it is clear that it will be more frequent the case that a collection will contain documents of identical, or closely related, structure. When all the documents in a collection are similarly, but not identically, structured, we call this a **polymorphic schema**."
   ]
  },
  {
   "cell_type": "markdown",
   "metadata": {},
   "source": [
    "MongoDB stores documents contiguously on disk, putting all the data you need into one document means that you’re never more than one seek away from everything you need."
   ]
  },
  {
   "cell_type": "markdown",
   "metadata": {},
   "source": [
    "## Basic operations with a document"
   ]
  },
  {
   "cell_type": "code",
   "execution_count": 8,
   "metadata": {
    "collapsed": false
   },
   "outputs": [
    {
     "data": {
      "text/plain": [
       "<pymongo.results.UpdateResult at 0x106444f00>"
      ]
     },
     "execution_count": 8,
     "metadata": {},
     "output_type": "execute_result"
    }
   ],
   "source": [
    "# Updating a document with $rename\n",
    "\n",
    "db.test.update_one({\"y\": 4},{\"$rename\": {\"y\":\"x\"}})"
   ]
  },
  {
   "cell_type": "code",
   "execution_count": 9,
   "metadata": {
    "collapsed": false
   },
   "outputs": [
    {
     "name": "stdout",
     "output_type": "stream",
     "text": [
      "{u'x': u'jpcolino', u'_id': ObjectId('562f562dc47fab06d8a14eb5'), u'tags': [u'author', u'developer', u'tester']}\n",
      "{u'x': 1, u'_id': ObjectId('562f562dc47fab06d8a14eb6'), u'tags': [u'dog', u'cat']}\n",
      "{u'x': 2, u'_id': ObjectId('562f562dc47fab06d8a14eb7'), u'tags': [u'cat']}\n",
      "{u'x': 2, u'_id': ObjectId('562f562dc47fab06d8a14eb8'), u'tags': [u'mouse', u'cat', u'dog']}\n",
      "{u'x': 3, u'_id': ObjectId('562f562dc47fab06d8a14eb9'), u'tags': []}\n",
      "{u'x': 4, u'_id': ObjectId('562f562dc47fab06d8a14eba'), u'tags': 123456}\n"
     ]
    }
   ],
   "source": [
    "for doc in db.test.find():\n",
    "    print doc"
   ]
  },
  {
   "cell_type": "code",
   "execution_count": 10,
   "metadata": {
    "collapsed": false
   },
   "outputs": [
    {
     "name": "stdout",
     "output_type": "stream",
     "text": [
      "{u'x': 1, u'_id': ObjectId('562f562dc47fab06d8a14eb6'), u'tags': [u'dog', u'cat']}\n",
      "{u'x': 2, u'_id': ObjectId('562f562dc47fab06d8a14eb7'), u'tags': [u'cat']}\n",
      "{u'x': 2, u'_id': ObjectId('562f562dc47fab06d8a14eb8'), u'tags': [u'mouse', u'cat', u'dog']}\n",
      "{u'x': 3, u'_id': ObjectId('562f562dc47fab06d8a14eb9'), u'tags': []}\n",
      "{u'x': 4, u'_id': ObjectId('562f562dc47fab06d8a14eba'), u'tags': 123456}\n"
     ]
    }
   ],
   "source": [
    "# Deleting a document with delete_one\n",
    "\n",
    "db.test.delete_one({'x':'jpcolino'})\n",
    "\n",
    "for doc in db.test.find():\n",
    "    print doc"
   ]
  },
  {
   "cell_type": "markdown",
   "metadata": {},
   "source": [
    "We can insert in a collection a document as a dict coming directly from an instance of a Python class:"
   ]
  },
  {
   "cell_type": "code",
   "execution_count": 11,
   "metadata": {
    "collapsed": false
   },
   "outputs": [
    {
     "data": {
      "text/plain": [
       "{'a': 'a', 'b': 'b'}"
      ]
     },
     "execution_count": 11,
     "metadata": {},
     "output_type": "execute_result"
    }
   ],
   "source": [
    "import bson\n",
    "\n",
    "class Example(object):\n",
    "    def __init__(self):\n",
    "        self.a = 'a'\n",
    "        self.b = 'b'\n",
    "    def set_c(self, c):\n",
    "        self.c = c\n",
    "        \n",
    "        \n",
    "e = Example()\n",
    "e.__dict__"
   ]
  },
  {
   "cell_type": "code",
   "execution_count": 12,
   "metadata": {
    "collapsed": false
   },
   "outputs": [
    {
     "data": {
      "text/plain": [
       "{'a': 'a', 'b': 'b', 'c': 123}"
      ]
     },
     "execution_count": 12,
     "metadata": {},
     "output_type": "execute_result"
    }
   ],
   "source": [
    "e.set_c(123)\n",
    "e.__dict__"
   ]
  },
  {
   "cell_type": "code",
   "execution_count": 13,
   "metadata": {
    "collapsed": false
   },
   "outputs": [
    {
     "data": {
      "text/plain": [
       "<pymongo.results.InsertOneResult at 0x106444eb0>"
      ]
     },
     "execution_count": 13,
     "metadata": {},
     "output_type": "execute_result"
    }
   ],
   "source": [
    "db.test.insert_one(e.__dict__)"
   ]
  },
  {
   "cell_type": "code",
   "execution_count": 14,
   "metadata": {
    "collapsed": false,
    "scrolled": false
   },
   "outputs": [
    {
     "name": "stdout",
     "output_type": "stream",
     "text": [
      "{u'x': 1, u'_id': ObjectId('562f562dc47fab06d8a14eb6'), u'tags': [u'dog', u'cat']}\n",
      "{u'x': 2, u'_id': ObjectId('562f562dc47fab06d8a14eb7'), u'tags': [u'cat']}\n",
      "{u'x': 2, u'_id': ObjectId('562f562dc47fab06d8a14eb8'), u'tags': [u'mouse', u'cat', u'dog']}\n",
      "{u'x': 3, u'_id': ObjectId('562f562dc47fab06d8a14eb9'), u'tags': []}\n",
      "{u'x': 4, u'_id': ObjectId('562f562dc47fab06d8a14eba'), u'tags': 123456}\n",
      "{u'a': u'a', u'c': 123, u'_id': ObjectId('562f562dc47fab06d8a14ebb'), u'b': u'b'}\n"
     ]
    }
   ],
   "source": [
    "for doc in db.test.find():\n",
    "    print doc"
   ]
  },
  {
   "cell_type": "code",
   "execution_count": 15,
   "metadata": {
    "collapsed": false
   },
   "outputs": [
    {
     "data": {
      "text/plain": [
       "<pymongo.results.DeleteResult at 0x106495050>"
      ]
     },
     "execution_count": 15,
     "metadata": {},
     "output_type": "execute_result"
    }
   ],
   "source": [
    "db.test.delete_one({'a':'a'})"
   ]
  },
  {
   "cell_type": "code",
   "execution_count": 16,
   "metadata": {
    "collapsed": false,
    "scrolled": true
   },
   "outputs": [
    {
     "name": "stdout",
     "output_type": "stream",
     "text": [
      "{u'x': 1, u'_id': ObjectId('562f562dc47fab06d8a14eb6'), u'tags': [u'dog', u'cat']}\n",
      "{u'x': 2, u'_id': ObjectId('562f562dc47fab06d8a14eb7'), u'tags': [u'cat']}\n",
      "{u'x': 2, u'_id': ObjectId('562f562dc47fab06d8a14eb8'), u'tags': [u'mouse', u'cat', u'dog']}\n",
      "{u'x': 3, u'_id': ObjectId('562f562dc47fab06d8a14eb9'), u'tags': []}\n",
      "{u'x': 4, u'_id': ObjectId('562f562dc47fab06d8a14eba'), u'tags': 123456}\n"
     ]
    }
   ],
   "source": [
    "for doc in db.test.find():\n",
    "    print doc"
   ]
  },
  {
   "cell_type": "code",
   "execution_count": 17,
   "metadata": {
    "collapsed": false,
    "scrolled": false
   },
   "outputs": [
    {
     "name": "stdout",
     "output_type": "stream",
     "text": [
      "Name of the Database: \n",
      "test\n",
      "---------------------------------------------------------------------------\n",
      "Full descriptions: \n",
      "Collection(Database(MongoClient('localhost', 27017), u'test_database'), u'test.acknowledged')\n",
      "---------------------------------------------------------------------------\n",
      "ObjectID:  562f562dc47fab06d8a14eb6\n",
      "ObjectID:  562f562dc47fab06d8a14eb7\n",
      "ObjectID:  562f562dc47fab06d8a14eb8\n",
      "ObjectID:  562f562dc47fab06d8a14eb9\n",
      "ObjectID:  562f562dc47fab06d8a14eba\n",
      "---------------------------------------------------------------------------\n",
      "Doc 0: {u'x': 2, u'_id': ObjectId('562f562dc47fab06d8a14eb7'), u'tags': [u'cat']}\n",
      "Doc 1: {u'x': 2, u'_id': ObjectId('562f562dc47fab06d8a14eb8'), u'tags': [u'mouse', u'cat', u'dog']}\n",
      "Doc 2: {u'x': 3, u'_id': ObjectId('562f562dc47fab06d8a14eb9'), u'tags': []}\n",
      "Doc 3: {u'x': 4, u'_id': ObjectId('562f562dc47fab06d8a14eba'), u'tags': 123456}\n",
      "---------------------------------------------------------------------------\n"
     ]
    }
   ],
   "source": [
    "# Retriving basic information over the collection:\n",
    "\n",
    "print 'Name of the Database: \\n', db.test.name\n",
    "print '-'*75\n",
    "print 'Full descriptions: \\n', db.test.acknowledged\n",
    "print '-'*75\n",
    "for ids in result.inserted_ids:\n",
    "    print 'ObjectID: ', ids\n",
    "print '-'*75\n",
    "for i, doc in enumerate(db.test.find()[1:]):\n",
    "    print 'Doc {0}: {1}'.format(i, doc)\n",
    "print '-'*75\n"
   ]
  },
  {
   "cell_type": "markdown",
   "metadata": {},
   "source": [
    "Here, we have some **query operators**: "
   ]
  },
  {
   "cell_type": "code",
   "execution_count": 18,
   "metadata": {
    "collapsed": false
   },
   "outputs": [
    {
     "name": "stdout",
     "output_type": "stream",
     "text": [
      "Number of Documents:  5\n",
      "---------------------------------------------------------------------------\n",
      "Number of Documents with field 'x': Collection(Database(MongoClient('localhost', 27017), u'test_database'), u\"test.{'x': 2}\")\n",
      "---------------------------------------------------------------------------\n",
      "Number of Documents where x == 2:  2\n",
      "---------------------------------------------------------------------------\n",
      "Number of Documents with x >= 2:  4\n",
      "---------------------------------------------------------------------------\n"
     ]
    }
   ],
   "source": [
    "print 'Number of Documents: ', db.test.count()\n",
    "print '-'*75\n",
    "print \"Number of Documents with field 'x':\",db.test[{'x': 2}]\n",
    "print '-'*75\n",
    "print 'Number of Documents where x == 2: ', db.test.find({'x': 2}).count()\n",
    "print '-'*75\n",
    "print 'Number of Documents with x >= 2: ', db.test.find({'x':{'$gte': 2}}).count()\n",
    "print '-'*75\n",
    "# print 'Number of Documents with x >= 2: ', db.test[$not'x'].find().count()"
   ]
  },
  {
   "cell_type": "markdown",
   "metadata": {},
   "source": [
    "Queries can also use special query operators. These operators include **gt, gte, lt, lte, ne, nin, regex, exists, not, or**, and many more. \n",
    "\n",
    "Additionally we can use **regular expresions**: "
   ]
  },
  {
   "cell_type": "code",
   "execution_count": 19,
   "metadata": {
    "collapsed": false
   },
   "outputs": [
    {
     "name": "stdout",
     "output_type": "stream",
     "text": [
      "Number of Documents where you will find a \"cat\":  3\n"
     ]
    }
   ],
   "source": [
    "# Using Regex to find tags = cats\n",
    "\n",
    "import re\n",
    "regex = re.compile(r'cat')\n",
    "rstats = db.test.find({\"tags\":regex}).count()\n",
    "print 'Number of Documents where you will find a \"cat\": ', rstats"
   ]
  },
  {
   "cell_type": "code",
   "execution_count": 20,
   "metadata": {
    "collapsed": false
   },
   "outputs": [
    {
     "data": {
      "text/plain": [
       "'id_x'"
      ]
     },
     "execution_count": 20,
     "metadata": {},
     "output_type": "execute_result"
    }
   ],
   "source": [
    "from pymongo import DESCENDING\n",
    "db.test.drop_indexes()\n",
    "db.test.create_index([(\"x\", pymongo.DESCENDING)], name = \"id_x\")"
   ]
  },
  {
   "cell_type": "code",
   "execution_count": 21,
   "metadata": {
    "collapsed": false,
    "scrolled": true
   },
   "outputs": [
    {
     "name": "stdout",
     "output_type": "stream",
     "text": [
      "{u'id_x': {u'ns': u'test_database.test', u'key': [(u'x', -1)], u'v': 1}, u'_id_': {u'ns': u'test_database.test', u'key': [(u'_id', 1)], u'v': 1}}\n",
      "id_x\n",
      "_id_\n"
     ]
    }
   ],
   "source": [
    "print db.test.index_information() \n",
    "for doc in db.test.index_information() :\n",
    "    print doc"
   ]
  },
  {
   "cell_type": "markdown",
   "metadata": {
    "collapsed": true
   },
   "source": [
    "## Statistical Modelling and MongoDB"
   ]
  },
  {
   "cell_type": "code",
   "execution_count": 22,
   "metadata": {
    "collapsed": true
   },
   "outputs": [],
   "source": [
    "import numpy as np\n",
    "import matplotlib.pyplot as plt\n",
    "from sklearn import linear_model"
   ]
  },
  {
   "cell_type": "code",
   "execution_count": 23,
   "metadata": {
    "collapsed": false
   },
   "outputs": [],
   "source": [
    "# X is the 10x10 Hilbert matrix (Numpy matrix)\n",
    "# y is a Numpy array\n",
    "\n",
    "X = 1. / (np.arange(1, 11) + np.arange(0, 10)[:, np.newaxis])\n",
    "y = np.ones(10)"
   ]
  },
  {
   "cell_type": "code",
   "execution_count": 24,
   "metadata": {
    "collapsed": false
   },
   "outputs": [
    {
     "data": {
      "text/plain": [
       "array([[ 1.        ,  0.5       ,  0.33333333,  0.25      ,  0.2       ,\n",
       "         0.16666667,  0.14285714,  0.125     ,  0.11111111,  0.1       ],\n",
       "       [ 0.5       ,  0.33333333,  0.25      ,  0.2       ,  0.16666667,\n",
       "         0.14285714,  0.125     ,  0.11111111,  0.1       ,  0.09090909],\n",
       "       [ 0.33333333,  0.25      ,  0.2       ,  0.16666667,  0.14285714,\n",
       "         0.125     ,  0.11111111,  0.1       ,  0.09090909,  0.08333333],\n",
       "       [ 0.25      ,  0.2       ,  0.16666667,  0.14285714,  0.125     ,\n",
       "         0.11111111,  0.1       ,  0.09090909,  0.08333333,  0.07692308],\n",
       "       [ 0.2       ,  0.16666667,  0.14285714,  0.125     ,  0.11111111,\n",
       "         0.1       ,  0.09090909,  0.08333333,  0.07692308,  0.07142857],\n",
       "       [ 0.16666667,  0.14285714,  0.125     ,  0.11111111,  0.1       ,\n",
       "         0.09090909,  0.08333333,  0.07692308,  0.07142857,  0.06666667],\n",
       "       [ 0.14285714,  0.125     ,  0.11111111,  0.1       ,  0.09090909,\n",
       "         0.08333333,  0.07692308,  0.07142857,  0.06666667,  0.0625    ],\n",
       "       [ 0.125     ,  0.11111111,  0.1       ,  0.09090909,  0.08333333,\n",
       "         0.07692308,  0.07142857,  0.06666667,  0.0625    ,  0.05882353],\n",
       "       [ 0.11111111,  0.1       ,  0.09090909,  0.08333333,  0.07692308,\n",
       "         0.07142857,  0.06666667,  0.0625    ,  0.05882353,  0.05555556],\n",
       "       [ 0.1       ,  0.09090909,  0.08333333,  0.07692308,  0.07142857,\n",
       "         0.06666667,  0.0625    ,  0.05882353,  0.05555556,  0.05263158]])"
      ]
     },
     "execution_count": 24,
     "metadata": {},
     "output_type": "execute_result"
    }
   ],
   "source": [
    "X"
   ]
  },
  {
   "cell_type": "code",
   "execution_count": 25,
   "metadata": {
    "collapsed": false
   },
   "outputs": [
    {
     "data": {
      "text/plain": [
       "array([ 1.,  1.,  1.,  1.,  1.,  1.,  1.,  1.,  1.,  1.])"
      ]
     },
     "execution_count": 25,
     "metadata": {},
     "output_type": "execute_result"
    }
   ],
   "source": [
    "y"
   ]
  },
  {
   "cell_type": "markdown",
   "metadata": {},
   "source": [
    "#### 1. Storing Numpy objects in MongoDB: arrays and matrices\n",
    "\n"
   ]
  },
  {
   "cell_type": "code",
   "execution_count": 26,
   "metadata": {
    "collapsed": true
   },
   "outputs": [],
   "source": [
    "from bson.binary import Binary\n",
    "import cPickle"
   ]
  },
  {
   "cell_type": "code",
   "execution_count": 27,
   "metadata": {
    "collapsed": false
   },
   "outputs": [],
   "source": [
    "collection = db.test_database.np_inputs"
   ]
  },
  {
   "cell_type": "code",
   "execution_count": 28,
   "metadata": {
    "collapsed": false
   },
   "outputs": [
    {
     "data": {
      "text/plain": [
       "[u'system.indexes']"
      ]
     },
     "execution_count": 28,
     "metadata": {},
     "output_type": "execute_result"
    }
   ],
   "source": [
    "# cleaning db before to store anything:\n",
    "\n",
    "for name in db.collection_names():\n",
    "    if name != 'system.indexes':\n",
    "        db.drop_collection(name)\n",
    "\n",
    "db.collection_names()"
   ]
  },
  {
   "cell_type": "code",
   "execution_count": 29,
   "metadata": {
    "collapsed": false
   },
   "outputs": [
    {
     "data": {
      "text/plain": [
       "<pymongo.results.InsertOneResult at 0x109656aa0>"
      ]
     },
     "execution_count": 29,
     "metadata": {},
     "output_type": "execute_result"
    }
   ],
   "source": [
    "inputs = {}\n",
    "inputs['X'] = Binary( cPickle.dumps( X, protocol=2) ) # Using cPickle with fast protocol=2.\n",
    "inputs['y'] = y.tolist()\n",
    "\n",
    "db.collection.insert_one({'inputs': inputs })"
   ]
  },
  {
   "cell_type": "markdown",
   "metadata": {},
   "source": [
    "Notice that we have stored the numpy matrix in a `Binary` form using `cPickle` (faster than `pickle`), and therefore, we have to decode later to load or retrive the matrix (see next section)"
   ]
  },
  {
   "cell_type": "code",
   "execution_count": 30,
   "metadata": {
    "collapsed": false
   },
   "outputs": [
    {
     "name": "stdout",
     "output_type": "stream",
     "text": [
      "Doc 0: \n",
      " {u'inputs': {u'y': [1.0, 1.0, 1.0, 1.0, 1.0, 1.0, 1.0, 1.0, 1.0, 1.0], u'X': Binary('\\x80\\x02cnumpy.core.multiarray\\n_reconstruct\\nq\\x01cnumpy\\nndarray\\nq\\x02K\\x00\\x85U\\x01b\\x87Rq\\x03(K\\x01K\\nK\\n\\x86cnumpy\\ndtype\\nq\\x04U\\x02f8K\\x00K\\x01\\x87Rq\\x05(K\\x03U\\x01<NNNJ\\xff\\xff\\xff\\xffJ\\xff\\xff\\xff\\xffK\\x00tb\\x89T \\x03\\x00\\x00\\x00\\x00\\x00\\x00\\x00\\x00\\xf0?\\x00\\x00\\x00\\x00\\x00\\x00\\xe0?UUUUUU\\xd5?\\x00\\x00\\x00\\x00\\x00\\x00\\xd0?\\x9a\\x99\\x99\\x99\\x99\\x99\\xc9?UUUUUU\\xc5?\\x92$I\\x92$I\\xc2?\\x00\\x00\\x00\\x00\\x00\\x00\\xc0?\\x1c\\xc7q\\x1c\\xc7q\\xbc?\\x9a\\x99\\x99\\x99\\x99\\x99\\xb9?\\x00\\x00\\x00\\x00\\x00\\x00\\xe0?UUUUUU\\xd5?\\x00\\x00\\x00\\x00\\x00\\x00\\xd0?\\x9a\\x99\\x99\\x99\\x99\\x99\\xc9?UUUUUU\\xc5?\\x92$I\\x92$I\\xc2?\\x00\\x00\\x00\\x00\\x00\\x00\\xc0?\\x1c\\xc7q\\x1c\\xc7q\\xbc?\\x9a\\x99\\x99\\x99\\x99\\x99\\xb9?F\\x17]t\\xd1E\\xb7?UUUUUU\\xd5?\\x00\\x00\\x00\\x00\\x00\\x00\\xd0?\\x9a\\x99\\x99\\x99\\x99\\x99\\xc9?UUUUUU\\xc5?\\x92$I\\x92$I\\xc2?\\x00\\x00\\x00\\x00\\x00\\x00\\xc0?\\x1c\\xc7q\\x1c\\xc7q\\xbc?\\x9a\\x99\\x99\\x99\\x99\\x99\\xb9?F\\x17]t\\xd1E\\xb7?UUUUUU\\xb5?\\x00\\x00\\x00\\x00\\x00\\x00\\xd0?\\x9a\\x99\\x99\\x99\\x99\\x99\\xc9?UUUUUU\\xc5?\\x92$I\\x92$I\\xc2?\\x00\\x00\\x00\\x00\\x00\\x00\\xc0?\\x1c\\xc7q\\x1c\\xc7q\\xbc?\\x9a\\x99\\x99\\x99\\x99\\x99\\xb9?F\\x17]t\\xd1E\\xb7?UUUUUU\\xb5?\\x14;\\xb1\\x13;\\xb1\\xb3?\\x9a\\x99\\x99\\x99\\x99\\x99\\xc9?UUUUUU\\xc5?\\x92$I\\x92$I\\xc2?\\x00\\x00\\x00\\x00\\x00\\x00\\xc0?\\x1c\\xc7q\\x1c\\xc7q\\xbc?\\x9a\\x99\\x99\\x99\\x99\\x99\\xb9?F\\x17]t\\xd1E\\xb7?UUUUUU\\xb5?\\x14;\\xb1\\x13;\\xb1\\xb3?\\x92$I\\x92$I\\xb2?UUUUUU\\xc5?\\x92$I\\x92$I\\xc2?\\x00\\x00\\x00\\x00\\x00\\x00\\xc0?\\x1c\\xc7q\\x1c\\xc7q\\xbc?\\x9a\\x99\\x99\\x99\\x99\\x99\\xb9?F\\x17]t\\xd1E\\xb7?UUUUUU\\xb5?\\x14;\\xb1\\x13;\\xb1\\xb3?\\x92$I\\x92$I\\xb2?\\x11\\x11\\x11\\x11\\x11\\x11\\xb1?\\x92$I\\x92$I\\xc2?\\x00\\x00\\x00\\x00\\x00\\x00\\xc0?\\x1c\\xc7q\\x1c\\xc7q\\xbc?\\x9a\\x99\\x99\\x99\\x99\\x99\\xb9?F\\x17]t\\xd1E\\xb7?UUUUUU\\xb5?\\x14;\\xb1\\x13;\\xb1\\xb3?\\x92$I\\x92$I\\xb2?\\x11\\x11\\x11\\x11\\x11\\x11\\xb1?\\x00\\x00\\x00\\x00\\x00\\x00\\xb0?\\x00\\x00\\x00\\x00\\x00\\x00\\xc0?\\x1c\\xc7q\\x1c\\xc7q\\xbc?\\x9a\\x99\\x99\\x99\\x99\\x99\\xb9?F\\x17]t\\xd1E\\xb7?UUUUUU\\xb5?\\x14;\\xb1\\x13;\\xb1\\xb3?\\x92$I\\x92$I\\xb2?\\x11\\x11\\x11\\x11\\x11\\x11\\xb1?\\x00\\x00\\x00\\x00\\x00\\x00\\xb0?\\x1e\\x1e\\x1e\\x1e\\x1e\\x1e\\xae?\\x1c\\xc7q\\x1c\\xc7q\\xbc?\\x9a\\x99\\x99\\x99\\x99\\x99\\xb9?F\\x17]t\\xd1E\\xb7?UUUUUU\\xb5?\\x14;\\xb1\\x13;\\xb1\\xb3?\\x92$I\\x92$I\\xb2?\\x11\\x11\\x11\\x11\\x11\\x11\\xb1?\\x00\\x00\\x00\\x00\\x00\\x00\\xb0?\\x1e\\x1e\\x1e\\x1e\\x1e\\x1e\\xae?\\x1c\\xc7q\\x1c\\xc7q\\xac?\\x9a\\x99\\x99\\x99\\x99\\x99\\xb9?F\\x17]t\\xd1E\\xb7?UUUUUU\\xb5?\\x14;\\xb1\\x13;\\xb1\\xb3?\\x92$I\\x92$I\\xb2?\\x11\\x11\\x11\\x11\\x11\\x11\\xb1?\\x00\\x00\\x00\\x00\\x00\\x00\\xb0?\\x1e\\x1e\\x1e\\x1e\\x1e\\x1e\\xae?\\x1c\\xc7q\\x1c\\xc7q\\xac?(\\xaf\\xa1\\xbc\\x86\\xf2\\xaa?tb.', 0)}, u'_id': ObjectId('562f562fc47fab06d8a14ebc')}\n"
     ]
    }
   ],
   "source": [
    "for i, doc in enumerate(db.collection.find()):\n",
    "    print 'Doc {0}: \\n {1}'.format(i, doc)"
   ]
  },
  {
   "cell_type": "markdown",
   "metadata": {},
   "source": [
    "#### 2. Loading the data from the MongoDB collection"
   ]
  },
  {
   "cell_type": "code",
   "execution_count": 43,
   "metadata": {
    "collapsed": false
   },
   "outputs": [
    {
     "name": "stdout",
     "output_type": "stream",
     "text": [
      "-----------------------------------------------------------------\n",
      "y data stored as: <type 'list'>\n",
      "y: \t[1.0, 1.0, 1.0, 1.0, 1.0, 1.0, 1.0, 1.0, 1.0, 1.0]\n",
      "-----------------------------------------------------------------\n",
      "X data stored as: <type 'numpy.ndarray'>\n",
      "X: \n",
      "[[ 1.          0.5         0.33333333  0.25        0.2         0.16666667\n",
      "   0.14285714  0.125       0.11111111  0.1       ]\n",
      " [ 0.5         0.33333333  0.25        0.2         0.16666667  0.14285714\n",
      "   0.125       0.11111111  0.1         0.09090909]\n",
      " [ 0.33333333  0.25        0.2         0.16666667  0.14285714  0.125\n",
      "   0.11111111  0.1         0.09090909  0.08333333]\n",
      " [ 0.25        0.2         0.16666667  0.14285714  0.125       0.11111111\n",
      "   0.1         0.09090909  0.08333333  0.07692308]\n",
      " [ 0.2         0.16666667  0.14285714  0.125       0.11111111  0.1\n",
      "   0.09090909  0.08333333  0.07692308  0.07142857]\n",
      " [ 0.16666667  0.14285714  0.125       0.11111111  0.1         0.09090909\n",
      "   0.08333333  0.07692308  0.07142857  0.06666667]\n",
      " [ 0.14285714  0.125       0.11111111  0.1         0.09090909  0.08333333\n",
      "   0.07692308  0.07142857  0.06666667  0.0625    ]\n",
      " [ 0.125       0.11111111  0.1         0.09090909  0.08333333  0.07692308\n",
      "   0.07142857  0.06666667  0.0625      0.05882353]\n",
      " [ 0.11111111  0.1         0.09090909  0.08333333  0.07692308  0.07142857\n",
      "   0.06666667  0.0625      0.05882353  0.05555556]\n",
      " [ 0.1         0.09090909  0.08333333  0.07692308  0.07142857  0.06666667\n",
      "   0.0625      0.05882353  0.05555556  0.05263158]]\n",
      "-----------------------------------------------------------------\n"
     ]
    }
   ],
   "source": [
    "for doc in db.collection.find():\n",
    "    if isinstance(doc.get(u'inputs'),dict):\n",
    "        inputs = doc.get(u'inputs')\n",
    "        y = inputs.get(u'y')\n",
    "        X = np.hstack([cPickle.loads(inputs.get(u'X'))]) \n",
    "\n",
    "# Display of data retrived: \n",
    "\n",
    "print '-'*65\n",
    "print 'y data stored as:', type(y)\n",
    "print 'y: \\t', y\n",
    "print '-'*65\n",
    "print 'X data stored as:', type(X)\n",
    "print 'X: \\n',X\n",
    "print '-'*65"
   ]
  },
  {
   "cell_type": "markdown",
   "metadata": {},
   "source": [
    "#### 3. Running a Ridge-regression model"
   ]
  },
  {
   "cell_type": "code",
   "execution_count": 44,
   "metadata": {
    "collapsed": false
   },
   "outputs": [],
   "source": [
    "from sklearn import linear_model\n",
    "\n",
    "n_alphas = 200\n",
    "alphas = np.logspace(-10, -2, n_alphas)\n",
    "clf = linear_model.Ridge(fit_intercept=False)\n",
    "\n",
    "coefs = []\n",
    "for a in alphas:\n",
    "    clf.set_params(alpha=a)\n",
    "    clf.fit(X, y)\n",
    "    coefs.append(clf.coef_)"
   ]
  },
  {
   "cell_type": "code",
   "execution_count": 45,
   "metadata": {
    "collapsed": false
   },
   "outputs": [
    {
     "data": {
      "image/png": "[encoded data removed]",
      "text/plain": [
       "<matplotlib.figure.Figure at 0x1097237d0>"
      ]
     },
     "metadata": {},
     "output_type": "display_data"
    }
   ],
   "source": [
    "# Display results\n",
    "%matplotlib inline\n",
    "plt.figure(num=None, figsize=(18, 9))\n",
    "plt.style.use('ggplot')\n",
    "\n",
    "ax = plt.gca()\n",
    "ax.plot(alphas, coefs)\n",
    "ax.set_xscale('log')\n",
    "ax.set_xlim(ax.get_xlim()[::-1])  # reverse axis\n",
    "plt.xlabel('alpha')\n",
    "plt.ylabel('weights')\n",
    "plt.title('Ridge coefficients as a function of the regularization')\n",
    "plt.axis('tight');"
   ]
  },
  {
   "cell_type": "markdown",
   "metadata": {},
   "source": [
    "#### 4. Storing model results in MongoDB"
   ]
  },
  {
   "cell_type": "code",
   "execution_count": 42,
   "metadata": {
    "collapsed": false
   },
   "outputs": [
    {
     "data": {
      "text/plain": [
       "<pymongo.results.InsertOneResult at 0x1098129b0>"
      ]
     },
     "execution_count": 42,
     "metadata": {},
     "output_type": "execute_result"
    }
   ],
   "source": [
    "outputs = {}\n",
    "outputs['coefs'] = Binary( cPickle.dumps( coefs, protocol=2) ) # Using cPickle with fast protocol=2\n",
    "db.collection.insert_one({'outputs': outputs} )"
   ]
  },
  {
   "cell_type": "markdown",
   "metadata": {},
   "source": [
    "#### 5. Retriving results stored from the database"
   ]
  },
  {
   "cell_type": "code",
   "execution_count": 48,
   "metadata": {
    "collapsed": false,
    "scrolled": false
   },
   "outputs": [
    {
     "data": {
      "image/png": "[encoded data removed]",
      "text/plain": [
       "<matplotlib.figure.Figure at 0x10aaf6690>"
      ]
     },
     "metadata": {},
     "output_type": "display_data"
    }
   ],
   "source": [
    "del coefs\n",
    "\n",
    "for doc in db.collection.find():\n",
    "    if isinstance(doc.get(u'outputs'),dict):\n",
    "        outputs = doc.get(u'outputs')\n",
    "        coefs = np.hstack([cPickle.loads(outputs.get(u'coefs'))])\n",
    "        \n",
    "\n",
    "plt.figure(num=None, figsize=(18, 9))\n",
    "plt.style.use('ggplot')\n",
    "ax = plt.gca()\n",
    "ax.plot(alphas, coefs)\n",
    "ax.set_xscale('log')\n",
    "ax.set_xlim(ax.get_xlim()[::-1])  # reverse axis\n",
    "plt.xlabel('alpha')\n",
    "plt.ylabel('weights')\n",
    "plt.title('Ridge coefficients as a function of the regularization')\n",
    "plt.axis('tight');        "
   ]
  },
  {
   "cell_type": "markdown",
   "metadata": {
    "collapsed": true
   },
   "source": [
    "**In Summary:**\n",
    "\n",
    "Here, we have build a database in **MongoDB** that store *inputs and outputs* of a model (a ridge-regression model) together and that will allows you later an easy **backtesting** of the model."
   ]
  },
  {
   "cell_type": "code",
   "execution_count": null,
   "metadata": {
    "collapsed": true
   },
   "outputs": [],
   "source": []
  }
 ],
 "metadata": {
  "kernelspec": {
   "display_name": "Python 2",
   "language": "python",
   "name": "python2"
  },
  "language_info": {
   "codemirror_mode": {
    "name": "ipython",
    "version": 2
   },
   "file_extension": ".py",
   "mimetype": "text/x-python",
   "name": "python",
   "nbconvert_exporter": "python",
   "pygments_lexer": "ipython2",
   "version": "2.7.10"
  }
 },
 "nbformat": 4,
 "nbformat_minor": 0
}
