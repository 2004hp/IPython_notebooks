{
 "cells": [
  {
   "cell_type": "markdown",
   "metadata": {},
   "source": [
    "# About this notebook...\n",
    "#### Documention prepared by **Jesus Perez Colino**.Version 0.4, Released 01/04/2015, Beta\n",
    "\n",
    "\n",
    "- This work is licensed under a [Creative Commons Attribution-ShareAlike 3.0 Unported License](http://creativecommons.org/licenses/by-sa/3.0/deed.en_US). This work is offered for free, with the hope that it will be useful.\n",
    "\n",
    "\n",
    "- **Summary**: This notebook was made as a documentation to support a course that I gave in Germany 2013, about Scientific Python and Data Analysis. I just tried to help some of my collegues and friends with the introduction into the world of Scientific Python. I hope it can help you too. \n",
    "\n",
    "\n",
    "- **Acknowledge**: To create the current notebook, I have collected many traditional and well-known examples from many books, websites... some of them can be found in [Rosetta Code](http://rosettacode.org/wiki/Rosetta_Code), others in [stackoverflow](http://stackoverflow.com), and few of them I created by myself, for fun."
   ]
  },
  {
   "cell_type": "markdown",
   "metadata": {},
   "source": [
    "# Some Basics before to start"
   ]
  },
  {
   "cell_type": "markdown",
   "metadata": {},
   "source": [
    "## Why Python for Data Analysis?\n",
    "\n",
    "- Python is great for scripting and applications.\n",
    "- The `pandas` library offers improved Time Series and Data Framework support.\n",
    "- Easy Web Scraping, web APIs\n",
    "- Strong High Performance Computation support\n",
    "    - Load balanceing tasks\n",
    "    - MPI, GPU\n",
    "    - MapReduce\n",
    "- Strong support for abstraction\n",
    "    - Intel MKL\n",
    "    - HDF5\n",
    "- IPhyton (Notebook) for presentation and communication of 'reproducible' results"
   ]
  },
  {
   "cell_type": "markdown",
   "metadata": {},
   "source": [
    "\n",
    "## Why not Python?\n",
    "\n",
    "- R, MATLAB are great... and C++ is still the King. [Julia](http://julialang.org/) is promising.\n",
    "- Slow compared with C++ or Fortran\n",
    "- Visualization\n",
    "    - Matplotlib is 10 years old now\n",
    "    - [Rob Story's vicent](https://github.com/wrobstory/vincent)\n",
    "    - [Bokeh](https://github.com/ContinuumIO/Bokeh)\n",
    "    - R's ggplot2 is amazing"
   ]
  },
  {
   "cell_type": "markdown",
   "metadata": {},
   "source": [
    "## References\n",
    " \n",
    "There is a huge amount of info and examples in Internet. I didn't come up with all the examples!\n",
    " \n",
    "- [Python Tutorial](http://docs.python.org/2/tutorial/)\n",
    "- [Learn Python the Hard Way](http://learnpythonthehardway.org/)\n",
    "- [IPython notebook documentation](http://ipython.org/notebook.html) or the [IPython tutorial](http://ipython.org/ipython-doc/dev/interactive/tutorial.html)\n",
    "- [Python for Data Analysis](http://shop.oreilly.com/product/0636920023784.do)\n",
    "- [J.R. Johansson's Lectures in Scientific Computing](http://dml.riken.jp/~rob/), [excellent notebooks](http://jrjohansson.github.io/), including [Scientific Computing with Python](https://github.com/jrjohansson/scientific-python-lectures) and [Computational Quantum Physics with QuTiP](https://github.com/jrjohansson/qutip-lectures) lectures;\n",
    "- [XKCD style graphs in matplotlib](http://nbviewer.ipython.org/url/jakevdp.github.com/downloads/notebooks/XKCD_plots.ipynb);\n",
    "- [A collection of Notebooks for using IPython effectively](https://github.com/ipython/ipython/tree/master/examples/notebooks#a-collection-of-notebooks-for-using-ipython-effectively)\n",
    "- [A gallery of interesting IPython Notebooks](https://github.com/ipython/ipython/wiki/A-gallery-of-interesting-IPython-Notebooks)\n"
   ]
  },
  {
   "cell_type": "markdown",
   "metadata": {},
   "source": [
    "## What You Need to Install\n",
    "\n",
    "To do this course, you need a Python package installed that should includes:\n",
    "\n",
    "* [Python](http://www.python.org) version 2.7.9;\n",
    "* [Numpy](http://www.numpy.org), the core numerical extensions for linear algebra and multidimensional arrays;\n",
    "* [Scipy](http://www.scipy.org), additional libraries for scientific programming;\n",
    "* [Matplotlib](http://matplotlib.sf.net), excellent plotting and graphing libraries;\n",
    "* [Pandas](http://pandas.pydata.org), easy-to-use data structures and data analysis tools;\n",
    "* [Scikit-Learn](http://scikit-learn.org/stable/), for statisitcal modelling and machine learning;\n",
    "* [IPython](http://ipython.org), with the additional libraries required for the notebook interface.\n",
    "\n",
    "An easy to install for Mac, Windows, and Linux, with all these packages is the [Anaconda Python Distribution](https://store.continuum.io/cshop/anaconda/), from [Continuum Analytics](http://continuum.io/) \n",
    "\n",
    "Alternatives:\n",
    "\n",
    "* **Linux:** Most distributions have an installation manager. Redhat has yum, Ubuntu has apt-get.\n",
    "\n",
    "* **Mac:** [Macports](http://www.macports.org/)\n",
    "\n",
    "* **Windows:** [Anaconda](https://store.continuum.io/cshop/anaconda/), [PythonXY](https://code.google.com/p/pythonxy/) or [Canopy](https://www.enthought.com/store/)\n",
    "\n",
    "* **Cloud:** Check out [Wakari](http://www.wakari.io), from [Continuum Analytics](http://continuum.io/), which is a cloud-based IPython notebook. \n",
    "\n",
    "\n",
    "Let us check, first, if every package is correctly installed in your computer.\n",
    "Go to the **next cell**, click on with the mouse and press **Shift-Intro** to execute the next cell.\n"
   ]
  },
  {
   "cell_type": "markdown",
   "metadata": {},
   "source": [
    "###Python & packages versions to reproduce this notebook"
   ]
  },
  {
   "cell_type": "code",
   "execution_count": 1,
   "metadata": {
    "collapsed": false
   },
   "outputs": [
    {
     "name": "stdout",
     "output_type": "stream",
     "text": [
      "====================================================================================================\n",
      "Python version:     2.7.10 |Anaconda 2.3.0 (x86_64)| (default, May 28 2015, 17:04:42) \n",
      "[GCC 4.2.1 (Apple Inc. build 5577)]\n",
      "Numpy version:      1.9.2\n",
      "Pandas version:     0.16.2\n",
      "Matplotlib ver:     1.4.3\n",
      "IPython version:    3.2.0\n",
      "====================================================================================================\n"
     ]
    }
   ],
   "source": [
    "%matplotlib inline\n",
    "import os\n",
    "import math\n",
    "import IPython\n",
    "import time as t\n",
    "import numpy as np\n",
    "import pandas as pd\n",
    "from sys import version\n",
    "import matplotlib.pyplot as plt\n",
    "import matplotlib as mpl \n",
    "#os.chdir('C:\\\\Users\\\\Suso')\n",
    "print '='*100\n",
    "print 'Python version:     ' + version\n",
    "print 'Numpy version:      ' + np.__version__\n",
    "print 'Pandas version:     ' + pd.__version__\n",
    "print 'Matplotlib ver:     ' + mpl.__version__\n",
    "print 'IPython version:    ' + IPython.__version__\n",
    "print '='*100"
   ]
  },
  {
   "cell_type": "markdown",
   "metadata": {},
   "source": [
    "#Getting Started with Python\n",
    "\n",
    "\n",
    "<blockquote>\n",
    "<p>\n",
    "\"Let us change our traditional attitude to the construction of programs: </p>\n",
    "<p>Instead of imagining that our main task is to instruct a computer what to do, </p>\n",
    "<p>let us concentrate rather on explaining to humans what we want the computer to do.\"</p> \n",
    "<p><strong>Donald E. Knuth</strong> <em>Literate Programming</em>, 1984</p>\n",
    "</blockquote>\n"
   ]
  },
  {
   "cell_type": "markdown",
   "metadata": {},
   "source": [
    "##What is Python?\n",
    "\n",
    "[Python](http://www.python.org/) is a  general-purpose, high-level and multi-paradigm programming language. \n",
    "\n",
    "Its design philosophy emphasizes code readability, and its syntax allows programmers to express concepts in fewer lines of code than would be possible in languages such as C++.\n",
    "\n",
    "* Simple, clean syntax\n",
    "* Easy to learn\n",
    "* Interpreted or Compiled\n",
    "* Dynamically typed\n",
    "* Multi-platform: Linux, Mac, and Windows\n",
    "* [Free](http://www.fsf.org/), as in beer and speach\n",
    "* Expressive: do more with fewer lines of code\n",
    "* Lean: **modules**"
   ]
  },
  {
   "cell_type": "code",
   "execution_count": 2,
   "metadata": {
    "collapsed": false,
    "scrolled": false
   },
   "outputs": [
    {
     "name": "stdout",
     "output_type": "stream",
     "text": [
      "The Zen of Python, by Tim Peters\n",
      "\n",
      "Beautiful is better than ugly.\n",
      "Explicit is better than implicit.\n",
      "Simple is better than complex.\n",
      "Complex is better than complicated.\n",
      "Flat is better than nested.\n",
      "Sparse is better than dense.\n",
      "Readability counts.\n",
      "Special cases aren't special enough to break the rules.\n",
      "Although practicality beats purity.\n",
      "Errors should never pass silently.\n",
      "Unless explicitly silenced.\n",
      "In the face of ambiguity, refuse the temptation to guess.\n",
      "There should be one-- and preferably only one --obvious way to do it.\n",
      "Although that way may not be obvious at first unless you're Dutch.\n",
      "Now is better than never.\n",
      "Although never is often better than *right* now.\n",
      "If the implementation is hard to explain, it's a bad idea.\n",
      "If the implementation is easy to explain, it may be a good idea.\n",
      "Namespaces are one honking great idea -- let's do more of those!\n"
     ]
    }
   ],
   "source": [
    "import this"
   ]
  },
  {
   "cell_type": "markdown",
   "metadata": {},
   "source": [
    "##History\n",
    "\n",
    "* Created by Dutch programmer **Guido van Rossum**, 1989, declared *Benevolent Dictator for Life (BDFL)* by Python community.\n",
    "* Conceived as a successor to ABC language and interfacing with Amoeba distributed OS.\n",
    "* Initially the syntax came from `C`, but with less exceptions and special cases\n",
    "* **Multi-paradigm**: accept object-oriented, structured and functional programming \n",
    "* It brings from `LISP` (functional prog.) the `lambda`, `reduce`, `filter`, and `map`\n",
    "* `Modula-3` inspired keyword arguments and `imports`\n",
    "* **`Python 2.0`** was released on Oct-2000, with many major new features including a full garbage collector and support for Unicode. \n",
    "* **`Python 3.0`** was a backwards-incompatible version released on Dec-2008. Many of its major features have been backported to the backwards-compatible `Python 2.6` and `Python 2.7`\n",
    "\n",
    "##What can you do with Python?\n",
    "\n",
    "* Scripting lanugage\n",
    "    - os support\n",
    "    - glue existing applications\n",
    "* Scientific abstraction\n",
    "    - Use highly optimized C and Fortran libraies\n",
    "    - Intel MKL, HDF5, Blas, Lapack, MPI, Cuda\n",
    "* Data Analysis\n",
    "* Visualization\n",
    "* Scrape websites\n",
    "* Build websites\n",
    "* Anything!\n",
    "\n",
    "##Performance\n",
    "\n",
    "* Minimal time required to develop code\n",
    "* Rapid protoytping\n",
    "* Interpreted and dynamically typed means it's slower\n",
    "    - Use optimized libraries: e.g. <a href=\"https://http://www.numpy.org\"> numpy </a>, <a href=\"https://http://scipy.org\"> scipy </a>\n",
    "    - Find the bottleneck and write it in C/C++/Fortran: e.g. <a href=\"http://www.scipy.org/F2py\"> f2py</a>, <a href=\"http://docs.cython.org/\">cython</a>\n",
    "    - Just-in-time: e.g. <a href=\"http://numba.pydata.org/\">numba</a>\n",
    "* Implementing the built-in Python modules would require some advanced programming skills in other languages\n",
    "\n",
    "##Advantages\n",
    "\n",
    "* Interpretive\n",
    "* Named function arguments\n",
    "* Heterogeneous data structures\n",
    "    - dictionary\n",
    "    - lists\n",
    "* No memory management\n",
    "* Print structures\n",
    "* Packages: large community of support\n",
    "* Modular: great for larger projects (modules)\n",
    "\n",
    "##Modules for Data Analysis\n",
    "\n",
    "<div class=\"col2\">\n",
    "###Base:\n",
    "<p>\n",
    "<ul>\n",
    "<li><a href=\"http://ipython.org\">ipython (renamed as jupyter)</a>: ipython or jupyter is the component in the standard scientific Python toolset that ties everything together. It provides a robust and productive environment for interactive and exploratory computing. It is an enhanced Python shell designed to accelerate the writing, testing, and debugging of Python code. It is particularly useful for interactively working with data and visualizing data with matplotlib. Some of the most useful features are:\n",
    "\n",
    "<ul>- Tab completion </ul>\n",
    "<ul>- History mechanism </ul>\n",
    "<ul>- Inline editing </ul>\n",
    "<ul>- Ability to call external Python scripts with %run </ul>\n",
    "<ul>- Access to system commands </ul>\n",
    "<ul>- The pylab switch </ul>\n",
    "<ul>- Access to Python debugger and profiler</ul> \n",
    "\n",
    "</li>\n",
    "<li><a href=\"https://http://www.numpy.org\"> Numpy </a>: NumPy provides a multidimensional array object to store homogenous or heterogeneous data; it also provides optimized functions/methods to operate on this array object.</li>\n",
    "<li><a href=\"https://http://scipy.org\"> Scipy </a>: SciPy is a collection of sublibraries and functions implementing important stan‐ dard functionality often needed in science or finance; for example, you will find functions for cubic splines interpolation as well as for numerical integration.</li>\n",
    "<li><a href=\"http://matplotlib.sourceforge.net/\"> Matplotlib </a>: This is the most popular plotting and visualization library for Python, providing both 2D and 3D visualization capabilities.</li>\n",
    "<li><a href=\"http://pandas.pydata.org/\"> Pandas </a>: pandas builds on NumPy and provides richer classes for the management and analysis of time series and tabular data; it is tightly integrated with matplotlib for plotting and PyTables for data storage and retrieval. </li>\n",
    "<li><a href=\"http://scikit-learn.org/stable/\"> Scikit-learn </a>: statisitcal modelling and machine learning </li>\n",
    "</ul>\n",
    "</div>\n",
    "</p>\n",
    "<div class=\"col2\">\n",
    "<h3>Additional:</h3>\n",
    "<ul>\n",
    "<p>\n",
    "<li> <a href=\"http://docs.python-requests.org/en/latest/\">Requests</a>: data from the web </li>\n",
    "<li> <a href=\"http://www.crummy.com/software/BeautifulSoup/\">Beautiful Soup</a>: parse web pages </li>\n",
    "<li> <a href=\"http://www.pytables.org/moin\">pytables </a>: fast, binary files </li>\n",
    "<li> <a href=\"http://docs.python.org/2/library/sqlite3.html\">sqlite3</a>: binding for sqlite3 </li>\n",
    "<li> <a href=\"http://spark.incubator.apache.org/\">spark</a>: in-memory MapReduce </li>\n",
    "<li> <a href=\"http://discoproject.org/\">disco</a>: MapReduce </li>\n",
    "\n",
    "</ul>\n",
    "</div>\n",
    "</p>"
   ]
  },
  {
   "cell_type": "markdown",
   "metadata": {},
   "source": [
    "# Python Overview"
   ]
  },
  {
   "cell_type": "markdown",
   "metadata": {},
   "source": [
    "## Using Python as Calculator\n",
    "\n",
    "The easiest way to begin to work with Python is holding a direct conversation with the Python interpreter, where you can speak in expressions and it replies with evluations. There is clearly a **read - eval - print ** loop going on under the hood. Let us begin with the simplest possible mathematical expressions: as an **on-line calculator**\n",
    "(If you're typing this into an IPython notebook, press **Shift-Enter** to evaluate a cell.)"
   ]
  },
  {
   "cell_type": "code",
   "execution_count": 3,
   "metadata": {
    "collapsed": false
   },
   "outputs": [
    {
     "data": {
      "text/plain": [
       "6196198"
      ]
     },
     "execution_count": 3,
     "metadata": {},
     "output_type": "execute_result"
    }
   ],
   "source": [
    "2+2*3098098"
   ]
  },
  {
   "cell_type": "code",
   "execution_count": 4,
   "metadata": {
    "collapsed": false
   },
   "outputs": [
    {
     "data": {
      "text/plain": [
       "2"
      ]
     },
     "execution_count": 4,
     "metadata": {},
     "output_type": "execute_result"
    }
   ],
   "source": [
    "7/3"
   ]
  },
  {
   "cell_type": "code",
   "execution_count": 5,
   "metadata": {
    "collapsed": false
   },
   "outputs": [
    {
     "data": {
      "text/plain": [
       "2.3333333333333335"
      ]
     },
     "execution_count": 5,
     "metadata": {},
     "output_type": "execute_result"
    }
   ],
   "source": [
    "7/3."
   ]
  },
  {
   "cell_type": "markdown",
   "metadata": {},
   "source": [
    "Starting with the most basic: here you have the two most basic data types, **integers**, or *whole numbers* to the non-programming world, and **floating point numbers** or float type, also known (incorrectly) as *decimal numbers* to the rest of the world.\n",
    "\n",
    "Python integer division, like C or Fortran, truncates the remainder and returns an integer. In Python 3, returns a floating point number, by default. "
   ]
  },
  {
   "cell_type": "code",
   "execution_count": 6,
   "metadata": {
    "collapsed": false
   },
   "outputs": [
    {
     "name": "stdout",
     "output_type": "stream",
     "text": [
      "<type 'int'>\n"
     ]
    }
   ],
   "source": [
    "print type(7/3)"
   ]
  },
  {
   "cell_type": "code",
   "execution_count": 7,
   "metadata": {
    "collapsed": false,
    "scrolled": true
   },
   "outputs": [
    {
     "name": "stdout",
     "output_type": "stream",
     "text": [
      "<type 'float'>\n"
     ]
    }
   ],
   "source": [
    "print type(7/3.)"
   ]
  },
  {
   "cell_type": "code",
   "execution_count": 8,
   "metadata": {
    "collapsed": false
   },
   "outputs": [
    {
     "data": {
      "text/plain": [
       "False"
      ]
     },
     "execution_count": 8,
     "metadata": {},
     "output_type": "execute_result"
    }
   ],
   "source": [
    "7/3 == 7/float(3)"
   ]
  },
  {
   "cell_type": "markdown",
   "metadata": {},
   "source": [
    "The float type also supports the normal arithmetic operations, as well as several rounding options. Python floats are based on the Institute of Electrical & Electronic Engineering (IEEE) standards and have the same ranges as the underlying computer architecture. They also suffer the same levels of imprecision that make comparing float values a risky option (see next section 'Some Pitfalls in Numerical Computing'). Python provides modules for handling fixed precision decimal numbers (decimal) and rational fractions (fractions) to help alleviate this issue. Python also natively supports a complex, or imaginary, number type called complex. \n",
    "\n",
    "Before to go deep into details, you need to be aware of some underlying concepts in Python: \n",
    "\n",
    "* *First*, Python variables are just names. You create variable names by assigning them to objects that are instances of types. Variables do not, of themselves, have a type; it is the object to which they are bound that has a type. The name is just a label and, as such, it can be reassigned to a completely different object.\n",
    "\n",
    "\n",
    "* *Second*, Python groups types according to how you can use them. For example, all types are either categorized as *mutable* or *immutable*. If a type is immutable, it means you can’t change an object of that type once it’s created. You can create a new data item and assign it to the same variable, but you cannot change the original immutable value.\n",
    "\n",
    "\n",
    "* *Third*, Python also supports several collection types, sometimes referred to as sequences or data containers. Sequences share a common set of operations, although not all sequences support all of the operations.\n",
    "\n",
    "\n",
    "* And *fourth*, some Python data types are *callable*. That means you can use the type name like a function to produce a new instance of the type. If no value is given, a default value is returned. You will see examples of this behavior in the following descriptions of the individual data types.\n",
    "\n",
    "\n",
    "On the other hand, Python has a huge number of libraries included with the distribution. To keep things simple, most of these variables and functions are not accessible in a Python session. Instead, you have to **import** the name. \n",
    "\n",
    "For example, there is a **math** module containing many useful functions. To access, say, the square root function, you can either first\n",
    "\n",
    "    from math import sqrt\n",
    "\n",
    "and then, use the method or function as:"
   ]
  },
  {
   "cell_type": "code",
   "execution_count": 9,
   "metadata": {
    "collapsed": false
   },
   "outputs": [
    {
     "data": {
      "text/plain": [
       "100.0"
      ]
     },
     "execution_count": 9,
     "metadata": {},
     "output_type": "execute_result"
    }
   ],
   "source": [
    "from math import sqrt\n",
    "sqrt(10000)"
   ]
  },
  {
   "cell_type": "markdown",
   "metadata": {},
   "source": [
    "or you can simply **import** the full version of the **math** library itself"
   ]
  },
  {
   "cell_type": "code",
   "execution_count": 10,
   "metadata": {
    "collapsed": false
   },
   "outputs": [
    {
     "name": "stdout",
     "output_type": "stream",
     "text": [
      "\n",
      "['__doc__', '__file__', '__name__', '__package__', 'acos', 'acosh', 'asin', 'asinh', 'atan', 'atan2', 'atanh', 'ceil', 'copysign', 'cos', 'cosh', 'degrees', 'e', 'erf', 'erfc', 'exp', 'expm1', 'fabs', 'factorial', 'floor', 'fmod', 'frexp', 'fsum', 'gamma', 'hypot', 'isinf', 'isnan', 'ldexp', 'lgamma', 'log', 'log10', 'log1p', 'modf', 'pi', 'pow', 'radians', 'sin', 'sinh', 'sqrt', 'tan', 'tanh', 'trunc']\n"
     ]
    }
   ],
   "source": [
    "import math\n",
    "print\n",
    "print dir(math)"
   ]
  },
  {
   "cell_type": "code",
   "execution_count": 11,
   "metadata": {
    "collapsed": false
   },
   "outputs": [
    {
     "name": "stdout",
     "output_type": "stream",
     "text": [
      "\n",
      "Sqrt of 1000 is  31.6227766017\n"
     ]
    }
   ],
   "source": [
    "print\n",
    "print 'Sqrt of 1000 is ', math.sqrt(1000)"
   ]
  },
  {
   "cell_type": "markdown",
   "metadata": {},
   "source": [
    "You can define variables using the equals (=) sign:"
   ]
  },
  {
   "cell_type": "code",
   "execution_count": 12,
   "metadata": {
    "collapsed": false
   },
   "outputs": [
    {
     "name": "stdout",
     "output_type": "stream",
     "text": [
      "Type width:  <type 'float'>\n",
      "Type lenght:  <type 'int'>\n",
      "\n",
      "Area:  600.0\n",
      "Type Area:  <type 'float'>\n"
     ]
    }
   ],
   "source": [
    "width = 20.\n",
    "length = 30\n",
    "\n",
    "print 'Type width: ',type(width)\n",
    "print 'Type lenght: ',type(length)\n",
    "area = length*width\n",
    "print\n",
    "print 'Area: ', area\n",
    "print 'Type Area: ', type(area)"
   ]
  },
  {
   "cell_type": "markdown",
   "metadata": {},
   "source": [
    "Notice that output, even it has type float, it can be presented with different formats. Check below how to define the format of the outputs:"
   ]
  },
  {
   "cell_type": "code",
   "execution_count": 13,
   "metadata": {
    "collapsed": false
   },
   "outputs": [
    {
     "name": "stdout",
     "output_type": "stream",
     "text": [
      "Pi as a decimal = 3\n",
      "Pi as a float = 3.141593\n",
      "Pi with 4 decimal places = 3.1416\n",
      "Pi with overall fixed length of 10 spaces, with 6 decimal places =   3.141593\n",
      "Pi as in exponential format = 3.141593e+00\n"
     ]
    }
   ],
   "source": [
    "from math import pi\n",
    "print \"Pi as a decimal = %d\" % pi\n",
    "print \"Pi as a float = %f\" % pi\n",
    "print \"Pi with 4 decimal places = %.4f\" % pi\n",
    "print \"Pi with overall fixed length of 10 spaces, with 6 decimal places = %10.6f\" % pi\n",
    "print \"Pi as in exponential format = %e\" % pi"
   ]
  },
  {
   "cell_type": "markdown",
   "metadata": {},
   "source": [
    "`Python` uses dynamic typing (also called duck typing). The usual mathematical operators (`+`, `-`, `*`, ...) can be used with many different data types. This is different from statically typed languages, where the type of a construct need to be explicitly declared. **Polymorphism** is the ability to use the same syntax for objects of different types:"
   ]
  },
  {
   "cell_type": "code",
   "execution_count": 14,
   "metadata": {
    "collapsed": false
   },
   "outputs": [
    {
     "name": "stdout",
     "output_type": "stream",
     "text": [
      "\n",
      "Sum of integers:  2\n",
      "\n",
      "Sum of two lists:  ['a', 'b', 'c', 'd', 'e']\n",
      "\n",
      "Sum of two strings:  Dusseldorf\n"
     ]
    }
   ],
   "source": [
    "def summer(a, b):\n",
    "    return a + b\n",
    "\n",
    "print\n",
    "print 'Sum of integers: ',summer(1, 1)\n",
    "print\n",
    "print 'Sum of two lists: ',summer([\"a\", \"b\", \"c\"], [\"d\", \"e\"])\n",
    "print \n",
    "print 'Sum of two strings: ', summer(\"Dussel\", \"dorf\")\n"
   ]
  },
  {
   "cell_type": "markdown",
   "metadata": {},
   "source": [
    "##Some Pitfalls in Numerical Computing\n",
    "\n",
    "In scientific computing, we never expect to get the exact answer. Inexactness is practically the definition of scientific computing. Getting the exact answer, generally with integers or rational numbers, is symbolic computing, an interesting\n",
    "but distinct subject. Suppose we are trying to compute the number $x$. The computer will produce an approximation, which we call $\\hat{x}$. This $\\hat{x}$ may agree with $x$ to 16 decimal places, but the identity $x$ = $\\hat{x}$ (almost) never is true in the mathematical sense, if only because the computer does not have an exact representation for $x$.\n",
    "\n",
    "Four primary sources of error are: \n",
    "1. roundoff error and floating-point arithmetics, \n",
    "2. truncation error, \n",
    "3. termination of iterations, and \n",
    "4. statistical error in Monte Carlo. \n",
    "\n",
    "We will estimate the sizes of these errors, either a priori from what we know in advance about the solution, or a posteriori from the computed (approximate) solutions themselves. Software development requires distinguishing these errors from those caused by outright bugs. In fact, the bug may not be that a formula is wrong in a mathematical sense, but that an approximation is not accurate enough.\n",
    "\n",
    "Here we will provide examples of the first two classes of errors. The third and forth will be explained in further chapters.\n",
    "\n",
    "### 1. Roundoff error and floating-point arithmetics\n",
    "\n",
    "Please, pay attention to the following examples. It does not need further explanation."
   ]
  },
  {
   "cell_type": "code",
   "execution_count": 15,
   "metadata": {
    "collapsed": false
   },
   "outputs": [
    {
     "name": "stdout",
     "output_type": "stream",
     "text": [
      "0\n"
     ]
    }
   ],
   "source": [
    "# Example 1.a\n",
    "\n",
    "a = 1\n",
    "b = 2\n",
    "print (a/b)*b"
   ]
  },
  {
   "cell_type": "code",
   "execution_count": 16,
   "metadata": {
    "collapsed": false,
    "scrolled": true
   },
   "outputs": [
    {
     "name": "stdout",
     "output_type": "stream",
     "text": [
      "1.0\n"
     ]
    }
   ],
   "source": [
    "# Example 1.b\n",
    "\n",
    "a = float(1)\n",
    "b = float(2)\n",
    "print (a/b)*b"
   ]
  },
  {
   "cell_type": "code",
   "execution_count": 17,
   "metadata": {
    "collapsed": false
   },
   "outputs": [
    {
     "data": {
      "text/plain": [
       "False"
      ]
     },
     "execution_count": 17,
     "metadata": {},
     "output_type": "execute_result"
    }
   ],
   "source": [
    "# Example 2.a\n",
    "\n",
    "x = 1/2\n",
    "y = 1/2.\n",
    "x==y"
   ]
  },
  {
   "cell_type": "code",
   "execution_count": 18,
   "metadata": {
    "collapsed": false
   },
   "outputs": [
    {
     "data": {
      "text/plain": [
       "False"
      ]
     },
     "execution_count": 18,
     "metadata": {},
     "output_type": "execute_result"
    }
   ],
   "source": [
    "# Example 2.b\n",
    "\n",
    "a = 1\n",
    "b = 2\n",
    "\n",
    "x = float(1)\n",
    "y = float(2)\n",
    "\n",
    "(a/b)==(x/y)\n"
   ]
  },
  {
   "cell_type": "code",
   "execution_count": 19,
   "metadata": {
    "collapsed": false
   },
   "outputs": [
    {
     "name": "stdout",
     "output_type": "stream",
     "text": [
      "1.0\n",
      "nan\n"
     ]
    }
   ],
   "source": [
    "# Example 3\n",
    "\n",
    "x = float(10) \n",
    "y = float(10000)\n",
    "print np.exp(x)*np.exp(-x)\n",
    "print np.exp(y)*np.exp(-y)"
   ]
  },
  {
   "cell_type": "markdown",
   "metadata": {},
   "source": [
    "Floating-point arithmetic on digital computers is inherently inexact. The 24 bits (including the hidden bit) of mantissa in a 32-bit floating-point number represent approximately 7 significant decimal digits. Unlike the real number system, which is continuous, a floating-point system has gaps between each number. If a number is not exactly representable, then it must be approximated by one of the nearest representable values.\n"
   ]
  },
  {
   "cell_type": "code",
   "execution_count": 20,
   "metadata": {
    "collapsed": false
   },
   "outputs": [
    {
     "name": "stdout",
     "output_type": "stream",
     "text": [
      "0.300000000000000044 does not equal to 0.3\n"
     ]
    }
   ],
   "source": [
    "def add(a, b):\n",
    "    if a + b == 0.3:\n",
    "        print('the sum was 0.3')\n",
    "    else:\n",
    "        print ('{:0.18g} does not equal to 0.3'.format(a + b))\n",
    "        \n",
    "        \n",
    "add(0.1, 0.2)\n",
    "            "
   ]
  },
  {
   "cell_type": "markdown",
   "metadata": {},
   "source": [
    "### 2. Truncation errors"
   ]
  },
  {
   "cell_type": "markdown",
   "metadata": {},
   "source": [
    "Truncation errors are committed when an iterative method is terminated or a mathematical procedure is approximated, and the approximate solution differs from the exact solution. Similarly, discretization induces a discretization error because the solution of the discrete problem does not coincide with the solution of the continuous problem. For instance, in the iteration in the sidebar to compute the solution of $3x^3+4=28$, after $10$ or so iterations, we conclude that the root is roughly $1.99$ (for example). We therefore have a truncation error of $0.01$.\n",
    "\n",
    "Once an error is generated, it will generally propagate through the calculation. For instance, we have already noted that the operation + on a calculator (or a computer) is inexact. It follows that a calculation of the type a+b+c+d+e is even more inexact.\n",
    "\n",
    "If you’re in a situation where you care which way your decimal halfway-cases are rounded, you should consider using the decimal module. Incidentally, the decimal module also provides a nice way to “see” the exact value that’s stored in any particular Python float"
   ]
  },
  {
   "cell_type": "code",
   "execution_count": 21,
   "metadata": {
    "collapsed": false,
    "scrolled": true
   },
   "outputs": [
    {
     "name": "stdout",
     "output_type": "stream",
     "text": [
      "\n",
      "Root Square of 2 is:  1.41421356237\n",
      "Root Square of 2 is:  1.4142135623730951454746218587388284504413604736328125\n",
      "\n",
      "Are both number the same number for the computer?  True\n",
      "But, Are the square of both the same for the computer?  False\n"
     ]
    }
   ],
   "source": [
    "from decimal import Decimal\n",
    "from math import sqrt\n",
    "x = sqrt(2)\n",
    "print\n",
    "print 'Root Square of 2 is: ', x\n",
    "print 'Root Square of 2 is: ', Decimal(x)\n",
    "print\n",
    "print 'Are both number the same number for the computer? ', x == Decimal(x)\n",
    "print 'But, Are the square of both the same for the computer? ', x**2 == (Decimal(x))**2\n"
   ]
  },
  {
   "cell_type": "markdown",
   "metadata": {},
   "source": [
    "Another example of truncationn error is that since 0.1 is not exactly 1/10, summing ten values of 0.1 may not yield exactly 1.0, either:"
   ]
  },
  {
   "cell_type": "code",
   "execution_count": 22,
   "metadata": {
    "collapsed": false
   },
   "outputs": [
    {
     "name": "stdout",
     "output_type": "stream",
     "text": [
      "1.0 is for Python 0.99999999999999988897769753748434595763683319091796875\n"
     ]
    }
   ],
   "source": [
    "summ = 0.0\n",
    "for __ in range(10):\n",
    "    summ += 0.1\n",
    "    \n",
    "print summ,'is for Python', Decimal(summ)"
   ]
  },
  {
   "cell_type": "code",
   "execution_count": 23,
   "metadata": {
    "collapsed": false
   },
   "outputs": [
    {
     "name": "stdout",
     "output_type": "stream",
     "text": [
      " 1  0.900000000000000022204  9.900000000000000355271\n",
      " 2  0.989999999999999991118  99.989999999999994884092\n",
      " 3  0.998999999999999999112  999.999000000000023646862\n",
      " 4  0.999900000000000011013  9999.999900000000707223080\n",
      " 5  0.999990000000000045510  99999.999989999996614642441\n",
      " 6  0.999999000000000082267  999999.999998999992385506630\n",
      " 7  0.999999900000000052636  9999999.999999899417161941528\n",
      " 8  0.999999990000000060775  99999999.999999985098838806152\n",
      " 9  0.999999999000000028282  1000000000.000000000000000000000\n"
     ]
    }
   ],
   "source": [
    "vals = []\n",
    "for i in range(1, 10):\n",
    "    number = 9.0 * 10.0 ** -i\n",
    "    vals.append(number)\n",
    "    total = sum(vals)\n",
    "    expected = 1.0 - (1.0 * 10.0 ** i)\n",
    "    diff = total - expected\n",
    "    print '%2d  %22.21f  %22.21f' % (i, total, total-expected)"
   ]
  },
  {
   "cell_type": "code",
   "execution_count": 24,
   "metadata": {
    "collapsed": true
   },
   "outputs": [],
   "source": [
    "import math\n",
    "def isSquare(x):\n",
    "    return pow(int(math.sqrt(x)),2)-x == 0"
   ]
  },
  {
   "cell_type": "markdown",
   "metadata": {},
   "source": [
    "##Collections and Data Structures\n",
    "\n",
    "Python supports many powerful data structures. Superficially, these look like their counterparts in other programming languages, but in Python they often come with steroids. Everything in Python is an object and, therefore, has methods. This means that you can perform a host of operations on any variable. The built‐in *dir()* and *help()* functions will reveal all. In this section you look at the standard data collections like: \n",
    "\n",
    "* Strings\n",
    "* Lists\n",
    "* Tuples\n",
    "* Dictionaries\n",
    "\n",
    "and their most important operations. \n",
    "\n",
    "###Strings\n",
    "\n",
    "Strings are lists of printable characters, and to create string literals, enclose them in single, double, or triple quotes as follows:\n"
   ]
  },
  {
   "cell_type": "code",
   "execution_count": 25,
   "metadata": {
    "collapsed": false
   },
   "outputs": [
    {
     "name": "stdout",
     "output_type": "stream",
     "text": [
      "Hello, Dusseldorf!\n",
      "Hello, Dusseldorf!!\n",
      "Hello, Dusseldorf!!!\n"
     ]
    }
   ],
   "source": [
    "print 'Hello, Dusseldorf!'\n",
    "print \"Hello, Dusseldorf!!\"\n",
    "print '''Hello, Dusseldorf!!!'''"
   ]
  },
  {
   "cell_type": "markdown",
   "metadata": {},
   "source": [
    "The same type of quote used to start a string must be used to terminate it.Triple- quoted strings capture all the text that appears prior to the terminating triple quote, as opposed to single- and double-quoted strings, which must be specified on one logical line.Triple-quoted strings are useful when the contents of a string literal span multiple lines of text.\n",
    "\n",
    "Strings are stored as sequences of characters indexed by integers, starting at zero.To extract a single character, use the indexing operator s[i] like this:\n"
   ]
  },
  {
   "cell_type": "code",
   "execution_count": 26,
   "metadata": {
    "collapsed": false
   },
   "outputs": [
    {
     "name": "stdout",
     "output_type": "stream",
     "text": [
      "Hello, Dusseldorf!\n",
      "\n",
      "Hello\n",
      "\n",
      "H\n",
      "e\n",
      "l\n",
      "l\n",
      "o\n",
      ",\n",
      " \n",
      "D\n",
      "u\n",
      "s\n",
      "s\n",
      "e\n",
      "l\n",
      "d\n",
      "o\n",
      "r\n",
      "f\n",
      "!\n"
     ]
    }
   ],
   "source": [
    "greeting = \"Hello, Dusseldorf!\"\n",
    "print greeting\n",
    "print \n",
    "print greeting[0:5]\n",
    "print\n",
    "for i in xrange(len(greeting)): \n",
    "    print (greeting[i])"
   ]
  },
  {
   "cell_type": "code",
   "execution_count": 27,
   "metadata": {
    "collapsed": false
   },
   "outputs": [
    {
     "name": "stdout",
     "output_type": "stream",
     "text": [
      "Type of variable: <type 'str'>\n",
      "Lenght of variable: 18\n"
     ]
    }
   ],
   "source": [
    "# Properties of the string\n",
    "\n",
    "print 'Type of variable:',type(greeting)\n",
    "print 'Lenght of variable:',len(greeting)"
   ]
  },
  {
   "cell_type": "code",
   "execution_count": 28,
   "metadata": {
    "collapsed": false
   },
   "outputs": [
    {
     "name": "stdout",
     "output_type": "stream",
     "text": [
      "Replacing Dusseldorf:  Hello, Cologne!\n",
      "And Cologne is in position 7 in the string\n"
     ]
    }
   ],
   "source": [
    "# Find and replace in the string:\n",
    "\n",
    "greeting = greeting.replace('Dusseldorf','Cologne')\n",
    "print 'Replacing Dusseldorf: ', greeting\n",
    "print 'And Cologne is in position', greeting.find('Cologne'), 'in the string'\n"
   ]
  },
  {
   "cell_type": "code",
   "execution_count": 29,
   "metadata": {
    "collapsed": false
   },
   "outputs": [
    {
     "name": "stdout",
     "output_type": "stream",
     "text": [
      "\n",
      "Yes, I am in Dusseldorf ...\n",
      "\n",
      "and now, I am in Cologne\n"
     ]
    }
   ],
   "source": [
    "# An interesting example... is like a list of a list (see next section about lists)\n",
    "\n",
    "statement = ['Hello', 'Dusseldorf']\n",
    "print\n",
    "print 'Yes, I am in',statement[1],'...'\n",
    "print\n",
    "print 'and now, I am in',greeting[7:-1]"
   ]
  },
  {
   "cell_type": "markdown",
   "metadata": {},
   "source": [
    "Remember always that in case that you need help..."
   ]
  },
  {
   "cell_type": "code",
   "execution_count": 30,
   "metadata": {
    "collapsed": false
   },
   "outputs": [
    {
     "name": "stdout",
     "output_type": "stream",
     "text": [
      "Help on built-in function len in module __builtin__:\n",
      "\n",
      "len(...)\n",
      "    len(object) -> integer\n",
      "    \n",
      "    Return the number of items of a sequence or collection.\n",
      "\n"
     ]
    }
   ],
   "source": [
    "help(len)\n",
    "\n",
    "# or in iPython\n",
    "\n",
    "len?"
   ]
  },
  {
   "cell_type": "markdown",
   "metadata": {},
   "source": [
    "### Lists\n",
    "\n",
    "Lists are sequences of arbitrary objects, or in other words, a container of objects. This is just a way to collect all type of objects in a container that is *mutable*.\n",
    "\n",
    "You create a list by enclosing values in square brackets, as follows:"
   ]
  },
  {
   "cell_type": "code",
   "execution_count": 31,
   "metadata": {
    "collapsed": false
   },
   "outputs": [
    {
     "name": "stdout",
     "output_type": "stream",
     "text": [
      "\n",
      "['Sunday', 'Monday', 'Tuesday', 'Wednesday', 'Thursday', 'Friday', 'Saturday']\n"
     ]
    }
   ],
   "source": [
    "days_of_the_week = [\"Sunday\",\"Monday\",\"Tuesday\",\"Wednesday\",\"Thursday\",\"Friday\",\"Saturday\"]\n",
    "print \n",
    "print days_of_the_week"
   ]
  },
  {
   "cell_type": "markdown",
   "metadata": {},
   "source": [
    "Lists are indexed by integers, starting with zero. Use the indexing operator to access and modify individual items of the list:"
   ]
  },
  {
   "cell_type": "code",
   "execution_count": 32,
   "metadata": {
    "collapsed": false
   },
   "outputs": [
    {
     "name": "stdout",
     "output_type": "stream",
     "text": [
      "\n",
      "First days of the week:  Sunday\n",
      "\n",
      "Last day of the week:  Saturday\n",
      "\n",
      "Weekdays:  ['Monday', 'Tuesday', 'Wednesday', 'Thursday', 'Friday']\n"
     ]
    }
   ],
   "source": [
    "print \n",
    "print 'First days of the week: ', days_of_the_week[0]\n",
    "print\n",
    "print 'Last day of the week: ', days_of_the_week[-1]\n",
    "print\n",
    "print 'Weekdays: ', days_of_the_week[1:6]"
   ]
  },
  {
   "cell_type": "markdown",
   "metadata": {},
   "source": [
    "Additionally, we can iteratively retrive the different elements of the list:"
   ]
  },
  {
   "cell_type": "code",
   "execution_count": 33,
   "metadata": {
    "collapsed": false
   },
   "outputs": [
    {
     "name": "stdout",
     "output_type": "stream",
     "text": [
      "0 ->  Sunday\n",
      "1 ->  Monday\n",
      "2 ->  Tuesday\n",
      "3 ->  Wednesday\n",
      "4 ->  Thursday\n",
      "5 ->  Friday\n",
      "6 ->  Saturday\n"
     ]
    }
   ],
   "source": [
    "for i, day in enumerate(days_of_the_week):\n",
    "    print i, '-> ', day"
   ]
  },
  {
   "cell_type": "markdown",
   "metadata": {},
   "source": [
    "An empty list can be created, and be filled or deleted sequentially later:"
   ]
  },
  {
   "cell_type": "code",
   "execution_count": 34,
   "metadata": {
    "collapsed": false
   },
   "outputs": [
    {
     "name": "stdout",
     "output_type": "stream",
     "text": [
      "[]\n"
     ]
    }
   ],
   "source": [
    "empty_list = []\n",
    "print empty_list"
   ]
  },
  {
   "cell_type": "code",
   "execution_count": 35,
   "metadata": {
    "collapsed": false
   },
   "outputs": [
    {
     "name": "stdout",
     "output_type": "stream",
     "text": [
      "['no so empty now']\n"
     ]
    }
   ],
   "source": [
    "empty_list.append('no so empty now')\n",
    "print empty_list"
   ]
  },
  {
   "cell_type": "code",
   "execution_count": 36,
   "metadata": {
    "collapsed": false
   },
   "outputs": [
    {
     "name": "stdout",
     "output_type": "stream",
     "text": [
      "[]\n"
     ]
    }
   ],
   "source": [
    "del empty_list[0]\n",
    "print empty_list"
   ]
  },
  {
   "cell_type": "markdown",
   "metadata": {},
   "source": [
    "As we mentioned in the definition of list, it can contain any kind of Python object, including other lists, as in the following example:"
   ]
  },
  {
   "cell_type": "code",
   "execution_count": 37,
   "metadata": {
    "collapsed": false
   },
   "outputs": [
    {
     "name": "stdout",
     "output_type": "stream",
     "text": [
      "\n",
      "[1, 'Dave', 3.14, ['Mark', 7, 9, [100, 101]], 10]\n"
     ]
    }
   ],
   "source": [
    "a = [1,\"Dave\",3.14, [\"Mark\", 7, 9, [100,101]], 10]\n",
    "print\n",
    "print a"
   ]
  },
  {
   "cell_type": "markdown",
   "metadata": {},
   "source": [
    "The **range(start, stop, step)** and **xrange(start, stop, step)** commands are a convenient and quick way to make **sequential lists** of integers numbers:"
   ]
  },
  {
   "cell_type": "code",
   "execution_count": 38,
   "metadata": {
    "collapsed": false
   },
   "outputs": [
    {
     "name": "stdout",
     "output_type": "stream",
     "text": [
      "\n",
      "[0, 2, 4, 6, 8, 10, 12, 14, 16, 18]\n",
      "\n",
      "[20, 18, 16, 14, 12, 10, 8, 6, 4, 2]\n"
     ]
    }
   ],
   "source": [
    "evens = range(0,20,2)\n",
    "evens_reversed = range(20,0,-2)\n",
    "\n",
    "print\n",
    "print evens\n",
    "print \n",
    "print evens_reversed"
   ]
  },
  {
   "cell_type": "markdown",
   "metadata": {},
   "source": [
    "####Basic operations with lists: length, concatenation, repetition, membership and iteration"
   ]
  },
  {
   "cell_type": "code",
   "execution_count": 39,
   "metadata": {
    "collapsed": false
   },
   "outputs": [
    {
     "name": "stdout",
     "output_type": "stream",
     "text": [
      "\n",
      "languages = ['Fortran', 'C', 'C++']\n",
      "\n",
      "lenght of the list: 3\n"
     ]
    }
   ],
   "source": [
    "# 1. Lenght\n",
    "\n",
    "languages = [\"Fortran\",\"C\",\"C++\"]\n",
    "\n",
    "print \n",
    "print 'languages =', languages\n",
    "print \n",
    "print 'lenght of the list:', len(languages)"
   ]
  },
  {
   "cell_type": "code",
   "execution_count": 40,
   "metadata": {
    "collapsed": false
   },
   "outputs": [
    {
     "name": "stdout",
     "output_type": "stream",
     "text": [
      "\n",
      "languages = ['Fortran', 'C', 'C++', 'Python', ['Haskell', 'Lisp']]\n",
      "\n",
      "lenght of the list: 5\n"
     ]
    }
   ],
   "source": [
    "# We can append new elements in the list, and check the lenght\n",
    "\n",
    "languages.append(\"Python\")\n",
    "languages.append([\"Haskell\",\"Lisp\"])\n",
    "\n",
    "print \n",
    "print 'languages =', languages\n",
    "print \n",
    "print 'lenght of the list:', len(languages)"
   ]
  },
  {
   "cell_type": "code",
   "execution_count": 41,
   "metadata": {
    "collapsed": false
   },
   "outputs": [
    {
     "name": "stdout",
     "output_type": "stream",
     "text": [
      "\n",
      "Last two languages: ['C++', 'Python']\n"
     ]
    }
   ],
   "source": [
    "# Removing the last element in the list of languages\n",
    "\n",
    "languages.remove(languages[len(languages)-1])\n",
    "print \n",
    "print 'Last two languages:',languages[len(languages)-2:]"
   ]
  },
  {
   "cell_type": "code",
   "execution_count": 42,
   "metadata": {
    "collapsed": false
   },
   "outputs": [
    {
     "name": "stdout",
     "output_type": "stream",
     "text": [
      "\n",
      "['Fortran', 'C', 'C++', 'Python', 'Haskell', 'Lisp', 'Scala']\n"
     ]
    }
   ],
   "source": [
    "# 2. Concatenation\n",
    "\n",
    "languages1 = [\"Fortran\",\"C\",\"C++\", \"Python\"]\n",
    "languages2 = [\"Haskell\",\"Lisp\"]\n",
    "\n",
    "languages = languages1 + languages2 + ['Scala']\n",
    "\n",
    "print \n",
    "print languages"
   ]
  },
  {
   "cell_type": "code",
   "execution_count": 43,
   "metadata": {
    "collapsed": false,
    "scrolled": true
   },
   "outputs": [
    {
     "name": "stdout",
     "output_type": "stream",
     "text": [
      "['Fortran', 'C', 'C++', 'Python', 'Haskell', 'Lisp', 'Scala', 'Fortran', 'C', 'C++', 'Python', 'Haskell', 'Lisp', 'Scala', 'Fortran', 'C', 'C++', 'Python', 'Haskell', 'Lisp', 'Scala', 'Fortran', 'C', 'C++', 'Python', 'Haskell', 'Lisp', 'Scala']\n"
     ]
    }
   ],
   "source": [
    "# 3. Repetition\n",
    "\n",
    "print languages * 4"
   ]
  },
  {
   "cell_type": "code",
   "execution_count": 44,
   "metadata": {
    "collapsed": false
   },
   "outputs": [
    {
     "data": {
      "text/plain": [
       "True"
      ]
     },
     "execution_count": 44,
     "metadata": {},
     "output_type": "execute_result"
    }
   ],
   "source": [
    "# 4. Memebership\n",
    "\n",
    "'Python' in languages"
   ]
  },
  {
   "cell_type": "code",
   "execution_count": 45,
   "metadata": {
    "collapsed": false
   },
   "outputs": [
    {
     "data": {
      "text/plain": [
       "False"
      ]
     },
     "execution_count": 45,
     "metadata": {},
     "output_type": "execute_result"
    }
   ],
   "source": [
    "'Java' in languages"
   ]
  },
  {
   "cell_type": "code",
   "execution_count": 46,
   "metadata": {
    "collapsed": false
   },
   "outputs": [
    {
     "data": {
      "text/plain": [
       "'Python'"
      ]
     },
     "execution_count": 46,
     "metadata": {},
     "output_type": "execute_result"
    }
   ],
   "source": [
    "'Python' or 'Java' in languages"
   ]
  },
  {
   "cell_type": "code",
   "execution_count": 47,
   "metadata": {
    "collapsed": false
   },
   "outputs": [
    {
     "data": {
      "text/plain": [
       "False"
      ]
     },
     "execution_count": 47,
     "metadata": {},
     "output_type": "execute_result"
    }
   ],
   "source": [
    "'Python' and 'Java' in languages"
   ]
  },
  {
   "cell_type": "code",
   "execution_count": 48,
   "metadata": {
    "collapsed": false
   },
   "outputs": [
    {
     "name": "stdout",
     "output_type": "stream",
     "text": [
      "1.- Language name: Fortran\n",
      "2.- Language name: C\n",
      "3.- Language name: C++\n",
      "4.- Language name: Python\n",
      "5.- Language name: Haskell\n",
      "6.- Language name: Lisp\n",
      "7.- Language name: Scala\n"
     ]
    }
   ],
   "source": [
    "# 5. Iteration\n",
    "\n",
    "for i, language in enumerate(languages): print '{i}.- Language name: {lang}'.format(i = i+1, lang = language)"
   ]
  },
  {
   "cell_type": "markdown",
   "metadata": {},
   "source": [
    "####List Comprenhesion, Iterators, Generators and Operating among Lists (Advance)"
   ]
  },
  {
   "cell_type": "code",
   "execution_count": 49,
   "metadata": {
    "collapsed": true
   },
   "outputs": [],
   "source": [
    "#TODO"
   ]
  },
  {
   "cell_type": "markdown",
   "metadata": {},
   "source": [
    "Sometimes, instead to use an numpy array or a vector, we just want to operate (+, - ...) among the elements of the list. In order to du that we have to create our own list class and overload the operator using __infix sintax: "
   ]
  },
  {
   "cell_type": "code",
   "execution_count": 50,
   "metadata": {
    "collapsed": true
   },
   "outputs": [],
   "source": [
    "class mylist(list):\n",
    "    def __init__(self, *args):\n",
    "        super(mylist, self).__init__(args)\n",
    "        \n",
    "    def __sub__(self, other):\n",
    "        return self.__class__(*[item for item in self if item not in other])"
   ]
  },
  {
   "cell_type": "code",
   "execution_count": 51,
   "metadata": {
    "collapsed": false
   },
   "outputs": [
    {
     "name": "stdout",
     "output_type": "stream",
     "text": [
      "[1, 3, 4]\n",
      "<class '__main__.mylist'>\n"
     ]
    }
   ],
   "source": [
    "x = mylist(1,2,3,4)\n",
    "y = mylist(2,5,2)\n",
    "\n",
    "z = x-y\n",
    "\n",
    "print z\n",
    "\n",
    "print type (z)"
   ]
  },
  {
   "cell_type": "markdown",
   "metadata": {},
   "source": [
    "###Tuples\n",
    "A **tuple** is a sequence object like a list or a string. It's constructed by grouping a sequence of objects together with commas, either without brackets, or with parentheses. Tuples are *inmutable*, meaning that they cannot be modified once created (you can't append to them or change the elements of them):"
   ]
  },
  {
   "cell_type": "code",
   "execution_count": 52,
   "metadata": {
    "collapsed": false
   },
   "outputs": [
    {
     "name": "stdout",
     "output_type": "stream",
     "text": [
      "\n",
      "('Fortran', 'C', 'C++', 'Python')\n",
      "\n",
      "Size: 4 || Type: <type 'tuple'>\n"
     ]
    }
   ],
   "source": [
    "languages_t = (\"Fortran\",\"C\",\"C++\", \"Python\")\n",
    "\n",
    "print\n",
    "print languages_t\n",
    "print\n",
    "print 'Size:',len(languages_t),'||','Type:',type(languages_t)"
   ]
  },
  {
   "cell_type": "code",
   "execution_count": 53,
   "metadata": {
    "collapsed": false
   },
   "outputs": [
    {
     "name": "stdout",
     "output_type": "stream",
     "text": [
      "Python\n"
     ]
    }
   ],
   "source": [
    "# Unpacking\n",
    "w,x,y,z = languages_t\n",
    "print z"
   ]
  },
  {
   "cell_type": "markdown",
   "metadata": {},
   "source": [
    "Tuples respond to the + and * operators much like strings or lists; they mean concatenation and repetition here too, except that the result is a new tuple, not a list or string, preservint the type of the object."
   ]
  },
  {
   "cell_type": "code",
   "execution_count": 54,
   "metadata": {
    "collapsed": false
   },
   "outputs": [
    {
     "name": "stdout",
     "output_type": "stream",
     "text": [
      "Size: 4\n"
     ]
    }
   ],
   "source": [
    "# 1. Length\n",
    "print 'Size:',len(languages_t)"
   ]
  },
  {
   "cell_type": "code",
   "execution_count": 55,
   "metadata": {
    "collapsed": false
   },
   "outputs": [
    {
     "data": {
      "text/plain": [
       "('Fortran', 'C', 'C++', 'Python', 'Java', 'Haskell')"
      ]
     },
     "execution_count": 55,
     "metadata": {},
     "output_type": "execute_result"
    }
   ],
   "source": [
    "#2. Concatenation\n",
    "languages_t + ('Java','Haskell')"
   ]
  },
  {
   "cell_type": "code",
   "execution_count": 56,
   "metadata": {
    "collapsed": false
   },
   "outputs": [
    {
     "name": "stdout",
     "output_type": "stream",
     "text": [
      "('Java', 'Haskell', 'Java', 'Haskell', 'Java', 'Haskell')\n",
      "('Fortran', 'C', 'C++', 'Python', 'Fortran', 'C', 'C++', 'Python')\n"
     ]
    }
   ],
   "source": [
    "#3. Repetition\n",
    "print ('Java','Haskell')*3\n",
    "print languages_t *2"
   ]
  },
  {
   "cell_type": "code",
   "execution_count": 57,
   "metadata": {
    "collapsed": false
   },
   "outputs": [
    {
     "data": {
      "text/plain": [
       "True"
      ]
     },
     "execution_count": 57,
     "metadata": {},
     "output_type": "execute_result"
    }
   ],
   "source": [
    "#4. Membership\n",
    "'Python' in languages_t"
   ]
  },
  {
   "cell_type": "code",
   "execution_count": 58,
   "metadata": {
    "collapsed": false
   },
   "outputs": [
    {
     "name": "stdout",
     "output_type": "stream",
     "text": [
      "Python\n",
      "\n",
      "P = P\n",
      "y = y\n",
      "t = t\n",
      "h = h\n",
      "o = o\n",
      "n = n\n"
     ]
    }
   ],
   "source": [
    "#5. Iteration\n",
    "print z[:]\n",
    "print \n",
    "for i,letter in enumerate(z):\n",
    "    print z[i], '=', letter"
   ]
  },
  {
   "cell_type": "markdown",
   "metadata": {},
   "source": [
    "Tuples are useful anytime you want to group different pieces of data together in an object, but don't want to create a full-fledged class (see below) for them. For example, let's say you want the Cartesian coordinates of some objects in your program. "
   ]
  },
  {
   "cell_type": "markdown",
   "metadata": {},
   "source": [
    "###Dictionaries\n",
    "A dictionary is another container type that can store any number of Python objects, including other container types. Dictionaries consist of pairs (called items) of keys and their corresponding values.\n",
    "A dictionary is mutable and sometimes it is also called associative arrays or hash maps in other languages.\n",
    "\n",
    "Each key is separated from its value by a colon (:), the items are separated by commas, and the whole thing is enclosed in curly braces. An empty dictionary without any items is written with just two curly braces, like this: {}.\n",
    "\n",
    "Keys are unique within a dictionary while values may not be. The values of a dictionary can be of any type, but the keys must be of an immutable data type such as strings, numbers, or tuples."
   ]
  },
  {
   "cell_type": "code",
   "execution_count": 59,
   "metadata": {
    "collapsed": false
   },
   "outputs": [
    {
     "name": "stdout",
     "output_type": "stream",
     "text": [
      "\n",
      "Rick's age is  46\n"
     ]
    }
   ],
   "source": [
    "ages = {\"Rick\": 46, \"Bob\": 86, \"Fred\": 21}\n",
    "print\n",
    "print \"Rick's age is \",ages[\"Rick\"]"
   ]
  },
  {
   "cell_type": "code",
   "execution_count": 60,
   "metadata": {
    "collapsed": false
   },
   "outputs": [
    {
     "name": "stdout",
     "output_type": "stream",
     "text": [
      "\n",
      "Rick's age is  46\n"
     ]
    }
   ],
   "source": [
    "# Alternative way to store a dictionary\n",
    "ages2 = dict(Rick=46, Bob=86, Fred=20)\n",
    "print\n",
    "print \"Rick's age is \",ages2[\"Rick\"]"
   ]
  },
  {
   "cell_type": "code",
   "execution_count": 61,
   "metadata": {
    "collapsed": false
   },
   "outputs": [
    {
     "name": "stdout",
     "output_type": "stream",
     "text": [
      "\n",
      "{'k3': 3.0, 'k2': 2, 'k1': True}\n",
      "\n",
      "Size: 3 || Type: <type 'dict'>\n"
     ]
    }
   ],
   "source": [
    "data = {}\n",
    "data['k1'] = True\n",
    "data['k2'] = 2 \n",
    "data['k3'] = 3.0\n",
    "print\n",
    "print data\n",
    "print\n",
    "print 'Size:',len(data),'||','Type:',type(data)"
   ]
  },
  {
   "cell_type": "code",
   "execution_count": 62,
   "metadata": {
    "collapsed": false
   },
   "outputs": [
    {
     "name": "stdout",
     "output_type": "stream",
     "text": [
      "\n",
      "New data: [100, 101, 102] in position k4\n",
      "\n",
      "{'k3': 3.0, 'k2': 2, 'k1': True, 'k4': [100, 101, 102]}\n"
     ]
    }
   ],
   "source": [
    "# Add-in a new element in the list\n",
    "data['k4'] = [100, 101, 102]\n",
    "print \n",
    "print 'New data:',data['k4'], 'in position', data.keys()[-1]\n",
    "print \n",
    "print data"
   ]
  },
  {
   "cell_type": "code",
   "execution_count": 63,
   "metadata": {
    "collapsed": false,
    "scrolled": true
   },
   "outputs": [
    {
     "name": "stdout",
     "output_type": "stream",
     "text": [
      "\n",
      "Retriving from  k4 the data [100, 101, 102]\n"
     ]
    }
   ],
   "source": [
    "# Getting data using the label or index\n",
    "x = 'k4'\n",
    "print\n",
    "print 'Retriving from ',x, 'the data', data.get('k4')"
   ]
  },
  {
   "cell_type": "markdown",
   "metadata": {},
   "source": [
    "###Hash Functions (Advance)\n",
    "\n",
    "Given a collection of items, a **hash function** that maps each item into a unique slot is referred to as a **perfect hash function**. If we know the items and the collection will never change, then it is possible to construct a perfect hash function (refer to the exercises for more about perfect hash functions). Unfortunately, given an arbitrary collection of items, there is no systematic way to construct a perfect hash function.\n",
    "\n",
    "One way to always have a perfect hash function is to increase the size of the hash table so that each possible value in the item range can be accommodated. This guarantees that each item will have a unique slot. Although this is practical for small numbers of items, it is not feasible when the number of possible items is large. For example, if the items were nine-digit Social Security numbers, this method would require almost one billion slots. If we only want to store data for a class of 25 students, we will be wasting an enormous amount of memory.\n",
    "\n",
    "Our goal is to create a hash function that minimizes the number of collisions, is easy to compute, and evenly distributes the items in the hash table. There are a number of common ways to extend the simple remainder method. \n",
    "\n",
    "The **folding method** for constructing hash functions begins by dividing the item into equal-size pieces (the last piece may not be of equal size). These pieces are then added together to give the resulting hash value. For example, if our item was the phone number 436-555-4601, we would take the digits and divide them into groups of 2 (43,65,55,46,01). After the addition, 43+65+55+46+01, we get 210. If we assume our hash table has 11 slots, then we need to perform the extra step of dividing by 11 and keeping the remainder. In this case 210 % 11 is 1, so the phone number 436-555-4601 hashes to slot 1. Some folding methods go one step further and reverse every other piece before the addition. For the above example, we get 43+56+55+64+01=219 which gives 219 % 11=10.\n",
    "\n",
    "We can also create hash functions for character-based items such as strings. The word “abcdef” can be thought of as a sequence of ordinal values.We can then take these six ordinal values, add them up, and use the remainder method to get a hash value:"
   ]
  },
  {
   "cell_type": "code",
   "execution_count": 64,
   "metadata": {
    "collapsed": true
   },
   "outputs": [],
   "source": [
    "def hash(astring, tablesize):\n",
    "    sum = 0\n",
    "    for pos in range(len(astring)):\n",
    "        sum = sum + ord(astring[pos])\n",
    "\n",
    "    return sum%tablesize"
   ]
  },
  {
   "cell_type": "code",
   "execution_count": 65,
   "metadata": {
    "collapsed": false
   },
   "outputs": [
    {
     "name": "stdout",
     "output_type": "stream",
     "text": [
      "3\n",
      "3\n"
     ]
    }
   ],
   "source": [
    "print hash('abcdef',11)\n",
    "print hash('lmnopq',11)"
   ]
  },
  {
   "cell_type": "code",
   "execution_count": 66,
   "metadata": {
    "collapsed": false
   },
   "outputs": [
    {
     "name": "stdout",
     "output_type": "stream",
     "text": [
      "\n",
      "{'8': 'ghijk', '3': 'lmnopq'}\n"
     ]
    }
   ],
   "source": [
    "mydict = {str(hash('abcdef',11)):'abcdef',\n",
    "          str(hash('ghijk',11)):'ghijk',\n",
    "          str(hash('lmnopq',11)):'lmnopq'} \n",
    "'''\n",
    "Notice the collision in the slot 3:\n",
    "because str(hash('lmnopq',11))==str(hash('abcdef',11))\n",
    "'''\n",
    "print \n",
    "print mydict"
   ]
  },
  {
   "cell_type": "markdown",
   "metadata": {},
   "source": [
    "Another numerical technique for constructing a hash function is called the **mid-square method**. We first square the item, and then extract some portion of the resulting digits. For example, if the item were 44, we would first compute 44^2=1,936. By extracting the middle two digits, 93, and performing the remainder step, we get 5 (93 % 11). \n",
    "\n",
    "The important thing to remember is that the hash function has to be efficient so that it does not become the dominant part of the storage and search process. If the hash function is too complex, then it becomes more work to compute the slot name than it would be to simply do a basic sequential or binary search as described earlier. This would quickly defeat the purpose of hashing.\n",
    "\n",
    "See here below a full implementation of a **Hash Table** class with a **hash funtion** as a method:"
   ]
  },
  {
   "cell_type": "code",
   "execution_count": 67,
   "metadata": {
    "collapsed": false
   },
   "outputs": [],
   "source": [
    "class HashTable(object):\n",
    "    def __init__(self, size):\n",
    "        self.size = size\n",
    "        self.slots = [None] * self.size\n",
    "        self.data = [None] * self.size\n",
    "        \n",
    "    def __getitem__(self, key):\n",
    "        return self.get(key)\n",
    "\n",
    "    def __setitem__(self, key, data):\n",
    "        self.put(key, data)\n",
    "    \n",
    "    def hashfunction(self, key, size):\n",
    "        return key%size\n",
    "    \n",
    "    def rehash(self, oldhash, size):\n",
    "        return (oldhash + 1)%size\n",
    "            \n",
    "    def put(self, key, data):\n",
    "        \n",
    "        hashvalue = self.hashfunction(key, len(self.slots))\n",
    "        \n",
    "        if self.slots[hashvalue] == None:\n",
    "            self.slots[hashvalue] = key\n",
    "            self.data[hashvalue] = data\n",
    "        else:\n",
    "            if self.slots[hashvalue] == key:\n",
    "                self.data[hashvalue] = data  # replacing data (collision case)\n",
    "            else:\n",
    "                nextslot = self.rehash(hashvalue, len(self.slots))\n",
    "                while self.slots[nextslot] != None and self.slots[nextslot] != key:\n",
    "                    nextslot = self.rehash(nextslot, len(self.slots))\n",
    "\n",
    "                if self.slots[nextslot] == None:\n",
    "                    self.slots[nextslot] = key\n",
    "                    self.data[nextslot] = data\n",
    "                else:\n",
    "                    self.data[nextslot] = data # replace\n",
    "\n",
    "    def get(self,key):\n",
    "        startslot = self.hashfunction(key,len(self.slots))\n",
    "        data = None\n",
    "        stop = False\n",
    "        found = False\n",
    "        position = startslot\n",
    "        while self.slots[position] != None and not found and not stop:\n",
    "            if self.slots[position] == key:\n",
    "                found = True\n",
    "                data = self.data[position]\n",
    "            else:\n",
    "                position=self.rehash(position,len(self.slots))\n",
    "                if position == startslot:\n",
    "                    stop = True\n",
    "                    \n",
    "        return data\n"
   ]
  },
  {
   "cell_type": "code",
   "execution_count": 68,
   "metadata": {
    "collapsed": false,
    "scrolled": false
   },
   "outputs": [
    {
     "name": "stdout",
     "output_type": "stream",
     "text": [
      "Slots:  [20, 31, None, 93, 54, 44, 26, 17, 77, 55]\n",
      "Data:  ['chicken', 'cow', None, 'lion', 'cat', 'goat', 'dog', 'tiger', 'bird', 'pig']\n"
     ]
    }
   ],
   "source": [
    "H=HashTable(10)\n",
    "\n",
    "H[54]=\"cat\"\n",
    "H[26]=\"dog\"\n",
    "H[93]=\"lion\" \n",
    "H[17]=\"tiger\"\n",
    "H[77]=\"bird\"\n",
    "H[31]=\"cow\"\n",
    "H[44]=\"goat\"\n",
    "H[55]=\"pig\"\n",
    "H[20]=\"chicken\"\n",
    "\n",
    "print 'Slots: ',H.slots\n",
    "print 'Data: ', H.data\n"
   ]
  },
  {
   "cell_type": "markdown",
   "metadata": {},
   "source": [
    "<h1>Control Flow</h1>\n",
    "\n",
    "- <code>if</code>,<code>elif</code> and <code>else</code>\n",
    "- <code>for</code> loops\n",
    "- <code>while</code> loops\n",
    "- <code>exception</code> handling\n",
    "- Iteration, Indetation and Blocks\n",
    "- Comprenhension"
   ]
  },
  {
   "cell_type": "markdown",
   "metadata": {},
   "source": [
    "##`if`, `elif`, and `else`"
   ]
  },
  {
   "cell_type": "code",
   "execution_count": 69,
   "metadata": {
    "collapsed": false
   },
   "outputs": [
    {
     "name": "stdout",
     "output_type": "stream",
     "text": [
      "Walking.\n"
     ]
    }
   ],
   "source": [
    "car = 10\n",
    "bus = 2.5\n",
    "cash = 1.5\n",
    "\n",
    "if car < cash:\n",
    "    print 'I can drive'\n",
    "    \n",
    "if bus < cash and car > cash:\n",
    "    print \"I'll take the bus\"\n",
    "    \n",
    "if bus > cash:\n",
    "    print 'Walking.'"
   ]
  },
  {
   "cell_type": "code",
   "execution_count": 70,
   "metadata": {
    "collapsed": false
   },
   "outputs": [
    {
     "name": "stdout",
     "output_type": "stream",
     "text": [
      "Walking..\n"
     ]
    }
   ],
   "source": [
    "if car < cash:\n",
    "    print 'Enjoy your car ride'\n",
    "elif bus < cash:\n",
    "    print 'Another one rides the bus'\n",
    "else:\n",
    "    print 'Walking..'"
   ]
  },
  {
   "cell_type": "code",
   "execution_count": 71,
   "metadata": {
    "collapsed": false
   },
   "outputs": [
    {
     "name": "stdout",
     "output_type": "stream",
     "text": [
      "Walking...\n"
     ]
    }
   ],
   "source": [
    "action = 'car' if car < cash else 'Walking...' #one-liner\n",
    "\n",
    "print action"
   ]
  },
  {
   "cell_type": "markdown",
   "metadata": {},
   "source": [
    "<h2> The <code>for</code> loop </h2>"
   ]
  },
  {
   "cell_type": "code",
   "execution_count": 72,
   "metadata": {
    "collapsed": false
   },
   "outputs": [
    {
     "name": "stdout",
     "output_type": "stream",
     "text": [
      "1 2 3 4 5   \n",
      "1 2 3 4 5\n"
     ]
    }
   ],
   "source": [
    "numbers = [1,2,3,4,5]\n",
    "\n",
    "for i in numbers:\n",
    "    print i,\n",
    "    \n",
    "print '  '\n",
    "\n",
    "for num in numbers:\n",
    "    print num,"
   ]
  },
  {
   "cell_type": "code",
   "execution_count": 73,
   "metadata": {
    "collapsed": false
   },
   "outputs": [
    {
     "name": "stdout",
     "output_type": "stream",
     "text": [
      "0 1 2 3 4 5 6 7 8 9\n"
     ]
    }
   ],
   "source": [
    "for i in xrange(10):\n",
    "    print i,"
   ]
  },
  {
   "cell_type": "code",
   "execution_count": 74,
   "metadata": {
    "collapsed": false
   },
   "outputs": [
    {
     "name": "stdout",
     "output_type": "stream",
     "text": [
      "S\n",
      "u\n",
      "n\n",
      "d\n",
      "a\n",
      "y\n"
     ]
    }
   ],
   "source": [
    "for letter in \"Sunday\":\n",
    "    print letter"
   ]
  },
  {
   "cell_type": "code",
   "execution_count": 75,
   "metadata": {
    "collapsed": false
   },
   "outputs": [
    {
     "name": "stdout",
     "output_type": "stream",
     "text": [
      "0 0\n",
      "still here 1 1\n",
      "2 0\n",
      "still here 3 1\n",
      "4 0\n",
      "still here 5 1\n",
      "6 0\n",
      "still here 7 1\n",
      "8 0\n",
      "still here 9 1\n"
     ]
    }
   ],
   "source": [
    "for i in xrange(10):\n",
    "    print i, i%2\n",
    "    if i % 2:\n",
    "        continue\n",
    "    print \"still here\","
   ]
  },
  {
   "cell_type": "code",
   "execution_count": 76,
   "metadata": {
    "collapsed": false
   },
   "outputs": [
    {
     "name": "stdout",
     "output_type": "stream",
     "text": [
      "0 1 2 3 4\n"
     ]
    }
   ],
   "source": [
    "for i in xrange(10):\n",
    "    if i == 5:\n",
    "        break\n",
    "    print i,"
   ]
  },
  {
   "cell_type": "code",
   "execution_count": 77,
   "metadata": {
    "collapsed": false
   },
   "outputs": [
    {
     "name": "stdout",
     "output_type": "stream",
     "text": [
      "0 Sunday Sunday\n",
      "1 Monday Monday\n",
      "2 Tuesday Tuesday\n",
      "3 Wednesday Wednesday\n",
      "4 Thursday Thursday\n",
      "5 Friday Friday\n",
      "6 Saturday Saturday\n"
     ]
    }
   ],
   "source": [
    "index = 0\n",
    "for day in days_of_the_week:\n",
    "    print index, days_of_the_week[index], day\n",
    "    index += 1"
   ]
  },
  {
   "cell_type": "code",
   "execution_count": 78,
   "metadata": {
    "collapsed": false
   },
   "outputs": [
    {
     "name": "stdout",
     "output_type": "stream",
     "text": [
      "0 Sunday Sunday\n",
      "1 Monday Monday\n",
      "2 Tuesday Tuesday\n",
      "3 Wednesday Wednesday\n",
      "4 Thursday Thursday\n",
      "5 Friday Friday\n",
      "6 Saturday Saturday\n"
     ]
    }
   ],
   "source": [
    "for i, day in enumerate(days_of_the_week):\n",
    "    print i, days_of_the_week[i], day"
   ]
  },
  {
   "cell_type": "markdown",
   "metadata": {},
   "source": [
    "<h2><code> while </code>loop</h2>"
   ]
  },
  {
   "cell_type": "code",
   "execution_count": 79,
   "metadata": {
    "collapsed": false
   },
   "outputs": [
    {
     "name": "stdout",
     "output_type": "stream",
     "text": [
      "0 1 2 3 4 5 6 7 8 9\n"
     ]
    }
   ],
   "source": [
    "count = 0\n",
    "while (count < 10):\n",
    "    print count,\n",
    "    count += 1"
   ]
  },
  {
   "cell_type": "markdown",
   "metadata": {},
   "source": [
    "<h2><code>exception</code> handling</h2>"
   ]
  },
  {
   "cell_type": "markdown",
   "metadata": {},
   "source": [
    "Python is an interpreted language, which means that there is no compiler to compile your code and find any logic or syntax errors before you run it. So how does Python handle this? Python uses **exceptions** to handle errors. \n",
    "\n",
    "For example, if you try the following code in your interpreter, you will get an `ValueError`:"
   ]
  },
  {
   "cell_type": "code",
   "execution_count": 80,
   "metadata": {
    "collapsed": false,
    "scrolled": true
   },
   "outputs": [
    {
     "ename": "ValueError",
     "evalue": "invalid literal for float(): 123.4d",
     "output_type": "error",
     "traceback": [
      "\u001b[0;31m---------------------------------------------------------------------------\u001b[0m",
      "\u001b[0;31mValueError\u001b[0m                                Traceback (most recent call last)",
      "\u001b[0;32m<ipython-input-80-320d5b550040>\u001b[0m in \u001b[0;36m<module>\u001b[0;34m()\u001b[0m\n\u001b[1;32m      1\u001b[0m \u001b[0mnum\u001b[0m \u001b[0;34m=\u001b[0m \u001b[0;34m'123.4d'\u001b[0m\u001b[0;34m\u001b[0m\u001b[0m\n\u001b[0;32m----> 2\u001b[0;31m \u001b[0;32mprint\u001b[0m \u001b[0mfloat\u001b[0m\u001b[0;34m(\u001b[0m\u001b[0mnum\u001b[0m\u001b[0;34m)\u001b[0m\u001b[0;34m\u001b[0m\u001b[0m\n\u001b[0m",
      "\u001b[0;31mValueError\u001b[0m: invalid literal for float(): 123.4d"
     ]
    }
   ],
   "source": [
    "num = '123.4d'\n",
    "print float(num)"
   ]
  },
  {
   "cell_type": "markdown",
   "metadata": {},
   "source": [
    "As you can see, when you try to pass a string to a mathematic function, which can only operate on integers and/or floats, it throws a `ValueError`. This tells you that the data you sent to the function is not of the correct type. Because Python is not a strongly typed language, nor is it compiled, the only errors that you will get are exceptions, which will crop up at run time. When an exception is thrown at run time, your entire program will quit if there is no exception handling in place.\n"
   ]
  },
  {
   "cell_type": "markdown",
   "metadata": {},
   "source": [
    "The most important way to manage this error are the `try‐except` block will try a piece of code and if the code throws one of the preceding exceptions, it will catch that `exception` and print out an `error message`, as defined in the base exception class, or you can even print your own error messages for each exception:"
   ]
  },
  {
   "cell_type": "code",
   "execution_count": 189,
   "metadata": {
    "collapsed": false
   },
   "outputs": [
    {
     "name": "stdout",
     "output_type": "stream",
     "text": [
      "invalid literal for float(): 123.4d\n",
      "DO SOMETHING ELSE HERE\n"
     ]
    }
   ],
   "source": [
    "try:\n",
    "    print float(num)\n",
    "except (ValueError, TypeError),e:\n",
    "    print e\n",
    "    print 'DO SOMETHING ELSE HERE'"
   ]
  },
  {
   "cell_type": "code",
   "execution_count": 190,
   "metadata": {
    "collapsed": false
   },
   "outputs": [
    {
     "name": "stdout",
     "output_type": "stream",
     "text": [
      "1.0\n"
     ]
    }
   ],
   "source": [
    "values = [1,2,3]\n",
    "try:\n",
    "    print float(values)\n",
    "except ValueError:\n",
    "    print \"nope\"\n",
    "except TypeError:\n",
    "    print float(values[0])"
   ]
  },
  {
   "cell_type": "code",
   "execution_count": 191,
   "metadata": {
    "collapsed": false
   },
   "outputs": [
    {
     "name": "stdout",
     "output_type": "stream",
     "text": [
      "error\n"
     ]
    }
   ],
   "source": [
    "try:\n",
    "    print float(\"454c\")\n",
    "    print float([1,2,3])\n",
    "except:\n",
    "    print \"error\""
   ]
  },
  {
   "cell_type": "markdown",
   "metadata": {},
   "source": [
    "## Iteration, Indentation, and Blocks\n",
    "One of the most useful things you can do with lists is to *iterate* through them, i.e. to go through each element one at a time. To do this in Python, we use the **for** statement:"
   ]
  },
  {
   "cell_type": "code",
   "execution_count": 192,
   "metadata": {
    "collapsed": false
   },
   "outputs": [
    {
     "name": "stdout",
     "output_type": "stream",
     "text": [
      "Sunday\n",
      "Monday\n",
      "Tuesday\n",
      "Wednesday\n",
      "Thursday\n",
      "Friday\n",
      "Saturday\n"
     ]
    }
   ],
   "source": [
    "for day in days_of_the_week:\n",
    "    print day"
   ]
  },
  {
   "cell_type": "markdown",
   "metadata": {},
   "source": [
    "This code snippet goes through each element of the list called **days_of_the_week** and assigns it to the variable **day**. It then executes everything in the indented block (in this case only one line of code, the print statement) using those variable assignments. When the program has gone through every element of the list, it exists the block.\n",
    "\n",
    "Every programming language defines blocks or scopes of code in some way. In Fortran, one uses END statements (ENDDO, ENDIF, etc.) to define code blocks. In C, C++, and Perl, one uses curly braces {} to define the scope or blocks.\n",
    "\n",
    "Python uses a colon (\":\"), followed by **indentation level** to define code blocks. Everything at a higher level of indentation is taken to be in the same block."
   ]
  },
  {
   "cell_type": "code",
   "execution_count": 193,
   "metadata": {
    "collapsed": false
   },
   "outputs": [
    {
     "name": "stdout",
     "output_type": "stream",
     "text": [
      "Today is Sunday\n",
      "Today is Monday\n",
      "Today is Tuesday\n",
      "Today is Wednesday\n",
      "Today is Thursday\n",
      "Today is Friday\n",
      "Today is Saturday\n"
     ]
    }
   ],
   "source": [
    "for day in days_of_the_week:\n",
    "    statement = \"Today is \" + day\n",
    "    print statement"
   ]
  },
  {
   "cell_type": "code",
   "execution_count": 194,
   "metadata": {
    "collapsed": false
   },
   "outputs": [
    {
     "name": "stdout",
     "output_type": "stream",
     "text": [
      "The square of  0  is  0\n",
      "The square of  1  is  1\n",
      "The square of  2  is  4\n",
      "The square of  3  is  9\n",
      "The square of  4  is  16\n",
      "The square of  5  is  25\n",
      "The square of  6  is  36\n",
      "The square of  7  is  49\n",
      "The square of  8  is  64\n",
      "The square of  9  is  81\n",
      "The square of  10  is  100\n",
      "The square of  11  is  121\n",
      "The square of  12  is  144\n",
      "The square of  13  is  169\n",
      "The square of  14  is  196\n",
      "The square of  15  is  225\n",
      "The square of  16  is  256\n",
      "The square of  17  is  289\n",
      "The square of  18  is  324\n",
      "The square of  19  is  361\n"
     ]
    }
   ],
   "source": [
    "for i in range(20):\n",
    "    print \"The square of \",i,\" is \",i*i"
   ]
  },
  {
   "cell_type": "markdown",
   "metadata": {},
   "source": [
    "<h2>Introduction to List Comprenhension</h2>"
   ]
  },
  {
   "cell_type": "markdown",
   "metadata": {},
   "source": [
    "As you probably have noticed inthe previous section, writing a piece of code such as this is painful:"
   ]
  },
  {
   "cell_type": "code",
   "execution_count": 195,
   "metadata": {
    "collapsed": false
   },
   "outputs": [
    {
     "name": "stdout",
     "output_type": "stream",
     "text": [
      "[0, 2, 4, 6, 8]\n"
     ]
    }
   ],
   "source": [
    "numbers = range(10)\n",
    "size = len(numbers)\n",
    "evens = []\n",
    "i = 0\n",
    "while i < size:\n",
    "    if i % 2 == 0:\n",
    "        evens.append(i)\n",
    "    i += 1\n",
    "    \n",
    "print evens"
   ]
  },
  {
   "cell_type": "markdown",
   "metadata": {},
   "source": [
    "This may work for C, but it actually makes things slower for Python because:\n",
    "\n",
    "- It makes the interpreter work on each loop to determine what part of the sequence has to be changed.\n",
    "\n",
    "- It makes you keep a counter to track what element has to be treated.\n",
    "\n",
    "A list comprehension is the correct answer to this pattern. It uses wired features that\n",
    "automate parts of the previous syntax:"
   ]
  },
  {
   "cell_type": "code",
   "execution_count": 196,
   "metadata": {
    "collapsed": false
   },
   "outputs": [
    {
     "data": {
      "text/plain": [
       "[0, 2, 4, 6, 8]"
      ]
     },
     "execution_count": 196,
     "metadata": {},
     "output_type": "execute_result"
    }
   ],
   "source": [
    "[i for i in range(10) if i % 2 == 0]"
   ]
  },
  {
   "cell_type": "markdown",
   "metadata": {},
   "source": [
    "Besides the fact that this writing is more efficient, it is way shorter and involves fewer elements. In a bigger program, this means less bugs and code that is easy to read and understand.\n",
    "\n",
    "As mentioned early in this book, Python supports the procedural, object-oriented, and function programming paradigms. In fact, Python has a host of tools that most would considered functional in nature like closures, generators, lambdas, comprehensions, maps, decorators, function objects, and more. \n",
    "\n",
    "Let's work through another example to see the basics. Just notice that Python's built-in function ord returns the integer code point of a single character"
   ]
  },
  {
   "cell_type": "code",
   "execution_count": 197,
   "metadata": {
    "collapsed": false
   },
   "outputs": [
    {
     "data": {
      "text/plain": [
       "115"
      ]
     },
     "execution_count": 197,
     "metadata": {},
     "output_type": "execute_result"
    }
   ],
   "source": [
    "ord('s')"
   ]
  },
  {
   "cell_type": "code",
   "execution_count": 198,
   "metadata": {
    "collapsed": false
   },
   "outputs": [
    {
     "name": "stdout",
     "output_type": "stream",
     "text": [
      "Word spam in integers:  [115, 112, 97, 109]\n"
     ]
    }
   ],
   "source": [
    "res = []\n",
    "for x in 'spam':\n",
    "    res.append(ord(x))\n",
    "    \n",
    "print 'Word spam in integers: ', res"
   ]
  },
  {
   "cell_type": "code",
   "execution_count": 199,
   "metadata": {
    "collapsed": false
   },
   "outputs": [
    {
     "name": "stdout",
     "output_type": "stream",
     "text": [
      "Word spam in integers:  [115, 112, 97, 109]\n"
     ]
    }
   ],
   "source": [
    "# more functional oriented implementation: \n",
    "\n",
    "res = list(map(ord, 'spam'))\n",
    "print 'Word spam in integers: ', res"
   ]
  },
  {
   "cell_type": "code",
   "execution_count": 200,
   "metadata": {
    "collapsed": false
   },
   "outputs": [
    {
     "name": "stdout",
     "output_type": "stream",
     "text": [
      "Word spam in integers:  [115, 112, 97, 109]\n"
     ]
    }
   ],
   "source": [
    "# a list comprenhension implementation:\n",
    "\n",
    "res = [ord(x) for x in 'spam']\n",
    "print 'Word spam in integers: ', res"
   ]
  },
  {
   "cell_type": "markdown",
   "metadata": {},
   "source": [
    "List comprehensions become more convenient, though, when we wish to apply an arbitrary expression to an iterable instead of a function:\n"
   ]
  },
  {
   "cell_type": "code",
   "execution_count": 201,
   "metadata": {
    "collapsed": false
   },
   "outputs": [
    {
     "data": {
      "text/plain": [
       "[0, 1, 4, 9, 16, 25, 36, 49, 64, 81]"
      ]
     },
     "execution_count": 201,
     "metadata": {},
     "output_type": "execute_result"
    }
   ],
   "source": [
    "[x ** 2 for x in range(10)]"
   ]
  },
  {
   "cell_type": "code",
   "execution_count": 202,
   "metadata": {
    "collapsed": false
   },
   "outputs": [
    {
     "data": {
      "text/plain": [
       "[0, 1, 4, 9, 16, 25, 36, 49, 64, 81]"
      ]
     },
     "execution_count": 202,
     "metadata": {},
     "output_type": "execute_result"
    }
   ],
   "source": [
    "list(map((lambda x: x ** 2), range(10)))"
   ]
  },
  {
   "cell_type": "markdown",
   "metadata": {},
   "source": [
    "List comprehensions are even more general than shown so far. List comprehensions with if clauses can be thought of as analogous to the filter built-in "
   ]
  },
  {
   "cell_type": "code",
   "execution_count": 203,
   "metadata": {
    "collapsed": false
   },
   "outputs": [
    {
     "data": {
      "text/plain": [
       "[0, 4, 16, 36, 64]"
      ]
     },
     "execution_count": 203,
     "metadata": {},
     "output_type": "execute_result"
    }
   ],
   "source": [
    "[x**2 for x in range(10) if x % 2 == 0]"
   ]
  },
  {
   "cell_type": "code",
   "execution_count": 204,
   "metadata": {
    "collapsed": false
   },
   "outputs": [
    {
     "data": {
      "text/plain": [
       "[0, 4, 16, 36, 64]"
      ]
     },
     "execution_count": 204,
     "metadata": {},
     "output_type": "execute_result"
    }
   ],
   "source": [
    "list( map((lambda x: x**2), filter((lambda x: x % 2 == 0), range(10))) )"
   ]
  },
  {
   "cell_type": "markdown",
   "metadata": {},
   "source": [
    "One basic way to code matrixes (a.k.a. multidimensional arrays) in Python is with nested list structures. The following, for example, defines two 3 × 3 matrixes as lists of nested lists:\n"
   ]
  },
  {
   "cell_type": "code",
   "execution_count": 205,
   "metadata": {
    "collapsed": false
   },
   "outputs": [
    {
     "name": "stdout",
     "output_type": "stream",
     "text": [
      "[4, 5, 6]\n",
      "6\n"
     ]
    }
   ],
   "source": [
    "M = [[1, 2, 3], \n",
    "     [4, 5, 6], \n",
    "     [7, 8, 9]]\n",
    "\n",
    "N = [[2, 2, 2], \n",
    "     [3, 3, 3], \n",
    "     [4, 4, 4]]\n",
    "\n",
    "print M[1]\n",
    "print M[1][2]\n"
   ]
  },
  {
   "cell_type": "code",
   "execution_count": 206,
   "metadata": {
    "collapsed": false
   },
   "outputs": [
    {
     "data": {
      "text/plain": [
       "[2, 5, 8]"
      ]
     },
     "execution_count": 206,
     "metadata": {},
     "output_type": "execute_result"
    }
   ],
   "source": [
    "[row[1] for row in M] # Column 2"
   ]
  },
  {
   "cell_type": "code",
   "execution_count": 207,
   "metadata": {
    "collapsed": false
   },
   "outputs": [
    {
     "data": {
      "text/plain": [
       "[2, 5, 8]"
      ]
     },
     "execution_count": 207,
     "metadata": {},
     "output_type": "execute_result"
    }
   ],
   "source": [
    "[M[row][1] for row in (0, 1, 2)] # Using offsets"
   ]
  },
  {
   "cell_type": "code",
   "execution_count": 208,
   "metadata": {
    "collapsed": false
   },
   "outputs": [
    {
     "data": {
      "text/plain": [
       "[1, 5, 9]"
      ]
     },
     "execution_count": 208,
     "metadata": {},
     "output_type": "execute_result"
    }
   ],
   "source": [
    "[M[i][i] for i in range(len(M))] # Diagonals"
   ]
  },
  {
   "cell_type": "code",
   "execution_count": 209,
   "metadata": {
    "collapsed": false
   },
   "outputs": [
    {
     "data": {
      "text/plain": [
       "[3, 5, 7]"
      ]
     },
     "execution_count": 209,
     "metadata": {},
     "output_type": "execute_result"
    }
   ],
   "source": [
    "[M[i][len(M)-1-i] for i in range(len(M))]"
   ]
  },
  {
   "cell_type": "markdown",
   "metadata": {},
   "source": [
    "## Code Example: The Fibonacci Sequence\n",
    "The [Fibonacci sequence](http://en.wikipedia.org/wiki/Fibonacci_number) is a sequence of numbers that starts with 0 and 1, and then each successive entry is the sum of the previous two. Thus, the sequence goes 0,1,1,2,3,5,8,13,21,34,55,89,...\n",
    "\n",
    "A very common exercise in programming books is to compute the Fibonacci sequence up to some number **n**. Please, notice the comments below."
   ]
  },
  {
   "cell_type": "code",
   "execution_count": 210,
   "metadata": {
    "collapsed": false
   },
   "outputs": [
    {
     "name": "stdout",
     "output_type": "stream",
     "text": [
      "[0, 1, 1, 2, 3, 5, 8, 13, 21, 34, 55, 89, 144, 233, 377, 610, 987, 1597, 2584, 4181]\n"
     ]
    }
   ],
   "source": [
    "n = 20\n",
    "sequence = [0,1]\n",
    "for i in range(2,n): # This is going to be a problem if we ever set n <= 2!\n",
    "    sequence.append(sequence[i-1]+sequence[i-2])\n",
    "print sequence"
   ]
  },
  {
   "cell_type": "markdown",
   "metadata": {},
   "source": [
    "**Comments to the code above**\n",
    "\n",
    "* *First*, we define the variable **n**, and set it to the integer 20. **n** is the length of the sequence we're going to form, and should probably have a better variable name. \n",
    "* *Second*, we create a variable called **sequence**, and initialize it to the list with the integers 0 and 1 in it, the first two elements of the Fibonacci sequence. We have to create these elements \"by hand\", since the iterative part of the sequence requires two previous elements.\n",
    "* *Third*, we then have a for loop over the list of integers from 2 (the next element of the list) to **n** (the length of the sequence). Notice that after the colon, we see a hash tag \"#\", and then a **comment** that if we had set **n** to some number less than 2 we would have a problem. Comments in Python start with #, and are good ways to make notes to yourself or to a user of your code explaining why you did what you did. Better than the comment here would be to test to make sure the value of **n** is valid, and to complain if it isn't; we'll try this later.\n",
    "* *Fourth*, in the body of the loop, we append to the list an integer equal to the sum of the two previous elements of the list.\n",
    "* *And finally*, exiting the loop (ending the indentation) we then print out the whole list. "
   ]
  },
  {
   "cell_type": "markdown",
   "metadata": {},
   "source": [
    "# Functions #\n",
    "\n",
    "A function in Python is defined using the keyword `def`, followed by a function name, a signature within parenthises `()`, and a colon `:`. The following code, with one additional level of indentation, is the function body.\n",
    "\n",
    "We might want to use the Fibonacci snippet with different sequence lengths. We could cut an paste the code into another cell, changing the value of **n**, but it's easier and more useful to make a function out of the code. We do this with the **def** statement in Python:"
   ]
  },
  {
   "cell_type": "code",
   "execution_count": 211,
   "metadata": {
    "collapsed": false
   },
   "outputs": [],
   "source": [
    "def fibonacci(sequence_length):\n",
    "    \"Return the Fibonacci sequence of length *sequence_length*\"\n",
    "    sequence = [0,1]\n",
    "    if sequence_length < 1:\n",
    "        print \"Fibonacci sequence only defined for length 1 or greater\"\n",
    "        return\n",
    "    if 0 < sequence_length < 3:\n",
    "        return sequence[:sequence_length]\n",
    "    for i in range(2,sequence_length): \n",
    "        sequence.append(sequence[i-1]+sequence[i-2])\n",
    "    return sequence"
   ]
  },
  {
   "cell_type": "code",
   "execution_count": 212,
   "metadata": {
    "collapsed": false
   },
   "outputs": [
    {
     "data": {
      "text/plain": [
       "[0, 1, 1, 2, 3, 5, 8, 13, 21, 34, 55, 89]"
      ]
     },
     "execution_count": 212,
     "metadata": {},
     "output_type": "execute_result"
    }
   ],
   "source": [
    "fibonacci(12)"
   ]
  },
  {
   "cell_type": "code",
   "execution_count": 213,
   "metadata": {
    "collapsed": false
   },
   "outputs": [
    {
     "name": "stdout",
     "output_type": "stream",
     "text": [
      "Help on function fibonacci in module __main__:\n",
      "\n",
      "fibonacci(sequence_length)\n",
      "    Return the Fibonacci sequence of length *sequence_length*\n",
      "\n"
     ]
    }
   ],
   "source": [
    "help(fibonacci)"
   ]
  },
  {
   "cell_type": "markdown",
   "metadata": {},
   "source": [
    "Functions can also call themselves, something that is often called **recursion**. Here you have an example of recursion by computing the factorial function. The factorial is defined for a positive integer **n** as\n",
    "    \n",
    "$$ n! = n(n-1)(n-2)\\cdots 1 $$\n",
    "\n",
    "First, note that we don't need to write a function at all, since this is a function built into the standard math library. However, if we did want to write a function ourselves, we could do recursively by:"
   ]
  },
  {
   "cell_type": "code",
   "execution_count": 214,
   "metadata": {
    "collapsed": false
   },
   "outputs": [],
   "source": [
    "def fact(n):\n",
    "    if n <= 0:\n",
    "        return 1\n",
    "    return n*fact(n-1)"
   ]
  },
  {
   "cell_type": "code",
   "execution_count": 215,
   "metadata": {
    "collapsed": false
   },
   "outputs": [
    {
     "data": {
      "text/plain": [
       "93326215443944152681699238856266700490715968264381621468592963895217599993229915608941463976156518286253697920827223758251185210916864000000000000000000000000L"
      ]
     },
     "execution_count": 215,
     "metadata": {},
     "output_type": "execute_result"
    }
   ],
   "source": [
    "fact(100)"
   ]
  },
  {
   "cell_type": "markdown",
   "metadata": {},
   "source": [
    "We can return multiple values from a function using tuples (see above):"
   ]
  },
  {
   "cell_type": "code",
   "execution_count": 216,
   "metadata": {
    "collapsed": false
   },
   "outputs": [],
   "source": [
    "def powers(x):\n",
    "    \"\"\"\n",
    "    Return a few powers of x.\n",
    "    \"\"\"\n",
    "    return x ** 2, x ** 3, x ** 4"
   ]
  },
  {
   "cell_type": "code",
   "execution_count": 217,
   "metadata": {
    "collapsed": false
   },
   "outputs": [
    {
     "data": {
      "text/plain": [
       "(8100, 729000, 65610000)"
      ]
     },
     "execution_count": 217,
     "metadata": {},
     "output_type": "execute_result"
    }
   ],
   "source": [
    "powers(90)"
   ]
  },
  {
   "cell_type": "code",
   "execution_count": 218,
   "metadata": {
    "collapsed": false
   },
   "outputs": [
    {
     "name": "stdout",
     "output_type": "stream",
     "text": [
      "27\n"
     ]
    }
   ],
   "source": [
    "x2, x3, x4 = powers(3)\n",
    "\n",
    "print(x3)"
   ]
  },
  {
   "cell_type": "code",
   "execution_count": 219,
   "metadata": {
    "collapsed": false
   },
   "outputs": [
    {
     "name": "stdout",
     "output_type": "stream",
     "text": [
      "27\n"
     ]
    }
   ],
   "source": [
    "x2, x3, x4 = powers(3)\n",
    "\n",
    "print(x3)"
   ]
  },
  {
   "cell_type": "markdown",
   "metadata": {},
   "source": [
    "In Python we can also create unnamed functions, using the `lambda` keyword:"
   ]
  },
  {
   "cell_type": "code",
   "execution_count": 220,
   "metadata": {
    "collapsed": false
   },
   "outputs": [],
   "source": [
    "f1 = lambda x: x**2\n",
    "    \n",
    "# is equivalent to \n",
    "\n",
    "def f2(x):\n",
    "    return x**2"
   ]
  },
  {
   "cell_type": "code",
   "execution_count": 221,
   "metadata": {
    "collapsed": false
   },
   "outputs": [
    {
     "data": {
      "text/plain": [
       "(4, 4)"
      ]
     },
     "execution_count": 221,
     "metadata": {},
     "output_type": "execute_result"
    }
   ],
   "source": [
    "f1(2), f2(2)"
   ]
  },
  {
   "cell_type": "code",
   "execution_count": 222,
   "metadata": {
    "collapsed": false
   },
   "outputs": [
    {
     "data": {
      "text/plain": [
       "[9, 4, 1, 0, 1, 4, 9]"
      ]
     },
     "execution_count": 222,
     "metadata": {},
     "output_type": "execute_result"
    }
   ],
   "source": [
    "# map is a built-in python function that allows us to treat function as objects...\n",
    "\n",
    "map(lambda x: x**2, range(-3,4))"
   ]
  },
  {
   "cell_type": "markdown",
   "metadata": {},
   "source": [
    "### The Fibonacci sequence in a Generator (Advance)\n",
    "\n",
    "Since Python 2.2, generators provide an elegant way to write simple and efficient code for functions that return a list of elements. Based on the yield directive, they allow you to pause a function and return an intermediate result. The function saves its execution context and can be resumed later if necessary.\n",
    "\n",
    "For example, the Fibonacci series can be written with an iterator:"
   ]
  },
  {
   "cell_type": "code",
   "execution_count": 223,
   "metadata": {
    "collapsed": true
   },
   "outputs": [],
   "source": [
    "def fibonacci():\n",
    "    a, b = 0, 1\n",
    "    while True:\n",
    "        yield b\n",
    "        a, b = b, a + b"
   ]
  },
  {
   "cell_type": "code",
   "execution_count": 224,
   "metadata": {
    "collapsed": true
   },
   "outputs": [],
   "source": [
    "fib = fibonacci()"
   ]
  },
  {
   "cell_type": "code",
   "execution_count": 225,
   "metadata": {
    "collapsed": false,
    "scrolled": false
   },
   "outputs": [
    {
     "data": {
      "text/plain": [
       "1"
      ]
     },
     "execution_count": 225,
     "metadata": {},
     "output_type": "execute_result"
    }
   ],
   "source": [
    "fib.next()"
   ]
  },
  {
   "cell_type": "code",
   "execution_count": 226,
   "metadata": {
    "collapsed": false
   },
   "outputs": [
    {
     "data": {
      "text/plain": [
       "1"
      ]
     },
     "execution_count": 226,
     "metadata": {},
     "output_type": "execute_result"
    }
   ],
   "source": [
    "fib.next()"
   ]
  },
  {
   "cell_type": "code",
   "execution_count": 227,
   "metadata": {
    "collapsed": false
   },
   "outputs": [
    {
     "data": {
      "text/plain": [
       "2"
      ]
     },
     "execution_count": 227,
     "metadata": {},
     "output_type": "execute_result"
    }
   ],
   "source": [
    "fib.next()"
   ]
  },
  {
   "cell_type": "code",
   "execution_count": 228,
   "metadata": {
    "collapsed": false
   },
   "outputs": [
    {
     "data": {
      "text/plain": [
       "[3, 5, 8, 13, 21, 34, 55, 89, 144, 233]"
      ]
     },
     "execution_count": 228,
     "metadata": {},
     "output_type": "execute_result"
    }
   ],
   "source": [
    "[fib.next() for i in range(10)]"
   ]
  },
  {
   "cell_type": "markdown",
   "metadata": {},
   "source": [
    "This function returns a **generator object**, a special iterator, which knows how to save the execution context. It can be called indefinitely, yielding the next element of the suite each time. The syntax is concise, and the infinite nature of the algorithm does not disturb the readability of the code anymore. It does not have to provide a way to make the function stoppable. In fact, it looks similar to how the series would be designed in pseudo-code.\n",
    "\n",
    "*Generators should be considered every time you deal with a function that returns a sequence or works in a loop*. Returning the elements one at a time can **improve the overall performance**, when they are passed to another function for further work.\n",
    "\n",
    "In that case, the resources used to work out one element are most of the time less important than the resources used for the whole process. Therefore, they can be kept low, making the program more efficient. For instance, the Fibonacci sequence is infinite, and yet the generator that generates it does not require an infinite amount of memory to provide the values one at a time. A common use case is to stream data buffers with generators. They can be paused, resumed, and stopped by third-party code that plays over the data, and all the data need not be loaded before starting the process.\n",
    "\n",
    "generators can also help in breaking the complexity, and raising the efficiency of some data transformation algorithms that are based on several suites. Thinking of each suite as an iterator, and then combining them into a high-level function is a great way to avoid a big, ugly, and unreadable function. Moreover, this can provide a live feedback to the whole processing chain.\n",
    "\n",
    "In the example below, each function defines a transformation over a sequence. They are then chained and applied. Each call processes one element and returns its result:"
   ]
  },
  {
   "cell_type": "code",
   "execution_count": 229,
   "metadata": {
    "collapsed": true
   },
   "outputs": [],
   "source": [
    "def power(values):\n",
    "    for value in values:\n",
    "        print 'powering %s' % value\n",
    "        yield value"
   ]
  },
  {
   "cell_type": "code",
   "execution_count": 230,
   "metadata": {
    "collapsed": true
   },
   "outputs": [],
   "source": [
    "def adder(values):\n",
    "    for value in values:\n",
    "        print 'adding to %s' % value\n",
    "        if value % 2 == 0:\n",
    "            yield value + 3\n",
    "        else:\n",
    "            yield value + 2"
   ]
  },
  {
   "cell_type": "code",
   "execution_count": 231,
   "metadata": {
    "collapsed": true
   },
   "outputs": [],
   "source": [
    "elements = [1, 4, 7, 9, 12, 19]"
   ]
  },
  {
   "cell_type": "code",
   "execution_count": 232,
   "metadata": {
    "collapsed": true
   },
   "outputs": [],
   "source": [
    "result = adder(power(elements))"
   ]
  },
  {
   "cell_type": "code",
   "execution_count": 233,
   "metadata": {
    "collapsed": false
   },
   "outputs": [
    {
     "name": "stdout",
     "output_type": "stream",
     "text": [
      "powering 1\n",
      "adding to 1\n"
     ]
    },
    {
     "data": {
      "text/plain": [
       "3"
      ]
     },
     "execution_count": 233,
     "metadata": {},
     "output_type": "execute_result"
    }
   ],
   "source": [
    "result.next()"
   ]
  },
  {
   "cell_type": "code",
   "execution_count": 234,
   "metadata": {
    "collapsed": false
   },
   "outputs": [
    {
     "name": "stdout",
     "output_type": "stream",
     "text": [
      "powering 4\n",
      "adding to 4\n"
     ]
    },
    {
     "data": {
      "text/plain": [
       "7"
      ]
     },
     "execution_count": 234,
     "metadata": {},
     "output_type": "execute_result"
    }
   ],
   "source": [
    "result.next()"
   ]
  },
  {
   "cell_type": "markdown",
   "metadata": {},
   "source": [
    "###Explaining Paradigms: Procedural vs. OOP vs. Functional (Advance)\n",
    "\n",
    "You have already notice that for some kinds of computations, we can ignore Python's object-oriented features and write simple numeric algorithms. For example, we might write something like the following to get the range of numbers:\n"
   ]
  },
  {
   "cell_type": "code",
   "execution_count": 235,
   "metadata": {
    "collapsed": false
   },
   "outputs": [
    {
     "name": "stdout",
     "output_type": "stream",
     "text": [
      "23\n"
     ]
    }
   ],
   "source": [
    "s = 0 \n",
    "for n in range (1,10):\n",
    "    if n%3 == 0 or n%5 == 0:\n",
    "        s+=n\n",
    "print s"
   ]
  },
  {
   "cell_type": "markdown",
   "metadata": {},
   "source": [
    "We've made this program strictly procedural, avoiding any explicit use of Python's object features. The program's state is defined by the values of the variables `s` and `n`. The variable, `n`, takes on values such that `1 ≤ n < 10`. As the loop involves an ordered exploration of values of n, we can prove that it will terminate when `n == 10`. Similar code would work in C or Java using their primitive (non-object) data types.\n",
    "\n",
    "We can exploit Python's Object-Oriented Programming (OOP) features and create a similar program:"
   ]
  },
  {
   "cell_type": "code",
   "execution_count": 236,
   "metadata": {
    "collapsed": false
   },
   "outputs": [
    {
     "name": "stdout",
     "output_type": "stream",
     "text": [
      "23\n"
     ]
    }
   ],
   "source": [
    "m = list()\n",
    "for n in range(1,10):\n",
    "    if n % 3 == 0 or n % 5 == 0:\n",
    "        m.append(n)\n",
    "print sum(m)"
   ]
  },
  {
   "cell_type": "markdown",
   "metadata": {},
   "source": [
    "This program produces the same result but it accumulates a stateful collection object, `m`, as it proceeds. The state of the computation is defined by the values of the variables `m` and `n`.\n",
    "\n",
    "The syntax of `m.append(n)` and `sum(m)` can be confusing. It causes some programmers to insist (wrongly) that Python is somehow not purely Object-oriented because it has a mixture of the `function()` and `object.method()` syntax. Rest assured, Python is purely Object-oriented. Some languages, like C++, allow the use of primitive data type such as `int`, `float`, and `long`, which are not objects. Python doesn't have these primitive types. The presence of prefix syntax doesn't change the nature of the language.\n",
    "\n",
    "To be pedantic, we could fully embrace the object model, the subclass, the list class, and add a sum method:"
   ]
  },
  {
   "cell_type": "code",
   "execution_count": 237,
   "metadata": {
    "collapsed": true
   },
   "outputs": [],
   "source": [
    "class SummableList(list):\n",
    "    def sum( self ):\n",
    "        s= 0\n",
    "        for v in self.__iter__():\n",
    "            s += v\n",
    "        return s"
   ]
  },
  {
   "cell_type": "markdown",
   "metadata": {},
   "source": [
    "If we initialize the variable, `m`, with the `SummableList()` class instead of the `list()` method, we can use the `m.sum()` method instead of the `sum(m)` method. This kind of change can help to clarify the idea that Python is truly and completely object-oriented. The use of prefix function notation is purely syntactic sugar.\n",
    "\n",
    "All three of these examples rely on variables to explicitly show the state of the program. They rely on the assignment statements to change the values of the variables and advance the computation toward completion. We can insert the assert statements throughout these examples to demonstrate that the expected state changes are implemented properly.\n",
    "\n",
    "In a functional sense, the sum of the multiples of 3 and 5 can be defined in two parts:\n",
    "\n",
    "* The sum of a sequence of numbers\n",
    "* A sequence of values that pass a simple test condition, for example, being multiples of three and five\n",
    "\n",
    "The sum of a sequence has a simple, recursive definition:"
   ]
  },
  {
   "cell_type": "code",
   "execution_count": 238,
   "metadata": {
    "collapsed": true
   },
   "outputs": [],
   "source": [
    "def sum(seq):\n",
    "    if len(seq) == 0: return 0\n",
    "    return seq[0] + sum(seq[1:])"
   ]
  },
  {
   "cell_type": "markdown",
   "metadata": {},
   "source": [
    "We've defined the sum of a sequence in two cases: the base case states that the sum of a zero length sequence is 0, while the recursive case states that the sum of a sequence is the first value plus the sum of the rest of the sequence. Since the recursive definition depends on a shorter sequence, we can be sure that it will (eventually) devolve to the base case.\n",
    "\n",
    "The `+` operator on the last line of the preceding example and the initial value of 0 in the base case characterize the equation as a sum. If we change the operator to * and the initial value to 1, it would just as easily compute a product. We'll return to this simple idea of generalization in the following chapters.\n",
    "\n",
    "Similarly, a sequence of values can have a simple, recursive definition, as follows:"
   ]
  },
  {
   "cell_type": "code",
   "execution_count": 239,
   "metadata": {
    "collapsed": true
   },
   "outputs": [],
   "source": [
    "def until(n, filter_func, v):\n",
    "    if v == n: return []\n",
    "    if filter_func(v): return [v] + until( n, filter_func, v+1 )\n",
    "    else: return until(n, filter_func, v+1)"
   ]
  },
  {
   "cell_type": "markdown",
   "metadata": {},
   "source": [
    "In this function, we've compared a given value, `v`, against the upper bound, `n`. If `v` reaches the upper bound, the resulting list must be empty. This is the base case for the given recursion.\n",
    "\n",
    "There are two more cases defined by the given `filter_func()` function. If the value of `v` is passed by the `filter_func()` function, we'll create a very small list, containing one element, and append the remaining values of the `until()` function to this list. If the value of `v` is rejected by the `filter_func()` function, this value is ignored and the result is simply defined by the remaining values of the `until()` function.\n",
    "\n",
    "We can see that the value of `v` will increase from an initial value until it reaches `n`, assuring us that we'll reach the base case soon.\n",
    "\n",
    "Here's how we can use the `until()` function to generate the multiples of 3 or 5. First, we'll define a handy `lambda` object to filter values:"
   ]
  },
  {
   "cell_type": "code",
   "execution_count": 240,
   "metadata": {
    "collapsed": false
   },
   "outputs": [
    {
     "name": "stdout",
     "output_type": "stream",
     "text": [
      "\n",
      "True\n",
      "True\n"
     ]
    }
   ],
   "source": [
    "mult_3_5= lambda x: x%3==0 or x%5==0\n",
    "\n",
    "print \n",
    "print mult_3_5(3)\n",
    "print mult_3_5(5)"
   ]
  },
  {
   "cell_type": "markdown",
   "metadata": {},
   "source": [
    "This function can be used with the `until()` function to generate a sequence of values, which are multiples of 3 or 5.\n",
    "\n",
    "The `until()` function for generating a sequence of values works as follows:"
   ]
  },
  {
   "cell_type": "code",
   "execution_count": 241,
   "metadata": {
    "collapsed": false
   },
   "outputs": [
    {
     "data": {
      "text/plain": [
       "[0, 3, 5, 6, 9]"
      ]
     },
     "execution_count": 241,
     "metadata": {},
     "output_type": "execute_result"
    }
   ],
   "source": [
    "until(10, lambda x: x%3==0 or x%5==0, 0)"
   ]
  },
  {
   "cell_type": "markdown",
   "metadata": {},
   "source": [
    "We can use our recursive `sum()` function to compute the sum of this sequence of values. The various functions, such as `sum()`, `until()`, and `mult_3_5()` are defined as simple recursive functions. The values are computed without restoring to use intermediate variables to store state. \n",
    "\n",
    "A hybrid functional version might look like the following:"
   ]
  },
  {
   "cell_type": "code",
   "execution_count": 242,
   "metadata": {
    "collapsed": false
   },
   "outputs": [
    {
     "data": {
      "text/plain": [
       "23"
      ]
     },
     "execution_count": 242,
     "metadata": {},
     "output_type": "execute_result"
    }
   ],
   "source": [
    "sum([ n for n in range(1,10) if n%3==0 or n%5==0 ])"
   ]
  },
  {
   "cell_type": "markdown",
   "metadata": {},
   "source": [
    "We've used nested generator expressions to iterate through a collection of values and compute the sum of these values. The `range(1, 10)` method is an iterable and, consequently, a kind of generator expression: it generates a sequence of values $\\{n|1\\leq n \\leq 10\\}$ \n",
    "\n",
    "The more complex expression, `n for n in range(1, 10) if n%3==0 or n%5==0`, is also an iterable expression. It produces a set of values $\\{n|1\\leq n \\leq 10 \\wedge ( n \\mod3=0 \\vee n \\mod5=0 )\\}$  \n",
    "\n",
    "The `if` clause of the expression can be extracted into a separate function, allowing us to easily repurpose this with other rules. We could also use a higher-order function named `filter()` instead of the if clause of the generator expression. "
   ]
  },
  {
   "cell_type": "markdown",
   "metadata": {},
   "source": [
    "###A classic example of functional programming: a functional version of the Newton-Raphson algorithm (Advance)\n",
    "\n",
    "As part of our introduction, we'll look at a classic example of functional programming. This is based on the classic paper **Why Functional Programming Matters** by *John Hughes*. The article appeared in a paper called *Research Topics in Functional Programming*, edited by D. Turner, published by Addison-Wesley in 1990.\n",
    "\n",
    "Here's a link to the paper Research Topics in Functional Programming:\n",
    "\n",
    "http://www.cs.kent.ac.uk/people/staff/dat/miranda/whyfp90.pdf\n",
    "\n",
    "This discussion of functional programming in general is profound. There are several examples given in the paper. We'll look at just one: the **Newton-Raphson algorithm** for locating the roots of a function. In this case, the function is the square root.\n",
    "\n",
    "It's important because many versions of this algorithm rely on the explicit state managed via loops. Indeed, the Hughes paper provides a snippet of the Fortran code that emphasizes stateful, imperative processing.\n",
    "\n",
    "The backbone of this approximation is the calculation of the next approximation from the current approximation. The `next_()` function takes `x`, an approximation to the `sqrt(n)` method and calculates a next value that brackets the proper root. Take a look at the following example:"
   ]
  },
  {
   "cell_type": "code",
   "execution_count": 243,
   "metadata": {
    "collapsed": true
   },
   "outputs": [],
   "source": [
    "def next_(n, x):\n",
    "    return (x+n/x)/2"
   ]
  },
  {
   "cell_type": "markdown",
   "metadata": {},
   "source": [
    "This function computes a series of values $a_{i+1}=(a_i+n/a_i)/2$. The distance between the values is halved each time, so it will quickly get to converge on the value such that $a=n/a$ which means $a=\\sqrt n$.  \n",
    "\n",
    "We don't want to call the method `next()` because this name would collide with a built-in function. We call it the `next_()` method so that we can follow the original presentation as closely as possible.\n",
    "\n",
    "Here's how the function looks when used it directly:"
   ]
  },
  {
   "cell_type": "code",
   "execution_count": 244,
   "metadata": {
    "collapsed": false
   },
   "outputs": [
    {
     "data": {
      "text/plain": [
       "[1.0, 1.5, 1.4166666666666665, 1.4142156862745097]"
      ]
     },
     "execution_count": 244,
     "metadata": {},
     "output_type": "execute_result"
    }
   ],
   "source": [
    "n = 2\n",
    "f = lambda x: next_(n, x)\n",
    "a0 = 1.0\n",
    "[x for x in (a0, f(a0), f(f(a0)), f(f(f(a0))),)]"
   ]
  },
  {
   "cell_type": "markdown",
   "metadata": {},
   "source": [
    "We've defined the `f()` method as a `lambda` that will converge on $\\sqrt2$. \n",
    "\n",
    "We started with 1.0 as the initial value for $a_0$. Then we evaluated a sequence of recursive evaluations: $a_1=f(a_0)$, $a_2=f(f(a_0))$ and so on. We evaluated these functions using a generator expression so that we could round off each value. This makes the output easier to read and easier to use with `doctest`. The sequence appears to converge rapidly on $\\sqrt 2$.\n",
    "\n",
    "We can write a function, which will (in principle) generate an infinite sequence of $a_i$ values converging on the proper square root:\n",
    "\n"
   ]
  },
  {
   "cell_type": "code",
   "execution_count": 245,
   "metadata": {
    "collapsed": true
   },
   "outputs": [],
   "source": [
    "def repeat(f, a):\n",
    "    yield a\n",
    "    for v in repeat(f, f(a)):\n",
    "        yield v"
   ]
  },
  {
   "cell_type": "markdown",
   "metadata": {},
   "source": [
    "This function will generate approximations using a function, `f()`, and an initial value, `a`. If we provide the `next_()` function defined earlier, we'll get a sequence of approximations to the square root of the `n` argument.\n",
    "\n",
    "We have two ways to return all the values instead of returning a generator expression, which are as follows:\n",
    "\n",
    "- We can write an explicit for loop as follows:` for x in some_iter: yield x`\n",
    "- We can use the `yield from` statement as follows: `yield from some_iter`\n",
    "\n",
    "Both techniques of yielding the values of a recursive generator function are equivalent. We'll try to emphasize `yield from`. In some cases, however, the `yield` with a complex expression will be more clear than the equivalent mapping or generator expression.\n",
    "\n",
    "Of course, we don't want the entire infinite sequence. We will stop generating values when two values are so close to each other that we can call either one the square root we're looking for. The common symbol for the value, which is close enough, is the Greek letter Epsilon, ε, which can be thought of as the largest error we will tolerate.\n",
    "\n",
    "In Python, we'll have to be a little clever about taking items from an infinite sequence one at a time. It works out well to use a simple interface function that wraps a slightly more complex recursion. Take a look at the following code cell:\n"
   ]
  },
  {
   "cell_type": "code",
   "execution_count": 246,
   "metadata": {
    "collapsed": false
   },
   "outputs": [],
   "source": [
    "def within(epsilon, iterable):\n",
    "    def head_tail(epsilon, a, iterable):\n",
    "        b = next(iterable)\n",
    "        if abs(a - b) <= epsilon: return b\n",
    "        return head_tail(epsilon, b, iterable)\n",
    "    return head_tail(epsilon, next(iterable), iterable)"
   ]
  },
  {
   "cell_type": "markdown",
   "metadata": {},
   "source": [
    "We've defined an internal function, `head_tail()`, which accepts the tolerance, epsilon $\\epsilon$, an item from the iterable sequence, `a`, and the rest of the iterable sequence, `iterable`. \n",
    "\n",
    "The next item from the `iterable` bound to a name `b`. If $\\mid a-b \\mid \\leq \\epsilon$, then the two values that are close enough together that we've found the square root. Otherwise, we use the `b` value in a recursive invocation of the `head_tail()` function to examine the next pair of values.\n",
    "\n",
    "Our `within()` function merely seeks to properly initialize the internal `head_tail()` function with the first value from the iterable parameter.\n",
    "\n",
    "Some functional programming languages offer a technique that will put a value back into an iterable sequence. In Python, this might be a kind of `unget()` or `previous()` method that pushes a value back into the iterator. Python iterables don't offer this kind of rich functionality.\n",
    "\n",
    "We can use the three functions `next_()`, `repeat()`, and `within()` to create a square root function, as follows:\n"
   ]
  },
  {
   "cell_type": "code",
   "execution_count": 247,
   "metadata": {
    "collapsed": false
   },
   "outputs": [],
   "source": [
    "def sqrt(a0, epsilon, n):\n",
    "    return within(epsilon, repeat(lambda x: next_(n,x), a0))"
   ]
  },
  {
   "cell_type": "code",
   "execution_count": 248,
   "metadata": {
    "collapsed": false
   },
   "outputs": [
    {
     "data": {
      "text/plain": [
       "1.4142135623746899"
      ]
     },
     "execution_count": 248,
     "metadata": {},
     "output_type": "execute_result"
    }
   ],
   "source": [
    "sqrt(1.,0.0001,2)"
   ]
  },
  {
   "cell_type": "markdown",
   "metadata": {},
   "source": [
    "We've used the `repeat()` function to generate a (potentially) infinite sequence of values based on the `next_(n,x)` function. Our `within()` function will stop generating values in the sequence when it locates two values with a difference less than epsilon, $ε$.\n",
    "\n",
    "When we use this version of the `sqrt()` method, we need to provide an initial seed value, `a0`, and an $ε$ value. An expression like `sqrt(1.0, .0001, 2)` will start with an approximation of `1.0` and compute the value of $\\sqrt 2$ to within 0.0001. For most applications, the initial `a0` value can be `1.0`. However, the closer it is to the actual square root, the more rapidly this method converges.\n",
    "\n",
    "The original example of this approximation algorithm was shown in the *Miranda* language. It's easy to see that there are few profound differences between *Miranda* and *Python*. The biggest difference is Miranda's ability to construct `cons`, a value back into an `iterable`, doing a kind of `unget`. This parallelism between Miranda and Python gives us confidence that many kinds of functional programming can be easily done in Python."
   ]
  },
  {
   "cell_type": "markdown",
   "metadata": {},
   "source": [
    "# Reading and Writing Data\n",
    "\n",
    "- Text files\n",
    "- Structured Text Files\n",
    "    * CSV files\n",
    "    * JSON\n",
    "    * HTML"
   ]
  },
  {
   "cell_type": "markdown",
   "metadata": {},
   "source": [
    "## Text Files"
   ]
  },
  {
   "cell_type": "code",
   "execution_count": 249,
   "metadata": {
    "collapsed": false
   },
   "outputs": [],
   "source": [
    "text = \"When you are courting a nice girl, an hour seems like a second.\\n\"\n",
    "text += \"When you sit on a red-hot cinder, a second seems like an hour.\\n\"\n",
    "text += \"That's relativity.\"\n"
   ]
  },
  {
   "cell_type": "code",
   "execution_count": 250,
   "metadata": {
    "collapsed": false
   },
   "outputs": [
    {
     "ename": "NameError",
     "evalue": "name 'albert' is not defined",
     "output_type": "error",
     "traceback": [
      "\u001b[0;31m---------------------------------------------------------------------------\u001b[0m",
      "\u001b[0;31mNameError\u001b[0m                                 Traceback (most recent call last)",
      "\u001b[0;32m<ipython-input-250-11767518c1d6>\u001b[0m in \u001b[0;36m<module>\u001b[0;34m()\u001b[0m\n\u001b[0;32m----> 1\u001b[0;31m \u001b[0malbert\u001b[0m\u001b[0;34m.\u001b[0m\u001b[0mtxt\u001b[0m\u001b[0;34m\u001b[0m\u001b[0m\n\u001b[0m",
      "\u001b[0;31mNameError\u001b[0m: name 'albert' is not defined"
     ]
    }
   ],
   "source": [
    "albert.txt"
   ]
  },
  {
   "cell_type": "code",
   "execution_count": 251,
   "metadata": {
    "collapsed": false
   },
   "outputs": [],
   "source": [
    "# FIRST: Create an outfile object\n",
    "outfile = open('albert.txt','w')\n",
    "\n",
    "# SECOND: Write the text data\n",
    "outfile.write(text)\n",
    "\n",
    "# THIRD: Close the outfile object\n",
    "outfile.close()\n"
   ]
  },
  {
   "cell_type": "code",
   "execution_count": 252,
   "metadata": {
    "collapsed": false
   },
   "outputs": [
    {
     "name": "stdout",
     "output_type": "stream",
     "text": [
      "When you are courting a nice girl, an hour seems like a second.\n",
      "When you sit on a red-hot cinder, a second seems like an hour.\n",
      "That's relativity.\n"
     ]
    }
   ],
   "source": [
    "infile = open('albert.txt','r')\n",
    "text = infile.read()\n",
    "infile.close()\n",
    "\n",
    "print text"
   ]
  },
  {
   "cell_type": "code",
   "execution_count": 253,
   "metadata": {
    "collapsed": false
   },
   "outputs": [],
   "source": [
    "with open('albert.txt','r') as infile:\n",
    "    text = infile.read()"
   ]
  },
  {
   "cell_type": "code",
   "execution_count": 254,
   "metadata": {
    "collapsed": false
   },
   "outputs": [
    {
     "name": "stdout",
     "output_type": "stream",
     "text": [
      "145\n"
     ]
    }
   ],
   "source": [
    "print len(text)"
   ]
  },
  {
   "cell_type": "markdown",
   "metadata": {},
   "source": [
    "## Structured Text Data\n",
    "\n",
    "- CSV: comma-separated values \n",
    "- JSON: JavaScript Object Notation\n",
    "- XML: EXtensible Markup Language\n",
    "- HTML"
   ]
  },
  {
   "cell_type": "code",
   "execution_count": 255,
   "metadata": {
    "collapsed": false
   },
   "outputs": [
    {
     "name": "stdout",
     "output_type": "stream",
     "text": [
      "['first', 'second', 'third']\n",
      "['1', '3', '6', '8']\n",
      "['2', '4', '6']\n"
     ]
    }
   ],
   "source": [
    "import csv\n",
    "with open('numbers.csv','w') as outfile:\n",
    "    writer = csv.writer(outfile)\n",
    "    writer.writerow(('first','second','third'))\n",
    "    writer.writerow((1,3,6,8)) #oops\n",
    "    writer.writerow((2,4,6))\n",
    "    \n",
    "\n",
    "with open('numbers.csv','r') as infile:\n",
    "    reader = csv.reader(infile)\n",
    "    for lines in reader:\n",
    "        print lines\n"
   ]
  },
  {
   "cell_type": "markdown",
   "metadata": {},
   "source": [
    "JSON is a more flexible fromat than CSV for structured text"
   ]
  },
  {
   "cell_type": "code",
   "execution_count": 256,
   "metadata": {
    "collapsed": false
   },
   "outputs": [
    {
     "data": {
      "text/plain": [
       "'{\"similar\": [\"c\", \"Modula-3\", \"lisp\"], \"name\": \"Guido van Rossum\", \"language\": \"Python\", \"users\": 1000000}'"
      ]
     },
     "execution_count": 256,
     "metadata": {},
     "output_type": "execute_result"
    }
   ],
   "source": [
    "data = {'name': 'Guido van Rossum',\n",
    "        'language': 'Python',\n",
    "        'similar': ['c','Modula-3','lisp'],\n",
    "        'users': 1000000}\n",
    "\n",
    "import json\n",
    "json.dumps(data)\n",
    "\n"
   ]
  },
  {
   "cell_type": "code",
   "execution_count": 257,
   "metadata": {
    "collapsed": false
   },
   "outputs": [],
   "source": [
    "with open('data.json','w') as outfile:\n",
    "    outfile.write(json.dumps(data))"
   ]
  },
  {
   "cell_type": "code",
   "execution_count": 258,
   "metadata": {
    "collapsed": false
   },
   "outputs": [
    {
     "name": "stdout",
     "output_type": "stream",
     "text": [
      "{u'similar': [u'c', u'Modula-3', u'lisp'], u'name': u'Guido van Rossum', u'language': u'Python', u'users': 1000000}\n",
      "Guido van Rossum\n"
     ]
    }
   ],
   "source": [
    "with open('data.json','r') as infile:\n",
    "    text = infile.read()\n",
    "    data = json.loads(text)\n",
    "    \n",
    "    \n",
    "print data\n",
    "print data['name']"
   ]
  },
  {
   "cell_type": "markdown",
   "metadata": {},
   "source": [
    "## HTML: webAPIs with urllib2"
   ]
  },
  {
   "cell_type": "code",
   "execution_count": 259,
   "metadata": {
    "collapsed": false
   },
   "outputs": [],
   "source": [
    "import urllib2\n",
    "response = urllib2.urlopen('http://vimeo.com/api/v2/video/57733101.json')\n",
    "data = json.load(response)[0]  "
   ]
  },
  {
   "cell_type": "code",
   "execution_count": 260,
   "metadata": {
    "collapsed": false
   },
   "outputs": [
    {
     "name": "stdout",
     "output_type": "stream",
     "text": [
      "{u'upload_date': u'2013-01-19 04:01:15', u'height': 360, u'duration': 143, u'id': 57733101, u'user_id': 1334563, u'stats_number_of_likes': 17, u'thumbnail_medium': u'http://i.vimeocdn.com/video/436057121_200x150.jpg', u'title': u'The Good Man trailer', u'user_url': u'http://vimeo.com/manifestofilms', u'width': 640, u'user_portrait_large': u'http://i.vimeocdn.com/portrait/4778306_100x100.jpg', u'embed_privacy': u'anywhere', u'user_name': u'Manifesto Films', u'user_portrait_small': u'http://i.vimeocdn.com/portrait/4778306_30x30.jpg', u'user_portrait_medium': u'http://i.vimeocdn.com/portrait/4778306_75x75.jpg', u'description': u'Trailer for the Manifesto Films production, The Good Man, now available in UK/Ireland/US/Canada/Australia/New Zealand on iTunes (https://itunes.apple.com/us/movie/the-good-man/id873130906) and DVD (http://www.amazon.co.uk/The-Good-Man-Aiden-Gillen/dp/B00IIK6CGU/). Co-production with Jet Black Entertainment (South Africa). Starring Aidan Gillen, Thabang Sidloyi, Kelly Campbell, Lunathi Mampofu. Written & directed by Phil Harrison. More info at www.thegoodmanfilm.com<br />\\r\\n<br />\\r\\nCheck out the Variety Magazine review here: http://www.variety.com/review/VE1117947909/', u'tags': u'film, ireland, africa, cape town, belfast', u'stats_number_of_plays': 4867, u'stats_number_of_comments': 0, u'thumbnail_small': u'http://i.vimeocdn.com/video/436057121_100x75.jpg', u'thumbnail_large': u'http://i.vimeocdn.com/video/436057121_640.jpg', u'url': u'http://vimeo.com/57733101', u'user_portrait_huge': u'http://i.vimeocdn.com/portrait/4778306_300x300.jpg'}\n",
      "----------------------------------------------------------------------------------------------------\n",
      "The Good Man trailer\n",
      "http://vimeo.com/57733101\n",
      "143\n",
      "4867\n"
     ]
    }
   ],
   "source": [
    "print data\n",
    "print '-'*100\n",
    "print data['title']\n",
    "print data['url']\n",
    "print data['duration']\n",
    "print data['stats_number_of_plays']"
   ]
  },
  {
   "cell_type": "markdown",
   "metadata": {},
   "source": [
    "# Plotting with Matplotlib\n",
    "First rule in statisitcal modelling, plot your data if you can. Python has a great plotting library called [Matplotlib](http://matplotlib.sf.net). The IPython notebook interface we are using for these notes has that functionality built in.\n",
    "\n",
    "Matplotlib is an excellent 2D and 3D graphics library for generating scientific figures. Some of the many advantages of this library includes:\n",
    "\n",
    "* Easy to get started\n",
    "* Support for $\\LaTeX$ formatted labels and texts\n",
    "* Great control of every element in a figure, including figure size and DPI. \n",
    "* High-quality output in many formats, including PNG, PDF, SVG, EPS.\n",
    "* GUI for interactively exploring figures *and* support for headless generation of figure files (useful for batch jobs).\n",
    "\n",
    "The `matplotlib.pyplot` module contains the API for functions, such as `plot`.  The convention is to import it as `plt`:\n",
    "\n",
    "    import matplotlib.pyplot as plt\n",
    "    \n",
    "You can lauch IPython with `matplotlib` integration by typing:\n",
    "\n",
    "    ipython --pylab\n",
    "    \n",
    "    ipython notebook --pylab=inline\n",
    "    \n",
    "These two methods are the best ways to use matplotlib interactively.  We you do this, you will have access to several `numpy` and `pyplot` in the same namespace.\n",
    "\n",
    "As an example, we have looked at two different functions, the Fibonacci function, and the factorial function, both of which grow faster than polynomially. Which one grows the fastest? Let's plot them."
   ]
  },
  {
   "cell_type": "code",
   "execution_count": 261,
   "metadata": {
    "collapsed": false
   },
   "outputs": [
    {
     "ename": "TypeError",
     "evalue": "fibonacci() takes no arguments (1 given)",
     "output_type": "error",
     "traceback": [
      "\u001b[0;31m---------------------------------------------------------------------------\u001b[0m",
      "\u001b[0;31mTypeError\u001b[0m                                 Traceback (most recent call last)",
      "\u001b[0;32m<ipython-input-261-f901681162d1>\u001b[0m in \u001b[0;36m<module>\u001b[0;34m()\u001b[0m\n\u001b[0;32m----> 1\u001b[0;31m \u001b[0mfibs\u001b[0m \u001b[0;34m=\u001b[0m \u001b[0mfibonacci\u001b[0m\u001b[0;34m(\u001b[0m\u001b[0;36m10\u001b[0m\u001b[0;34m)\u001b[0m\u001b[0;34m\u001b[0m\u001b[0m\n\u001b[0m\u001b[1;32m      2\u001b[0m \u001b[0mfacts\u001b[0m \u001b[0;34m=\u001b[0m \u001b[0;34m[\u001b[0m\u001b[0;34m]\u001b[0m\u001b[0;34m\u001b[0m\u001b[0m\n\u001b[1;32m      3\u001b[0m \u001b[0;32mfor\u001b[0m \u001b[0mi\u001b[0m \u001b[0;32min\u001b[0m \u001b[0mrange\u001b[0m\u001b[0;34m(\u001b[0m\u001b[0;36m10\u001b[0m\u001b[0;34m)\u001b[0m\u001b[0;34m:\u001b[0m\u001b[0;34m\u001b[0m\u001b[0m\n\u001b[1;32m      4\u001b[0m     \u001b[0mfacts\u001b[0m\u001b[0;34m.\u001b[0m\u001b[0mappend\u001b[0m\u001b[0;34m(\u001b[0m\u001b[0mfact\u001b[0m\u001b[0;34m(\u001b[0m\u001b[0mi\u001b[0m\u001b[0;34m)\u001b[0m\u001b[0;34m)\u001b[0m\u001b[0;34m\u001b[0m\u001b[0m\n\u001b[1;32m      5\u001b[0m \u001b[0;34m\u001b[0m\u001b[0m\n",
      "\u001b[0;31mTypeError\u001b[0m: fibonacci() takes no arguments (1 given)"
     ]
    }
   ],
   "source": [
    "fibs = fibonacci(10)\n",
    "facts = []\n",
    "for i in range(10):\n",
    "    facts.append(fact(i))\n",
    "    \n",
    "# figsize(8,6)\n",
    "plt.plot(facts,label=\"factorial\")\n",
    "plt.plot(fibs,label=\"Fibonacci\")    \n",
    "plt.xlabel(\"n\")\n",
    "plt.legend()"
   ]
  },
  {
   "cell_type": "code",
   "execution_count": null,
   "metadata": {
    "collapsed": false
   },
   "outputs": [],
   "source": [
    "# let us plot it on a semilog plot and we can see both more clearly\n",
    "\n",
    "plt.semilogy(facts,label=\"factorial\")\n",
    "plt.semilogy(fibs,label=\"Fibonacci\")\n",
    "plt.xlabel(\"n\")\n",
    "plt.legend()"
   ]
  },
  {
   "cell_type": "code",
   "execution_count": null,
   "metadata": {
    "collapsed": false
   },
   "outputs": [],
   "source": [
    "\n",
    "x = np.linspace(0, 2*pi,100)\n",
    "print x\n",
    "y = np.sin(x)\n",
    "print y\n",
    "\n",
    "plt.plot (x,y);"
   ]
  },
  {
   "cell_type": "code",
   "execution_count": null,
   "metadata": {
    "collapsed": false
   },
   "outputs": [],
   "source": [
    "fig, ax = plt.subplots()\n",
    "\n",
    "ax.plot(x, x**2, label=r\"$y = \\alpha^2$\");\n",
    "ax.plot(x, x**3, label=r\"$y = \\alpha^3$\");\n",
    "ax.set_xlabel(r'$\\alpha$', fontsize=18)\n",
    "ax.set_ylabel(r'$y$', fontsize=18)\n",
    "ax.set_title('title')\n",
    "ax.legend(loc=2); # upper left corner"
   ]
  },
  {
   "cell_type": "code",
   "execution_count": null,
   "metadata": {
    "collapsed": false
   },
   "outputs": [],
   "source": [
    "fig, axes = plt.subplots(1, 2, figsize=(10,3))\n",
    "\n",
    "# default grid appearance\n",
    "axes[0].plot(x, x**2, x, x**3, lw=2)\n",
    "axes[0].grid(True)\n",
    "\n",
    "# custom grid appearance\n",
    "axes[1].plot(x, x**2, x, x**3, lw=2)\n",
    "axes[1].grid(color='b', alpha=0.5, linestyle='dashed', linewidth=0.5)"
   ]
  },
  {
   "cell_type": "code",
   "execution_count": null,
   "metadata": {
    "collapsed": false
   },
   "outputs": [],
   "source": [
    "n = np.array([0,1,2,3,4,5])\n",
    "fig, axes = plt.subplots(1, 4, figsize=(12,3))\n",
    "axes[0].scatter(x, x +0.5*np.random.randn(len(x)))\n",
    "axes[1].step(n, n**2, lw=2)\n",
    "axes[2].bar(n, n**2, align=\"center\", width=0.5, alpha=0.5)\n",
    "axes[3].fill_between(x, x**2, x**3, color=\"green\", alpha=0.5);"
   ]
  },
  {
   "cell_type": "code",
   "execution_count": null,
   "metadata": {
    "collapsed": false
   },
   "outputs": [],
   "source": [
    "# Histograms\n",
    "\n",
    "mu = 100\n",
    "sigma = 15\n",
    "x = mu + sigma * np.random.randn(3000000)\n",
    "\n",
    "plt.hist(x, 10, normed=1, alpha=0.5, facecolor='#377EB8')\n",
    "plt.show()"
   ]
  },
  {
   "cell_type": "code",
   "execution_count": null,
   "metadata": {
    "collapsed": false
   },
   "outputs": [],
   "source": [
    "density = stats.kde.gaussian_kde(x)\n",
    "xd = np.linspace(min(x)-10, max(x)+10, 100)\n",
    "plt.plot(xd, density(xd), lw=2, color='#FF7F00') #line\n",
    "plt.fill_between(xd, 0, density(xd), alpha=0.5, color='#FF7F00')\n",
    "plt.show()"
   ]
  },
  {
   "cell_type": "code",
   "execution_count": null,
   "metadata": {
    "collapsed": false
   },
   "outputs": [],
   "source": [
    "plt.hist(x, 10, normed=1, facecolor='#377EB8', alpha=0.5)\n",
    "plt.plot(xd, density(xd), lw=2, color='#FF7F00')\n",
    "plt.show()"
   ]
  },
  {
   "cell_type": "code",
   "execution_count": null,
   "metadata": {
    "collapsed": false
   },
   "outputs": [],
   "source": [
    "from scipy import stats\n",
    "x1 = 100 + 15 * np.random.randn(100)\n",
    "x2 = 50 + 10 * np.random.randn(100)\n",
    "\n",
    "density1 = stats.kde.gaussian_kde(x1)\n",
    "density2 = stats.kde.gaussian_kde(x2)\n",
    "\n",
    "x = np.linspace(0, 150, 200)"
   ]
  },
  {
   "cell_type": "code",
   "execution_count": null,
   "metadata": {
    "collapsed": false
   },
   "outputs": [],
   "source": [
    "plt.fill_between(x, 0, density1(x), alpha=0.5, color='#1B9E77')\n",
    "plt.fill_between(x, 0, density2(x), alpha=0.5, color='#D95F02')\n",
    "\n",
    "plt.plot([100,100],[0,density1(100)], color ='#1B9E77', linewidth=1, linestyle=\"--\")\n",
    "plt.plot([50,50],[0,density2(50)], color ='#D95F02', linewidth=1, linestyle=\"--\")\n",
    "plt.show()"
   ]
  },
  {
   "cell_type": "markdown",
   "metadata": {},
   "source": [
    "#Numpy and Scipy: Computing with vectors and arrays\n",
    "\n",
    "[Numpy](http://numpy.org) contains core routines for doing fast vector, matrix, and linear algebra-type operations in Python. [Scipy](http://scipy) contains additional routines for optimization, special functions, and so on. Both contain modules written in C and Fortran so that they're as fast as possible. Together, they give Python roughly the same capability that the [Matlab](http://www.mathworks.com/products/matlab/) program offers, but with an increase of speed that use to be higher than x300. (In fact, if you're an experienced Matlab user, there a [guide to Numpy for Matlab users](http://www.scipy.org/NumPy_for_Matlab_Users) just for you.)\n",
    "\n",
    "### Working with vectors and matrices\n",
    "Fundamental to both Numpy and Scipy is the ability to work with vectors and matrices. You can create vectors from lists using the **array** command. You can pass in a second argument to **array** that gives the numeric type. There are a number of types [listed here](http://docs.scipy.org/doc/numpy/user/basics.types.html) that your matrix can be. Some of these are aliased to single character codes. The most common ones are 'd' (double precision floating point number), 'D' (double precision complex number), and 'i' (int32). "
   ]
  },
  {
   "cell_type": "code",
   "execution_count": 262,
   "metadata": {
    "collapsed": false
   },
   "outputs": [
    {
     "name": "stdout",
     "output_type": "stream",
     "text": [
      "[1 2 3 4 5 6]\n",
      "[ 1.  2.  3.  4.  5.  6.]\n",
      "[ 1.+0.j  2.+0.j  3.+0.j  4.+0.j  5.+0.j  6.+0.j]\n",
      "[1 2 3 4 5 6]\n",
      "[[ 0.  1.]\n",
      " [ 1.  0.]]\n"
     ]
    }
   ],
   "source": [
    "print np.array([1,2,3,4,5,6])\n",
    "print np.array([1,2,3,4,5,6],'d')\n",
    "print np.array([1,2,3,4,5,6],'D')\n",
    "print np.array([1,2,3,4,5,6],'i')\n",
    "print np.array([[0,1],[1,0]],'d')"
   ]
  },
  {
   "cell_type": "code",
   "execution_count": 263,
   "metadata": {
    "collapsed": false
   },
   "outputs": [
    {
     "name": "stdout",
     "output_type": "stream",
     "text": [
      "[[ 0.  0.  0.]\n",
      " [ 0.  0.  0.]\n",
      " [ 0.  0.  0.]]\n",
      "[ 0.  0.  0.]\n",
      "[[ 0.  0.  0.]]\n",
      "[[ 0.]\n",
      " [ 0.]\n",
      " [ 0.]]\n",
      "[[ 1.  0.  0.]\n",
      " [ 0.  1.  0.]\n",
      " [ 0.  0.  1.]]\n",
      "[[ 333.    0.    0.]\n",
      " [   0.  333.    0.]\n",
      " [   0.    0.  333.]]\n",
      "[[ 1.  1.  1.]\n",
      " [ 1.  1.  1.]\n",
      " [ 1.  1.  1.]]\n",
      "[[ 333.  333.  333.]\n",
      " [ 333.  333.  333.]\n",
      " [ 333.  333.  333.]]\n"
     ]
    }
   ],
   "source": [
    "print np.zeros((3,3),'d')\n",
    "print np.zeros(3,'d')\n",
    "print np.zeros((1,3),'d')\n",
    "print np.zeros((3,1),'d')\n",
    "print np.identity(3,'d')\n",
    "print np.identity(3,'d')*333\n",
    "print np.ones((3,3),'d')\n",
    "print np.ones((3,3),'d')*333"
   ]
  },
  {
   "cell_type": "code",
   "execution_count": 264,
   "metadata": {
    "collapsed": false
   },
   "outputs": [
    {
     "data": {
      "text/plain": [
       "array([[ 2.,  1.],\n",
       "       [ 1.,  3.]])"
      ]
     },
     "execution_count": 264,
     "metadata": {},
     "output_type": "execute_result"
    }
   ],
   "source": [
    "np.identity(2,'d') + np.array([[1,1],[1,2]])"
   ]
  },
  {
   "cell_type": "code",
   "execution_count": 265,
   "metadata": {
    "collapsed": false
   },
   "outputs": [
    {
     "name": "stdout",
     "output_type": "stream",
     "text": [
      "[[ 1.  0.]\n",
      " [ 0.  1.]]\n",
      "====================\n",
      "[[ 1.  1.]\n",
      " [ 1.  1.]]\n"
     ]
    }
   ],
   "source": [
    "# elementwise multiplication\n",
    "print np.identity(2)*np.ones((2,2))\n",
    "\n",
    "print '='*20\n",
    "\n",
    "# matrix multiplication\n",
    "print np.dot(np.identity(2),np.ones((2,2)))"
   ]
  },
  {
   "cell_type": "code",
   "execution_count": 266,
   "metadata": {
    "collapsed": false
   },
   "outputs": [
    {
     "data": {
      "text/plain": [
       "array([[1, 3],\n",
       "       [2, 4]])"
      ]
     },
     "execution_count": 266,
     "metadata": {},
     "output_type": "execute_result"
    }
   ],
   "source": [
    "# Transpose matrices\n",
    "m = np.array([[1,2],[3,4]])\n",
    "m.T"
   ]
  },
  {
   "cell_type": "code",
   "execution_count": 267,
   "metadata": {
    "collapsed": false
   },
   "outputs": [
    {
     "data": {
      "text/plain": [
       "array([[1, 0, 0, 0, 0],\n",
       "       [0, 2, 0, 0, 0],\n",
       "       [0, 0, 3, 0, 0],\n",
       "       [0, 0, 0, 4, 0],\n",
       "       [0, 0, 0, 0, 5]])"
      ]
     },
     "execution_count": 267,
     "metadata": {},
     "output_type": "execute_result"
    }
   ],
   "source": [
    "# Diagonal of square matrix\n",
    "np.diag([1,2,3,4,5])"
   ]
  },
  {
   "cell_type": "code",
   "execution_count": 268,
   "metadata": {
    "collapsed": false
   },
   "outputs": [
    {
     "name": "stdout",
     "output_type": "stream",
     "text": [
      "[ 5.  3. -2.]\n",
      "(array([ 5.,  3., -2.]), array([], dtype=float64), 3, array([ 6.08222134,  4.95180933,  0.69725745]))\n"
     ]
    }
   ],
   "source": [
    "# Solve systems of linear equations using the solve command\n",
    "\n",
    "A = np.array([[1,1,1],[0,2,5],[2,5,-1]])\n",
    "b = np.array([6,-4,27])\n",
    "print np.linalg.solve(A,b)\n",
    "print np.linalg.lstsq(A,b)"
   ]
  },
  {
   "cell_type": "code",
   "execution_count": 269,
   "metadata": {
    "collapsed": false
   },
   "outputs": [
    {
     "data": {
      "text/plain": [
       "array([ 15.,   5.])"
      ]
     },
     "execution_count": 269,
     "metadata": {},
     "output_type": "execute_result"
    }
   ],
   "source": [
    "A = np.array([[13,-4],[-4,7]],'d')\n",
    "np.linalg.eigvals(A)"
   ]
  },
  {
   "cell_type": "markdown",
   "metadata": {},
   "source": [
    "## Code Example 02: Least-squares fitting\n",
    "Very often we deal with some data that we want to fit to some sort of expected behavior. Say we have the following:"
   ]
  },
  {
   "cell_type": "code",
   "execution_count": 270,
   "metadata": {
    "collapsed": false
   },
   "outputs": [
    {
     "data": {
      "text/plain": [
       "str"
      ]
     },
     "execution_count": 270,
     "metadata": {},
     "output_type": "execute_result"
    }
   ],
   "source": [
    "raw_data = \"\"\"\\\n",
    "3.1905781584582433,0.028208609537968457\n",
    "4.346895074946466,0.007160804747670053\n",
    "5.374732334047101,0.0046962988461934805\n",
    "8.201284796573875,0.0004614473299618756\n",
    "10.899357601713055,0.00005038370219939726\n",
    "16.295503211991434,4.377451812785309e-7\n",
    "21.82012847965739,3.0799922117601088e-9\n",
    "32.48394004282656,1.524776208284536e-13\n",
    "43.53319057815846,5.5012073588707224e-18\"\"\"\n",
    "\n",
    "type(raw_data)"
   ]
  },
  {
   "cell_type": "code",
   "execution_count": 271,
   "metadata": {
    "collapsed": false
   },
   "outputs": [
    {
     "name": "stdout",
     "output_type": "stream",
     "text": [
      "[[  3.19057816e+00   2.82086095e-02]\n",
      " [  4.34689507e+00   7.16080475e-03]\n",
      " [  5.37473233e+00   4.69629885e-03]\n",
      " [  8.20128480e+00   4.61447330e-04]\n",
      " [  1.08993576e+01   5.03837022e-05]\n",
      " [  1.62955032e+01   4.37745181e-07]\n",
      " [  2.18201285e+01   3.07999221e-09]\n",
      " [  3.24839400e+01   1.52477621e-13]\n",
      " [  4.35331906e+01   5.50120736e-18]]\n"
     ]
    }
   ],
   "source": [
    "# DATA WRANGLING: Let us work a little with raw_data to make it mathematically acceptable\n",
    "\n",
    "data = []\n",
    "for line in raw_data.splitlines():\n",
    "    words = line.split(',')\n",
    "    data.append(map(float,words))\n",
    "data = np.array(data)\n",
    "print data"
   ]
  },
  {
   "cell_type": "code",
   "execution_count": 272,
   "metadata": {
    "collapsed": false
   },
   "outputs": [
    {
     "data": {
      "image/png": "[encoded data removed]",
      "text/plain": [
       "<matplotlib.figure.Figure at 0x111233a50>"
      ]
     },
     "metadata": {},
     "output_type": "display_data"
    }
   ],
   "source": [
    "# DATA VISUALIZATION: How these data looks like... \n",
    "\n",
    "plt.title(\"Raw Data\")\n",
    "plt.xlabel(\"Distance\")\n",
    "plt.plot(data[:,0],data[:,1],'bo');\n"
   ]
  },
  {
   "cell_type": "code",
   "execution_count": 273,
   "metadata": {
    "collapsed": false
   },
   "outputs": [
    {
     "data": {
      "image/png": "[encoded data removed]",
      "text/plain": [
       "<matplotlib.figure.Figure at 0x109eff390>"
      ]
     },
     "metadata": {},
     "output_type": "display_data"
    }
   ],
   "source": [
    "plt.title(\"Raw Data\")\n",
    "plt.xlabel(\"Distance\")\n",
    "plt.semilogy(data[:,0],data[:,1],'bo');"
   ]
  },
  {
   "cell_type": "markdown",
   "metadata": {},
   "source": [
    "For a pure exponential decay like this, we can fit the log of the data to a straight line. The above plot suggests this is a good approximation. Given a function\n",
    "$$ y = Ae^{-ax} $$\n",
    "$$ \\log(y) = \\log(A) - ax$$\n",
    "Thus, if we fit the log of the data versus x, we should get a straight line with slope $a$, and an intercept that gives the constant $A$.\n",
    "\n",
    "There's a numpy function called **polyfit** that will fit data to a polynomial form. We'll use this to fit to a straight line (a polynomial of order 1)"
   ]
  },
  {
   "cell_type": "code",
   "execution_count": 274,
   "metadata": {
    "collapsed": false
   },
   "outputs": [],
   "source": [
    "params = np.polyfit(data[:,0],np.log(data[:,1]),1)\n",
    "a = params[0]\n",
    "A = np.exp(params[1])"
   ]
  },
  {
   "cell_type": "code",
   "execution_count": 275,
   "metadata": {
    "collapsed": false
   },
   "outputs": [
    {
     "data": {
      "image/png": "[encoded data removed]",
      "text/plain": [
       "<matplotlib.figure.Figure at 0x10b06c810>"
      ]
     },
     "metadata": {},
     "output_type": "display_data"
    }
   ],
   "source": [
    "x = np.linspace(1,45)\n",
    "plt.title(\"Raw Data\")\n",
    "plt.xlabel(\"Distance\")\n",
    "plt.semilogy(data[:,0],data[:,1],'bo')\n",
    "plt.semilogy(x,A*np.exp(a*x),'b-');"
   ]
  },
  {
   "cell_type": "markdown",
   "metadata": {},
   "source": [
    "Let us consider another example a little bit more complicate:"
   ]
  },
  {
   "cell_type": "code",
   "execution_count": 276,
   "metadata": {
    "collapsed": false
   },
   "outputs": [
    {
     "data": {
      "image/png": "[encoded data removed]",
      "text/plain": [
       "<matplotlib.figure.Figure at 0x114878410>"
      ]
     },
     "metadata": {},
     "output_type": "display_data"
    }
   ],
   "source": [
    "gauss_data = \"\"\"\\\n",
    "-0.9902286902286903,1.4065274110372852e-19\n",
    "-0.7566104566104566,2.2504438576596563e-18\n",
    "-0.5117810117810118,1.9459459459459454\n",
    "-0.31887271887271884,10.621621621621626\n",
    "-0.250997150997151,15.891891891891893\n",
    "-0.1463309463309464,23.756756756756754\n",
    "-0.07267267267267263,28.135135135135133\n",
    "-0.04426734426734419,29.02702702702703\n",
    "-0.0015939015939017698,29.675675675675677\n",
    "0.04689304689304685,29.10810810810811\n",
    "0.0840994840994842,27.324324324324326\n",
    "0.1700546700546699,22.216216216216214\n",
    "0.370878570878571,7.540540540540545\n",
    "0.5338338338338338,1.621621621621618\n",
    "0.722014322014322,0.08108108108108068\n",
    "0.9926849926849926,-0.08108108108108646\"\"\"\n",
    "\n",
    "data = []\n",
    "for line in gauss_data.splitlines():\n",
    "    words = line.split(',')\n",
    "    data.append(map(float,words))\n",
    "data = np.array(data)\n",
    "\n",
    "plt.plot(data[:,0],data[:,1],'bo');"
   ]
  },
  {
   "cell_type": "markdown",
   "metadata": {},
   "source": [
    "let's use the **curve_fit** function from Scipy, which can fit to arbitrary functions. You can learn more using help(curve_fit).\n",
    "\n",
    "First define a general Gaussian function to fit to."
   ]
  },
  {
   "cell_type": "code",
   "execution_count": 277,
   "metadata": {
    "collapsed": false
   },
   "outputs": [],
   "source": [
    "def gauss(x,A,a): return A*np.exp(a*x**2)"
   ]
  },
  {
   "cell_type": "code",
   "execution_count": 278,
   "metadata": {
    "collapsed": false
   },
   "outputs": [
    {
     "data": {
      "image/png": "[encoded data removed]",
      "text/plain": [
       "<matplotlib.figure.Figure at 0x1149edf10>"
      ]
     },
     "metadata": {},
     "output_type": "display_data"
    }
   ],
   "source": [
    "from scipy.optimize import curve_fit\n",
    "\n",
    "params,conv = curve_fit(gauss,data[:,0],data[:,1])\n",
    "x = np.linspace(-1,1)\n",
    "plt.plot(data[:,0],data[:,1],'bo');\n",
    "A,a = params\n",
    "plt.plot(x,gauss(x,A,a),'b-');"
   ]
  },
  {
   "cell_type": "markdown",
   "metadata": {},
   "source": [
    "## Code Example 03: Monte-Carlo simulation and $\\pi$ computation\n",
    "Python has good random number generators in the standard library. The **random()** function gives pseudorandom numbers uniformly distributed between 0 and 1:"
   ]
  },
  {
   "cell_type": "code",
   "execution_count": 279,
   "metadata": {
    "collapsed": false
   },
   "outputs": [
    {
     "data": {
      "image/png": "[encoded data removed]",
      "text/plain": [
       "<matplotlib.figure.Figure at 0x1111fcb90>"
      ]
     },
     "metadata": {},
     "output_type": "display_data"
    }
   ],
   "source": [
    "from random import random\n",
    "rands = []\n",
    "for i in range(100):\n",
    "    rands.append(random())\n",
    "plt.plot(rands);"
   ]
  },
  {
   "cell_type": "markdown",
   "metadata": {},
   "source": [
    "**random()** uses the [Mersenne Twister](http://www.math.sci.hiroshima-u.ac.jp/~m-mat/MT/emt.html) algorithm, which is a highly regarded pseudorandom number generator. There are also functions to generate random integers, to randomly shuffle a list, and functions to pick random numbers from a particular distribution, like the normal distribution:"
   ]
  },
  {
   "cell_type": "code",
   "execution_count": 280,
   "metadata": {
    "collapsed": false
   },
   "outputs": [
    {
     "data": {
      "image/png": "[encoded data removed]",
      "text/plain": [
       "<matplotlib.figure.Figure at 0x114880890>"
      ]
     },
     "metadata": {},
     "output_type": "display_data"
    }
   ],
   "source": [
    "from random import gauss\n",
    "grands = []\n",
    "for i in range(100):\n",
    "    grands.append(gauss(0,1))\n",
    "plt.plot(grands);"
   ]
  },
  {
   "cell_type": "markdown",
   "metadata": {},
   "source": [
    "Here you have an interesting program to compute $\\pi$ by taking random numbers as x and y coordinates, and counting how many of them were in the unit circle. For example:"
   ]
  },
  {
   "cell_type": "code",
   "execution_count": 281,
   "metadata": {
    "collapsed": false
   },
   "outputs": [
    {
     "data": {
      "text/plain": [
       "[<matplotlib.lines.Line2D at 0x10df56c10>]"
      ]
     },
     "execution_count": 281,
     "metadata": {},
     "output_type": "execute_result"
    },
    {
     "data": {
      "image/png": "[encoded data removed]",
      "text/plain": [
       "<matplotlib.figure.Figure at 0x111233750>"
      ]
     },
     "metadata": {},
     "output_type": "display_data"
    }
   ],
   "source": [
    "npts = 500000\n",
    "xs = 2*np.random.rand(npts)-1\n",
    "ys = 2*np.random.rand(npts)-1\n",
    "r = xs**2+ys**2\n",
    "ninside = (r<1).sum()\n",
    "# figsize(6,6) # make the figure square\n",
    "plt.title(\"Approximation to pi = %f\" % (4*ninside/float(npts)));\n",
    "plt.plot(xs[r<1],ys[r<1],'r.');\n",
    "plt.plot(xs[r>1],ys[r>1],'y.');\n",
    "#figsize(8,6) # change the figsize back to 4x3 for the rest of the notebook"
   ]
  },
  {
   "cell_type": "markdown",
   "metadata": {
    "collapsed": true
   },
   "source": [
    "##Code Example 04: High-Performance Brownian motion simulation in Cython\n",
    "\n",
    "In this example, we aim to show how to integrate NumPy arrays and Cython code. We will also see how calls to Python functions inside tight loops can be optimized by converting the Python functions into C functions.\n",
    "\n",
    "Here, we simulate an sample of a stochastic process simulation, namely a **Brownian motion**. This process describes the trajectory of a particle starting at `x=0`, and making random steps of `+dx` or `-dx` at each discrete time step (also called *random walk*), with `dx` being a small constant. This type of process appears frequently in finance, economy, physics, biology, and so on.\n",
    "\n",
    "This specific process can be simulated very efficiently using **NumPy** methods on `ndarrays` as `cumsum()` and `rand()` functions. However, more complex processes may need to be simulated, for example, some models require instantaneous jumps when the position reaches a threshold. In these cases, vectorization is not an option and a manual loop could be unavoidable."
   ]
  },
  {
   "cell_type": "code",
   "execution_count": 282,
   "metadata": {
    "collapsed": true
   },
   "outputs": [],
   "source": [
    "import numpy as np\n",
    "\n",
    "def step():\n",
    "    return np.sign(np.random.random(1)-.5)"
   ]
  },
  {
   "cell_type": "markdown",
   "metadata": {},
   "source": [
    "The step function returns a random `+1` or `-1` value. It uses NumPy's `sign()` and `rand()` functions. \n",
    "\n",
    "Below, in the `sim1()` function, the trajectory is first initialized as a **NumPy** vector with zeros. Then, at each iteration, a new random step is added to the trajectory. The then function returns the full trajectory. The following is an example of a trajectory:\n"
   ]
  },
  {
   "cell_type": "code",
   "execution_count": 283,
   "metadata": {
    "collapsed": true
   },
   "outputs": [],
   "source": [
    "def sim1(n):\n",
    "    x = np.zeros(n)\n",
    "    dx = 1./n\n",
    "    for i in xrange(n-1):\n",
    "        x[i+1] = x[i] + dx * step()\n",
    "    return x"
   ]
  },
  {
   "cell_type": "code",
   "execution_count": 284,
   "metadata": {
    "collapsed": false
   },
   "outputs": [
    {
     "data": {
      "image/png": "[encoded data removed]",
      "text/plain": [
       "<matplotlib.figure.Figure at 0x114a01110>"
      ]
     },
     "metadata": {},
     "output_type": "display_data"
    }
   ],
   "source": [
    "for __ in range(10): plt.plot(sim1(1000));"
   ]
  },
  {
   "cell_type": "code",
   "execution_count": 285,
   "metadata": {
    "collapsed": false
   },
   "outputs": [
    {
     "name": "stdout",
     "output_type": "stream",
     "text": [
      "100 loops, best of 3: 5.12 ms per loop\n"
     ]
    }
   ],
   "source": [
    "n = 1000\n",
    "%timeit sim1(n)"
   ]
  },
  {
   "cell_type": "markdown",
   "metadata": {},
   "source": [
    "For the **Cython** version, we will do two things. *First*, we will add `C` types for all local variables as well as for the NumPy array containing the trajectory. Also, we will convert the `step()` function to a pure `C` function that does not call any **NumPy** function. We will rather call pure `C` functions that are defined in the `C` standard library."
   ]
  },
  {
   "cell_type": "code",
   "execution_count": 286,
   "metadata": {
    "collapsed": false
   },
   "outputs": [
    {
     "name": "stdout",
     "output_type": "stream",
     "text": [
      "The cython extension is already loaded. To reload it, use:\n",
      "  %reload_ext cython\n"
     ]
    }
   ],
   "source": [
    "%load_ext cython"
   ]
  },
  {
   "cell_type": "code",
   "execution_count": 287,
   "metadata": {
    "collapsed": false
   },
   "outputs": [],
   "source": [
    "%%cython\n",
    "\n",
    "import numpy as np\n",
    "cimport numpy as np\n",
    "DTYPE = np.double\n",
    "ctypedef np.double_t DTYPE_t\n",
    "\n",
    "# We redefine step() as a pure C function, using only\n",
    "# the C standard library.\n",
    "        \n",
    "from libc.stdlib cimport rand, RAND_MAX\n",
    "from libc.math cimport round\n",
    "\n",
    "cdef double step():\n",
    "    return 2 * round(float(rand()) / RAND_MAX) - 1\n",
    "\n",
    "def sim2(int n):\n",
    "    # Local variables should be defined as C variables.\n",
    "    cdef int i\n",
    "    cdef double dx = 1. / n\n",
    "    cdef np.ndarray[DTYPE_t, ndim=1] x = np.zeros(n, dtype=DTYPE)\n",
    "    for i in range(n - 1):\n",
    "        x[i+1] = x[i] + dx * step()\n",
    "    return x"
   ]
  },
  {
   "cell_type": "markdown",
   "metadata": {},
   "source": [
    "We first need to import the standard **NumPy** library as well as a special `C` library, also called **NumPy**, which is part of the **Cython package**, with `cimport`. We define the NumPy `dtype double` and the corresponding `C` `dtype double_t` with `ctypedef`. It allows to define the exact type of the `x` array at compile-time rather than execution-time, resulting in major speed improvements. The number of dimensions of `x` is also specified inside the `sim2()` function. All local variables are defined as C variables with C types.\n",
    "\n",
    "The `step()` function has been entirely rewritten. It is now a pure `C` function (defined with `cdef`). It uses the `rand()` function of the `C` standard library, which returns a random number between `0` and `RAND_MAX`. The `round()` function of the math library is also used to generate a random +1 or -1 value."
   ]
  },
  {
   "cell_type": "code",
   "execution_count": 288,
   "metadata": {
    "collapsed": false
   },
   "outputs": [
    {
     "name": "stdout",
     "output_type": "stream",
     "text": [
      "100000 loops, best of 3: 12.1 µs per loop\n"
     ]
    }
   ],
   "source": [
    "%timeit sim2(n)"
   ]
  },
  {
   "cell_type": "markdown",
   "metadata": {},
   "source": [
    "The **Cython** version is more than 400 times faster than the **Python** version. The main reason for this dramatic speed improvement is that the **Cython** version uses only pure **C** code. All variables are C variables, and the calls to step, which previously required costly calls to a **Python** function, now only involve calls to a pure **C** function, thereby reducing considerably the Python overhead inside the loop.\n"
   ]
  },
  {
   "cell_type": "code",
   "execution_count": 289,
   "metadata": {
    "collapsed": false
   },
   "outputs": [],
   "source": [
    "%%cython\n",
    "cimport cython\n",
    "from libc.math cimport exp, sqrt, pow, log, erf\n",
    "\n",
    "@cython.cdivision(True)\n",
    "cdef double std_norm_cdf(double x) nogil:\n",
    "    return 0.5*(1+erf(x/sqrt(2.0)))\n",
    "\n",
    "@cython.cdivision(True)\n",
    "def black_scholes(double s, double k, double t, double v,\n",
    "                 double rf, double div, double cp):\n",
    "    \"\"\"Price an option using the Black-Scholes model.\n",
    "    \n",
    "    s : initial stock price\n",
    "    k : strike price\n",
    "    t : expiration time\n",
    "    v : volatility\n",
    "    rf : risk-free rate\n",
    "    div : dividend\n",
    "    cp : +1/-1 for call/put\n",
    "    \"\"\"\n",
    "    cdef double d1, d2, optprice\n",
    "    with nogil:\n",
    "        d1 = (log(s/k)+(rf-div+0.5*pow(v,2))*t)/(v*sqrt(t))\n",
    "        d2 = d1 - v*sqrt(t)\n",
    "        optprice = cp*s*exp(-div*t)*std_norm_cdf(cp*d1) - \\\n",
    "            cp*k*exp(-rf*t)*std_norm_cdf(cp*d2)\n",
    "    return optprice"
   ]
  },
  {
   "cell_type": "code",
   "execution_count": 290,
   "metadata": {
    "collapsed": false
   },
   "outputs": [
    {
     "data": {
      "text/plain": [
       "10.327861752731728"
      ]
     },
     "execution_count": 290,
     "metadata": {},
     "output_type": "execute_result"
    }
   ],
   "source": [
    "black_scholes(100.0, 100.0, 1.0, 0.3, 0.03, 0.0, -1)"
   ]
  },
  {
   "cell_type": "markdown",
   "metadata": {},
   "source": [
    "Apart from **Cython**, there are other packages that accelerate Python code. \n",
    "\n",
    "- **SciPy.weave** (http://www.scipy.org/Weave) is a SciPy subpackage that allows the inclusion of C/C++ code within Python code. \n",
    "- **Numba** (http://numba.pydata.org/) uses just-in-time LLVM compilation to accelerate a pure Python code considerably by compiling it dynamically and transparently. It integrates nicely with NumPy arrays. Its installation requires llvmpy and meta.\n",
    "- **Theano** (http://deeplearning.net/software/theano/), which allows to define, optimize, and evaluate mathematical expressions on arrays very efficiently by compiling them transparently on the CPU or on the graphics card. \n",
    "- **Numexpr** (https://code.google.com/p/numexpr/) can compile array expressions and take advantage of vectorized CPU instructions and multi-core processors.\n",
    "- **Blaze** (http://blaze.pydata.org/) is a project that is still in early development at the time of writing, and aims at combining all these dynamic compilation technologies together into a unified framework. It will also extend the notion of multidimensional array by allowing type and shape heterogeneity, missing values, labeled dimensions (such as in Pandas), and so on. Being developed by the creators of NumPy, it is likely to be a central project in the Python computing community in the near future.\n",
    "- Finally, **PyOpenCL** (http://mathema.tician.de/software/pyopencl) and **PyCUDA** (http://mathema.tician.de/software/pycuda) are Python wrappers to **OpenCL** and **CUDA**. These libraries implement C-like, low-level languages that can be compiled on modern graphics cards for taking advantage of their massively parallel architecture. Indeed, graphics cards contain hundreds of specialized cores that can process a function very efficiently on a large number of elements (Single Instruction Multiple Data (SIMD) paradigm). The speed improvement can be more than one order of magnitude faster compared to pure C code. **OpenCL** is an open standard language, whereas **CUDA** is a proprietary language owned by Nvidia Corporation. **CUDA** code runs on **Nvidia** cards only, whereas **OpenCL** is supported by most graphics cards as well as most CPUs. In the latter case, the same code is compiled on the CPU and takes advantage of multi-core processors and vectorized instructions."
   ]
  },
  {
   "cell_type": "markdown",
   "metadata": {},
   "source": [
    "#Further reading\n",
    "\n",
    "* http://www.python.org - The official web page of the Python programming language.\n",
    "* http://www.python.org/dev/peps/pep-0008 - Style guide for Python programming. Highly recommended. \n",
    "* http://www.greenteapress.com/thinkpython/ - A free book on Python programming.\n",
    "* [Python Essential Reference](http://www.amazon.com/Python-Essential-Reference-4th-Edition/dp/0672329786) - A good reference book on Python programming."
   ]
  }
 ],
 "metadata": {
  "kernelspec": {
   "display_name": "Python 2",
   "language": "python",
   "name": "python2"
  },
  "language_info": {
   "codemirror_mode": {
    "name": "ipython",
    "version": 2
   },
   "file_extension": ".py",
   "mimetype": "text/x-python",
   "name": "python",
   "nbconvert_exporter": "python",
   "pygments_lexer": "ipython2",
   "version": "2.7.10"
  }
 },
 "nbformat": 4,
 "nbformat_minor": 0
}
