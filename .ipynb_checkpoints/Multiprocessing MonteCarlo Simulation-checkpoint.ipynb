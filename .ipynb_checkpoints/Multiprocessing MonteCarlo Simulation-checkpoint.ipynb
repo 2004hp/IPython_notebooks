{
 "cells": [
  {
   "cell_type": "markdown",
   "metadata": {},
   "source": [
    "****\n",
    "# Multiprocessing MonteCarlo Simulation for Option Pricing\n",
    "****\n",
    "\n",
    "## About this notebook: \n",
    "Notebook prepared by **Jesus Perez Colino** Version 0.1, First Released: 01/12/2014, Alpha.  \n",
    "\n",
    "- This work is licensed under a [Creative Commons Attribution-ShareAlike 3.0 Unported License](http://creativecommons.org/licenses/by-sa/3.0/deed.en_US). This work is offered for free, with the hope that it will be useful.\n",
    "\n",
    "\n",
    "- **Summary**: This notebook is just the simplest implementation of a Multiprocessing Monte-Carlo Simulation engine for the **European option** pricing.\n",
    "\n",
    "\n",
    "- **Python & packages versions** to reproduce the results of this notebook: "
   ]
  },
  {
   "cell_type": "code",
   "execution_count": 1,
   "metadata": {
    "collapsed": false
   },
   "outputs": [
    {
     "name": "stdout",
     "output_type": "stream",
     "text": [
      "-------------------- Reproducibility conditions for this notebook -------------------\n",
      "Python version:     2.7.10 |Anaconda 2.3.0 (x86_64)| (default, Sep 15 2015, 14:29:08) \n",
      "[GCC 4.2.1 (Apple Inc. build 5577)]\n",
      "Numpy version:      1.9.2\n",
      "IPython version:    4.0.0\n",
      "-------------------------------------------------------------------------------------\n"
     ]
    }
   ],
   "source": [
    "%matplotlib inline\n",
    "import numpy as np\n",
    "import matplotlib.pyplot as plt\n",
    "import IPython\n",
    "from scipy.stats import norm\n",
    "from abc import ABCMeta, abstractmethod\n",
    "from sys import version \n",
    "import multiprocessing\n",
    "from numpy import ceil, mean\n",
    "import time\n",
    "import os\n",
    "\n",
    "print ' Reproducibility conditions for this notebook '.center(85,'-')\n",
    "print 'Python version:     ' + version\n",
    "print 'Numpy version:      ' + np.__version__\n",
    "print 'IPython version:    ' + IPython.__version__\n",
    "print '-'*85"
   ]
  },
  {
   "cell_type": "markdown",
   "metadata": {},
   "source": [
    "## Base and Derived Classes for the Option Pricing"
   ]
  },
  {
   "cell_type": "code",
   "execution_count": 2,
   "metadata": {
    "collapsed": false,
    "scrolled": true
   },
   "outputs": [],
   "source": [
    "class EuropeanOption(object):\n",
    "    \"\"\" Abstract Class for European options. Partially implemented.\n",
    "    S0 : float : initial stock/index level\n",
    "    strike : float : strike price\n",
    "    T : float : time to maturity (in year fractions)\n",
    "    r : float : constant risk-free short rate\n",
    "    div :    float : dividend yield\n",
    "    sigma :  float : volatility factor in diffusion term\n",
    "    model: str: name of the model for the pricing\"\"\"\n",
    "\n",
    "    __metaclass__ = ABCMeta\n",
    "\n",
    "    def __init__(self, option_type, S0, strike, T, r, div, sigma, model):\n",
    "        try:\n",
    "            self.option_type = option_type\n",
    "            assert isinstance(option_type, str)\n",
    "            self.S0 = float(S0)\n",
    "            self.strike = float(strike)\n",
    "            self.T = float(T)\n",
    "            self.r = float(r)\n",
    "            self.div = float(div)\n",
    "            self.sigma = float(sigma)\n",
    "            self.model = str(model)\n",
    "        except ValueError:\n",
    "            print('Error passing Options parameters')\n",
    "\n",
    "        models = ['BlackScholes', 'MonteCarlo', \n",
    "                  'BinomialTree', 'TrinomialTree',\n",
    "                  'FFT', 'PDE']\n",
    "        \n",
    "        if model not in models:\n",
    "            raise Exception('Error: Model unknown')\n",
    "            \n",
    "        option_types = ['call', 'put']\n",
    "        \n",
    "        if option_type not in option_types:\n",
    "            raise ValueError(\"Error: Option type not valid. Enter 'call' or 'put'\")\n",
    "        if S0 < 0 or strike < 0 or T <= 0 or r < 0 or div < 0 or sigma < 0:\n",
    "            raise ValueError('Error: Negative inputs not allowed')\n",
    "            \n",
    "        self.discount = np.exp(-self.r * self.T)\n",
    "\n",
    "    def getmodel(self):\n",
    "        return self.model\n",
    "\n",
    "    def __str__(self):\n",
    "        return \"This European Option is priced using {0}\".format(self.getmodel())\n",
    "\n",
    "    @abstractmethod\n",
    "    def value(self):\n",
    "        pass\n",
    "    \n",
    "    @abstractmethod\n",
    "    def delta(self):\n",
    "        pass\n",
    "        "
   ]
  },
  {
   "cell_type": "code",
   "execution_count": 3,
   "metadata": {
    "collapsed": false
   },
   "outputs": [],
   "source": [
    "class BlackScholes(EuropeanOption):\n",
    "\n",
    "    def __init__(self, option_type, S0, strike, T, r, div, sigma):\n",
    "        EuropeanOption.__init__(self,option_type, S0, strike, \n",
    "                                T, r, div, sigma, 'BlackScholes')\n",
    "        \n",
    "        d1 = ((np.log(self.S0 / self.strike) + \n",
    "              (self.r - self.div + 0.5 * (self.sigma ** 2)) * self.T) / \n",
    "              float( self.sigma * np.sqrt(self.T)))\n",
    "        d2 = float(d1 - self.sigma * np.sqrt(self.T))\n",
    "        self.Nd1 = norm.cdf(d1, 0, 1)\n",
    "        self.Nnd1 = norm.cdf(-d1, 0, 1)\n",
    "        self.Nd2 = norm.cdf(d2, 0, 1)\n",
    "        self.Nnd2 = norm.cdf(-d2, 0, 1)\n",
    "        self.pNd1 = norm.pdf(d1, 0, 1)\n",
    "        \n",
    "    @property\n",
    "    def value(self):\n",
    "        if self.option_type == 'call':\n",
    "            value = (self.S0 * np.exp(-self.div * self.T) * self.Nd1 -\n",
    "                     self.strike * np.exp(-self.r * self.T) * self.Nd2)\n",
    "        else:\n",
    "            value = (self.strike * np.exp(-self.r * self.T) * self.Nnd2 -\n",
    "                     self.S0 * np.exp(-self.div * self.T) * self.Nnd1)\n",
    "        return value\n",
    "    \n",
    "    @property\n",
    "    def delta(self):\n",
    "        if self.option_type == 'call':\n",
    "            delta = np.exp(- self.div * self.T) * self.Nd1\n",
    "        else:\n",
    "            delta = np.exp(- self.div * self.T) * (self.Nd1 - 1)\n",
    "        return delta"
   ]
  },
  {
   "cell_type": "code",
   "execution_count": 4,
   "metadata": {
    "collapsed": true
   },
   "outputs": [],
   "source": [
    "class MonteCarlo(EuropeanOption):\n",
    "\n",
    "    def __init__(self, simulations, option_type, S0, strike, T, r, div, sigma, \n",
    "                 antithetic = True, \n",
    "                 moment_matching = True, \n",
    "                 fixed_seed = True):\n",
    "        EuropeanOption.__init__(self, option_type, S0, strike, T, r, div, sigma, \"MonteCarlo\")\n",
    "        self.simulations = int(simulations)\n",
    "        self.antithetic = bool(antithetic)\n",
    "        self.moment_matching = bool(moment_matching)\n",
    "        self.fixed_seed = bool(fixed_seed)\n",
    "        try:\n",
    "            if self.simulations > 0 :\n",
    "                assert isinstance(self.simulations, int)\n",
    "        except:\n",
    "            raise ValueError(\"Simulation's number has to be positive integer\")\n",
    "    \n",
    "    def simulation_terminal(self, seed = 1234567890):\n",
    "        if self.fixed_seed:\n",
    "            assert isinstance(seed, int)\n",
    "            np.random.seed(seed)\n",
    "        if self.antithetic: \n",
    "            brownian = np.random.standard_normal(size = int(np.ceil(self.simulations/2.)))\n",
    "            brownian = np.concatenate((brownian, -brownian))\n",
    "        else:\n",
    "            brownian = np.random.standard_normal(size = self.simulations)\n",
    "        if self.moment_matching: \n",
    "            brownian = brownian - np.mean(brownian)\n",
    "            brownian = brownian / np.std(brownian)\n",
    "            \n",
    "        price_terminal = self.S0 * np.exp((self.r - self.div - 0.5 * self.sigma ** 2) *\n",
    "                                          self.T +\n",
    "                                          self.sigma * np.sqrt(self.T) * brownian)\n",
    "        return price_terminal\n",
    "\n",
    "    def generate_payoffs(self):\n",
    "        price_terminal = self.simulation_terminal()\n",
    "        if self.option_type == 'call':\n",
    "            payoff = np.maximum((price_terminal - self.strike), 0)\n",
    "        else:\n",
    "            payoff = np.maximum((self.strike - price_terminal), 0)\n",
    "        return payoff\n",
    "\n",
    "    @property\n",
    "    def value(self):\n",
    "        payoff = self.generate_payoffs()\n",
    "        return self.discount * np.sum(payoff) / float(len(payoff))\n",
    "    \n",
    "    @property\n",
    "    def delta(self):\n",
    "        value_terminal = np.array(self.simulation_terminal() / float(self.S0))\n",
    "        payoff = self.generate_payoffs()\n",
    "        delta = np.zeros(len(payoff))\n",
    "        delta[np.nonzero(payoff)] = value_terminal[np.nonzero(payoff)]\n",
    "        return self.discount * np.sum(delta) / float(len(payoff))"
   ]
  },
  {
   "cell_type": "markdown",
   "metadata": {},
   "source": [
    "## Multiprocessing MonteCarlo: Functions, Pool, Mapping and Join"
   ]
  },
  {
   "cell_type": "code",
   "execution_count": 5,
   "metadata": {
    "collapsed": true
   },
   "outputs": [],
   "source": [
    "def value_in_pool(simulations):\n",
    "    if isinstance(simulations, int):\n",
    "        simulations = [simulations] \n",
    "    arguments = ['call', 100., 100., .5, 0.01, 0., .35]\n",
    "    reduce(lambda x,y : x.extend(y), [simulations, arguments])\n",
    "    return MonteCarlo(*simulations).value"
   ]
  },
  {
   "cell_type": "code",
   "execution_count": 6,
   "metadata": {
    "collapsed": true
   },
   "outputs": [],
   "source": [
    "def delta_in_pool(simulations):\n",
    "    if isinstance(simulations, int):\n",
    "        simulations = [simulations] \n",
    "    arguments = ['call', 100., 100., .5, 0.01, 0., .35]\n",
    "    reduce(lambda x,y : x.extend(y), [simulations, arguments])\n",
    "    return MonteCarlo(*simulations).delta"
   ]
  },
  {
   "cell_type": "code",
   "execution_count": 7,
   "metadata": {
    "collapsed": false
   },
   "outputs": [
    {
     "name": "stdout",
     "output_type": "stream",
     "text": [
      "-------------------------------------------------------------------------------------\n",
      "BS Price: 10.074989532 BS Delta: 0.557228735645\n",
      "-------------------------------------------------------------------------------------\n",
      "Number of processors: 1, Number of simulations: 10000\n",
      "Monte Carlo Option Price: 10.0555595453, Monte Carlo Option Delta: 0.558460338378\n",
      "Time, in sec: 0.354511022568\n",
      "-------------------------------------------------------------------------------------\n",
      "Number of processors: 1, Number of simulations: 10000000\n",
      "Monte Carlo Option Price: 10.0755354762, Monte Carlo Option Delta: 0.5572977266\n",
      "Time, in sec: 2.35428094864\n",
      "-------------------------------------------------------------------------------------\n",
      "Number of processors: 3, Number of simulations: 10000\n",
      "Monte Carlo Option Price: 10.0701067309, Monte Carlo Option Delta: 0.558207802041\n",
      "Time, in sec: 0.24258685112\n",
      "-------------------------------------------------------------------------------------\n",
      "Number of processors: 3, Number of simulations: 10000000\n",
      "Monte Carlo Option Price: 10.0761797125, Monte Carlo Option Delta: 0.557284965222\n",
      "Time, in sec: 0.986536026001\n",
      "-------------------------------------------------------------------------------------\n",
      "Number of processors: 2, Number of simulations: 10000\n",
      "Monte Carlo Option Price: 10.0494614158, Monte Carlo Option Delta: 0.55660833462\n",
      "Time, in sec: 0.241064786911\n",
      "-------------------------------------------------------------------------------------\n",
      "Number of processors: 2, Number of simulations: 10000000\n",
      "Monte Carlo Option Price: 10.0759335353, Monte Carlo Option Delta: 0.557282602951\n",
      "Time, in sec: 1.3060259819\n",
      "-------------------------------------------------------------------------------------\n",
      "Number of processors: 5, Number of simulations: 10000\n",
      "Monte Carlo Option Price: 10.1441728833, Monte Carlo Option Delta: 0.559147469262\n",
      "Time, in sec: 0.254101991653\n",
      "-------------------------------------------------------------------------------------\n",
      "Number of processors: 5, Number of simulations: 10000000\n",
      "Monte Carlo Option Price: 10.0745289461, Monte Carlo Option Delta: 0.557197314166\n",
      "Time, in sec: 0.693536996841\n",
      "-------------------------------------------------------------------------------------\n",
      "Number of processors: 4, Number of simulations: 10000\n",
      "Monte Carlo Option Price: 10.084981175, Monte Carlo Option Delta: 0.558157547187\n",
      "Time, in sec: 0.247037887573\n",
      "-------------------------------------------------------------------------------------\n",
      "Number of processors: 4, Number of simulations: 10000000\n",
      "Monte Carlo Option Price: 10.0743604902, Monte Carlo Option Delta: 0.5572589124\n",
      "Time, in sec: 0.785646915436\n",
      "-------------------------------------------------------------------------------------\n",
      "Number of processors: 6, Number of simulations: 10000\n",
      "Monte Carlo Option Price: 10.1598039106, Monte Carlo Option Delta: 0.561614893889\n",
      "Time, in sec: 0.259425163269\n",
      "-------------------------------------------------------------------------------------\n",
      "Number of processors: 6, Number of simulations: 10000000\n",
      "Monte Carlo Option Price: 10.0735842895, Monte Carlo Option Delta: 0.55712739551\n",
      "Time, in sec: 0.682922840118\n",
      "-------------------------------------------------------------------------------------\n"
     ]
    }
   ],
   "source": [
    "call = BlackScholes('call', 100., 100., .5, 0.01, 0., .35)\n",
    "print '-' * 85\n",
    "print 'BS Price:', call.value, 'BS Delta:', call.delta\n",
    "print '-' * 85\n",
    "scenarios = {'1': [1e4, 1e7], \n",
    "             '2': [1e4, 1e7], \n",
    "             '3': [1e4, 1e7],\n",
    "             '4': [1e4, 1e7],\n",
    "             '5': [1e4, 1e7],\n",
    "             '6': [1e4, 1e7]}\n",
    "results = {}\n",
    "for num_processes in scenarios:\n",
    "    for N in scenarios[num_processes]:\n",
    "        start = time.time()\n",
    "        chunks = [int(ceil(N / int(num_processes)))] * int(num_processes)\n",
    "        chunks[-1] = int(chunks[-1] - sum(chunks) + N)\n",
    "        p = multiprocessing.Pool(int(num_processes))\n",
    "        option_value = p.map(value_in_pool, chunks)\n",
    "        p.close()\n",
    "        p.join()\n",
    "        q = multiprocessing.Pool(int(num_processes))\n",
    "        option_delta = q.map(delta_in_pool, chunks)\n",
    "        q.close()\n",
    "        q.join()\n",
    "        end = time.time()\n",
    "        print 'Number of processors:', num_processes + ',',\n",
    "        print 'Number of simulations:', str(int(N))\n",
    "        print 'Monte Carlo Option Price:', str(mean(option_value)) + ',',\n",
    "        print 'Monte Carlo Option Delta:', str(mean(option_delta))\n",
    "        print 'Time, in sec:', str(end - start)\n",
    "        print '-' * 85\n",
    "        if N == 1e7: results[num_processes] = (end - start) \n"
   ]
  },
  {
   "cell_type": "code",
   "execution_count": 8,
   "metadata": {
    "collapsed": false
   },
   "outputs": [
    {
     "data": {
      "image/png": "[encoded data removed]",
      "text/plain": [
       "<matplotlib.figure.Figure at 0x108d9c490>"
      ]
     },
     "metadata": {},
     "output_type": "display_data"
    }
   ],
   "source": [
    "plt.figure(num=None, figsize=(14, 6))\n",
    "plt.style.use('ggplot')\n",
    "plt.scatter(results.keys(), results.values(), color ='r')\n",
    "plt.title('Efficiency Graph of Multiprocessing for MonteCarlo')\n",
    "plt.xlabel('Number of Processors')\n",
    "plt.ylabel('Time (in seconds) to compute 1e7 simulations');"
   ]
  },
  {
   "cell_type": "code",
   "execution_count": null,
   "metadata": {
    "collapsed": true
   },
   "outputs": [],
   "source": []
  }
 ],
 "metadata": {
  "kernelspec": {
   "display_name": "Python 2",
   "language": "python",
   "name": "python2"
  },
  "language_info": {
   "codemirror_mode": {
    "name": "ipython",
    "version": 2
   },
   "file_extension": ".py",
   "mimetype": "text/x-python",
   "name": "python",
   "nbconvert_exporter": "python",
   "pygments_lexer": "ipython2",
   "version": "2.7.10"
  }
 },
 "nbformat": 4,
 "nbformat_minor": 0
}
