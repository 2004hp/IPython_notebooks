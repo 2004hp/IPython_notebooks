{
 "cells": [
  {
   "cell_type": "markdown",
   "metadata": {},
   "source": [
    "# About this notebook: \n",
    "Notebook prepared by **Jesus Perez Colino** Version 0.2, First Released: 25/11/2013, Alpha\n",
    "\n",
    "- This work is licensed under a [Creative Commons Attribution-ShareAlike 3.0 Unported License](http://creativecommons.org/licenses/by-sa/3.0/deed.en_US). This work is offered for free, with the hope that it will be useful.\n",
    "\n",
    "- **Summary**: This notebook is a collection of traditional algorithmic problems for Python. It includes examples of list comprenhension, map/reduce functions, generators, decorators, HPC simulations...\n",
    "\n",
    "- **Acknowledge**: To create the current notebook, I have inserted many examples from many books, websites... some of them can be found in [Rosetta Code](http://rosettacode.org/wiki/Rosetta_Code), others in [stackoverflow](http://stackoverflow.com), and few of them I created by myself, for fun. It is not my intention to claim any property right... so just have fun, if you like this kind of stuff. \n",
    "\n",
    "- **Python & packages versions** to reproduce the results of this notebook: "
   ]
  },
  {
   "cell_type": "code",
   "execution_count": 165,
   "metadata": {
    "collapsed": false
   },
   "outputs": [
    {
     "name": "stdout",
     "output_type": "stream",
     "text": [
      "=====================================================================================\n",
      "Python version:     2.7.10 |Anaconda 2.3.0 (x86_64)| (default, May 28 2015, 17:04:42) \n",
      "[GCC 4.2.1 (Apple Inc. build 5577)]\n",
      "Numpy version:      1.9.2\n",
      "IPython version:    3.2.0\n",
      "=====================================================================================\n"
     ]
    }
   ],
   "source": [
    "import IPython\n",
    "import numpy as np\n",
    "from sys import version \n",
    "print '='*85\n",
    "print 'Python version:     ' + version\n",
    "print 'Numpy version:      ' + np.__version__\n",
    "print 'IPython version:    ' + IPython.__version__\n",
    "print '='*85"
   ]
  },
  {
   "cell_type": "markdown",
   "metadata": {},
   "source": [
    "#Problem 1\n",
    "Code a function that given three positive integers, **n, x, y** returns the **sum** of the integers **between 0 and n** (inclusive) that are multiples of **x** or **y** but not both.\n",
    "\n",
    "For example: \n",
    "\n",
    "`foo(8,2,3) = 2 + 3 + 4 + 8 = 17`"
   ]
  },
  {
   "cell_type": "code",
   "execution_count": 2,
   "metadata": {
    "collapsed": true
   },
   "outputs": [],
   "source": [
    "def foo(n, x, y):\n",
    "    return sum(filter(lambda i: bool(i%x == 0) ^ bool(i%y == 0) , range(n+1)))"
   ]
  },
  {
   "cell_type": "code",
   "execution_count": 3,
   "metadata": {
    "collapsed": false
   },
   "outputs": [
    {
     "data": {
      "text/plain": [
       "17"
      ]
     },
     "execution_count": 3,
     "metadata": {},
     "output_type": "execute_result"
    }
   ],
   "source": [
    "foo(8,2,3)"
   ]
  },
  {
   "cell_type": "code",
   "execution_count": 4,
   "metadata": {
    "collapsed": false
   },
   "outputs": [
    {
     "name": "stdout",
     "output_type": "stream",
     "text": [
      "[True, False, True, False, True, False, True, False, True]\n",
      "[True, False, False, True, False, False, True, False, False]\n",
      "[True, False, False, False, False, False, True, False, False]\n",
      "\n",
      "[False, False, True, True, True, False, False, False, True]\n",
      "\n",
      "[2, 3, 4, 8]\n",
      "\n",
      "17\n"
     ]
    }
   ],
   "source": [
    "# have a look and check it out, step by step: \n",
    "x = 2\n",
    "y = 3\n",
    "n = 8\n",
    "print map(lambda i: i%x == 0, range(n+1))\n",
    "print map(lambda i: i%y == 0, range(n+1))\n",
    "print map(lambda i: i%x == 0 ^ i%y == 0, range(n+1))\n",
    "print \n",
    "print map(lambda i: bool(i%x == 0) ^ bool(i%y == 0) , range(n+1))\n",
    "print \n",
    "print filter(lambda i: bool(i%x == 0) ^ bool(i%y == 0) , range(n+1))\n",
    "print\n",
    "print sum(filter(lambda i: bool(i%x == 0) ^ bool(i%y == 0) , range(n+1)))"
   ]
  },
  {
   "cell_type": "code",
   "execution_count": 5,
   "metadata": {
    "collapsed": false
   },
   "outputs": [
    {
     "data": {
      "text/plain": [
       "17"
      ]
     },
     "execution_count": 5,
     "metadata": {},
     "output_type": "execute_result"
    }
   ],
   "source": [
    "# alternatively, using directly a list comprenhension: \n",
    "\n",
    "def foo(n, x, y):\n",
    "    return sum([ i for i in range(1,n+1) if bool(i%x==0) ^ bool(i%y==0) ])\n",
    "\n",
    "foo(8,2,3)"
   ]
  },
  {
   "cell_type": "markdown",
   "metadata": {
    "collapsed": true
   },
   "source": [
    "#Problem 2: Map / Reduce / Filter Problems\n",
    "\n",
    "**2.1.** Code a function that produce the **Mean** of a list using reduce functions"
   ]
  },
  {
   "cell_type": "code",
   "execution_count": 6,
   "metadata": {
    "collapsed": false
   },
   "outputs": [
    {
     "name": "stdout",
     "output_type": "stream",
     "text": [
      "5.0\n"
     ]
    }
   ],
   "source": [
    "l = xrange(1,10)\n",
    "print reduce(lambda x, y: x+y ,l) / float(len(l))"
   ]
  },
  {
   "cell_type": "code",
   "execution_count": 9,
   "metadata": {
    "collapsed": true
   },
   "outputs": [],
   "source": [
    "def myMean(l):\n",
    "    return reduce(lambda x, y: x + y, l) / float(len(l))"
   ]
  },
  {
   "cell_type": "markdown",
   "metadata": {},
   "source": [
    "**2.2.** Code a function that produce the **Standard Deviation** of a list using map / reduce"
   ]
  },
  {
   "cell_type": "code",
   "execution_count": 10,
   "metadata": {
    "collapsed": true
   },
   "outputs": [],
   "source": [
    "def myStd(l):\n",
    "    return reduce(lambda x,y : x + y , map(lambda x: (x-myMean(l))**2 , l))/float(len(l))"
   ]
  },
  {
   "cell_type": "code",
   "execution_count": 12,
   "metadata": {
    "collapsed": false
   },
   "outputs": [
    {
     "name": "stdout",
     "output_type": "stream",
     "text": [
      "5.0\n",
      "6.66666666667\n"
     ]
    }
   ],
   "source": [
    "l = xrange(1,10)\n",
    "\n",
    "print myMean(l)\n",
    "print myStd(l)\n"
   ]
  },
  {
   "cell_type": "markdown",
   "metadata": {},
   "source": [
    "**2.3.** Determining the **maximum** of a list of numerical values by using reduce:"
   ]
  },
  {
   "cell_type": "code",
   "execution_count": 10,
   "metadata": {
    "collapsed": false
   },
   "outputs": [
    {
     "data": {
      "text/plain": [
       "102"
      ]
     },
     "execution_count": 10,
     "metadata": {},
     "output_type": "execute_result"
    }
   ],
   "source": [
    "mymax = lambda a,b: a if (a > b) else b\n",
    "reduce(mymax, [47,11,42,102,13])"
   ]
  },
  {
   "cell_type": "code",
   "execution_count": 11,
   "metadata": {
    "collapsed": false
   },
   "outputs": [
    {
     "data": {
      "text/plain": [
       "102"
      ]
     },
     "execution_count": 11,
     "metadata": {},
     "output_type": "execute_result"
    }
   ],
   "source": [
    "mylist = [47,11,42,102,13]\n",
    "reduce(lambda a,b: a if (a > b) else b, mylist)"
   ]
  },
  {
   "cell_type": "markdown",
   "metadata": {},
   "source": [
    "**2.4.** Obtain the nth **fibonacci number** using `reduce` in ONE line"
   ]
  },
  {
   "cell_type": "code",
   "execution_count": 12,
   "metadata": {
    "collapsed": true
   },
   "outputs": [],
   "source": [
    "fib = lambda n : reduce(lambda x , n : [ x[1] , x[0] + x[1] ], range(n) ,[0,1] )[0]"
   ]
  },
  {
   "cell_type": "code",
   "execution_count": 13,
   "metadata": {
    "collapsed": false
   },
   "outputs": [
    {
     "data": {
      "text/plain": [
       "[0, 1, 1, 2, 3, 5, 8, 13, 21, 34, 55]"
      ]
     },
     "execution_count": 13,
     "metadata": {},
     "output_type": "execute_result"
    }
   ],
   "source": [
    "[fib(i) for i in range(11)]"
   ]
  },
  {
   "cell_type": "markdown",
   "metadata": {},
   "source": [
    "**2.5.** Write a function called `myreduce` that produce exactly the same result that the function `reduce`"
   ]
  },
  {
   "cell_type": "code",
   "execution_count": 14,
   "metadata": {
    "collapsed": true
   },
   "outputs": [],
   "source": [
    "def myreduce(function, iterable, initializer=None):\n",
    "    it = iter(iterable)\n",
    "    if initializer is None:\n",
    "        try:\n",
    "            initializer = next(it)\n",
    "        except StopIteration:\n",
    "            raise TypeError('reduce() of empty sequence with no initial value')\n",
    "    accum_value = initializer\n",
    "    for x in it:\n",
    "        accum_value = function(accum_value, x)\n",
    "    return accum_value"
   ]
  },
  {
   "cell_type": "code",
   "execution_count": 15,
   "metadata": {
    "collapsed": false
   },
   "outputs": [
    {
     "data": {
      "text/plain": [
       "18"
      ]
     },
     "execution_count": 15,
     "metadata": {},
     "output_type": "execute_result"
    }
   ],
   "source": [
    "myreduce(lambda x,y : x+y, [1,2,3,4,5], initializer=3)"
   ]
  },
  {
   "cell_type": "code",
   "execution_count": 16,
   "metadata": {
    "collapsed": false
   },
   "outputs": [
    {
     "data": {
      "text/plain": [
       "18"
      ]
     },
     "execution_count": 16,
     "metadata": {},
     "output_type": "execute_result"
    }
   ],
   "source": [
    "reduce(lambda x,y : x+y, [1,2,3,4,5], 3)"
   ]
  },
  {
   "cell_type": "markdown",
   "metadata": {},
   "source": [
    "#Problem 3\n",
    "Make plural of the words in a list of strings"
   ]
  },
  {
   "cell_type": "code",
   "execution_count": 17,
   "metadata": {
    "collapsed": false
   },
   "outputs": [
    {
     "name": "stdout",
     "output_type": "stream",
     "text": [
      "['cats', 'elephants', 'rats', 'rats', 'cats']\n"
     ]
    }
   ],
   "source": [
    "wordsList = ['cat', 'elephant', 'rat', 'rat', 'cat']\n",
    "print map(lambda word:word + 's', wordsList)"
   ]
  },
  {
   "cell_type": "markdown",
   "metadata": {},
   "source": [
    "#Problem 4\n",
    "Counting the number in a list of words using map/reduce"
   ]
  },
  {
   "cell_type": "code",
   "execution_count": 18,
   "metadata": {
    "collapsed": false
   },
   "outputs": [
    {
     "name": "stdout",
     "output_type": "stream",
     "text": [
      "[('cat', 1), ('elephant', 1), ('rat', 1), ('rat', 1), ('cat', 1)]\n"
     ]
    }
   ],
   "source": [
    "wordsList = ['cat', 'elephant', 'rat', 'rat', 'cat']\n",
    "\n",
    "wordCount = map(lambda word : (str(word),1),wordsList)\n",
    "print wordCount\n"
   ]
  },
  {
   "cell_type": "code",
   "execution_count": 19,
   "metadata": {
    "collapsed": false
   },
   "outputs": [
    {
     "name": "stdout",
     "output_type": "stream",
     "text": [
      "[1, 1, 1, 1, 1]\n"
     ]
    }
   ],
   "source": [
    "counter = map(lambda x : x[1], wordCount)\n",
    "print counter\n"
   ]
  },
  {
   "cell_type": "code",
   "execution_count": 20,
   "metadata": {
    "collapsed": false
   },
   "outputs": [
    {
     "name": "stdout",
     "output_type": "stream",
     "text": [
      "Total Number of words: 5\n"
     ]
    }
   ],
   "source": [
    "print 'Total Number of words:', reduce(lambda x,y : x+y, counter)\n",
    "    "
   ]
  },
  {
   "cell_type": "code",
   "execution_count": 21,
   "metadata": {
    "collapsed": false
   },
   "outputs": [
    {
     "name": "stdout",
     "output_type": "stream",
     "text": [
      "Total Number of words: 5\n"
     ]
    }
   ],
   "source": [
    "# All together: \n",
    "\n",
    "wordCount = map(lambda word : (str(word),1),wordsList)\n",
    "counter = map(lambda x : x[1], wordCount)\n",
    "print 'Total Number of words:', reduce(lambda x,y : x+y, counter)"
   ]
  },
  {
   "cell_type": "markdown",
   "metadata": {},
   "source": [
    "# Problem 5 "
   ]
  },
  {
   "cell_type": "markdown",
   "metadata": {},
   "source": [
    "Simplify the following expression using list comprehension:"
   ]
  },
  {
   "cell_type": "code",
   "execution_count": 22,
   "metadata": {
    "collapsed": false
   },
   "outputs": [
    {
     "name": "stdout",
     "output_type": "stream",
     "text": [
      "['0: one', '1: two', '2: three']\n"
     ]
    }
   ],
   "source": [
    "i = 0\n",
    "seq = [\"one\", \"two\", \"three\"]\n",
    "for element in seq:\n",
    "    seq[i] = '%d: %s' % (i, seq[i])\n",
    "    i += 1\n",
    "    \n",
    "print seq"
   ]
  },
  {
   "cell_type": "code",
   "execution_count": 23,
   "metadata": {
    "collapsed": false
   },
   "outputs": [
    {
     "data": {
      "text/plain": [
       "['0: one', '1: two', '2: three']"
      ]
     },
     "execution_count": 23,
     "metadata": {},
     "output_type": "execute_result"
    }
   ],
   "source": [
    "def _tuple(pos, element):\n",
    "    return '%d: %s' % (pos, element)\n",
    "\n",
    "seq = [\"one\", \"two\", \"three\"]\n",
    "[_tuple(i, element) for i, element in enumerate(seq)]"
   ]
  },
  {
   "cell_type": "markdown",
   "metadata": {
    "collapsed": true
   },
   "source": [
    "# Problem 6"
   ]
  },
  {
   "cell_type": "markdown",
   "metadata": {},
   "source": [
    "**islice** returns an iterator that works over a subgroup of a sequence. \n",
    "\n",
    "Build a function that reads the lines in a standard input, and yields the elements of each line starting from the fifth one, as long as the line has more than four elements"
   ]
  },
  {
   "cell_type": "code",
   "execution_count": 24,
   "metadata": {
    "collapsed": true
   },
   "outputs": [],
   "source": [
    "import itertools\n",
    "def starting_at_five():\n",
    "    value = raw_input().strip()\n",
    "    while value != '':\n",
    "        for el in itertools.islice(value.split(), 4, None):\n",
    "            yield el\n",
    "        value = raw_input().strip()"
   ]
  },
  {
   "cell_type": "code",
   "execution_count": 25,
   "metadata": {
    "collapsed": false
   },
   "outputs": [
    {
     "name": "stdout",
     "output_type": "stream",
     "text": [
      "1 2 3 4 5 6 7 8 9 10 11 12\n"
     ]
    },
    {
     "data": {
      "text/plain": [
       "'5'"
      ]
     },
     "execution_count": 25,
     "metadata": {},
     "output_type": "execute_result"
    }
   ],
   "source": [
    "iter = starting_at_five()\n",
    "iter.next()"
   ]
  },
  {
   "cell_type": "code",
   "execution_count": 26,
   "metadata": {
    "collapsed": false
   },
   "outputs": [
    {
     "data": {
      "text/plain": [
       "'6'"
      ]
     },
     "execution_count": 26,
     "metadata": {},
     "output_type": "execute_result"
    }
   ],
   "source": [
    "iter.next()"
   ]
  },
  {
   "cell_type": "code",
   "execution_count": 27,
   "metadata": {
    "collapsed": false
   },
   "outputs": [
    {
     "data": {
      "text/plain": [
       "'7'"
      ]
     },
     "execution_count": 27,
     "metadata": {},
     "output_type": "execute_result"
    }
   ],
   "source": [
    "iter.next()"
   ]
  },
  {
   "cell_type": "code",
   "execution_count": 28,
   "metadata": {
    "collapsed": false
   },
   "outputs": [
    {
     "data": {
      "text/plain": [
       "'8'"
      ]
     },
     "execution_count": 28,
     "metadata": {},
     "output_type": "execute_result"
    }
   ],
   "source": [
    "iter.next()"
   ]
  },
  {
   "cell_type": "markdown",
   "metadata": {},
   "source": [
    "# Problem 7"
   ]
  },
  {
   "cell_type": "markdown",
   "metadata": {},
   "source": [
    "Write a function that is able to group the duplicate elements from an iterator, as long as they are adjacent. A function can be given to the function for it to compare the elements. Otherwise, the identity comparison is used.\n",
    "\n",
    "For example:\n",
    "\n",
    "`get uuuuuuuuuuuuuuuuuup`\n",
    "\n",
    "will be replaced by:\n",
    "\n",
    "`1g1e1t1 8u1p`"
   ]
  },
  {
   "cell_type": "code",
   "execution_count": 29,
   "metadata": {
    "collapsed": true
   },
   "outputs": [],
   "source": [
    "from itertools import groupby\n",
    "\n",
    "def compress(data):\n",
    "    return ((len(list(group)), name)\n",
    "             for name, group in groupby(data))\n",
    "\n",
    "def decompress(data):\n",
    "    return (car * size for size, car in data)\n"
   ]
  },
  {
   "cell_type": "code",
   "execution_count": 30,
   "metadata": {
    "collapsed": false
   },
   "outputs": [
    {
     "name": "stdout",
     "output_type": "stream",
     "text": [
      "[(1, 'g'), (1, 'e'), (1, 't'), (1, ' '), (18, 'u'), (1, 'p')]\n"
     ]
    }
   ],
   "source": [
    "print list(compress('get uuuuuuuuuuuuuuuuuup'))"
   ]
  },
  {
   "cell_type": "code",
   "execution_count": 31,
   "metadata": {
    "collapsed": false
   },
   "outputs": [
    {
     "data": {
      "text/plain": [
       "'get uuuuuuuuuuuuuuuuuup'"
      ]
     },
     "execution_count": 31,
     "metadata": {},
     "output_type": "execute_result"
    }
   ],
   "source": [
    "compressed = compress('get uuuuuuuuuuuuuuuuuup')\n",
    "''.join(decompress(compressed))"
   ]
  },
  {
   "cell_type": "markdown",
   "metadata": {
    "collapsed": true
   },
   "source": [
    "#Problem 8: The Quine Problem\n",
    "\n",
    "A Quine is a self-referential program that can, without any external access, output its own source. \n",
    "\n",
    "It is named after the philosopher and logician who studied self-reference and quoting in natural language, as for example in the paradox \"'Yields falsehood when preceded by its quotation' yields falsehood when preceded by its quotation.\"\n",
    "\n",
    "\"Source\" has one of two meanings. It can refer to the text-based program source. For languages in which program source is represented as a data structure, \"source\" may refer to the data structure: quines in these languages fall into two categories: programs which print a textual representation of themselves, or expressions which evaluate to a data structure which is equivalent to that expression.\n",
    "\n",
    "The usual way to code a Quine works similarly to this paradox: The program consists of two identical parts, once as plain code and once quoted in some way (for example, as a character string, or a literal data structure). The plain code then accesses the quoted code and prints it out twice, once unquoted and once with the proper quotation marks added. Often, the plain code and the quoted code have to be nested.\n",
    "\n",
    "**Write a program that outputs its own source code in this way.** If the language allows it, you may add a variant that accesses the code directly. You are not allowed to read any external files with the source code. The program should also contain some sort of self-reference, so constant expressions which return their own value which some top-level interpreter will print out. Empty programs producing no output are not allowed."
   ]
  },
  {
   "cell_type": "markdown",
   "metadata": {},
   "source": [
    "Python's `%r` format conversion uses the `repr()` function to return a string containing the source code representation of its argument:"
   ]
  },
  {
   "cell_type": "code",
   "execution_count": 32,
   "metadata": {
    "collapsed": false
   },
   "outputs": [
    {
     "name": "stdout",
     "output_type": "stream",
     "text": [
      "x = 'x = %r\\nprint(x %% x)'\n",
      "print(x % x)\n"
     ]
    }
   ],
   "source": [
    "x = 'x = %r\\nprint(x %% x)'\n",
    "print(x % x)"
   ]
  },
  {
   "cell_type": "code",
   "execution_count": 33,
   "metadata": {
    "collapsed": false
   },
   "outputs": [
    {
     "name": "stdout",
     "output_type": "stream",
     "text": [
      "x = 'x = {!r};print(x.format(x))';print(x.format(x))\n"
     ]
    }
   ],
   "source": [
    "x = 'x = {!r};print(x.format(x))'\n",
    "print(x.format(x))"
   ]
  },
  {
   "cell_type": "code",
   "execution_count": 34,
   "metadata": {
    "collapsed": false
   },
   "outputs": [
    {
     "name": "stdout",
     "output_type": "stream",
     "text": [
      "x = 'x = {!r}'\n"
     ]
    }
   ],
   "source": [
    "# notice the trick: \n",
    "\n",
    "x = 'x = {!r}';print x.format(x)"
   ]
  },
  {
   "cell_type": "markdown",
   "metadata": {},
   "source": [
    "#Problem 9 \n",
    "\n",
    "A narcissist (or Narcissus program) is the decision-problem version of a quine.\n",
    "A quine, when run, takes no input, but produces a copy of its own source code at its output. In contrast, a narcissist reads a string of symbols from its input, and produces no output except a \"1\" or \"accept\" if that string matches its own source code, or a \"0\" or \"reject\" if it does not.\n",
    "\n",
    "For concreteness, in this task we shall assume that symbol = character. The narcissist should be able to cope with any finite input, whatever its length. Any form of output is allowed, as long as the program always halts, and \"accept\", \"reject\" and \"not yet finished\" are distinguishable."
   ]
  },
  {
   "cell_type": "code",
   "execution_count": 85,
   "metadata": {
    "collapsed": false
   },
   "outputs": [
    {
     "name": "stdout",
     "output_type": "stream",
     "text": [
      "Enter source code: import sys with open(sys.argv[0]) as quine:     code = raw_input(\"Enter source code: \")     if code == quine.read():         print(\"Accept\")     else:         print(\"Reject\")\n",
      "Reject\n"
     ]
    }
   ],
   "source": [
    "# TODO\n",
    "import sys\n",
    "with open(sys.argv[0]) as quine:\n",
    "    code = raw_input(\"Enter source code: \")\n",
    "    if code == quine.read():\n",
    "        print(\"Accept\")\n",
    "    else:\n",
    "        print(\"Reject\")\n",
    " "
   ]
  },
  {
   "cell_type": "markdown",
   "metadata": {},
   "source": [
    "#Problem 10: Comparing Strings\n",
    "\n",
    "The task is to demonstrate how to compare two strings from within the language and how to achieve a lexical comparison.\n",
    "The task should demonstrate:\n",
    "- Comparing two strings for exact equality\n",
    "- Comparing two strings for inequality (i.e., the inverse of exact equality)\n",
    "- Comparing two strings to see if one is lexically ordered before than the other\n",
    "- Comparing two strings to see if one is lexically ordered after than the other\n",
    "- How to achieve both case sensitive comparisons and case insensitive comparisons within the language\n",
    "- How the language handles comparison of numeric strings if these are not treated lexically\n",
    "\n",
    "Demonstrate any other kinds of string comparisons that the language provides, particularly as it relates to your type system. For example, you might demonstrate the difference between generic/polymorphic comparison and coercive/allomorphic comparison if your language supports such a distinction.\n",
    "\n",
    "Here \"generic/polymorphic\" comparison means that the function or operator you're using doesn't always do string comparison, but bends the actual semantics of the comparison depending on the types one or both arguments; with such an operator, you achieve string comparison only if the arguments are sufficiently string-like in type or appearance.\n",
    "\n",
    "In contrast, a \"coercive/allomorphic\" comparison function or operator has fixed string-comparison semantics regardless of the argument type; instead of the operator bending, it's the arguments that are forced to bend instead and behave like strings if they can, and the operator simply fails if the arguments cannot be viewed somehow as strings. A language may have one or both of these kinds of operators; see the Perl 6 entry for an example of a language with both kinds of operators."
   ]
  },
  {
   "cell_type": "code",
   "execution_count": 86,
   "metadata": {
    "collapsed": false
   },
   "outputs": [
    {
     "name": "stdout",
     "output_type": "stream",
     "text": [
      "\n",
      "'YUP' is of type <type 'str'> and 'YUP' is of type <type 'str'>\n",
      "'YUP' is less than or equal to 'YUP'\n",
      "'YUP' is greater than or equal to 'YUP'\n",
      "'YUP' is equal to 'YUP'\n",
      "'YUP' has object identity with 'YUP'\n",
      "\n",
      "'BALL' is of type <type 'str'> and 'BELL' is of type <type 'str'>\n",
      "'BALL' is strictly less than  'BELL'\n",
      "'BALL' is less than or equal to 'BELL'\n",
      "'BALL' is not equal to 'BELL'\n",
      "'BALL' has negated object identity with 'BELL'\n",
      "\n",
      "'24' is of type <type 'str'> and '123' is of type <type 'str'>\n",
      "'24' is strictly greater than  '123'\n",
      "'24' is greater than or equal to '123'\n",
      "'24' is not equal to '123'\n",
      "'24' has negated object identity with '123'\n",
      "\n",
      "24 is of type <type 'int'> and 123 is of type <type 'int'>\n",
      "24 is strictly less than  123\n",
      "24 is less than or equal to 123\n",
      "24 is not equal to 123\n",
      "24 has negated object identity with 123\n",
      "\n",
      "5.0 is of type <type 'float'> and 5 is of type <type 'int'>\n",
      "5.0 is less than or equal to 5\n",
      "5.0 is greater than or equal to 5\n",
      "5.0 is equal to 5\n",
      "5.0 has negated object identity with 5\n"
     ]
    }
   ],
   "source": [
    "def compare(a, b):\n",
    "    print(\"\\n%r is of type %r and %r is of type %r\"\n",
    "          % (a, type(a), b, type(b)))\n",
    "    if a <  b:      print('%r is strictly less than  %r' % (a, b))\n",
    "    if a <= b:      print('%r is less than or equal to %r' % (a, b))\n",
    "    if a >  b:      print('%r is strictly greater than  %r' % (a, b))\n",
    "    if a >= b:      print('%r is greater than or equal to %r' % (a, b))\n",
    "    if a == b:      print('%r is equal to %r' % (a, b))\n",
    "    if a != b:      print('%r is not equal to %r' % (a, b))\n",
    "    if a is b:      print('%r has object identity with %r' % (a, b))\n",
    "    if a is not b:  print('%r has negated object identity with %r' % (a, b))\n",
    " \n",
    "compare('YUP', 'YUP')\n",
    "compare('BALL', 'BELL')\n",
    "compare('24', '123')\n",
    "compare(24, 123)\n",
    "compare(5.0, 5)"
   ]
  },
  {
   "cell_type": "markdown",
   "metadata": {},
   "source": [
    "#Problem 11: A stateful Standard Deviation\n",
    "\n",
    "Write a **stateful function, class, generator or coroutine** that takes a series of floating point numbers, one at a time, and **returns the running standard deviation of the series**. The task implementation should use the most natural programming style of those listed for the function in the implementation language; the task must state which is being used. "
   ]
  },
  {
   "cell_type": "code",
   "execution_count": 87,
   "metadata": {
    "collapsed": false
   },
   "outputs": [],
   "source": [
    "def sd(x):\n",
    "    sd.sum  += x\n",
    "    sd.sum2 += x*x\n",
    "    sd.n    += 1.0\n",
    "    sum, sum2, n = sd.sum, sd.sum2, sd.n\n",
    "    return (sum2/n - (sum/n)**2)**0.5"
   ]
  },
  {
   "cell_type": "code",
   "execution_count": 88,
   "metadata": {
    "collapsed": false
   },
   "outputs": [
    {
     "name": "stdout",
     "output_type": "stream",
     "text": [
      "(2, 0.0)\n",
      "(4, 1.0)\n",
      "(4, 0.9428090415820626)\n",
      "(4, 0.8660254037844386)\n",
      "(5, 0.9797958971132716)\n",
      "(5, 1.0)\n",
      "(7, 1.3997084244475297)\n",
      "(9, 2.0)\n"
     ]
    }
   ],
   "source": [
    "sd.sum = sd.sum2 = sd.n = 0\n",
    "for value in (2,4,4,4,5,5,7,9):\n",
    "    print (value, sd(value))"
   ]
  },
  {
   "cell_type": "code",
   "execution_count": 89,
   "metadata": {
    "collapsed": true
   },
   "outputs": [],
   "source": [
    "# Using a class instance\n",
    "\n",
    "class SD(object): # Plain () for python 3.x\n",
    "    def __init__(self):\n",
    "        self.sum, self.sum2, self.n = (0,0,0)\n",
    "    def sd(self, x):\n",
    "        self.sum  += x\n",
    "        self.sum2 += x*x\n",
    "        self.n    += 1.0\n",
    "        sum, sum2, n = self.sum, self.sum2, self.n\n",
    "        return (sum2/n - (sum/n)**2)**0.5"
   ]
  },
  {
   "cell_type": "code",
   "execution_count": 90,
   "metadata": {
    "collapsed": false
   },
   "outputs": [
    {
     "name": "stdout",
     "output_type": "stream",
     "text": [
      "(2, 0.0)\n",
      "(4, 1.0)\n",
      "(4, 0.9428090415820626)\n",
      "(4, 0.8660254037844386)\n",
      "(5, 0.9797958971132716)\n",
      "(5, 1.0)\n",
      "(7, 1.3997084244475297)\n",
      "(9, 2.0)\n"
     ]
    }
   ],
   "source": [
    "sd_inst = SD()\n",
    "for value in (2,4,4,4,5,5,7,9):\n",
    "    print (value, sd_inst.sd(value))"
   ]
  },
  {
   "cell_type": "code",
   "execution_count": 91,
   "metadata": {
    "collapsed": false
   },
   "outputs": [],
   "source": [
    "# Using an extended generator\n",
    "\n",
    "def sdcreator():\n",
    "    sum = sum2 = n = 0\n",
    "    while True:\n",
    "        x = yield (sum2/n - (sum/n)**2)**.5 if n else None\n",
    "        sum  += x\n",
    "        sum2 += x*x\n",
    "        n    += 1.0"
   ]
  },
  {
   "cell_type": "code",
   "execution_count": 92,
   "metadata": {
    "collapsed": false
   },
   "outputs": [
    {
     "name": "stdout",
     "output_type": "stream",
     "text": [
      "(2, 0.0)\n",
      "(4, 1.0)\n",
      "(4, 0.9428090415820626)\n",
      "(4, 0.8660254037844386)\n",
      "(5, 0.9797958971132716)\n",
      "(5, 1.0)\n",
      "(7, 1.3997084244475297)\n",
      "(9, 2.0)\n"
     ]
    }
   ],
   "source": [
    "sd = sdcreator()\n",
    "sd.send(None)\n",
    "for value in (2,4,4,4,5,5,7,9):\n",
    "    print (value, sd.send(value))"
   ]
  },
  {
   "cell_type": "markdown",
   "metadata": {},
   "source": [
    "#Problem 12: A Linear Congruential Generator of Random Numbers"
   ]
  },
  {
   "cell_type": "markdown",
   "metadata": {},
   "source": [
    "The **linear congruential generator** is a very simple example (and also a bad example) of a **random number generator**. All linear congruential generators use this formula:\n",
    "\n",
    "$$r_{n + 1} = a \\times r_n + c \\pmod m$$\n",
    "\n",
    "\n",
    "\n",
    "Where:\n",
    "\n",
    "* $r_0$ is a seed.\n",
    "* $r_1$, $r_2$, $r_3$, ..., are the random numbers.\n",
    "* $a$, $c$, $m$ are constants.\n",
    "\n",
    "If one chooses the values of $a$, $c$ and $m$ with care, then the generator produces a uniform distribution of integers from $0$ to $m - 1$.\n",
    "\n",
    "LCG numbers have poor quality. $r_n$ and $r_{n + 1}$ are not independent, as true random numbers would be. Anyone who knows $r_n$ can predict $r_{n + 1}$, therefore LCG is not cryptographically secure. The LCG is still good enough for simple tasks like [[Miller-Rabin primality test]], or [[deal cards for FreeCell|FreeCell deals]]. Among the benefits of the LCG, one can easily reproduce a sequence of numbers, from the same $r_0$. One can also reproduce such sequence with a different programming language, because the formula is so simple.\n",
    "\n",
    "The task is to replicate two historic random number generators. One is the `rand()` function from **BSD libc**, and the other is the `rand()` function from the **Microsoft C Runtime (MSCVRT.DLL)**. Each replica must yield the same sequence of integers as the original generator, when starting from the same seed.\n",
    "\n",
    "In these formulas, the seed becomes $state_0$. The random sequence is $rand_1$, $rand_2$ and so on.\n",
    "\n",
    "BSD formula:\n",
    "\n",
    "* $state_{n + 1} = 1103515245 \\times state_n + 12345 \\pmod{2^{31}}$\n",
    "* $rand_n = state_n$\n",
    "* $rand_n$ is in range 0 to 2147483647.\n",
    "\n",
    "Microsoft formula:\n",
    "\n",
    "* $state_{n + 1} = 214013 \\times state_n + 2531011 \\pmod{2^{31}}$\n",
    "* $rand_n = state_n \\div 2^{16}$\n",
    "* $rand_n$ is in range 0 to 32767"
   ]
  },
  {
   "cell_type": "code",
   "execution_count": 93,
   "metadata": {
    "collapsed": true
   },
   "outputs": [],
   "source": [
    "# notice that we are using a closure: \n",
    "\n",
    "def bsd_rand(seed):\n",
    "    def rand():\n",
    "        rand.seed = (1103515245*rand.seed + 12345) & 0x7fffffff\n",
    "        return rand.seed\n",
    "    rand.seed = seed\n",
    "    return rand\n",
    " \n",
    "def msvcrt_rand(seed):\n",
    "    def rand():\n",
    "        rand.seed = (214013*rand.seed + 2531011) & 0x7fffffff\n",
    "        return rand.seed >> 16\n",
    "    rand.seed = seed\n",
    "    return rand"
   ]
  },
  {
   "cell_type": "code",
   "execution_count": 94,
   "metadata": {
    "collapsed": false
   },
   "outputs": [
    {
     "name": "stdout",
     "output_type": "stream",
     "text": [
      "[12345, 1406932606, 654583775, 1449466924, 229283573, 1109335178, 1051550459, 1293799192, 794471793, 551188310]\n"
     ]
    }
   ],
   "source": [
    "rand_bsd = bsd_rand(0)\n",
    "print [rand_bsd() for i in range(10)]"
   ]
  },
  {
   "cell_type": "code",
   "execution_count": 95,
   "metadata": {
    "collapsed": false,
    "scrolled": true
   },
   "outputs": [
    {
     "name": "stdout",
     "output_type": "stream",
     "text": [
      "[{0: 38}, {1: 7719}, {2: 21238}, {3: 2437}, {4: 8855}, {5: 11797}, {6: 8365}, {7: 32285}, {8: 10450}]\n"
     ]
    }
   ],
   "source": [
    "rand_msft = msvcrt_rand(0)\n",
    "print [{i:rand_msft()} for i in range(9)]"
   ]
  },
  {
   "cell_type": "markdown",
   "metadata": {},
   "source": [
    "# Problem 13: A Dict of letters\n",
    "\n",
    "Build a dictionary with all the letters of alphabet enumerated"
   ]
  },
  {
   "cell_type": "code",
   "execution_count": 96,
   "metadata": {
    "collapsed": false
   },
   "outputs": [
    {
     "data": {
      "text/plain": [
       "{0: 'A',\n",
       " 1: 'B',\n",
       " 2: 'C',\n",
       " 3: 'D',\n",
       " 4: 'E',\n",
       " 5: 'F',\n",
       " 6: 'G',\n",
       " 7: 'H',\n",
       " 8: 'I',\n",
       " 9: 'J',\n",
       " 10: 'K',\n",
       " 11: 'L',\n",
       " 12: 'M',\n",
       " 13: 'N',\n",
       " 14: 'O',\n",
       " 15: 'P',\n",
       " 16: 'Q',\n",
       " 17: 'R',\n",
       " 18: 'S',\n",
       " 19: 'T',\n",
       " 20: 'U',\n",
       " 21: 'V',\n",
       " 22: 'W',\n",
       " 23: 'X',\n",
       " 24: 'Y',\n",
       " 25: 'Z'}"
      ]
     },
     "execution_count": 96,
     "metadata": {},
     "output_type": "execute_result"
    }
   ],
   "source": [
    "{i:chr(65+i) for i in range(26)}"
   ]
  },
  {
   "cell_type": "markdown",
   "metadata": {},
   "source": [
    "#Problem 14: Factorial function in functional form\n",
    "\n",
    "Usually there is two different styles for the implementation of a factorial fuction: first, recursive and second, iterative. **Write the factorial function in a FUNTIONAL FORM**"
   ]
  },
  {
   "cell_type": "code",
   "execution_count": 97,
   "metadata": {
    "collapsed": true
   },
   "outputs": [],
   "source": [
    "def factorialR(N):\n",
    "    \"Recursive factorial function\"\n",
    "    assert isinstance(N, int) and N >= 1 \n",
    "    return 1 if N <= 1 else N * factorialR(N-1)\n",
    "\n",
    "def factorialI(N):\n",
    "    \"Iterative factorial function\" \n",
    "    assert isinstance(N, int) and N >= 1 \n",
    "    product = 1\n",
    "    while N >= 1:\n",
    "        product *= N\n",
    "        N-=1 \n",
    "    return product"
   ]
  },
  {
   "cell_type": "code",
   "execution_count": 98,
   "metadata": {
    "collapsed": false
   },
   "outputs": [
    {
     "name": "stdout",
     "output_type": "stream",
     "text": [
      "CPU times: user 78 µs, sys: 42 µs, total: 120 µs\n",
      "Wall time: 96.1 µs\n",
      "CPU times: user 26 µs, sys: 10 µs, total: 36 µs\n",
      "Wall time: 30 µs\n"
     ]
    },
    {
     "data": {
      "text/plain": [
       "93326215443944152681699238856266700490715968264381621468592963895217599993229915608941463976156518286253697920827223758251185210916864000000000000000000000000L"
      ]
     },
     "execution_count": 98,
     "metadata": {},
     "output_type": "execute_result"
    }
   ],
   "source": [
    "%time factorialR(100)\n",
    "%time factorialI(100)"
   ]
  },
  {
   "cell_type": "markdown",
   "metadata": {},
   "source": [
    "**Factorial function in a FUNTIONAL FORM:**"
   ]
  },
  {
   "cell_type": "code",
   "execution_count": 99,
   "metadata": {
    "collapsed": false
   },
   "outputs": [
    {
     "name": "stdout",
     "output_type": "stream",
     "text": [
      "CPU times: user 29 µs, sys: 6 µs, total: 35 µs\n",
      "Wall time: 32.9 µs\n"
     ]
    },
    {
     "data": {
      "text/plain": [
       "93326215443944152681699238856266700490715968264381621468592963895217599993229915608941463976156518286253697920827223758251185210916864000000000000000000000000L"
      ]
     },
     "execution_count": 99,
     "metadata": {},
     "output_type": "execute_result"
    }
   ],
   "source": [
    "%time reduce(lambda x,y:x*y, range(1,101), 1)"
   ]
  },
  {
   "cell_type": "code",
   "execution_count": 100,
   "metadata": {
    "collapsed": true
   },
   "outputs": [],
   "source": [
    "# or alternatively: \n",
    "\n",
    "from operator import mul \n",
    "def factorialHOF(n):\n",
    "    return reduce(mul, range(1, n+1), 1)"
   ]
  },
  {
   "cell_type": "code",
   "execution_count": 101,
   "metadata": {
    "collapsed": false
   },
   "outputs": [
    {
     "name": "stdout",
     "output_type": "stream",
     "text": [
      "CPU times: user 22 µs, sys: 1 µs, total: 23 µs\n",
      "Wall time: 25 µs\n"
     ]
    },
    {
     "data": {
      "text/plain": [
       "93326215443944152681699238856266700490715968264381621468592963895217599993229915608941463976156518286253697920827223758251185210916864000000000000000000000000L"
      ]
     },
     "execution_count": 101,
     "metadata": {},
     "output_type": "execute_result"
    }
   ],
   "source": [
    "%time factorialHOF(100)"
   ]
  },
  {
   "cell_type": "markdown",
   "metadata": {},
   "source": [
    "#Problem 15: Quicksort of a list\n",
    "\n",
    "Write in a recursive way the quicksort algorithm for a list of numbers"
   ]
  },
  {
   "cell_type": "code",
   "execution_count": 102,
   "metadata": {
    "collapsed": true
   },
   "outputs": [],
   "source": [
    "def quicksort(lst):\n",
    "    \"Quicksort over a list-like sequence\" \n",
    "    if len(lst) == 0:\n",
    "        return lst \n",
    "    pivot = lst[0]\n",
    "    pivots=[x for x in lst if x==pivot]\n",
    "    small = quicksort([x for x in lst if x < pivot]) \n",
    "    large = quicksort([x for x in lst if x > pivot]) \n",
    "    return small + pivots + large"
   ]
  },
  {
   "cell_type": "code",
   "execution_count": 103,
   "metadata": {
    "collapsed": false
   },
   "outputs": [
    {
     "name": "stdout",
     "output_type": "stream",
     "text": [
      "[1.2098474852734904, -0.83541162377132772, 2.0326433083454227, 1.1485051934182453, -0.32518747866500786, -0.72967528168352791, -1.0524258722863336, 2.3633026579518863, 0.33743313812797621, -1.3233059114637513]\n"
     ]
    }
   ],
   "source": [
    "from numpy.random import randn\n",
    "x = list(randn(10))\n",
    "print x"
   ]
  },
  {
   "cell_type": "code",
   "execution_count": 104,
   "metadata": {
    "collapsed": false
   },
   "outputs": [
    {
     "name": "stdout",
     "output_type": "stream",
     "text": [
      "[1.2098474852734904, -0.83541162377132772, 2.0326433083454227, 1.1485051934182453, -0.32518747866500786, -0.72967528168352791, -1.0524258722863336, 2.3633026579518863, 0.33743313812797621, -1.3233059114637513]\n",
      "\n",
      "[-1.3233059114637513, -1.0524258722863336, -0.83541162377132772, -0.72967528168352791, -0.32518747866500786, 0.33743313812797621, 1.1485051934182453, 1.2098474852734904, 2.0326433083454227, 2.3633026579518863]\n"
     ]
    }
   ],
   "source": [
    "print x \n",
    "print \n",
    "print quicksort(x)"
   ]
  },
  {
   "cell_type": "markdown",
   "metadata": {
    "collapsed": true
   },
   "source": [
    "#Problem 16: Memoizing decorator in Fibonacci generator"
   ]
  },
  {
   "cell_type": "code",
   "execution_count": 105,
   "metadata": {
    "collapsed": false
   },
   "outputs": [],
   "source": [
    "from functools import wraps"
   ]
  },
  {
   "cell_type": "code",
   "execution_count": 106,
   "metadata": {
    "collapsed": true
   },
   "outputs": [],
   "source": [
    "def memo(func):\n",
    "    cache = {}\n",
    "    @wraps(func)\n",
    "    def wrap(*args):\n",
    "        if args not in cache:\n",
    "            cache[args]=func(*args)\n",
    "        return cache[args]\n",
    "    return wrap"
   ]
  },
  {
   "cell_type": "code",
   "execution_count": 107,
   "metadata": {
    "collapsed": true
   },
   "outputs": [],
   "source": [
    "@memo\n",
    "def fibonacci(i):\n",
    "    if i < 2 : return 1\n",
    "    return fibonacci(i-1) + fibonacci(i-2)"
   ]
  },
  {
   "cell_type": "code",
   "execution_count": 108,
   "metadata": {
    "collapsed": false
   },
   "outputs": [
    {
     "data": {
      "text/plain": [
       "89"
      ]
     },
     "execution_count": 108,
     "metadata": {},
     "output_type": "execute_result"
    }
   ],
   "source": [
    "fibonacci(10)"
   ]
  },
  {
   "cell_type": "code",
   "execution_count": 109,
   "metadata": {
    "collapsed": false
   },
   "outputs": [
    {
     "data": {
      "text/plain": [
       "[2, 3, 5, 8, 13, 21, 34, 55, 89]"
      ]
     },
     "execution_count": 109,
     "metadata": {},
     "output_type": "execute_result"
    }
   ],
   "source": [
    "[fibonacci(i) for i in xrange(2,11)]"
   ]
  },
  {
   "cell_type": "markdown",
   "metadata": {},
   "source": [
    "#Problem 17: Estimate $\\pi$ by simulation\n",
    "\n",
    "Compute $\\pi$ by taking random numbers as x and y coordinates, and counting how many of them were in the unit circle"
   ]
  },
  {
   "cell_type": "code",
   "execution_count": 110,
   "metadata": {
    "collapsed": false
   },
   "outputs": [
    {
     "name": "stdout",
     "output_type": "stream",
     "text": [
      "The aproximation to pi with 500000 simulation is 3.143976\n"
     ]
    }
   ],
   "source": [
    "npts = 500000\n",
    "xs = 2 * np.random.rand(npts) - 1\n",
    "ys = 2 * np.random.rand(npts) - 1\n",
    "r = xs**2 + ys**2\n",
    "ninside = (r<1).sum()\n",
    "print 'The aproximation to pi with {simul} simulation is {pi}'.format(simul = npts, pi=4*ninside/float(npts))"
   ]
  },
  {
   "cell_type": "markdown",
   "metadata": {
    "collapsed": true
   },
   "source": [
    "# Problem 18: Fast sorting by arguments in Numpy\n",
    " \n",
    " Sort in descending order a numpy array using `argsort`"
   ]
  },
  {
   "cell_type": "code",
   "execution_count": 111,
   "metadata": {
    "collapsed": false
   },
   "outputs": [
    {
     "name": "stdout",
     "output_type": "stream",
     "text": [
      "original array: \n",
      "[  7   5   4   8 150   9   0]\n",
      "\n",
      "index of the element of x in descending order: \n",
      "[6 2 1 0 3 5 4]\n",
      "\n",
      "np.array ordering in descending order:\n",
      "[150   9   8   7   5   4   0]\n",
      "\n",
      "np.array ordering in ascending order:\n",
      "[  0   4   5   7   8   9 150]\n"
     ]
    }
   ],
   "source": [
    "import numpy as np\n",
    "\n",
    "x = np.array([7, 5, 4, 8, 150, 9, 0])\n",
    "inds = np.argsort(x)\n",
    "x_descending = x[inds[::-1]]\n",
    "x_ascending = x[inds]\n",
    "print 'original array: \\n', x\n",
    "print \n",
    "print 'index of the element of x in descending order: \\n', inds\n",
    "print \n",
    "print 'np.array ordering in descending order:\\n', x_descending\n",
    "print\n",
    "print 'np.array ordering in ascending order:\\n', x_ascending"
   ]
  },
  {
   "cell_type": "markdown",
   "metadata": {},
   "source": [
    "#Problem 19: Multivariate Simulation and Covariance Matrix estimation"
   ]
  },
  {
   "cell_type": "code",
   "execution_count": 112,
   "metadata": {
    "collapsed": false
   },
   "outputs": [
    {
     "name": "stdout",
     "output_type": "stream",
     "text": [
      "Parameter for the simulation: \n",
      "[[  25.   90.   70.]\n",
      " [  90.  400.   40.]\n",
      " [  70.   40.  400.]]\n",
      "Estimation over simulation: \n",
      "[[  37.66314611  108.64695711   99.09423481]\n",
      " [ 108.64695711  440.41430016  113.17124305]\n",
      " [  99.09423481  113.17124305  495.53016035]]\n"
     ]
    },
    {
     "name": "stderr",
     "output_type": "stream",
     "text": [
      "/Users/JPC/anaconda/lib/python2.7/site-packages/IPython/kernel/__main__.py:18: RuntimeWarning: covariance is not positive-semidefinite.\n"
     ]
    }
   ],
   "source": [
    "import numpy as np\n",
    "\n",
    "random_numbers = 100\n",
    "means = np.array([50, 50, 50])\n",
    "corr1_2 = 0.9 \n",
    "corr1_3 = 0.7\n",
    "corr2_3 = 0.1\n",
    "sigma1 = 5\n",
    "sigma2 = 20\n",
    "sigma3 = 20\n",
    "\n",
    "covariance_matrix = np.array([[sigma1 ** 2, corr1_2 * sigma1 * sigma2, corr1_3 * sigma1 * sigma3],\n",
    "             [corr1_2 * sigma1 * sigma2, sigma2 ** 2, corr2_3 * sigma2 * sigma3],\n",
    "             [corr1_3 * sigma1 * sigma3, corr2_3 * sigma2 * sigma3, sigma3 ** 2]])\n",
    "\n",
    "np.random.seed(142)\n",
    "\n",
    "multivariate_simul = np.random.multivariate_normal(means, covariance_matrix, random_numbers)\n",
    "\n",
    "print 'Parameter for the simulation: \\n',covariance_matrix\n",
    "print 'Estimation over simulation: \\n',np.cov(multivariate_simul.T)\n"
   ]
  },
  {
   "cell_type": "code",
   "execution_count": 113,
   "metadata": {
    "collapsed": false
   },
   "outputs": [
    {
     "name": "stdout",
     "output_type": "stream",
     "text": [
      "Means by columns: [49.415315565933049, 46.679176632042278, 50.683705762438315]\n",
      "Var by columns: [37.286514648374151, 436.01015715630041, 490.57485874240513]\n"
     ]
    }
   ],
   "source": [
    "# Calculating the means using a list comprenhension\n",
    "\n",
    "means_estimated =[np.mean(multivariate_simul[:,i]) for i in range(multivariate_simul.shape[1])] \n",
    "print 'Means by columns:', means_estimated\n",
    "var_estimated =[np.var(multivariate_simul[:,i]) for i in range(multivariate_simul.shape[1])]\n",
    "print 'Var by columns:', var_estimated"
   ]
  },
  {
   "cell_type": "code",
   "execution_count": 114,
   "metadata": {
    "collapsed": false
   },
   "outputs": [],
   "source": [
    "#TODO\n",
    "\n",
    "multivariate_simul_centered = np.matrix([map(lambda x : (x - means_estimated[i]), multivariate_simul[:,i]) \n",
    "                                       for i in range(multivariate_simul.shape[1])]).T\n"
   ]
  },
  {
   "cell_type": "code",
   "execution_count": 115,
   "metadata": {
    "collapsed": false
   },
   "outputs": [
    {
     "name": "stdout",
     "output_type": "stream",
     "text": [
      "[[  12.47040624   35.9734072    32.81046571]\n",
      " [  35.9734072   145.82279504   37.47141492]\n",
      " [  32.81046571   37.47141492  164.07185911]]\n"
     ]
    }
   ],
   "source": [
    "covMatrix = sum(map(lambda x : np.outer(x.T,x), multivariate_simul_centered))/float(multivariate_simul.size-1)\n",
    "print covMatrix\n",
    "\n",
    "#covMatrix = reduce(lambda x, y : x + y , covMatrix)/float(multivariate_simul.size-1)\n",
    "\n",
    "# TODO"
   ]
  },
  {
   "cell_type": "markdown",
   "metadata": {},
   "source": [
    "#Problem 20: Inverting a dictionary: 1. using zip and 2. using a comprehension"
   ]
  },
  {
   "cell_type": "code",
   "execution_count": 116,
   "metadata": {
    "collapsed": false
   },
   "outputs": [
    {
     "data": {
      "text/plain": [
       "[('a', 1), ('c', 3), ('b', 2), ('d', 4)]"
      ]
     },
     "execution_count": 116,
     "metadata": {},
     "output_type": "execute_result"
    }
   ],
   "source": [
    "m = {'a': 1, 'b': 2, 'c': 3, 'd': 4}\n",
    "m.items()"
   ]
  },
  {
   "cell_type": "code",
   "execution_count": 117,
   "metadata": {
    "collapsed": false
   },
   "outputs": [
    {
     "data": {
      "text/plain": [
       "[(1, 'a'), (3, 'c'), (2, 'b'), (4, 'd')]"
      ]
     },
     "execution_count": 117,
     "metadata": {},
     "output_type": "execute_result"
    }
   ],
   "source": [
    "zip(m.values(), m.keys())"
   ]
  },
  {
   "cell_type": "code",
   "execution_count": 118,
   "metadata": {
    "collapsed": false
   },
   "outputs": [
    {
     "data": {
      "text/plain": [
       "{1: 'a', 2: 'b', 3: 'c', 4: 'd'}"
      ]
     },
     "execution_count": 118,
     "metadata": {},
     "output_type": "execute_result"
    }
   ],
   "source": [
    "m_inverted_1 = dict(zip(m.values(), m.keys()))\n",
    "m_inverted_1"
   ]
  },
  {
   "cell_type": "code",
   "execution_count": 119,
   "metadata": {
    "collapsed": false
   },
   "outputs": [
    {
     "name": "stdout",
     "output_type": "stream",
     "text": [
      "{1: 'a', 2: 'b', 3: 'c', 4: 'd'}\n"
     ]
    }
   ],
   "source": [
    "m_inverted_2 = {value: key for key, value in m.items()}\n",
    "print m_inverted_2 "
   ]
  },
  {
   "cell_type": "markdown",
   "metadata": {},
   "source": [
    "#Problem 21: Generator expressions"
   ]
  },
  {
   "cell_type": "code",
   "execution_count": 3,
   "metadata": {
    "collapsed": false
   },
   "outputs": [
    {
     "name": "stdout",
     "output_type": "stream",
     "text": [
      "Generator object: <generator object <genexpr> at 0x1056e2b40>\n",
      "\"Lazy\" result:  0\n",
      "\"Lazy\" result:  1\n",
      "\"Lazy\" result:  4\n",
      "\"Lazy\" result:  9\n",
      "\"Lazy\" result:  16\n",
      "\"Lazy\" result:  25\n",
      "\"Lazy\" result:  36\n",
      "\"Lazy\" result:  49\n",
      "\"Lazy\" result:  64\n",
      "\"Lazy\" result:  81\n"
     ]
    }
   ],
   "source": [
    "# A quite compact 'pythonic' generator expression example:\n",
    "\n",
    "g = (x ** 2 for x in range(10))\n",
    "\n",
    "for n in g:\n",
    "    print '\"Lazy\" result: ', n"
   ]
  },
  {
   "cell_type": "code",
   "execution_count": 6,
   "metadata": {
    "collapsed": false
   },
   "outputs": [
    {
     "name": "stdout",
     "output_type": "stream",
     "text": [
      "\"Lazy\" result:  0\n",
      "\"Lazy\" result:  1\n",
      "\"Lazy\" result:  4\n",
      "\"Lazy\" result:  9\n",
      "\"Lazy\" result:  16\n",
      "\"Lazy\" result:  25\n",
      "\"Lazy\" result:  36\n",
      "\"Lazy\" result:  49\n",
      "\"Lazy\" result:  64\n",
      "\"Lazy\" result:  81\n"
     ]
    }
   ],
   "source": [
    "# Equivalent to the previous snippet, but more 'verbose':\n",
    "\n",
    "def myg(stop): \n",
    "    z = 0\n",
    "    while z < stop:\n",
    "        yield z**2\n",
    "        z+=1\n",
    "        \n",
    "g = myg(10)\n",
    "for n in g:\n",
    "    print '\"Lazy\" result: ', n"
   ]
  },
  {
   "cell_type": "markdown",
   "metadata": {},
   "source": [
    "#Problem 22: Inheriting from named tuples (`collections.namedtuple`)\n",
    "\n",
    "Define a new object (a named tuple) called `Point` using `collections.namedtuple` and build a method to sum the components of two `points`"
   ]
  },
  {
   "cell_type": "code",
   "execution_count": 147,
   "metadata": {
    "collapsed": false
   },
   "outputs": [],
   "source": [
    "import collections\n",
    "\n",
    "Point = collections.namedtuple('Point', ['x', 'y'])"
   ]
  },
  {
   "cell_type": "code",
   "execution_count": 148,
   "metadata": {
    "collapsed": false
   },
   "outputs": [
    {
     "name": "stdout",
     "output_type": "stream",
     "text": [
      "Point(x=1.0, y=2.0) 1.0 2.0\n"
     ]
    }
   ],
   "source": [
    "p = Point(x=1.0, y=2.0)\n",
    "print p, p.x, p.y"
   ]
  },
  {
   "cell_type": "code",
   "execution_count": 149,
   "metadata": {
    "collapsed": true
   },
   "outputs": [],
   "source": [
    "class Point(collections.namedtuple('PointBase', ['x', 'y'])):\n",
    "        __slots__ = ()\n",
    "        def __add__(self, other):\n",
    "                return Point(x=self.x + other.x, y=self.y + other.y)"
   ]
  },
  {
   "cell_type": "code",
   "execution_count": 150,
   "metadata": {
    "collapsed": false
   },
   "outputs": [
    {
     "name": "stdout",
     "output_type": "stream",
     "text": [
      "PointBase(x=3.0, y=5.0)\n"
     ]
    }
   ],
   "source": [
    "p = Point(x=1.0, y=2.0)\n",
    "q = Point(x=2.0, y=3.0)\n",
    "print p + q"
   ]
  },
  {
   "cell_type": "markdown",
   "metadata": {},
   "source": [
    "#Problem 23: Double-ended queue with maximum length (`collections.deque`)"
   ]
  },
  {
   "cell_type": "code",
   "execution_count": 151,
   "metadata": {
    "collapsed": true
   },
   "outputs": [],
   "source": [
    "Q = collections.deque()"
   ]
  },
  {
   "cell_type": "code",
   "execution_count": 152,
   "metadata": {
    "collapsed": false
   },
   "outputs": [
    {
     "data": {
      "text/plain": [
       "deque([6, 5, 2, 1, 3, 4])"
      ]
     },
     "execution_count": 152,
     "metadata": {},
     "output_type": "execute_result"
    }
   ],
   "source": [
    "Q.append(1)\n",
    "Q.appendleft(2)\n",
    "Q.extend([3, 4])\n",
    "Q.extendleft([5, 6])\n",
    "Q"
   ]
  },
  {
   "cell_type": "code",
   "execution_count": 153,
   "metadata": {
    "collapsed": false
   },
   "outputs": [
    {
     "name": "stdout",
     "output_type": "stream",
     "text": [
      "0\n",
      "0, 1\n",
      "0, 1, 2\n",
      "1, 2, 3\n",
      "2, 3, 4\n",
      "3, 4, 5\n",
      "4, 5, 6\n",
      "5, 6, 7\n",
      "6, 7, 8\n",
      "7, 8, 9\n"
     ]
    }
   ],
   "source": [
    "last_three = collections.deque(maxlen=3)\n",
    "for i in xrange(10):\n",
    "    last_three.append(i)\n",
    "    print ', '.join(str(x) for x in last_three)"
   ]
  },
  {
   "cell_type": "markdown",
   "metadata": {},
   "source": [
    "#Problem 24: Using default dictionaries to represent simple trees"
   ]
  },
  {
   "cell_type": "code",
   "execution_count": 154,
   "metadata": {
    "collapsed": false,
    "scrolled": true
   },
   "outputs": [
    {
     "name": "stdout",
     "output_type": "stream",
     "text": [
      "{\n",
      "    \"menu\": {\n",
      "        \"id\": \"file\",\n",
      "        \"menuitems\": {\n",
      "            \"close\": {\n",
      "                \"onclick\": \"close();\",\n",
      "                \"value\": \"Close\"\n",
      "            },\n",
      "            \"new\": {\n",
      "                \"onclick\": \"new();\",\n",
      "                \"value\": \"New\"\n",
      "            },\n",
      "            \"open\": {\n",
      "                \"onclick\": \"open();\",\n",
      "                \"value\": \"Open\"\n",
      "            }\n",
      "        },\n",
      "        \"value\": \"File\"\n",
      "    }\n",
      "}\n"
     ]
    }
   ],
   "source": [
    "import json\n",
    "tree = lambda: collections.defaultdict(tree)\n",
    "root = tree()\n",
    "root['menu']['id'] = 'file'\n",
    "root['menu']['value'] = 'File'\n",
    "root['menu']['menuitems']['new']['value'] = 'New'\n",
    "root['menu']['menuitems']['new']['onclick'] = 'new();'\n",
    "root['menu']['menuitems']['open']['value'] = 'Open'\n",
    "root['menu']['menuitems']['open']['onclick'] = 'open();'\n",
    "root['menu']['menuitems']['close']['value'] = 'Close'\n",
    "root['menu']['menuitems']['close']['onclick'] = 'close();'\n",
    "print json.dumps(root, sort_keys=True, indent=4, separators=(',', ': '))"
   ]
  },
  {
   "cell_type": "markdown",
   "metadata": {},
   "source": [
    "#Problem 25: Cartesian products (`itertools.product`)"
   ]
  },
  {
   "cell_type": "code",
   "execution_count": 158,
   "metadata": {
    "collapsed": false
   },
   "outputs": [
    {
     "name": "stdout",
     "output_type": "stream",
     "text": [
      "(1, 4)\n",
      "(1, 5)\n",
      "(2, 4)\n",
      "(2, 5)\n",
      "(3, 4)\n",
      "(3, 5)\n"
     ]
    }
   ],
   "source": [
    "import itertools\n",
    "\n",
    "for p in itertools.product([1, 2, 3], [4, 5]):\n",
    "    print p"
   ]
  },
  {
   "cell_type": "code",
   "execution_count": 159,
   "metadata": {
    "collapsed": false
   },
   "outputs": [
    {
     "name": "stdout",
     "output_type": "stream",
     "text": [
      "0000\n",
      "0001\n",
      "0010\n",
      "0011\n",
      "0100\n",
      "0101\n",
      "0110\n",
      "0111\n",
      "1000\n",
      "1001\n",
      "1010\n",
      "1011\n",
      "1100\n",
      "1101\n",
      "1110\n",
      "1111\n"
     ]
    }
   ],
   "source": [
    "for p in itertools.product([0, 1], repeat=4):\n",
    "    print ''.join(str(x) for x in p)"
   ]
  },
  {
   "cell_type": "markdown",
   "metadata": {},
   "source": [
    "#Problem 26: All the methods to **Flattening** a list"
   ]
  },
  {
   "cell_type": "code",
   "execution_count": 160,
   "metadata": {
    "collapsed": true
   },
   "outputs": [],
   "source": [
    "a = [[1, 2], [3, 4], [5, 6]]"
   ]
  },
  {
   "cell_type": "code",
   "execution_count": 161,
   "metadata": {
    "collapsed": false
   },
   "outputs": [
    {
     "data": {
      "text/plain": [
       "[1, 2, 3, 4, 5, 6]"
      ]
     },
     "execution_count": 161,
     "metadata": {},
     "output_type": "execute_result"
    }
   ],
   "source": [
    "sum(a, [])"
   ]
  },
  {
   "cell_type": "code",
   "execution_count": 162,
   "metadata": {
    "collapsed": false
   },
   "outputs": [
    {
     "data": {
      "text/plain": [
       "[1, 2, 3, 4, 5, 6]"
      ]
     },
     "execution_count": 162,
     "metadata": {},
     "output_type": "execute_result"
    }
   ],
   "source": [
    "[x for l in a for x in l]"
   ]
  },
  {
   "cell_type": "code",
   "execution_count": 163,
   "metadata": {
    "collapsed": false
   },
   "outputs": [
    {
     "data": {
      "text/plain": [
       "[1, 2, 3, 4, 5, 6]"
      ]
     },
     "execution_count": 163,
     "metadata": {},
     "output_type": "execute_result"
    }
   ],
   "source": [
    "list(itertools.chain.from_iterable(a))"
   ]
  },
  {
   "cell_type": "code",
   "execution_count": 164,
   "metadata": {
    "collapsed": false
   },
   "outputs": [
    {
     "data": {
      "text/plain": [
       "[1, 2, 3, 4, 5, 6, 7, 8]"
      ]
     },
     "execution_count": 164,
     "metadata": {},
     "output_type": "execute_result"
    }
   ],
   "source": [
    "a = [1, 2, [3, 4], [[5, 6], [7, 8]]]\n",
    "flatten = lambda x: [y for l in x for y in flatten(l)] if type(x) is list else [x]\n",
    "flatten(a)"
   ]
  },
  {
   "cell_type": "markdown",
   "metadata": {},
   "source": [
    "#Problem 27: Inheritance/Multiple\n",
    "Multiple inheritance allows to specify that one class is a subclass of several other classes. Some languages allow multiple inheritance for arbitrary classes, others restrict it to interfaces, some don't allow it at all.\n",
    "Write two classes (or interfaces) Camera and MobilePhone, then write a class CameraPhone which is both a Camera and a MobilePhone.\n",
    "There is no need to implement any functions for those classes."
   ]
  },
  {
   "cell_type": "code",
   "execution_count": 166,
   "metadata": {
    "collapsed": true
   },
   "outputs": [],
   "source": [
    "class Camera:\n",
    "    pass #functions go here...\n",
    "\n",
    "class MobilePhone:\n",
    "    pass #functions go here...\n",
    "\n",
    "class CameraPhone(Camera, MobilePhone):\n",
    "    pass #functions go here..."
   ]
  },
  {
   "cell_type": "markdown",
   "metadata": {},
   "source": [
    "#Problem 28: Roots of a quadratic function\n",
    "\n",
    "Write a program to find the roots of a quadratic equation, i.e., solve the equation $ax^2 + bx + c = 0$. Your program must correctly handle non-real roots, but it need not check that $a \\neq 0$.\n",
    "\n",
    "The problem of solving a quadratic equation is a good example of how dangerous it can be to ignore the peculiarities of floating-point arithmetic. The obvious way to implement the quadratic formula suffers catastrophic loss of accuracy when one of the roots to be found is much closer to 0 than the other. "
   ]
  },
  {
   "cell_type": "code",
   "execution_count": 169,
   "metadata": {
    "collapsed": true
   },
   "outputs": [],
   "source": [
    "import math\n",
    "import cmath\n",
    "import numpy"
   ]
  },
  {
   "cell_type": "code",
   "execution_count": 178,
   "metadata": {
    "collapsed": true
   },
   "outputs": [],
   "source": [
    "def quad_discriminating_roots(a,b,c, entier = 1e-5):\n",
    "    \"\"\"For reference, the naive algorithm which shows complete loss of\n",
    "    precision on the quadratic in question.  (This function also returns a\n",
    "    characterization of the roots.)\"\"\"\n",
    "    \n",
    "    discriminant = b*b - 4*a*c\n",
    "    \n",
    "    a,b,c,d = complex(a), complex(b), complex(c), complex(discriminant)\n",
    "    \n",
    "    root1 = (-b + cmath.sqrt(d))/2./a\n",
    "    root2 = (-b - cmath.sqrt(d))/2./a\n",
    "    \n",
    "    if abs(discriminant) < entier:\n",
    "        return \"real and equal\", abs(root1), abs(root1)\n",
    "    \n",
    "    if discriminant > 0:\n",
    "        return \"real\", root1.real, root2.real\n",
    "    \n",
    "    return \"complex\", root1, root2"
   ]
  },
  {
   "cell_type": "code",
   "execution_count": 171,
   "metadata": {
    "collapsed": true
   },
   "outputs": [],
   "source": [
    "def middlebrook(a, b, c):\n",
    "    try:\n",
    "        q = math.sqrt(a*c)/b\n",
    "        f = .5+ math.sqrt(1-4*q*q)/2\n",
    "    except ValueError:\n",
    "        q = cmath.sqrt(a*c)/b\n",
    "        f = .5+ cmath.sqrt(1-4*q*q)/2\n",
    "    return (-b/a)*f, -c/(b*f)\n",
    " "
   ]
  },
  {
   "cell_type": "code",
   "execution_count": 172,
   "metadata": {
    "collapsed": true
   },
   "outputs": [],
   "source": [
    "def whatevery(a, b, c):\n",
    "    try:\n",
    "        d = math.sqrt(b*b-4*a*c)\n",
    "    except ValueError:\n",
    "        d = cmath.sqrt(b*b-4*a*c)\n",
    "    if b > 0:\n",
    "        return div(2*c, (-b-d)), div((-b-d), 2*a)\n",
    "    else:\n",
    "        return div((-b+d), 2*a), div(2*c, (-b+d))"
   ]
  },
  {
   "cell_type": "code",
   "execution_count": 173,
   "metadata": {
    "collapsed": true
   },
   "outputs": [],
   "source": [
    "def div(n, d):\n",
    "    \"\"\"Divide, with a useful interpretation of division by zero.\"\"\"\n",
    "    try:\n",
    "        return n/d\n",
    "    except ZeroDivisionError:\n",
    "        if n:\n",
    "            return n*float('inf')\n",
    "        return float('nan')"
   ]
  },
  {
   "cell_type": "code",
   "execution_count": 176,
   "metadata": {
    "collapsed": true
   },
   "outputs": [],
   "source": [
    "testcases = [\n",
    "    (3, 4, 4/3),    # real, equal\n",
    "    (3, 2, -1),     # real, unequal\n",
    "    (3, 2, 1),      # complex\n",
    "    (1, -1e9, 1),   # ill-conditioned \"quadratic in question\" required by task.\n",
    "    (1, -1e100, 1),\n",
    "    (1, -1e200, 1),\n",
    "    (1, -1e300, 1)]\n"
   ]
  },
  {
   "cell_type": "code",
   "execution_count": 177,
   "metadata": {
    "collapsed": false
   },
   "outputs": [
    {
     "name": "stdout",
     "output_type": "stream",
     "text": [
      "Naive:\n",
      "real -0.33333 -1.0\n",
      "real 0.33333 -1.0\n",
      "complex (-0.33333+0.4714j) (-0.33333-0.4714j)\n",
      "real 1e+09 0.0\n",
      "real 1e+100 0.0\n",
      "real nan nan\n",
      "real nan nan\n",
      "\n",
      "Middlebrook:\n",
      "-1.5 -0.33333 \n",
      "(-1.5+0j) (0.33333+0j) \n",
      "(-0.5-0.70711j) (-0.33333+0.4714j) \n",
      "1e+09 1e-09 \n",
      "1e+100 1e-100 \n",
      "1e+200 1e-200 \n",
      "1e+300 1e-300 \n",
      "\n",
      "What Every...\n",
      "-0.33333 -1.0 \n",
      "0.33333 -1.0 \n",
      "(-0.33333+0.4714j) (-0.33333-0.4714j) \n",
      "1e+09 1e-09 \n",
      "1e+100 1e-100 \n",
      "inf 0.0 \n",
      "inf 0.0 \n",
      "\n",
      "Numpy:\n",
      "-1.0 -0.33333 \n",
      "-1.0 0.33333 \n",
      "(-0.33333+0.4714j) (-0.33333-0.4714j) \n",
      "1e+09 1e-09 \n",
      "1e+100 1e-100 \n",
      "1e+200 1e-200 \n",
      "1e+300 0.0 \n"
     ]
    }
   ],
   "source": [
    "print('Naive:')\n",
    "for c in testcases:\n",
    "    print(\"{} {:.5} {:.5}\".format(*quad_discriminating_roots(*c)))\n",
    "\n",
    "print('\\nMiddlebrook:')\n",
    "for c in testcases:\n",
    "    print((\"{:.5} \"*2).format(*middlebrook(*c)))\n",
    "\n",
    "    \n",
    "print('\\nWhat Every...')\n",
    "for c in testcases:\n",
    "    print((\"{:.5} \"*2).format(*whatevery(*c)))\n",
    "\n",
    "    \n",
    "print('\\nNumpy:')\n",
    "for c in testcases:\n",
    "    print((\"{:.5} \"*2).format(*numpy.roots(c)))"
   ]
  },
  {
   "cell_type": "markdown",
   "metadata": {},
   "source": [
    "#Problem 29: Ordered dictionaries (`collections.OrderedDict`)\n"
   ]
  },
  {
   "cell_type": "code",
   "execution_count": 200,
   "metadata": {
    "collapsed": false
   },
   "outputs": [
    {
     "name": "stdout",
     "output_type": "stream",
     "text": [
      "{'10': 9, '1': 0, '3': 2, '2': 1, '5': 4, '4': 3, '7': 6, '6': 5, '9': 8, '8': 7}\n"
     ]
    }
   ],
   "source": [
    "m = dict((str(x+1), x) for x in range(10))\n",
    "print m"
   ]
  },
  {
   "cell_type": "code",
   "execution_count": 201,
   "metadata": {
    "collapsed": false
   },
   "outputs": [
    {
     "name": "stdout",
     "output_type": "stream",
     "text": [
      "10, 1, 3, 2, 5, 4, 7, 6, 9, 8\n"
     ]
    }
   ],
   "source": [
    "print ', '.join(m.keys())"
   ]
  },
  {
   "cell_type": "code",
   "execution_count": 202,
   "metadata": {
    "collapsed": false
   },
   "outputs": [
    {
     "name": "stdout",
     "output_type": "stream",
     "text": [
      "[('1', 0), ('2', 1), ('3', 2), ('4', 3), ('5', 4), ('6', 5), ('7', 6), ('8', 7), ('9', 8), ('10', 9)]\n"
     ]
    }
   ],
   "source": [
    "import operator\n",
    "sorted_m_by_values = sorted(m.items(), key=operator.itemgetter(1))\n",
    "print sorted_m_by_values"
   ]
  },
  {
   "cell_type": "code",
   "execution_count": 187,
   "metadata": {
    "collapsed": false
   },
   "outputs": [
    {
     "name": "stdout",
     "output_type": "stream",
     "text": [
      "OrderedDict([('0', 0), ('1', 1), ('2', 2), ('3', 3), ('4', 4), ('5', 5), ('6', 6), ('7', 7), ('8', 8), ('9', 9)])\n"
     ]
    }
   ],
   "source": [
    "m = collections.OrderedDict((str(x), x) for x in range(10))\n",
    "print m"
   ]
  },
  {
   "cell_type": "code",
   "execution_count": 188,
   "metadata": {
    "collapsed": false
   },
   "outputs": [
    {
     "name": "stdout",
     "output_type": "stream",
     "text": [
      "OrderedDict([('10', 10), ('9', 9), ('8', 8), ('7', 7), ('6', 6), ('5', 5), ('4', 4), ('3', 3), ('2', 2), ('1', 1)])\n"
     ]
    }
   ],
   "source": [
    "m = collections.OrderedDict((str(x), x) for x in range(10, 0, -1))\n",
    "print m"
   ]
  },
  {
   "cell_type": "markdown",
   "metadata": {},
   "source": [
    "#Problem 30: Check whether a file exists using Python"
   ]
  },
  {
   "cell_type": "code",
   "execution_count": 204,
   "metadata": {
    "collapsed": false
   },
   "outputs": [
    {
     "name": "stdout",
     "output_type": "stream",
     "text": [
      "False\n",
      "False\n"
     ]
    }
   ],
   "source": [
    "import os.path\n",
    "file_name = '#############'\n",
    "print os.path.isfile(file_name)\n",
    "print os.path.exists(file_name)"
   ]
  },
  {
   "cell_type": "markdown",
   "metadata": {
    "collapsed": true
   },
   "source": [
    "#Problem 31: The Knapsack problem using memoization and tested using doctest\n",
    "\n",
    "Any dynamic programming algorithm can be implemented in two ways: by building a table of partial results from the bottom up, or by recursively computing the result from the top down, using **memoization** to avoid computing any partial result more than once.\n",
    "\n",
    "There are two advantages of the top-down approach: *first*, it often results in slightly simpler and clearer code, and *second*, it only computes the partial results that are needed for the particular problem instance (whereas the bottom-up approach computes all partial results even if some of them go unused).\n",
    "\n",
    "Use the `@memoized` decorator from the Python Decorator Library to implement a **top-down** solution for the Knapsack problem, and write a test of the function inside of the docstring (as a doctest).\n"
   ]
  },
  {
   "cell_type": "code",
   "execution_count": 23,
   "metadata": {
    "collapsed": true
   },
   "outputs": [],
   "source": [
    "import collections\n",
    "import functools\n",
    "\n",
    "class memoized(object):\n",
    "    '''Decorator: Caches a function's return value each time it is called.\n",
    "    If called later with the same arguments, the cached value is returned\n",
    "    (not reevaluated).\n",
    "    '''\n",
    "    def __init__(self, func):\n",
    "        self.func = func\n",
    "        self.cache = {}    \n",
    "    def __call__(self, *args):\n",
    "        if not isinstance(args, collections.Hashable):\n",
    "            # uncacheable. a list, for instance.\n",
    "            # better to not cache than blow up.\n",
    "            return self.func(*args)\n",
    "        if args in self.cache:\n",
    "            return self.cache[args]\n",
    "        else:\n",
    "            value = self.func(*args)\n",
    "            self.cache[args] = value\n",
    "            return value\n",
    "    def __repr__(self):\n",
    "        '''Return the function's docstring.'''\n",
    "        return self.func.__doc__\n",
    "    def __get__(self, obj, objtype):\n",
    "        '''Support instance methods.'''\n",
    "        return functools.partial(self.__call__, obj)"
   ]
  },
  {
   "cell_type": "code",
   "execution_count": 24,
   "metadata": {
    "collapsed": false
   },
   "outputs": [],
   "source": [
    "def knapsack(items, maxweight):\n",
    "    \"\"\"\n",
    "    Solve the knapsack problem by finding the most valuable\n",
    "    subsequence of `items` subject that weighs no more than\n",
    "    `maxweight`.\n",
    "\n",
    "    `items` is a sequence of pairs `(value, weight)`, where `value` is\n",
    "    a number and `weight` is a non-negative integer.\n",
    "\n",
    "    `maxweight` is a non-negative integer.\n",
    "\n",
    "    Return a pair whose first element is the sum of values in the most\n",
    "    valuable subsequence, and whose second element is the subsequence.\n",
    "\n",
    "    >>> items = [(4, 12), (2, 1), (6, 4), (1, 1), (2, 2)]\n",
    "    >>> knapsack(items, 15)\n",
    "    (11, [(2, 1), (6, 4), (1, 1), (2, 2)])\n",
    "    \"\"\"\n",
    "\n",
    "    # Return the value of the most valuable subsequence of the first i\n",
    "    # elements in items whose weights sum to no more than j.\n",
    "    @memoized\n",
    "    def bestvalue(i, j):\n",
    "        if i == 0: return 0\n",
    "        value, weight = items[i - 1]\n",
    "        if weight > j:\n",
    "            return bestvalue(i - 1, j)\n",
    "        else:\n",
    "            return max(bestvalue(i - 1, j),\n",
    "                       bestvalue(i - 1, j - weight) + value)\n",
    "\n",
    "    j = maxweight\n",
    "    result = []\n",
    "    for i in xrange(len(items), 0, -1):\n",
    "        if bestvalue(i, j) != bestvalue(i - 1, j):\n",
    "            result.append(items[i - 1])\n",
    "            j -= items[i - 1][1]\n",
    "    result.reverse()\n",
    "    return bestvalue(len(items), maxweight), result\n"
   ]
  },
  {
   "cell_type": "code",
   "execution_count": 22,
   "metadata": {
    "collapsed": false
   },
   "outputs": [
    {
     "data": {
      "text/plain": [
       "TestResults(failed=0, attempted=2)"
      ]
     },
     "execution_count": 22,
     "metadata": {},
     "output_type": "execute_result"
    }
   ],
   "source": [
    "import doctest\n",
    "doctest.testmod()"
   ]
  },
  {
   "cell_type": "code",
   "execution_count": null,
   "metadata": {
    "collapsed": true
   },
   "outputs": [],
   "source": []
  },
  {
   "cell_type": "code",
   "execution_count": null,
   "metadata": {
    "collapsed": true
   },
   "outputs": [],
   "source": []
  }
 ],
 "metadata": {
  "kernelspec": {
   "display_name": "Python 2",
   "language": "python",
   "name": "python2"
  },
  "language_info": {
   "codemirror_mode": {
    "name": "ipython",
    "version": 2
   },
   "file_extension": ".py",
   "mimetype": "text/x-python",
   "name": "python",
   "nbconvert_exporter": "python",
   "pygments_lexer": "ipython2",
   "version": "2.7.10"
  }
 },
 "nbformat": 4,
 "nbformat_minor": 0
}
