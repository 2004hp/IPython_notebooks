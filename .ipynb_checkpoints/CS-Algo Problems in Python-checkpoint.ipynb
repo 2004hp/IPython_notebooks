{
 "cells": [
  {
   "cell_type": "markdown",
   "metadata": {},
   "source": [
    "\n",
    "Notebook prepared by Jesus Perez Colino. Version 0.2, Released 25/11/2013, Alpha\n",
    "\n",
    "- This work is licensed under a [Creative Commons Attribution-ShareAlike 3.0 Unported License](http://creativecommons.org/licenses/by-sa/3.0/deed.en_US). This work is offered for free, with the hope that it will be useful.\n",
    "\n",
    "- Acknowledge: To create the current notebook, I have inserted many examples from many books, websites... some of them can be found in [Rosetta Code](http://rosettacode.org/wiki/Rosetta_Code), others in [stackoverflow](http://stackoverflow.com), and few of them I created by myself, for fun. It is not my intention to claim any property right... so just have fun, if you like this kind of stuff. "
   ]
  },
  {
   "cell_type": "markdown",
   "metadata": {},
   "source": [
    "#Problem 1\n",
    "Code a function that given three positive integers, **n, x, y** returns the **sum** of the integers **between 0 and n** (inclusive) that are multiples of **x** or **y** but not both.\n",
    "\n",
    "For example: \n",
    "\n",
    "`foo(8,2,3) = 2 + 3 + 4 + 8 = 17`"
   ]
  },
  {
   "cell_type": "code",
   "execution_count": 79,
   "metadata": {
    "collapsed": true
   },
   "outputs": [],
   "source": [
    "def foo(n, x, y):\n",
    "    return sum(filter(lambda i: bool(i%x == 0) ^ bool(i%y == 0) , range(n+1)))"
   ]
  },
  {
   "cell_type": "code",
   "execution_count": 80,
   "metadata": {
    "collapsed": false
   },
   "outputs": [
    {
     "data": {
      "text/plain": [
       "17"
      ]
     },
     "execution_count": 80,
     "metadata": {},
     "output_type": "execute_result"
    }
   ],
   "source": [
    "foo(8,2,3)"
   ]
  },
  {
   "cell_type": "code",
   "execution_count": 81,
   "metadata": {
    "collapsed": false
   },
   "outputs": [
    {
     "name": "stdout",
     "output_type": "stream",
     "text": [
      "[True, False, True, False, True, False, True, False, True]\n",
      "[True, False, False, True, False, False, True, False, False]\n",
      "[True, False, False, False, False, False, True, False, False]\n",
      "\n",
      "[False, False, True, True, True, False, False, False, True]\n",
      "\n",
      "[2, 3, 4, 8]\n",
      "\n",
      "17\n"
     ]
    }
   ],
   "source": [
    "# have a look and check step by step: \n",
    "x = 2\n",
    "y = 3\n",
    "n = 8\n",
    "print map(lambda i: i%x == 0, range(n+1))\n",
    "print map(lambda i: i%y == 0, range(n+1))\n",
    "print map(lambda i: i%x == 0 ^ i%y == 0, range(n+1))\n",
    "print \n",
    "print map(lambda i: bool(i%x == 0) ^ bool(i%y == 0) , range(n+1))\n",
    "print \n",
    "print filter(lambda i: bool(i%x == 0) ^ bool(i%y == 0) , range(n+1))\n",
    "print\n",
    "print sum(filter(lambda i: bool(i%x == 0) ^ bool(i%y == 0) , range(n+1)))"
   ]
  },
  {
   "cell_type": "markdown",
   "metadata": {
    "collapsed": true
   },
   "source": [
    "#Problem 2: The Map - Reduce - Filter Problems\n",
    "2.1. Code a function that produce the **mean** of a list using reduce functions"
   ]
  },
  {
   "cell_type": "code",
   "execution_count": 83,
   "metadata": {
    "collapsed": false
   },
   "outputs": [
    {
     "name": "stdout",
     "output_type": "stream",
     "text": [
      "5.0\n"
     ]
    }
   ],
   "source": [
    "l = xrange(1,10)\n",
    "print reduce(lambda x, y: x+y ,l) / float(len(l))"
   ]
  },
  {
   "cell_type": "code",
   "execution_count": 84,
   "metadata": {
    "collapsed": true
   },
   "outputs": [],
   "source": [
    "def myMean(l):\n",
    "    return reduce(lambda x, y: x + y, l) / float(len(l))"
   ]
  },
  {
   "cell_type": "markdown",
   "metadata": {},
   "source": [
    "2.2. Code a function that produce the **Standard Deviation** of a list using map - reduce"
   ]
  },
  {
   "cell_type": "code",
   "execution_count": 109,
   "metadata": {
    "collapsed": true
   },
   "outputs": [],
   "source": [
    "def myStd(l):\n",
    "    return reduce(lambda x,y : x + y , map(lambda x: (x-myMean(l))**2 , l))/float(len(l))"
   ]
  },
  {
   "cell_type": "code",
   "execution_count": 110,
   "metadata": {
    "collapsed": false
   },
   "outputs": [
    {
     "name": "stdout",
     "output_type": "stream",
     "text": [
      "5.0\n",
      "6.66666666667\n"
     ]
    }
   ],
   "source": [
    "l = xrange(1,10)\n",
    "print myMean(l)\n",
    "print myStd(l)\n",
    "\n",
    "# print reduce(lambda x,y : x + y , map(lambda x: (x-myMean(l))**2 , l))/len(l)"
   ]
  },
  {
   "cell_type": "markdown",
   "metadata": {},
   "source": [
    "2.3. Determining the **maximum** of a list of numerical values by using reduce:"
   ]
  },
  {
   "cell_type": "code",
   "execution_count": 94,
   "metadata": {
    "collapsed": false
   },
   "outputs": [
    {
     "data": {
      "text/plain": [
       "102"
      ]
     },
     "execution_count": 94,
     "metadata": {},
     "output_type": "execute_result"
    }
   ],
   "source": [
    "mymax = lambda a,b: a if (a > b) else b\n",
    "reduce(mymax, [47,11,42,102,13])"
   ]
  },
  {
   "cell_type": "code",
   "execution_count": 126,
   "metadata": {
    "collapsed": false
   },
   "outputs": [
    {
     "data": {
      "text/plain": [
       "102"
      ]
     },
     "execution_count": 126,
     "metadata": {},
     "output_type": "execute_result"
    }
   ],
   "source": [
    "mylist = [47,11,42,102,13]\n",
    "reduce(lambda a,b: a if (a > b) else b, mylist)"
   ]
  },
  {
   "cell_type": "markdown",
   "metadata": {},
   "source": [
    "2.4. Obtain the nth **fibonacci number** using `reduce` in ONE line"
   ]
  },
  {
   "cell_type": "code",
   "execution_count": 123,
   "metadata": {
    "collapsed": true
   },
   "outputs": [],
   "source": [
    "fib = lambda n : reduce(lambda x , n : [ x[1] , x[0] + x[1] ], range(n) ,[0,1] )[0]"
   ]
  },
  {
   "cell_type": "code",
   "execution_count": 124,
   "metadata": {
    "collapsed": false
   },
   "outputs": [
    {
     "data": {
      "text/plain": [
       "[0, 1, 1, 2, 3, 5, 8, 13, 21, 34, 55]"
      ]
     },
     "execution_count": 124,
     "metadata": {},
     "output_type": "execute_result"
    }
   ],
   "source": [
    "[fib(i) for i in range(11)]"
   ]
  },
  {
   "cell_type": "markdown",
   "metadata": {},
   "source": [
    "2.5. Write a function called `myreduce` that produce exactly the same result that the function `reduce`"
   ]
  },
  {
   "cell_type": "code",
   "execution_count": 128,
   "metadata": {
    "collapsed": true
   },
   "outputs": [],
   "source": [
    "def myreduce(function, iterable, initializer=None):\n",
    "    it = iter(iterable)\n",
    "    if initializer is None:\n",
    "        try:\n",
    "            initializer = next(it)\n",
    "        except StopIteration:\n",
    "            raise TypeError('reduce() of empty sequence with no initial value')\n",
    "    accum_value = initializer\n",
    "    for x in it:\n",
    "        accum_value = function(accum_value, x)\n",
    "    return accum_value"
   ]
  },
  {
   "cell_type": "code",
   "execution_count": 131,
   "metadata": {
    "collapsed": false
   },
   "outputs": [
    {
     "data": {
      "text/plain": [
       "18"
      ]
     },
     "execution_count": 131,
     "metadata": {},
     "output_type": "execute_result"
    }
   ],
   "source": [
    "myreduce(lambda x,y : x+y, [1,2,3,4,5], initializer=3)"
   ]
  },
  {
   "cell_type": "code",
   "execution_count": 132,
   "metadata": {
    "collapsed": false
   },
   "outputs": [
    {
     "data": {
      "text/plain": [
       "18"
      ]
     },
     "execution_count": 132,
     "metadata": {},
     "output_type": "execute_result"
    }
   ],
   "source": [
    "reduce(lambda x,y : x+y, [1,2,3,4,5], initializer=3)"
   ]
  },
  {
   "cell_type": "markdown",
   "metadata": {},
   "source": [
    "#Problem 3\n",
    "Make plural of the words in a list of strings"
   ]
  },
  {
   "cell_type": "code",
   "execution_count": 14,
   "metadata": {
    "collapsed": false
   },
   "outputs": [
    {
     "name": "stdout",
     "output_type": "stream",
     "text": [
      "['cats', 'elephants', 'rats', 'rats', 'cats']\n"
     ]
    }
   ],
   "source": [
    "wordsList = ['cat', 'elephant', 'rat', 'rat', 'cat']\n",
    "print map(lambda word:word + 's', wordsList)"
   ]
  },
  {
   "cell_type": "markdown",
   "metadata": {},
   "source": [
    "#Problem 4\n",
    "Counting the number in a list of words using map/reduce"
   ]
  },
  {
   "cell_type": "code",
   "execution_count": 44,
   "metadata": {
    "collapsed": false
   },
   "outputs": [
    {
     "name": "stdout",
     "output_type": "stream",
     "text": [
      "[('cat', 1), ('elephant', 1), ('rat', 1), ('rat', 1), ('cat', 1)]\n"
     ]
    }
   ],
   "source": [
    "wordsList = ['cat', 'elephant', 'rat', 'rat', 'cat']\n",
    "\n",
    "wordCount = map(lambda word : (str(word),1),wordsList)\n",
    "print wordCount\n"
   ]
  },
  {
   "cell_type": "code",
   "execution_count": 45,
   "metadata": {
    "collapsed": false
   },
   "outputs": [
    {
     "name": "stdout",
     "output_type": "stream",
     "text": [
      "[1, 1, 1, 1, 1]\n"
     ]
    }
   ],
   "source": [
    "counter = map(lambda x : x[1], wordCount)\n",
    "print counter\n"
   ]
  },
  {
   "cell_type": "code",
   "execution_count": 46,
   "metadata": {
    "collapsed": false
   },
   "outputs": [
    {
     "name": "stdout",
     "output_type": "stream",
     "text": [
      "Total Number of words: 5\n"
     ]
    }
   ],
   "source": [
    "print 'Total Number of words:', reduce(lambda x,y : x+y, counter)\n",
    "    "
   ]
  },
  {
   "cell_type": "code",
   "execution_count": 48,
   "metadata": {
    "collapsed": false
   },
   "outputs": [
    {
     "name": "stdout",
     "output_type": "stream",
     "text": [
      "Total Number of words: 5\n"
     ]
    }
   ],
   "source": [
    "# All together: \n",
    "\n",
    "wordCount = map(lambda word : (str(word),1),wordsList)\n",
    "counter = map(lambda x : x[1], wordCount)\n",
    "print 'Total Number of words:', reduce(lambda x,y : x+y, counter)"
   ]
  },
  {
   "cell_type": "markdown",
   "metadata": {},
   "source": [
    "# Problem 5 "
   ]
  },
  {
   "cell_type": "markdown",
   "metadata": {},
   "source": [
    "Simplify the following expression using list comprehension:"
   ]
  },
  {
   "cell_type": "code",
   "execution_count": 11,
   "metadata": {
    "collapsed": false
   },
   "outputs": [
    {
     "name": "stdout",
     "output_type": "stream",
     "text": [
      "['0: one', '1: two', '2: three']\n"
     ]
    }
   ],
   "source": [
    "i = 0\n",
    "seq = [\"one\", \"two\", \"three\"]\n",
    "for element in seq:\n",
    "    seq[i] = '%d: %s' % (i, seq[i])\n",
    "    i += 1\n",
    "    \n",
    "print seq"
   ]
  },
  {
   "cell_type": "code",
   "execution_count": 13,
   "metadata": {
    "collapsed": false
   },
   "outputs": [
    {
     "data": {
      "text/plain": [
       "['0: one', '1: two', '2: three']"
      ]
     },
     "execution_count": 13,
     "metadata": {},
     "output_type": "execute_result"
    }
   ],
   "source": [
    "def _tuple(pos, element):\n",
    "    return '%d: %s' % (pos, element)\n",
    "\n",
    "seq = [\"one\", \"two\", \"three\"]\n",
    "[_tuple(i, element) for i, element in enumerate(seq)]"
   ]
  },
  {
   "cell_type": "markdown",
   "metadata": {
    "collapsed": true
   },
   "source": [
    "# Problem 6"
   ]
  },
  {
   "cell_type": "markdown",
   "metadata": {},
   "source": [
    "**islice** returns an iterator that works over a subgroup of a sequence. \n",
    "\n",
    "Build a function that reads the lines in a standard input, and yields the elements of each line starting from the fifth one, as long as the line has more than four elements"
   ]
  },
  {
   "cell_type": "code",
   "execution_count": 14,
   "metadata": {
    "collapsed": true
   },
   "outputs": [],
   "source": [
    "import itertools\n",
    "def starting_at_five():\n",
    "    value = raw_input().strip()\n",
    "    while value != '':\n",
    "        for el in itertools.islice(value.split(), 4, None):\n",
    "            yield el\n",
    "        value = raw_input().strip()"
   ]
  },
  {
   "cell_type": "code",
   "execution_count": 16,
   "metadata": {
    "collapsed": false
   },
   "outputs": [
    {
     "name": "stdout",
     "output_type": "stream",
     "text": [
      "1 2 3 4 5 6\n"
     ]
    },
    {
     "data": {
      "text/plain": [
       "'5'"
      ]
     },
     "execution_count": 16,
     "metadata": {},
     "output_type": "execute_result"
    }
   ],
   "source": [
    "iter = starting_at_five()\n",
    "iter.next()"
   ]
  },
  {
   "cell_type": "code",
   "execution_count": 17,
   "metadata": {
    "collapsed": false
   },
   "outputs": [
    {
     "data": {
      "text/plain": [
       "'6'"
      ]
     },
     "execution_count": 17,
     "metadata": {},
     "output_type": "execute_result"
    }
   ],
   "source": [
    "iter.next()"
   ]
  },
  {
   "cell_type": "code",
   "execution_count": 18,
   "metadata": {
    "collapsed": false
   },
   "outputs": [
    {
     "name": "stdout",
     "output_type": "stream",
     "text": [
      "10 100 1000 10000 100000\n"
     ]
    },
    {
     "data": {
      "text/plain": [
       "'100000'"
      ]
     },
     "execution_count": 18,
     "metadata": {},
     "output_type": "execute_result"
    }
   ],
   "source": [
    "iter.next()"
   ]
  },
  {
   "cell_type": "code",
   "execution_count": 19,
   "metadata": {
    "collapsed": false
   },
   "outputs": [
    {
     "name": "stdout",
     "output_type": "stream",
     "text": [
      "a b c d e f g h i j k\n"
     ]
    },
    {
     "data": {
      "text/plain": [
       "'e'"
      ]
     },
     "execution_count": 19,
     "metadata": {},
     "output_type": "execute_result"
    }
   ],
   "source": [
    "iter.next()"
   ]
  },
  {
   "cell_type": "markdown",
   "metadata": {},
   "source": [
    "# Problem 7"
   ]
  },
  {
   "cell_type": "markdown",
   "metadata": {},
   "source": [
    "Write a function that is able to group the duplicate elements from an iterator, as long as they are adjacent. A function can be given to the function for it to compare the elements. Otherwise, the identity comparison is used.\n",
    "\n",
    "For example:\n",
    "\n",
    "`get uuuuuuuuuuuuuuuuuup`\n",
    "\n",
    "will be replaced by:\n",
    "\n",
    "`1g1e1t1 8u1p`"
   ]
  },
  {
   "cell_type": "code",
   "execution_count": 21,
   "metadata": {
    "collapsed": true
   },
   "outputs": [],
   "source": [
    "from itertools import groupby\n",
    "\n",
    "def compress(data):\n",
    "    return ((len(list(group)), name)\n",
    "             for name, group in groupby(data))\n",
    "\n",
    "def decompress(data):\n",
    "    return (car * size for size, car in data)\n"
   ]
  },
  {
   "cell_type": "code",
   "execution_count": 27,
   "metadata": {
    "collapsed": false
   },
   "outputs": [
    {
     "name": "stdout",
     "output_type": "stream",
     "text": [
      "[(1, 'g'), (1, 'e'), (1, 't'), (1, ' '), (18, 'u'), (1, 'p')]\n"
     ]
    }
   ],
   "source": [
    "print list(compress('get uuuuuuuuuuuuuuuuuup'))"
   ]
  },
  {
   "cell_type": "code",
   "execution_count": 24,
   "metadata": {
    "collapsed": false
   },
   "outputs": [
    {
     "data": {
      "text/plain": [
       "'get uuuuuuuuuuuuuuuuuup'"
      ]
     },
     "execution_count": 24,
     "metadata": {},
     "output_type": "execute_result"
    }
   ],
   "source": [
    "compressed = compress('get uuuuuuuuuuuuuuuuuup')\n",
    "''.join(decompress(compressed))"
   ]
  },
  {
   "cell_type": "markdown",
   "metadata": {
    "collapsed": true
   },
   "source": [
    "#Problem 8: The Quine Problem\n",
    "\n",
    "A Quine is a self-referential program that can, without any external access, output its own source. \n",
    "\n",
    "It is named after the philosopher and logician who studied self-reference and quoting in natural language, as for example in the paradox \"'Yields falsehood when preceded by its quotation' yields falsehood when preceded by its quotation.\"\n",
    "\n",
    "\"Source\" has one of two meanings. It can refer to the text-based program source. For languages in which program source is represented as a data structure, \"source\" may refer to the data structure: quines in these languages fall into two categories: programs which print a textual representation of themselves, or expressions which evaluate to a data structure which is equivalent to that expression.\n",
    "\n",
    "The usual way to code a Quine works similarly to this paradox: The program consists of two identical parts, once as plain code and once quoted in some way (for example, as a character string, or a literal data structure). The plain code then accesses the quoted code and prints it out twice, once unquoted and once with the proper quotation marks added. Often, the plain code and the quoted code have to be nested.\n",
    "\n",
    "**Write a program that outputs its own source code in this way.** If the language allows it, you may add a variant that accesses the code directly. You are not allowed to read any external files with the source code. The program should also contain some sort of self-reference, so constant expressions which return their own value which some top-level interpreter will print out. Empty programs producing no output are not allowed."
   ]
  },
  {
   "cell_type": "markdown",
   "metadata": {},
   "source": [
    "Python's `%r` format conversion uses the `repr()` function to return a string containing the source code representation of its argument:"
   ]
  },
  {
   "cell_type": "code",
   "execution_count": 1,
   "metadata": {
    "collapsed": false
   },
   "outputs": [
    {
     "name": "stdout",
     "output_type": "stream",
     "text": [
      "x = 'x = %r\\nprint(x %% x)'\n",
      "print(x % x)\n"
     ]
    }
   ],
   "source": [
    "x = 'x = %r\\nprint(x %% x)'\n",
    "print(x % x)"
   ]
  },
  {
   "cell_type": "code",
   "execution_count": 14,
   "metadata": {
    "collapsed": false
   },
   "outputs": [
    {
     "name": "stdout",
     "output_type": "stream",
     "text": [
      "x = 'x = {!r};print(x.format(x))';print(x.format(x))\n"
     ]
    }
   ],
   "source": [
    "x = 'x = {!r};print(x.format(x))'\n",
    "print(x.format(x))"
   ]
  },
  {
   "cell_type": "code",
   "execution_count": 17,
   "metadata": {
    "collapsed": false
   },
   "outputs": [
    {
     "name": "stdout",
     "output_type": "stream",
     "text": [
      "x = 'x = {!r}'\n"
     ]
    }
   ],
   "source": [
    "# notice the trick: \n",
    "\n",
    "x = 'x = {!r}';print x.format(x)"
   ]
  },
  {
   "cell_type": "markdown",
   "metadata": {},
   "source": [
    "#Problem 9 \n",
    "\n",
    "A narcissist (or Narcissus program) is the decision-problem version of a quine.\n",
    "A quine, when run, takes no input, but produces a copy of its own source code at its output. In contrast, a narcissist reads a string of symbols from its input, and produces no output except a \"1\" or \"accept\" if that string matches its own source code, or a \"0\" or \"reject\" if it does not.\n",
    "\n",
    "For concreteness, in this task we shall assume that symbol = character. The narcissist should be able to cope with any finite input, whatever its length. Any form of output is allowed, as long as the program always halts, and \"accept\", \"reject\" and \"not yet finished\" are distinguishable."
   ]
  },
  {
   "cell_type": "code",
   "execution_count": 13,
   "metadata": {
    "collapsed": false
   },
   "outputs": [
    {
     "name": "stdout",
     "output_type": "stream",
     "text": [
      "Enter source code: x = 'x = {!r};print(x.format(x))';print(x.format(x))\n",
      "Reject\n"
     ]
    }
   ],
   "source": [
    " \n",
    "import sys\n",
    "with open(sys.argv[0]) as quine:\n",
    "    code = raw_input(\"Enter source code: \")\n",
    "    if code == quine.read():\n",
    "        print(\"Accept\")\n",
    "    else:\n",
    "        print(\"Reject\")\n",
    " "
   ]
  },
  {
   "cell_type": "markdown",
   "metadata": {},
   "source": [
    "#Problem 10: Comparing Strings\n",
    "\n",
    "The task is to demonstrate how to compare two strings from within the language and how to achieve a lexical comparison.\n",
    "The task should demonstrate:\n",
    "- Comparing two strings for exact equality\n",
    "- Comparing two strings for inequality (i.e., the inverse of exact equality)\n",
    "- Comparing two strings to see if one is lexically ordered before than the other\n",
    "- Comparing two strings to see if one is lexically ordered after than the other\n",
    "- How to achieve both case sensitive comparisons and case insensitive comparisons within the language\n",
    "- How the language handles comparison of numeric strings if these are not treated lexically\n",
    "\n",
    "Demonstrate any other kinds of string comparisons that the language provides, particularly as it relates to your type system. For example, you might demonstrate the difference between generic/polymorphic comparison and coercive/allomorphic comparison if your language supports such a distinction.\n",
    "\n",
    "Here \"generic/polymorphic\" comparison means that the function or operator you're using doesn't always do string comparison, but bends the actual semantics of the comparison depending on the types one or both arguments; with such an operator, you achieve string comparison only if the arguments are sufficiently string-like in type or appearance.\n",
    "\n",
    "In contrast, a \"coercive/allomorphic\" comparison function or operator has fixed string-comparison semantics regardless of the argument type; instead of the operator bending, it's the arguments that are forced to bend instead and behave like strings if they can, and the operator simply fails if the arguments cannot be viewed somehow as strings. A language may have one or both of these kinds of operators; see the Perl 6 entry for an example of a language with both kinds of operators."
   ]
  },
  {
   "cell_type": "code",
   "execution_count": 18,
   "metadata": {
    "collapsed": false
   },
   "outputs": [
    {
     "name": "stdout",
     "output_type": "stream",
     "text": [
      "\n",
      "'YUP' is of type <type 'str'> and 'YUP' is of type <type 'str'>\n",
      "'YUP' is less than or equal to 'YUP'\n",
      "'YUP' is greater than or equal to 'YUP'\n",
      "'YUP' is equal to 'YUP'\n",
      "'YUP' has object identity with 'YUP'\n",
      "\n",
      "'BALL' is of type <type 'str'> and 'BELL' is of type <type 'str'>\n",
      "'BALL' is strictly less than  'BELL'\n",
      "'BALL' is less than or equal to 'BELL'\n",
      "'BALL' is not equal to 'BELL'\n",
      "'BALL' has negated object identity with 'BELL'\n",
      "\n",
      "'24' is of type <type 'str'> and '123' is of type <type 'str'>\n",
      "'24' is strictly greater than  '123'\n",
      "'24' is greater than or equal to '123'\n",
      "'24' is not equal to '123'\n",
      "'24' has negated object identity with '123'\n",
      "\n",
      "24 is of type <type 'int'> and 123 is of type <type 'int'>\n",
      "24 is strictly less than  123\n",
      "24 is less than or equal to 123\n",
      "24 is not equal to 123\n",
      "24 has negated object identity with 123\n",
      "\n",
      "5.0 is of type <type 'float'> and 5 is of type <type 'int'>\n",
      "5.0 is less than or equal to 5\n",
      "5.0 is greater than or equal to 5\n",
      "5.0 is equal to 5\n",
      "5.0 has negated object identity with 5\n"
     ]
    }
   ],
   "source": [
    "def compare(a, b):\n",
    "    print(\"\\n%r is of type %r and %r is of type %r\"\n",
    "          % (a, type(a), b, type(b)))\n",
    "    if a <  b:      print('%r is strictly less than  %r' % (a, b))\n",
    "    if a <= b:      print('%r is less than or equal to %r' % (a, b))\n",
    "    if a >  b:      print('%r is strictly greater than  %r' % (a, b))\n",
    "    if a >= b:      print('%r is greater than or equal to %r' % (a, b))\n",
    "    if a == b:      print('%r is equal to %r' % (a, b))\n",
    "    if a != b:      print('%r is not equal to %r' % (a, b))\n",
    "    if a is b:      print('%r has object identity with %r' % (a, b))\n",
    "    if a is not b:  print('%r has negated object identity with %r' % (a, b))\n",
    " \n",
    "compare('YUP', 'YUP')\n",
    "compare('BALL', 'BELL')\n",
    "compare('24', '123')\n",
    "compare(24, 123)\n",
    "compare(5.0, 5)"
   ]
  },
  {
   "cell_type": "markdown",
   "metadata": {},
   "source": [
    "#Problem 11: A stateful Standard Deviation\n",
    "\n",
    "Write a **stateful function, class, generator or coroutine** that takes a series of floating point numbers, one at a time, and **returns the running standard deviation of the series**. The task implementation should use the most natural programming style of those listed for the function in the implementation language; the task must state which is being used. "
   ]
  },
  {
   "cell_type": "code",
   "execution_count": 28,
   "metadata": {
    "collapsed": false
   },
   "outputs": [],
   "source": [
    "def sd(x):\n",
    "    sd.sum  += x\n",
    "    sd.sum2 += x*x\n",
    "    sd.n    += 1.0\n",
    "    sum, sum2, n = sd.sum, sd.sum2, sd.n\n",
    "    return (sum2/n - (sum/n)**2)**0.5"
   ]
  },
  {
   "cell_type": "code",
   "execution_count": 29,
   "metadata": {
    "collapsed": false
   },
   "outputs": [
    {
     "name": "stdout",
     "output_type": "stream",
     "text": [
      "(2, 0.0)\n",
      "(4, 1.0)\n",
      "(4, 0.9428090415820626)\n",
      "(4, 0.8660254037844386)\n",
      "(5, 0.9797958971132716)\n",
      "(5, 1.0)\n",
      "(7, 1.3997084244475297)\n",
      "(9, 2.0)\n"
     ]
    }
   ],
   "source": [
    "sd.sum = sd.sum2 = sd.n = 0\n",
    "for value in (2,4,4,4,5,5,7,9):\n",
    "    print (value, sd(value))"
   ]
  },
  {
   "cell_type": "code",
   "execution_count": 30,
   "metadata": {
    "collapsed": true
   },
   "outputs": [],
   "source": [
    "# Using a class instance\n",
    "\n",
    "class SD(object): # Plain () for python 3.x\n",
    "    def __init__(self):\n",
    "        self.sum, self.sum2, self.n = (0,0,0)\n",
    "    def sd(self, x):\n",
    "        self.sum  += x\n",
    "        self.sum2 += x*x\n",
    "        self.n    += 1.0\n",
    "        sum, sum2, n = self.sum, self.sum2, self.n\n",
    "        return (sum2/n - (sum/n)**2)**0.5"
   ]
  },
  {
   "cell_type": "code",
   "execution_count": 31,
   "metadata": {
    "collapsed": false
   },
   "outputs": [
    {
     "name": "stdout",
     "output_type": "stream",
     "text": [
      "(2, 0.0)\n",
      "(4, 1.0)\n",
      "(4, 0.9428090415820626)\n",
      "(4, 0.8660254037844386)\n",
      "(5, 0.9797958971132716)\n",
      "(5, 1.0)\n",
      "(7, 1.3997084244475297)\n",
      "(9, 2.0)\n"
     ]
    }
   ],
   "source": [
    "sd_inst = SD()\n",
    "for value in (2,4,4,4,5,5,7,9):\n",
    "    print (value, sd_inst.sd(value))"
   ]
  },
  {
   "cell_type": "code",
   "execution_count": 48,
   "metadata": {
    "collapsed": false
   },
   "outputs": [],
   "source": [
    "# Using an extended generator\n",
    "\n",
    "def sdcreator():\n",
    "    sum = sum2 = n = 0\n",
    "    while True:\n",
    "        x = yield (sum2/n - (sum/n)**2)**.5 if n else None\n",
    "        sum  += x\n",
    "        sum2 += x*x\n",
    "        n    += 1.0"
   ]
  },
  {
   "cell_type": "code",
   "execution_count": 49,
   "metadata": {
    "collapsed": false
   },
   "outputs": [
    {
     "name": "stdout",
     "output_type": "stream",
     "text": [
      "(2, 0.0)\n",
      "(4, 1.0)\n",
      "(4, 0.9428090415820626)\n",
      "(4, 0.8660254037844386)\n",
      "(5, 0.9797958971132716)\n",
      "(5, 1.0)\n",
      "(7, 1.3997084244475297)\n",
      "(9, 2.0)\n"
     ]
    }
   ],
   "source": [
    "sd = sdcreator()\n",
    "sd.send(None)\n",
    "for value in (2,4,4,4,5,5,7,9):\n",
    "    print (value, sd.send(value))"
   ]
  },
  {
   "cell_type": "markdown",
   "metadata": {},
   "source": [
    "#Problem 12: A Linear Congruential Generator of Random Numbers"
   ]
  },
  {
   "cell_type": "markdown",
   "metadata": {},
   "source": [
    "The **linear congruential generator** is a very simple example of a **random number generator**. All linear congruential generators use this formula:\n",
    "\n",
    "$$r_{n + 1} = a \\times r_n + c \\pmod m$$\n",
    "\n",
    "\n",
    "\n",
    "Where:\n",
    "\n",
    "* $r_0$ is a seed.\n",
    "* $r_1$, $r_2$, $r_3$, ..., are the random numbers.\n",
    "* $a$, $c$, $m$ are constants.\n",
    "\n",
    "If one chooses the values of $a$, $c$ and $m$ with care, then the generator produces a uniform distribution of integers from $0$ to $m - 1$.\n",
    "\n",
    "LCG numbers have poor quality. $r_n$ and $r_{n + 1}$ are not independent, as true random numbers would be. Anyone who knows $r_n$ can predict $r_{n + 1}$, therefore LCG is not cryptographically secure. The LCG is still good enough for simple tasks like [[Miller-Rabin primality test]], or [[deal cards for FreeCell|FreeCell deals]]. Among the benefits of the LCG, one can easily reproduce a sequence of numbers, from the same $r_0$. One can also reproduce such sequence with a different programming language, because the formula is so simple.\n",
    "\n",
    "The task is to replicate two historic random number generators. One is the `rand()` function from **BSD libc**, and the other is the `rand()` function from the **Microsoft C Runtime (MSCVRT.DLL)**. Each replica must yield the same sequence of integers as the original generator, when starting from the same seed.\n",
    "\n",
    "In these formulas, the seed becomes $state_0$. The random sequence is $rand_1$, $rand_2$ and so on.\n",
    "\n",
    "BSD formula:\n",
    "\n",
    "* $state_{n + 1} = 1103515245 \\times state_n + 12345 \\pmod{2^{31}}$\n",
    "* $rand_n = state_n$\n",
    "* $rand_n$ is in range 0 to 2147483647.\n",
    "\n",
    "Microsoft formula:\n",
    "\n",
    "* $state_{n + 1} = 214013 \\times state_n + 2531011 \\pmod{2^{31}}$\n",
    "* $rand_n = state_n \\div 2^{16}$\n",
    "* $rand_n$ is in range 0 to 32767"
   ]
  },
  {
   "cell_type": "code",
   "execution_count": 51,
   "metadata": {
    "collapsed": true
   },
   "outputs": [],
   "source": [
    "# notice that we are using a closure: \n",
    "\n",
    "def bsd_rand(seed):\n",
    "    def rand():\n",
    "        rand.seed = (1103515245*rand.seed + 12345) & 0x7fffffff\n",
    "        return rand.seed\n",
    "    rand.seed = seed\n",
    "    return rand\n",
    " \n",
    "def msvcrt_rand(seed):\n",
    "    def rand():\n",
    "        rand.seed = (214013*rand.seed + 2531011) & 0x7fffffff\n",
    "        return rand.seed >> 16\n",
    "    rand.seed = seed\n",
    "    return rand"
   ]
  },
  {
   "cell_type": "code",
   "execution_count": 78,
   "metadata": {
    "collapsed": false
   },
   "outputs": [
    {
     "name": "stdout",
     "output_type": "stream",
     "text": [
      "[12345, 1406932606, 654583775, 1449466924, 229283573, 1109335178, 1051550459, 1293799192, 794471793, 551188310]\n"
     ]
    }
   ],
   "source": [
    "rand_bsd = bsd_rand(0)\n",
    "print [rand_bsd() for i in range(10)]"
   ]
  },
  {
   "cell_type": "code",
   "execution_count": 73,
   "metadata": {
    "collapsed": false,
    "scrolled": true
   },
   "outputs": [
    {
     "name": "stdout",
     "output_type": "stream",
     "text": [
      "[{0: 12345}, {1: 1406932606}, {2: 654583775}, {3: 1449466924}, {4: 229283573}, {5: 1109335178}, {6: 1051550459}, {7: 1293799192}, {8: 794471793}]\n",
      "[551188310, 803550167, 1772930244, 370913197, 639546082, 1381971571, 1695770928, 2121308585, 1719212846]\n",
      "\n",
      "[{0: 38}, {1: 7719}, {2: 21238}, {3: 2437}, {4: 8855}, {5: 11797}, {6: 8365}, {7: 32285}, {8: 10450}]\n"
     ]
    }
   ],
   "source": [
    "rand_msft = msvcrt_rand(0)\n",
    "print [{i:rand_msft()} for i in range(9)]"
   ]
  },
  {
   "cell_type": "markdown",
   "metadata": {},
   "source": [
    "# Problem 13: A Dict of letters\n",
    "\n",
    "Build a dictionary with all the letters of alphabet enumerated"
   ]
  },
  {
   "cell_type": "code",
   "execution_count": 138,
   "metadata": {
    "collapsed": false
   },
   "outputs": [
    {
     "data": {
      "text/plain": [
       "{0: 'A',\n",
       " 1: 'B',\n",
       " 2: 'C',\n",
       " 3: 'D',\n",
       " 4: 'E',\n",
       " 5: 'F',\n",
       " 6: 'G',\n",
       " 7: 'H',\n",
       " 8: 'I',\n",
       " 9: 'J',\n",
       " 10: 'K',\n",
       " 11: 'L',\n",
       " 12: 'M',\n",
       " 13: 'N',\n",
       " 14: 'O',\n",
       " 15: 'P',\n",
       " 16: 'Q',\n",
       " 17: 'R',\n",
       " 18: 'S',\n",
       " 19: 'T',\n",
       " 20: 'U',\n",
       " 21: 'V',\n",
       " 22: 'W',\n",
       " 23: 'X',\n",
       " 24: 'Y',\n",
       " 25: 'Z'}"
      ]
     },
     "execution_count": 138,
     "metadata": {},
     "output_type": "execute_result"
    }
   ],
   "source": [
    "{i:chr(65+i) for i in range(26)}"
   ]
  },
  {
   "cell_type": "markdown",
   "metadata": {},
   "source": [
    "#Problem 14: Factorial function in functional form\n",
    "\n",
    "Usually there is two different styles for the implementation of a factorial fuction: first, recursive and second, iterative:"
   ]
  },
  {
   "cell_type": "code",
   "execution_count": 139,
   "metadata": {
    "collapsed": true
   },
   "outputs": [],
   "source": [
    "def factorialR(N):\n",
    "    \"Recursive factorial function\"\n",
    "    assert isinstance(N, int) and N >= 1 \n",
    "    return 1 if N <= 1 else N * factorialR(N-1)\n",
    "\n",
    "def factorialI(N):\n",
    "    \"Iterative factorial function\" \n",
    "    assert isinstance(N, int) and N >= 1 \n",
    "    product = 1\n",
    "    while N >= 1:\n",
    "        product *= N\n",
    "        N-=1 \n",
    "    return product"
   ]
  },
  {
   "cell_type": "code",
   "execution_count": 146,
   "metadata": {
    "collapsed": false
   },
   "outputs": [
    {
     "name": "stdout",
     "output_type": "stream",
     "text": [
      "CPU times: user 59 µs, sys: 26 µs, total: 85 µs\n",
      "Wall time: 71 µs\n",
      "CPU times: user 25 µs, sys: 10 µs, total: 35 µs\n",
      "Wall time: 30 µs\n"
     ]
    },
    {
     "data": {
      "text/plain": [
       "93326215443944152681699238856266700490715968264381621468592963895217599993229915608941463976156518286253697920827223758251185210916864000000000000000000000000L"
      ]
     },
     "execution_count": 146,
     "metadata": {},
     "output_type": "execute_result"
    }
   ],
   "source": [
    "%time factorialR(100)\n",
    "%time factorialI(100)"
   ]
  },
  {
   "cell_type": "markdown",
   "metadata": {},
   "source": [
    "Write the factorial function in a FUNTIONAL FORM"
   ]
  },
  {
   "cell_type": "code",
   "execution_count": 151,
   "metadata": {
    "collapsed": false
   },
   "outputs": [
    {
     "name": "stdout",
     "output_type": "stream",
     "text": [
      "CPU times: user 32 µs, sys: 10 µs, total: 42 µs\n",
      "Wall time: 36 µs\n"
     ]
    },
    {
     "data": {
      "text/plain": [
       "93326215443944152681699238856266700490715968264381621468592963895217599993229915608941463976156518286253697920827223758251185210916864000000000000000000000000L"
      ]
     },
     "execution_count": 151,
     "metadata": {},
     "output_type": "execute_result"
    }
   ],
   "source": [
    "%time reduce(lambda x,y:x*y, range(1,101), 1)"
   ]
  },
  {
   "cell_type": "code",
   "execution_count": 140,
   "metadata": {
    "collapsed": true
   },
   "outputs": [],
   "source": [
    "# or alternatively: \n",
    "\n",
    "from operator import mul \n",
    "def factorialHOF(n):\n",
    "    return reduce(mul, range(1, n+1), 1)"
   ]
  },
  {
   "cell_type": "code",
   "execution_count": 148,
   "metadata": {
    "collapsed": false
   },
   "outputs": [
    {
     "name": "stdout",
     "output_type": "stream",
     "text": [
      "CPU times: user 29 µs, sys: 9 µs, total: 38 µs\n",
      "Wall time: 33.1 µs\n"
     ]
    },
    {
     "data": {
      "text/plain": [
       "93326215443944152681699238856266700490715968264381621468592963895217599993229915608941463976156518286253697920827223758251185210916864000000000000000000000000L"
      ]
     },
     "execution_count": 148,
     "metadata": {},
     "output_type": "execute_result"
    }
   ],
   "source": [
    "%time factorialHOF(100)"
   ]
  },
  {
   "cell_type": "markdown",
   "metadata": {},
   "source": [
    "#Problem 15: Quicksort of a list\n",
    "\n",
    "Write in a recursive way the quicksort algorithm for a list of numbers"
   ]
  },
  {
   "cell_type": "code",
   "execution_count": 160,
   "metadata": {
    "collapsed": true
   },
   "outputs": [],
   "source": [
    "def quicksort(lst):\n",
    "    \"Quicksort over a list-like sequence\" \n",
    "    if len(lst) == 0:\n",
    "        return lst \n",
    "    pivot = lst[0]\n",
    "    pivots=[x for x in lst if x==pivot]\n",
    "    small = quicksort([x for x in lst if x < pivot]) \n",
    "    large = quicksort([x for x in lst if x > pivot]) \n",
    "    return small + pivots + large"
   ]
  },
  {
   "cell_type": "code",
   "execution_count": 161,
   "metadata": {
    "collapsed": false
   },
   "outputs": [
    {
     "name": "stdout",
     "output_type": "stream",
     "text": [
      "[-1.0537413844493611, -0.99229488151530243, -1.1778981962496131, -1.7159928585441586, -0.56496169914804328, -0.98030779187621686, -0.31713821084450633, 0.71158625971030609, 1.471060480742209, 0.91692471814454635]\n"
     ]
    }
   ],
   "source": [
    "from numpy.random import randn\n",
    "x = list(randn(10))\n",
    "print x"
   ]
  },
  {
   "cell_type": "code",
   "execution_count": 162,
   "metadata": {
    "collapsed": false
   },
   "outputs": [
    {
     "name": "stdout",
     "output_type": "stream",
     "text": [
      "[-1.0537413844493611, -0.99229488151530243, -1.1778981962496131, -1.7159928585441586, -0.56496169914804328, -0.98030779187621686, -0.31713821084450633, 0.71158625971030609, 1.471060480742209, 0.91692471814454635]\n",
      "\n",
      "[-1.7159928585441586, -1.1778981962496131, -1.0537413844493611, -0.99229488151530243, -0.98030779187621686, -0.56496169914804328, -0.31713821084450633, 0.71158625971030609, 0.91692471814454635, 1.471060480742209]\n"
     ]
    }
   ],
   "source": [
    "print x \n",
    "print \n",
    "print quicksort(x)"
   ]
  },
  {
   "cell_type": "code",
   "execution_count": null,
   "metadata": {
    "collapsed": true
   },
   "outputs": [],
   "source": []
  }
 ],
 "metadata": {
  "kernelspec": {
   "display_name": "Python 2",
   "language": "python",
   "name": "python2"
  },
  "language_info": {
   "codemirror_mode": {
    "name": "ipython",
    "version": 2
   },
   "file_extension": ".py",
   "mimetype": "text/x-python",
   "name": "python",
   "nbconvert_exporter": "python",
   "pygments_lexer": "ipython2",
   "version": "2.7.10"
  }
 },
 "nbformat": 4,
 "nbformat_minor": 0
}
