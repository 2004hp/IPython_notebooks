{
 "cells": [
  {
   "cell_type": "markdown",
   "metadata": {},
   "source": [
    "#European Option Class for pricing in Python\n",
    "****\n",
    "## About this notebook: \n",
    "Notebook prepared by **Jesus Perez Colino** Version 0.1, First Released: 21/03/2011, Alpha\n",
    "\n",
    "- This work is licensed under a [Creative Commons Attribution-ShareAlike 3.0 Unported License](http://creativecommons.org/licenses/by-sa/3.0/deed.en_US). This work is offered for free, with the hope that it will be useful.\n",
    "\n",
    "\n",
    "- **Summary**: This notebook is just the simplest implementation of an abstract class for the European option pricing in three different methods (TODO: will be extended soon to FFT and PDEs)\n",
    "\n",
    "\n",
    "- **Python & packages versions** to reproduce the results of this notebook: "
   ]
  },
  {
   "cell_type": "code",
   "execution_count": 89,
   "metadata": {
    "collapsed": false
   },
   "outputs": [
    {
     "name": "stdout",
     "output_type": "stream",
     "text": [
      "-------------------- Reproducibility conditions for this notebook -------------------\n",
      "Python version:     2.7.10 |Anaconda 2.3.0 (x86_64)| (default, May 28 2015, 17:04:42) \n",
      "[GCC 4.2.1 (Apple Inc. build 5577)]\n",
      "Numpy version:      1.9.2\n",
      "IPython version:    3.2.1\n",
      "-------------------------------------------------------------------------------------\n"
     ]
    }
   ],
   "source": [
    "import numpy as np\n",
    "import IPython\n",
    "from scipy.stats import norm\n",
    "from abc import ABCMeta, abstractmethod\n",
    "from sys import version \n",
    "print ' Reproducibility conditions for this notebook '.center(85,'-')\n",
    "print 'Python version:     ' + version\n",
    "print 'Numpy version:      ' + np.__version__\n",
    "print 'IPython version:    ' + IPython.__version__\n",
    "print '-'*85"
   ]
  },
  {
   "cell_type": "code",
   "execution_count": 1,
   "metadata": {
    "collapsed": true
   },
   "outputs": [],
   "source": [
    "class EuropeanOption(object):\n",
    "    \"\"\" Abstract Class for European options. Partially implemented.\n",
    "    S0 : float : initial stock/index level\n",
    "    strike : float : strike price\n",
    "    T : float : time to maturity (in year fractions)\n",
    "    r : float : constant risk-free short rate\n",
    "    div :    float : dividend yield\n",
    "    sigma :  float : volatility factor in diffusion term\n",
    "    simulations: int: number of simulations for MonteCarlo\"\"\"\n",
    "\n",
    "    __metaclass__ = ABCMeta\n",
    "\n",
    "    def __init__(self, option_type, S0, strike, T, r, div, sigma, model):\n",
    "        try:\n",
    "            self.option_type = option_type\n",
    "            assert isinstance(option_type, str)\n",
    "            self.S0 = float(S0)\n",
    "            self.strike = float(strike)\n",
    "            self.T = float(T)\n",
    "            self.r = float(r)\n",
    "            self.div = float(div)\n",
    "            self.sigma = float(sigma)\n",
    "            self.model = str(model)\n",
    "        except ValueError:\n",
    "            print('Error passing Options parameters')\n",
    "\n",
    "        models = ['BlackScholes', 'MonteCarlo', 'BinomialTree']\n",
    "        if model not in models:\n",
    "            raise Exception('Error: Model unknown')\n",
    "        option_types = ['call', 'put']\n",
    "        if option_type not in option_types:\n",
    "            raise ValueError(\"Error: Option type not valid. Enter 'call' or 'put'\")\n",
    "        if S0 < 0 or strike < 0 or T <= 0 or r < 0 or div < 0 or sigma < 0:\n",
    "            raise ValueError('Error: Negative inputs not allowed')\n",
    "\n",
    "    def getmodel(self):\n",
    "        return self.model\n",
    "\n",
    "    def __str__(self):\n",
    "        return \"This European Option is priced using {0}\".format(self.model)\n",
    "\n",
    "    @abstractmethod\n",
    "    def value(self):\n",
    "            pass"
   ]
  },
  {
   "cell_type": "code",
   "execution_count": 2,
   "metadata": {
    "collapsed": true
   },
   "outputs": [],
   "source": [
    "class BlackScholes(EuropeanOption):\n",
    "\n",
    "    def __init__(self, option_type, S0, strike, T, r, div, sigma):\n",
    "        EuropeanOption.__init__(self,option_type, S0, strike, T, r, div, sigma, 'BlackScholes')\n",
    "\n",
    "    @property\n",
    "    def value(self):\n",
    "        d1 = (np.log(self.S0 / self.strike) + (self.r + 0.5 * self.sigma ** 2) * self.T) / (\n",
    "            self.sigma * np.sqrt(self.T))\n",
    "        d2 = (d1 - self.sigma * np.sqrt(self.T))\n",
    "        normal_d1 = norm.cdf(d1, 0, 1)\n",
    "        normal_neg_d1 = norm.cdf(-d1, 0, 1)\n",
    "        normal_d2 = norm.cdf(d2, 0, 1)\n",
    "        normal_neg_d2 = norm.cdf(-d2, 0, 1)\n",
    "        if self.option_type == 'call':\n",
    "            value = (self.S0 * np.exp(-self.div * self.T) * normal_d1 -\n",
    "                     self.strike * np.exp(-self.r * self.T) * normal_d2)\n",
    "        else:\n",
    "            value = (self.strike * np.exp(-self.r * self.T) * normal_neg_d2 -\n",
    "                     self.S0 * np.exp(-self.div * self.T) * normal_neg_d1)\n",
    "        return value\n"
   ]
  },
  {
   "cell_type": "code",
   "execution_count": 13,
   "metadata": {
    "collapsed": true
   },
   "outputs": [],
   "source": [
    "class MonteCarlo(EuropeanOption):\n",
    "\n",
    "    def __init__(self, option_type, S0, strike, T, r, div, sigma, simulations = 100000):\n",
    "        EuropeanOption.__init__(self, option_type, S0, strike, T, r, div, sigma, \"MonteCarlo\")\n",
    "        self.simulations = int(simulations)\n",
    "        try:\n",
    "            if self.simulations > 0 :\n",
    "                assert isinstance(self.simulations, int)\n",
    "        except:\n",
    "            raise ValueError(\"Simulation's number has to be positive integer\")\n",
    "\n",
    "    def generate_payoffs(self):\n",
    "        brownian = np.random.normal(size = self.simulations)\n",
    "        price_terminal = self.S0 * np.exp(self.r - self.div - 0.5 * self.sigma ** 2 +\n",
    "                                          self.sigma * np.sqrt(self.T) * brownian)\n",
    "        if self.option_type == 'call':\n",
    "            payoff = np.maximum((price_terminal - self.strike), np.zeros(self.simulations))\n",
    "        else:\n",
    "            payoff = np.maximum((self.strike - price_terminal), np.zeros(self.simulations))\n",
    "        return payoff\n",
    "\n",
    "    @property\n",
    "    def value(self):\n",
    "        payoff = self.generate_payoffs()\n",
    "        return np.exp(-1.0 * self.r * self.T) * np.sum(payoff) / float(self.simulations)\n"
   ]
  },
  {
   "cell_type": "code",
   "execution_count": 85,
   "metadata": {
    "collapsed": true
   },
   "outputs": [],
   "source": [
    "class BinomialTree(EuropeanOption):\n",
    "    def __init__(self, option_type, S0, strike, T, r, div, sigma, time_grid ):\n",
    "        EuropeanOption.__init__(self, option_type, S0, strike, T, r, div, sigma, \"BinomialTree\")\n",
    "        self.time_grid = int(time_grid)\n",
    "        if self.time_grid <= 0 :\n",
    "            raise ValueError(\"Error: Number of time steps has to be positive integer\")\n",
    "    \n",
    "    @property\n",
    "    def value(self):\n",
    "        delta_time = self.T / self.time_grid    \n",
    "        discount = np.exp(-self.r * delta_time)\n",
    "        move_up = np.exp(self.sigma * np.sqrt(delta_time))\n",
    "        move_down = 1 / float(move_up)\n",
    "        probability = (np.exp(self.r * delta_time) - move_down) / float(move_up - move_down)\n",
    "        index_up = np.arange(self.time_grid + 1)\n",
    "        index_up = np.resize(index_up, (self.time_grid + 1, self.time_grid + 1))\n",
    "        index_down = np.transpose(index_up)\n",
    "        index_up = move_up ** (index_up - index_down)\n",
    "        index_down = move_down ** index_down\n",
    "        S = self.S0 * index_up * index_down\n",
    "        if self.option_type == 'call':\n",
    "            V = np.maximum(S - self.strike, 0)  \n",
    "        else:\n",
    "            V = np.maximum(self.strike - S, 0)   \n",
    "        z=0\n",
    "        for t in range(self.time_grid - 1, -1, -1): \n",
    "            V[0:self.time_grid - z, t] = ( probability * V[0:self.time_grid - z, t + 1] + \n",
    "                                     (1 - probability) * V[1:self.time_grid - z + 1, t + 1] ) * discount\n",
    "            z += 1\n",
    "        return V[0,0]\n"
   ]
  },
  {
   "cell_type": "code",
   "execution_count": 87,
   "metadata": {
    "collapsed": false
   },
   "outputs": [
    {
     "name": "stdout",
     "output_type": "stream",
     "text": [
      "This EuropeanOption is priced using BinomialTree\n",
      "7.95766909851\n"
     ]
    }
   ],
   "source": [
    "myCall = BinomialTree('call', 100, 100, 1, 0, 0, 0.2, 252)\n",
    "print myCall\n",
    "print myCall.value"
   ]
  },
  {
   "cell_type": "code",
   "execution_count": 78,
   "metadata": {
    "collapsed": false
   },
   "outputs": [
    {
     "name": "stdout",
     "output_type": "stream",
     "text": [
      "This EuropeanOption is priced using BlackScholes\n",
      "7.96556745541\n"
     ]
    }
   ],
   "source": [
    "myCall = BlackScholes('call', 100, 100, 1, 0, 0, 0.2)\n",
    "print myCall\n",
    "print myCall.value"
   ]
  },
  {
   "cell_type": "code",
   "execution_count": 79,
   "metadata": {
    "collapsed": false
   },
   "outputs": [
    {
     "name": "stdout",
     "output_type": "stream",
     "text": [
      "This EuropeanOption is priced using MonteCarlo\n",
      "8.01257178251\n"
     ]
    }
   ],
   "source": [
    "myCall = MonteCarlo('call', 100, 100, 1, 0, 0, 0.2)\n",
    "print myCall\n",
    "print myCall.value"
   ]
  }
 ],
 "metadata": {
  "kernelspec": {
   "display_name": "Python 2",
   "language": "python",
   "name": "python2"
  },
  "language_info": {
   "codemirror_mode": {
    "name": "ipython",
    "version": 2
   },
   "file_extension": ".py",
   "mimetype": "text/x-python",
   "name": "python",
   "nbconvert_exporter": "python",
   "pygments_lexer": "ipython2",
   "version": "2.7.10"
  }
 },
 "nbformat": 4,
 "nbformat_minor": 0
}
