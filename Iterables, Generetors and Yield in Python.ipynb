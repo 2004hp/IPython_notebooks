{
 "metadata": {
  "name": "",
  "signature": "sha256:ce6b5ba17ee4dfefcf628715b9dd366ce3c0f5a54bd2a07bfaf30c702df3a459"
 },
 "nbformat": 3,
 "nbformat_minor": 0,
 "worksheets": [
  {
   "cells": [
    {
     "cell_type": "markdown",
     "metadata": {},
     "source": [
      "#Iterables\n",
      "\n",
      "When you create a list, you can read its items one by one, and it's called iteration:"
     ]
    },
    {
     "cell_type": "code",
     "collapsed": false,
     "input": [
      "mylist = [1, 2, 3]\n",
      "for i in mylist:\n",
      "    print (i)"
     ],
     "language": "python",
     "metadata": {},
     "outputs": [
      {
       "output_type": "stream",
       "stream": "stdout",
       "text": [
        "1\n",
        "2\n",
        "3\n"
       ]
      }
     ],
     "prompt_number": 1
    },
    {
     "cell_type": "markdown",
     "metadata": {},
     "source": [
      "Mylist is an iterable. When you use a list comprehension, you create a list, and so an iterable:"
     ]
    },
    {
     "cell_type": "code",
     "collapsed": false,
     "input": [
      "mylist = [x*x for x in range(3)]\n",
      "for i in mylist:\n",
      "    print (i)"
     ],
     "language": "python",
     "metadata": {},
     "outputs": [
      {
       "output_type": "stream",
       "stream": "stdout",
       "text": [
        "0\n",
        "1\n",
        "4\n"
       ]
      }
     ],
     "prompt_number": 2
    },
    {
     "cell_type": "markdown",
     "metadata": {},
     "source": [
      "Everything you can use \"for... in...\" on is an iterable: lists, strings, files... These iterables are handy because you can read them as much as you wish, but you store all the values in memory and it's not always what you want when you have a lot of values.\n",
      "\n",
      "Another example of a huge list, that we cannot afford to keep in memory (10Mb in memory)"
     ]
    },
    {
     "cell_type": "code",
     "collapsed": false,
     "input": [
      "# Build and return a list\n",
      "def firstn(n):\n",
      "    num, nums = 0, []\n",
      "    while num < n:\n",
      "        nums.append(num)\n",
      "        num += 1\n",
      "    return nums\n",
      "\n",
      "sum_of_first_n = sum(firstn(1000000))\n",
      "print sum_of_first_n\n"
     ],
     "language": "python",
     "metadata": {},
     "outputs": [
      {
       "output_type": "stream",
       "stream": "stdout",
       "text": [
        "499999500000\n"
       ]
      }
     ],
     "prompt_number": 28
    },
    {
     "cell_type": "markdown",
     "metadata": {},
     "source": [
      "#Generators\n",
      "\n",
      "Unlike normal functions that return a value and exit, **generator functions** automatically suspend and resume their execution and state around the point of value generation. Because of that, they are often a useful alternative to both computing an entire series of values up front and manually saving and restoring state in classes. The state that generator functions retain when they are suspended includes both their code location, and their entire local scope. Hence, their local variables retain information between results, and make it available when the functions are resumed.\n",
      "\n"
     ]
    },
    {
     "cell_type": "code",
     "collapsed": false,
     "input": [
      "mygenerator = (x*x for x in range(3))\n",
      "for i in mygenerator:\n",
      "    print (i)\n",
      "    "
     ],
     "language": "python",
     "metadata": {},
     "outputs": [
      {
       "output_type": "stream",
       "stream": "stdout",
       "text": [
        "0\n",
        "1\n",
        "4\n"
       ]
      }
     ],
     "prompt_number": 8
    },
    {
     "cell_type": "markdown",
     "metadata": {},
     "source": [
      "It is just the same except you used () instead of []. Here you have another example:"
     ]
    },
    {
     "cell_type": "code",
     "collapsed": false,
     "input": [
      "# list comprehension\n",
      "doubles = [2 * n for n in range(50)]\n",
      "\n",
      "# same as the list comprehension above\n",
      "doubles = list(2 * n for n in range(50))"
     ],
     "language": "python",
     "metadata": {},
     "outputs": [],
     "prompt_number": 34
    },
    {
     "cell_type": "markdown",
     "metadata": {},
     "source": [
      "But, you can not perform for i in mygenerator a second time since generators can only be used once: they calculate 0, then forget about it and calculate 1, and end calculating 4, one by one.\n",
      "\n",
      "In the the next example, we implement the generator patter by ourselves:"
     ]
    },
    {
     "cell_type": "code",
     "collapsed": false,
     "input": [
      "# Using the generator pattern (an iterable)\n",
      "class firstn(object):\n",
      "    def __init__(self, n):\n",
      "        self.n = n\n",
      "        self.num, self.nums = 0, []\n",
      "\n",
      "    def __iter__(self):\n",
      "        return self\n",
      "\n",
      "    def next(self):\n",
      "        if self.num < self.n:\n",
      "            cur, self.num = self.num, self.num + 1\n",
      "            return cur\n",
      "        else:\n",
      "            raise StopIteration()\n",
      "\n",
      "            \n",
      "sum_of_first_n = sum(firstn(1000000))\n",
      "print sum_of_first_n"
     ],
     "language": "python",
     "metadata": {},
     "outputs": [
      {
       "output_type": "stream",
       "stream": "stdout",
       "text": [
        "499999500000\n"
       ]
      }
     ],
     "prompt_number": 35
    },
    {
     "cell_type": "markdown",
     "metadata": {},
     "source": [
      "Furthermore, this is a pattern that we will use over and over for many similar constructs. Imagine writing all that just to get an iterator. That is when **yield** come to help us."
     ]
    },
    {
     "cell_type": "markdown",
     "metadata": {},
     "source": [
      "# Yield\n",
      "\n",
      "The main difference between **generator** and *normal functions* is that a generator **yields** a value, rather than returning one\u2014the `yield` statement suspends the function and sends a value back to the caller, but retains enough state to enable the function to resume from where it left off. When resumed, the function continues execution immediately after the last yield run. From the function\u2019s perspective, this allows its code to produce a series of values over time, rather than computing them all at once and sending them back in something like a list."
     ]
    },
    {
     "cell_type": "code",
     "collapsed": false,
     "input": [
      "def gensquares(N):\n",
      "    for i in range(N):\n",
      "        yield i ** 2 # Resume here later\n"
     ],
     "language": "python",
     "metadata": {},
     "outputs": [],
     "prompt_number": 1
    },
    {
     "cell_type": "markdown",
     "metadata": {},
     "source": [
      "This function yields a value, and so returns to its caller, each time through the loop; when it is resumed, its prior state is restored, including the last values of its variables i and N, and control picks up again immediately after the yield statement. For example, when it\u2019s used in the body of a for loop, the first iteration starts the function and gets its first result; thereafter, control returns to the function after its yield statement each time through the loop:"
     ]
    },
    {
     "cell_type": "code",
     "collapsed": false,
     "input": [
      "for i in gensquares(5): # Resume the function \n",
      "    print(i) # Print last yielded value"
     ],
     "language": "python",
     "metadata": {},
     "outputs": [
      {
       "output_type": "stream",
       "stream": "stdout",
       "text": [
        "0\n",
        "1\n",
        "4\n",
        "9\n",
        "16\n"
       ]
      }
     ],
     "prompt_number": 3
    },
    {
     "cell_type": "markdown",
     "metadata": {},
     "source": [
      "Python provides generator functions as a convenient shortcut to building iterators. Lets us rewrite the above iterator as a generator function:"
     ]
    },
    {
     "cell_type": "code",
     "collapsed": false,
     "input": [
      "# a generator that yields items instead of returning a list\n",
      "def firstn(n):\n",
      "    num = 0\n",
      "    while num < n:\n",
      "        yield num\n",
      "        num += 1\n",
      "\n",
      "sum_of_first_n = sum(firstn(1000000))"
     ],
     "language": "python",
     "metadata": {},
     "outputs": [],
     "prompt_number": 33
    },
    {
     "cell_type": "markdown",
     "metadata": {},
     "source": [
      "Note that the expression of the number generation logic is clear and natural. It is very similar to the implementation that built a list in memory, but has the memory usage characteristic of the iterator implementation. Yield is a keyword that is used like return, except the function will return a generator."
     ]
    },
    {
     "cell_type": "code",
     "collapsed": false,
     "input": [
      "def createGenerator():\n",
      "    mylist = range(3)\n",
      "    for i in mylist:\n",
      "        yield i*i\n",
      "\n",
      "mygenerator = createGenerator() # create a generator\n",
      "print('Object type:', mygenerator) # mygenerator is an object!\n",
      "\n"
     ],
     "language": "python",
     "metadata": {},
     "outputs": [
      {
       "output_type": "stream",
       "stream": "stdout",
       "text": [
        "('Object type:', <generator object createGenerator at 0x105c39690>)\n"
       ]
      }
     ],
     "prompt_number": 18
    },
    {
     "cell_type": "code",
     "collapsed": false,
     "input": [
      "for i in mygenerator:\n",
      "    print (i)"
     ],
     "language": "python",
     "metadata": {},
     "outputs": [
      {
       "output_type": "stream",
       "stream": "stdout",
       "text": [
        "0\n",
        "1\n",
        "4\n"
       ]
      }
     ],
     "prompt_number": 20
    },
    {
     "cell_type": "markdown",
     "metadata": {},
     "source": [
      "Here it's a useless example, but it's handy when you know your function will return a huge set of values that you will only need to read once.\n",
      "\n",
      "To master yield, you must understand that **when you call the function, the code you have written in the function body does not run**. The function **only returns the generator object**. Then, your code will be run each time the for uses the generator.\n",
      "\n",
      "Now the hard part:\n",
      "\n",
      "The first time the for calls the generator object created from your function, it will run the code in your function from the beginning until it hits yield, then it'll return the first value of the loop. Then, each other call will run the loop you have written in the function one more time, and return the next value, until there is no value to return.\n",
      "\n",
      "The generator is considered empty once the function runs but does not hit yield anymore. It can be because the loop had come to an end, or because you do not satisfy a \"if/else\" anymore.\n",
      "\n",
      "##Why generators functions?\n",
      "\n",
      "Generators can be better in terms of both memory use and performance in larger programs. They allow functions to avoid doing all the work up front, which is especially useful when the result lists are large or when it takes a lot of computation to produce each value. Generators distribute the time required to produce the series of values among loop iterations.\n",
      "\n",
      "Moreover, for more advanced uses, generators can provide a simpler alternative to manually saving the state between iterations in class objects\u2014with generators, variables accessible in the function\u2019s scopes are saved and restored automatically.\n",
      "\n",
      "##Why generator expressions?\n",
      "\n",
      "Just like generator functions, generator expressions are a memory-space optimization \u2014they do not require the entire result list to be constructed all at once, as the square- bracketed list comprehension does. Also like generator functions, they divide the work of results production into smaller time slices\u2014they yield results in piecemeal fashion, instead of making the caller wait for the full set to be created in a single call.\n",
      "\n",
      "On the other hand, generator expressions may also run slightly slower than list com- prehensions in practice, so they are probably best used only for very large result sets, or applications that cannot wait for full results generation. A more authoritative state- ment about performance, though, will have to await the timing scripts we\u2019ll code in the next chapter."
     ]
    },
    {
     "cell_type": "code",
     "collapsed": false,
     "input": [],
     "language": "python",
     "metadata": {},
     "outputs": []
    }
   ],
   "metadata": {}
  }
 ]
}